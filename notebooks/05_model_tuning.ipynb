{
 "cells": [
  {
   "cell_type": "markdown",
   "metadata": {},
   "source": [
    "# Model tuning"
   ]
  },
  {
   "cell_type": "code",
   "execution_count": null,
   "metadata": {
    "execution": {
     "iopub.execute_input": "2020-10-02T03:56:54.091939Z",
     "iopub.status.busy": "2020-10-02T03:56:54.091939Z",
     "iopub.status.idle": "2020-10-02T03:56:54.636531Z",
     "shell.execute_reply": "2020-10-02T03:56:54.636531Z",
     "shell.execute_reply.started": "2020-10-02T03:56:54.091939Z"
    }
   },
   "outputs": [],
   "source": [
    "import numpy as np\n",
    "import pandas as pd\n",
    "import pickle\n",
    "from sklearn.ensemble import RandomForestClassifier\n",
    "from sklearn.model_selection import RandomizedSearchCV\n",
    "from sklearn.model_selection import train_test_split, GridSearchCV\n",
    "from sklearn.metrics import make_scorer, recall_score, accuracy_score, precision_score\n"
   ]
  },
  {
   "cell_type": "markdown",
   "metadata": {
    "execution": {
     "iopub.execute_input": "2020-09-29T18:14:20.172682Z",
     "iopub.status.busy": "2020-09-29T18:14:20.171685Z",
     "iopub.status.idle": "2020-09-29T18:14:20.175674Z",
     "shell.execute_reply": "2020-09-29T18:14:20.174708Z",
     "shell.execute_reply.started": "2020-09-29T18:14:20.171685Z"
    }
   },
   "source": [
    "## perform broad random search to then fine tune with grid"
   ]
  },
  {
   "cell_type": "code",
   "execution_count": null,
   "metadata": {
    "ExecuteTime": {
     "end_time": "2020-09-03T17:32:51.760524Z",
     "start_time": "2020-09-03T17:32:50.145841Z"
    },
    "execution": {
     "iopub.execute_input": "2020-10-02T03:56:55.532089Z",
     "iopub.status.busy": "2020-10-02T03:56:55.531091Z",
     "iopub.status.idle": "2020-10-02T03:56:55.906116Z",
     "shell.execute_reply": "2020-10-02T03:56:55.905181Z",
     "shell.execute_reply.started": "2020-10-02T03:56:55.532089Z"
    }
   },
   "outputs": [],
   "source": [
    "#load initial cleaned data\n",
    "df=pd.read_csv(r\"..\\data\\processed\\prelim_clean2.csv\", index_col=[0])\n",
    "\n",
    "res_features = pickle.load(open('../models/01final_features_res.sav', 'rb'))\n",
    "subset=df[df.columns.intersection(res_features)]\n"
   ]
  },
  {
   "cell_type": "code",
   "execution_count": null,
   "metadata": {
    "execution": {
     "iopub.execute_input": "2020-10-02T03:56:59.861515Z",
     "iopub.status.busy": "2020-10-02T03:56:59.861515Z",
     "iopub.status.idle": "2020-10-02T03:56:59.866501Z",
     "shell.execute_reply": "2020-10-02T03:56:59.865505Z",
     "shell.execute_reply.started": "2020-10-02T03:56:59.861515Z"
    }
   },
   "outputs": [],
   "source": [
    "#for demo\n",
    "# X_train, X_test = train_test_split(df,test_size=0.1, random_state=1)\n",
    "# result_NaN = X_test.mask(np.random.random(X_test.shape)<0.005)\n",
    "# result_NaN.to_csv('../data/processed/test.csv', index=False)\n",
    "# X_test.target==1"
   ]
  },
  {
   "cell_type": "code",
   "execution_count": null,
   "metadata": {
    "execution": {
     "iopub.execute_input": "2020-10-02T03:57:00.568625Z",
     "iopub.status.busy": "2020-10-02T03:57:00.567626Z",
     "iopub.status.idle": "2020-10-02T03:57:00.575637Z",
     "shell.execute_reply": "2020-10-02T03:57:00.575637Z",
     "shell.execute_reply.started": "2020-10-02T03:57:00.568625Z"
    }
   },
   "outputs": [],
   "source": [
    "X_train, X_test, y_train, y_test = train_test_split(subset, df['target'], test_size=0.3, random_state=1)"
   ]
  },
  {
   "cell_type": "code",
   "execution_count": null,
   "metadata": {
    "execution": {
     "iopub.execute_input": "2020-09-29T21:07:18.113413Z",
     "iopub.status.busy": "2020-09-29T21:07:18.112416Z",
     "iopub.status.idle": "2020-09-29T21:07:18.878369Z",
     "shell.execute_reply": "2020-09-29T21:07:18.877389Z",
     "shell.execute_reply.started": "2020-09-29T21:07:18.113413Z"
    }
   },
   "outputs": [],
   "source": [
    "base_model = RandomForestClassifier(random_state = 1)\n",
    "base_model.fit(X_train, y_train)\n",
    "y_pred = base_model.predict(X_test)\n",
    "print(base_model.score(X_test, y_test))\n",
    "print(precision_score(y_test,y_pred))\n",
    "print(recall_score(y_test,y_pred))"
   ]
  },
  {
   "cell_type": "code",
   "execution_count": null,
   "metadata": {
    "execution": {
     "iopub.execute_input": "2020-09-29T21:07:27.724743Z",
     "iopub.status.busy": "2020-09-29T21:07:27.724743Z",
     "iopub.status.idle": "2020-09-29T21:07:27.732692Z",
     "shell.execute_reply": "2020-09-29T21:07:27.731694Z",
     "shell.execute_reply.started": "2020-09-29T21:07:27.724743Z"
    }
   },
   "outputs": [],
   "source": [
    "# Number of trees in random forest\n",
    "n_estimators = [int(x) for x in np.linspace(start = 200, stop = 2000, num = 10)]\n",
    "# Number of features to consider at every split\n",
    "max_features = ['log2', 'sqrt']\n",
    "# Maximum number of levels in tree\n",
    "max_depth = [int(x) for x in np.linspace(10, 110, num = 11)]\n",
    "max_depth.append(None)\n",
    "# Minimum number of samples required to split a node\n",
    "min_samples_split = [2, 5, 10]\n",
    "# Minimum number of samples required at each leaf node\n",
    "min_samples_leaf = [1, 2, 4]\n",
    "# Method of selecting samples for training each tree\n",
    "bootstrap = [True, False]\n",
    "# Create the random grid\n",
    "random_grid = {'n_estimators': n_estimators,\n",
    "               'max_features': max_features,\n",
    "               'max_depth': max_depth,\n",
    "               'min_samples_split': min_samples_split,\n",
    "               'min_samples_leaf': min_samples_leaf,\n",
    "               'bootstrap': bootstrap}"
   ]
  },
  {
   "cell_type": "code",
   "execution_count": null,
   "metadata": {
    "execution": {
     "iopub.execute_input": "2020-09-29T21:17:06.848809Z",
     "iopub.status.busy": "2020-09-29T21:17:06.847812Z",
     "iopub.status.idle": "2020-09-29T21:25:32.356249Z",
     "shell.execute_reply": "2020-09-29T21:25:32.356249Z",
     "shell.execute_reply.started": "2020-09-29T21:17:06.848809Z"
    }
   },
   "outputs": [],
   "source": [
    "# Use the random grid to search for best hyperparameters\n",
    "# First create the base model to tune\n",
    "rf = RandomForestClassifier()\n",
    "# Random search of parameters, using 3 fold cross validation, \n",
    "rf_random = RandomizedSearchCV(estimator = rf, param_distributions = random_grid, n_iter = 100, cv = 3, random_state=1, n_jobs = -1)\n",
    "# Fit the random search model\n",
    "rf_random.fit(X_train, y_train)"
   ]
  },
  {
   "cell_type": "markdown",
   "metadata": {},
   "source": [
    "## Best params and results from forest"
   ]
  },
  {
   "cell_type": "code",
   "execution_count": null,
   "metadata": {
    "execution": {
     "iopub.execute_input": "2020-09-29T21:27:02.559898Z",
     "iopub.status.busy": "2020-09-29T21:27:02.558900Z",
     "iopub.status.idle": "2020-09-29T21:27:02.566888Z",
     "shell.execute_reply": "2020-09-29T21:27:02.565884Z",
     "shell.execute_reply.started": "2020-09-29T21:27:02.559898Z"
    }
   },
   "outputs": [],
   "source": [
    "best_params=rf_random.best_params_\n",
    "best_params"
   ]
  },
  {
   "cell_type": "code",
   "execution_count": null,
   "metadata": {
    "execution": {
     "iopub.execute_input": "2020-09-29T21:27:14.782212Z",
     "iopub.status.busy": "2020-09-29T21:27:14.782212Z",
     "iopub.status.idle": "2020-09-29T21:27:15.743642Z",
     "shell.execute_reply": "2020-09-29T21:27:15.742644Z",
     "shell.execute_reply.started": "2020-09-29T21:27:14.782212Z"
    }
   },
   "outputs": [],
   "source": [
    "y_pred = rf_random.predict(X_test)\n",
    "print(rf_random.score(X_test, y_test))\n",
    "print(precision_score(y_test,y_pred))\n",
    "print(recall_score(y_test,y_pred))"
   ]
  },
  {
   "cell_type": "markdown",
   "metadata": {},
   "source": [
    "## Grid search"
   ]
  },
  {
   "cell_type": "code",
   "execution_count": null,
   "metadata": {
    "execution": {
     "iopub.execute_input": "2020-09-29T21:32:53.624087Z",
     "iopub.status.busy": "2020-09-29T21:32:53.624087Z",
     "iopub.status.idle": "2020-09-29T21:32:53.631068Z",
     "shell.execute_reply": "2020-09-29T21:32:53.630071Z",
     "shell.execute_reply.started": "2020-09-29T21:32:53.624087Z"
    }
   },
   "outputs": [],
   "source": [
    "# Create the parameter grid based on the results of random search \n",
    "param_grid = {\n",
    "    'bootstrap': [True],\n",
    "    'max_features': [5,6,8,9],\n",
    "    'min_samples_leaf': [1,2, 3, 4],\n",
    "    'min_samples_split': [2, 3, 4],\n",
    "    'n_estimators': [1000, 1200, 1500, 1800]\n",
    "}\n",
    "# Create a based model\n",
    "rf = RandomForestClassifier()\n",
    "# Instantiate the grid search model\n",
    "grid_search = GridSearchCV(estimator = rf, param_grid = param_grid, \n",
    "                          cv = 5, n_jobs = -1)"
   ]
  },
  {
   "cell_type": "code",
   "execution_count": null,
   "metadata": {
    "execution": {
     "iopub.execute_input": "2020-09-29T21:33:01.749356Z",
     "iopub.status.busy": "2020-09-29T21:33:01.749356Z",
     "iopub.status.idle": "2020-09-29T22:08:05.771357Z",
     "shell.execute_reply": "2020-09-29T22:08:05.771357Z",
     "shell.execute_reply.started": "2020-09-29T21:33:01.749356Z"
    }
   },
   "outputs": [],
   "source": [
    "# Fit the grid search to the data\n",
    "grid_search.fit(X_train, y_train)\n",
    "grid_search.best_params_\n",
    "best_grid = grid_search.best_estimator_\n"
   ]
  },
  {
   "cell_type": "code",
   "execution_count": null,
   "metadata": {
    "execution": {
     "iopub.execute_input": "2020-09-30T01:40:41.981690Z",
     "iopub.status.busy": "2020-09-30T01:40:41.981690Z",
     "iopub.status.idle": "2020-09-30T01:40:42.529206Z",
     "shell.execute_reply": "2020-09-30T01:40:42.529206Z",
     "shell.execute_reply.started": "2020-09-30T01:40:41.981690Z"
    }
   },
   "outputs": [],
   "source": [
    "#pickle.dump(grid_search, open('../models/rf_grid_search_sub.sav', 'wb'))"
   ]
  },
  {
   "cell_type": "code",
   "execution_count": null,
   "metadata": {
    "execution": {
     "iopub.execute_input": "2020-09-30T01:34:31.907711Z",
     "iopub.status.busy": "2020-09-30T01:34:31.907711Z",
     "iopub.status.idle": "2020-09-30T01:34:32.798347Z",
     "shell.execute_reply": "2020-09-30T01:34:32.797358Z",
     "shell.execute_reply.started": "2020-09-30T01:34:31.907711Z"
    }
   },
   "outputs": [],
   "source": [
    "y_pred = grid_search.predict(X_test)\n",
    "print(grid_search.score(X_test, y_test))\n",
    "print(precision_score(y_test,y_pred))\n",
    "print(recall_score(y_test,y_pred))"
   ]
  },
  {
   "cell_type": "markdown",
   "metadata": {},
   "source": [
    "# Final RF performance"
   ]
  },
  {
   "cell_type": "code",
   "execution_count": null,
   "metadata": {
    "execution": {
     "iopub.execute_input": "2020-10-02T04:00:40.370006Z",
     "iopub.status.busy": "2020-10-02T04:00:40.369008Z",
     "iopub.status.idle": "2020-10-02T04:00:40.869680Z",
     "shell.execute_reply": "2020-10-02T04:00:40.868672Z",
     "shell.execute_reply.started": "2020-10-02T04:00:40.370006Z"
    }
   },
   "outputs": [],
   "source": [
    "model_features = pickle.load(open('../models/rf_grid_search_sub.sav', 'rb'))"
   ]
  },
  {
   "cell_type": "code",
   "execution_count": null,
   "metadata": {
    "execution": {
     "iopub.execute_input": "2020-10-02T04:00:42.364673Z",
     "iopub.status.busy": "2020-10-02T04:00:42.363676Z",
     "iopub.status.idle": "2020-10-02T04:00:42.524265Z",
     "shell.execute_reply": "2020-10-02T04:00:42.523265Z",
     "shell.execute_reply.started": "2020-10-02T04:00:42.364673Z"
    }
   },
   "outputs": [],
   "source": [
    "best_rf = RandomForestClassifier(**model_features.best_params_)"
   ]
  },
  {
   "cell_type": "code",
   "execution_count": null,
   "metadata": {
    "execution": {
     "iopub.execute_input": "2020-10-02T04:00:43.703106Z",
     "iopub.status.busy": "2020-10-02T04:00:43.702098Z",
     "iopub.status.idle": "2020-10-02T04:00:53.955689Z",
     "shell.execute_reply": "2020-10-02T04:00:53.954689Z",
     "shell.execute_reply.started": "2020-10-02T04:00:43.703106Z"
    }
   },
   "outputs": [],
   "source": [
    "# Fit the best model\n",
    "best_rf.fit(X_train, y_train)\n",
    "pickle.dump(best_rf, open('../models/rf_best.sav', 'wb'))\n",
    "y_pred = best_rf.predict(X_test)\n"
   ]
  },
  {
   "cell_type": "code",
   "execution_count": null,
   "metadata": {
    "execution": {
     "iopub.execute_input": "2020-10-02T04:00:56.704339Z",
     "iopub.status.busy": "2020-10-02T04:00:56.704339Z",
     "iopub.status.idle": "2020-10-02T04:00:56.732264Z",
     "shell.execute_reply": "2020-10-02T04:00:56.730268Z",
     "shell.execute_reply.started": "2020-10-02T04:00:56.704339Z"
    }
   },
   "outputs": [],
   "source": [
    "print(accuracy_score(y_test, y_pred))\n",
    "print(precision_score(y_test,y_pred))\n",
    "print(recall_score(y_test,y_pred))\n",
    "sum(y_pred==1)"
   ]
  },
  {
   "cell_type": "code",
   "execution_count": null,
   "metadata": {
    "execution": {
     "iopub.execute_input": "2020-10-02T03:58:05.242745Z",
     "iopub.status.busy": "2020-10-02T03:58:05.241726Z",
     "iopub.status.idle": "2020-10-02T03:58:06.159287Z",
     "shell.execute_reply": "2020-10-02T03:58:06.158307Z",
     "shell.execute_reply.started": "2020-10-02T03:58:05.242745Z"
    }
   },
   "outputs": [],
   "source": [
    "from sklearn.metrics import precision_recall_curve, plot_precision_recall_curve\n",
    "plot_precision_recall_curve(best_rf, X_test, y_test)"
   ]
  },
  {
   "cell_type": "code",
   "execution_count": null,
   "metadata": {
    "execution": {
     "iopub.execute_input": "2020-10-02T03:58:35.015157Z",
     "iopub.status.busy": "2020-10-02T03:58:35.015157Z",
     "iopub.status.idle": "2020-10-02T03:58:35.624516Z",
     "shell.execute_reply": "2020-10-02T03:58:35.623531Z",
     "shell.execute_reply.started": "2020-10-02T03:58:35.015157Z"
    }
   },
   "outputs": [],
   "source": [
    "threshold = .48 #to do: youden index?\n",
    "predicted_proba = best_rf.predict_proba(X_test)\n",
    "predicted = (predicted_proba [:,1] >= threshold).astype('int')\n",
    "print(accuracy_score(y_test, y_pred))\n",
    "print(precision_score(y_test,y_pred))\n",
    "print(recall_score(y_test,y_pred))\n",
    "sum(predicted==1)"
   ]
  },
  {
   "cell_type": "markdown",
   "metadata": {},
   "source": [
    "## Same procedure but assessing broad subset"
   ]
  },
  {
   "cell_type": "code",
   "execution_count": null,
   "metadata": {
    "ExecuteTime": {
     "end_time": "2020-09-03T17:32:51.760524Z",
     "start_time": "2020-09-03T17:32:50.145841Z"
    },
    "execution": {
     "iopub.execute_input": "2020-09-30T01:40:53.855727Z",
     "iopub.status.busy": "2020-09-30T01:40:53.855727Z",
     "iopub.status.idle": "2020-09-30T01:40:54.241665Z",
     "shell.execute_reply": "2020-09-30T01:40:54.240729Z",
     "shell.execute_reply.started": "2020-09-30T01:40:53.855727Z"
    }
   },
   "outputs": [],
   "source": [
    "#load initial cleaned data\n",
    "df=pd.read_csv(r\"..\\data\\processed\\prelim_clean2.csv\", index_col=[0])\n",
    "\n",
    "res_features = pickle.load(open('../models/01final_features_broad.sav', 'rb'))\n",
    "subset=df[df.columns.intersection(res_features)]"
   ]
  },
  {
   "cell_type": "code",
   "execution_count": null,
   "metadata": {
    "execution": {
     "iopub.execute_input": "2020-09-30T01:40:57.565392Z",
     "iopub.status.busy": "2020-09-30T01:40:57.564395Z",
     "iopub.status.idle": "2020-09-30T01:40:57.583353Z",
     "shell.execute_reply": "2020-09-30T01:40:57.582345Z",
     "shell.execute_reply.started": "2020-09-30T01:40:57.565392Z"
    }
   },
   "outputs": [],
   "source": [
    "X_train, X_test, y_train, y_test = train_test_split(subset, df['target'], test_size=0.3, random_state=1)"
   ]
  },
  {
   "cell_type": "code",
   "execution_count": null,
   "metadata": {
    "execution": {
     "iopub.execute_input": "2020-09-30T01:41:00.649862Z",
     "iopub.status.busy": "2020-09-30T01:41:00.649862Z",
     "iopub.status.idle": "2020-09-30T01:41:01.831548Z",
     "shell.execute_reply": "2020-09-30T01:41:01.830551Z",
     "shell.execute_reply.started": "2020-09-30T01:41:00.649862Z"
    }
   },
   "outputs": [],
   "source": [
    "base_model = RandomForestClassifier(random_state = 1)\n",
    "base_model.fit(X_train, y_train)\n",
    "y_pred = base_model.predict(X_test)\n",
    "print(base_model.score(X_test, y_test))\n",
    "print(precision_score(y_test,y_pred))\n",
    "print(recall_score(y_test,y_pred))"
   ]
  },
  {
   "cell_type": "code",
   "execution_count": null,
   "metadata": {
    "execution": {
     "iopub.execute_input": "2020-09-30T01:41:05.816469Z",
     "iopub.status.busy": "2020-09-30T01:41:05.815471Z",
     "iopub.status.idle": "2020-09-30T01:41:05.824446Z",
     "shell.execute_reply": "2020-09-30T01:41:05.823448Z",
     "shell.execute_reply.started": "2020-09-30T01:41:05.816469Z"
    }
   },
   "outputs": [],
   "source": [
    "# Number of trees in random forest\n",
    "n_estimators = [int(x) for x in np.linspace(start = 200, stop = 2000, num = 10)]\n",
    "# Number of features to consider at every split\n",
    "max_features = ['log2', 'sqrt']\n",
    "# Maximum number of levels in tree\n",
    "max_depth = [int(x) for x in np.linspace(10, 110, num = 11)]\n",
    "max_depth.append(None)\n",
    "# Minimum number of samples required to split a node\n",
    "min_samples_split = [2, 5, 10]\n",
    "# Minimum number of samples required at each leaf node\n",
    "min_samples_leaf = [1, 2, 4]\n",
    "# Method of selecting samples for training each tree\n",
    "bootstrap = [True, False]\n",
    "# Create the random grid\n",
    "random_grid = {'n_estimators': n_estimators,\n",
    "               'max_features': max_features,\n",
    "               'max_depth': max_depth,\n",
    "               'min_samples_split': min_samples_split,\n",
    "               'min_samples_leaf': min_samples_leaf,\n",
    "               'bootstrap': bootstrap}"
   ]
  },
  {
   "cell_type": "code",
   "execution_count": null,
   "metadata": {
    "execution": {
     "iopub.execute_input": "2020-09-30T01:41:43.312292Z",
     "iopub.status.busy": "2020-09-30T01:41:43.311294Z",
     "iopub.status.idle": "2020-09-30T01:51:19.493444Z",
     "shell.execute_reply": "2020-09-30T01:51:19.492447Z",
     "shell.execute_reply.started": "2020-09-30T01:41:43.312292Z"
    }
   },
   "outputs": [],
   "source": [
    "# Use the random grid to search for best hyperparameters\n",
    "# First create the base model to tune\n",
    "rf = RandomForestClassifier()\n",
    "# Random search of parameters, using 3 fold cross validation, \n",
    "rf_random = RandomizedSearchCV(estimator = rf, param_distributions = random_grid, n_iter = 100, cv = 3, random_state=1, n_jobs = -1)\n",
    "# Fit the random search model\n",
    "rf_random.fit(X_train, y_train)"
   ]
  },
  {
   "cell_type": "code",
   "execution_count": null,
   "metadata": {
    "execution": {
     "iopub.execute_input": "2020-09-30T02:02:24.067688Z",
     "iopub.status.busy": "2020-09-30T02:02:24.066651Z",
     "iopub.status.idle": "2020-09-30T02:02:24.075625Z",
     "shell.execute_reply": "2020-09-30T02:02:24.074657Z",
     "shell.execute_reply.started": "2020-09-30T02:02:24.067688Z"
    }
   },
   "outputs": [],
   "source": [
    "best_params=rf_random.best_params_\n",
    "best_params"
   ]
  },
  {
   "cell_type": "code",
   "execution_count": null,
   "metadata": {
    "execution": {
     "iopub.execute_input": "2020-09-30T02:02:38.040853Z",
     "iopub.status.busy": "2020-09-30T02:02:38.040853Z",
     "iopub.status.idle": "2020-09-30T02:02:38.883484Z",
     "shell.execute_reply": "2020-09-30T02:02:38.882535Z",
     "shell.execute_reply.started": "2020-09-30T02:02:38.040853Z"
    }
   },
   "outputs": [],
   "source": [
    "y_pred = rf_random.predict(X_test)\n",
    "print(rf_random.score(X_test, y_test))\n",
    "print(precision_score(y_test,y_pred))\n",
    "print(recall_score(y_test,y_pred))"
   ]
  },
  {
   "cell_type": "code",
   "execution_count": null,
   "metadata": {
    "execution": {
     "iopub.execute_input": "2020-09-30T02:03:30.022401Z",
     "iopub.status.busy": "2020-09-30T02:03:30.021452Z",
     "iopub.status.idle": "2020-09-30T02:03:30.029391Z",
     "shell.execute_reply": "2020-09-30T02:03:30.028394Z",
     "shell.execute_reply.started": "2020-09-30T02:03:30.022401Z"
    }
   },
   "outputs": [],
   "source": [
    "# Create the parameter grid based on the results of random search \n",
    "param_grid = {\n",
    "    'bootstrap': [True],\n",
    "    'max_features': ['sqrt'],\n",
    "    'min_samples_leaf': [1,2, 3, 4],\n",
    "    'min_samples_split': [2, 3, 4],\n",
    "    'n_estimators': [500, 800, 1000, 1500]\n",
    "}\n",
    "# Create a based model\n",
    "rf = RandomForestClassifier()\n",
    "# Instantiate the grid search model\n",
    "grid_search = GridSearchCV(estimator = rf, param_grid = param_grid, \n",
    "                          cv = 5, n_jobs = -1)"
   ]
  },
  {
   "cell_type": "code",
   "execution_count": null,
   "metadata": {
    "execution": {
     "iopub.execute_input": "2020-09-30T02:03:35.631816Z",
     "iopub.status.busy": "2020-09-30T02:03:35.631816Z",
     "iopub.status.idle": "2020-09-30T02:10:47.091091Z",
     "shell.execute_reply": "2020-09-30T02:10:47.090097Z",
     "shell.execute_reply.started": "2020-09-30T02:03:35.631816Z"
    }
   },
   "outputs": [],
   "source": [
    "# Fit the grid search to the data\n",
    "grid_search.fit(X_train, y_train)\n",
    "grid_search.best_params_\n",
    "best_grid = grid_search.best_estimator_\n"
   ]
  },
  {
   "cell_type": "code",
   "execution_count": null,
   "metadata": {
    "execution": {
     "iopub.execute_input": "2020-09-30T02:12:16.811320Z",
     "iopub.status.busy": "2020-09-30T02:12:16.811320Z",
     "iopub.status.idle": "2020-09-30T02:12:17.995031Z",
     "shell.execute_reply": "2020-09-30T02:12:17.994046Z",
     "shell.execute_reply.started": "2020-09-30T02:12:16.811320Z"
    }
   },
   "outputs": [],
   "source": [
    "y_pred = grid_search.predict(X_test)\n",
    "print(grid_search.score(X_test, y_test))\n",
    "print(precision_score(y_test,y_pred))\n",
    "print(recall_score(y_test,y_pred))"
   ]
  },
  {
   "cell_type": "markdown",
   "metadata": {},
   "source": [
    "Definitely let's use the subset"
   ]
  }
 ],
 "metadata": {
  "kernelspec": {
   "display_name": "AD",
   "language": "python",
   "name": "ad"
  },
  "language_info": {
   "codemirror_mode": {
    "name": "ipython",
    "version": 3
   },
   "file_extension": ".py",
   "mimetype": "text/x-python",
   "name": "python",
   "nbconvert_exporter": "python",
   "pygments_lexer": "ipython3",
   "version": "3.7.9"
  }
 },
 "nbformat": 4,
 "nbformat_minor": 4
}
