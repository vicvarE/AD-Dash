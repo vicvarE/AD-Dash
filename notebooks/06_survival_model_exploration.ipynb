{
 "cells": [
  {
   "cell_type": "markdown",
   "metadata": {
    "execution": {
     "iopub.execute_input": "2020-09-29T02:30:35.598590Z",
     "iopub.status.busy": "2020-09-29T02:30:35.597592Z",
     "iopub.status.idle": "2020-09-29T02:30:35.603576Z",
     "shell.execute_reply": "2020-09-29T02:30:35.602580Z",
     "shell.execute_reply.started": "2020-09-29T02:30:35.598590Z"
    }
   },
   "source": [
    "### Let's try cox survival analysis here with a reduced dataset"
   ]
  },
  {
   "cell_type": "code",
   "execution_count": null,
   "metadata": {
    "execution": {
     "iopub.execute_input": "2020-10-01T21:45:23.337303Z",
     "iopub.status.busy": "2020-10-01T21:45:23.336305Z",
     "iopub.status.idle": "2020-10-01T21:45:23.631556Z",
     "shell.execute_reply": "2020-10-01T21:45:23.631556Z",
     "shell.execute_reply.started": "2020-10-01T21:45:23.337303Z"
    }
   },
   "outputs": [],
   "source": [
    "import pickle\n",
    "import pandas as pd\n",
    "from sklearn.model_selection import train_test_split\n",
    "import matplotlib.pyplot as plt\n",
    "import numpy as np"
   ]
  },
  {
   "cell_type": "code",
   "execution_count": null,
   "metadata": {
    "ExecuteTime": {
     "end_time": "2020-09-03T17:32:51.760524Z",
     "start_time": "2020-09-03T17:32:50.145841Z"
    },
    "execution": {
     "iopub.execute_input": "2020-10-01T17:15:12.314226Z",
     "iopub.status.busy": "2020-10-01T17:15:12.314226Z",
     "iopub.status.idle": "2020-10-01T17:15:13.380412Z",
     "shell.execute_reply": "2020-10-01T17:15:13.380412Z",
     "shell.execute_reply.started": "2020-10-01T17:15:12.314226Z"
    }
   },
   "outputs": [],
   "source": [
    "#load initial cleaned data\n",
    "df=pd.read_csv(r\"..\\data\\processed\\prelim_clean2.csv\", index_col=[0])\n",
    "df.drop(['visit_interval'],axis=1, inplace=True)\n",
    "df2=pd.read_csv(r\"..\\data\\processed\\prelim_clean2.csv\", index_col=[0])"
   ]
  },
  {
   "cell_type": "code",
   "execution_count": null,
   "metadata": {
    "execution": {
     "iopub.execute_input": "2020-10-01T17:15:15.488741Z",
     "iopub.status.busy": "2020-10-01T17:15:15.488741Z",
     "iopub.status.idle": "2020-10-01T17:15:15.507694Z",
     "shell.execute_reply": "2020-10-01T17:15:15.506693Z",
     "shell.execute_reply.started": "2020-10-01T17:15:15.488741Z"
    }
   },
   "outputs": [],
   "source": [
    "broad_features = pickle.load(open('../models/01final_features_broad.sav', 'rb'))\n",
    "res_features = pickle.load(open('../models/01final_features_res.sav', 'rb'))"
   ]
  },
  {
   "cell_type": "code",
   "execution_count": null,
   "metadata": {
    "execution": {
     "iopub.execute_input": "2020-10-01T17:15:16.256693Z",
     "iopub.status.busy": "2020-10-01T17:15:16.256693Z",
     "iopub.status.idle": "2020-10-01T17:15:16.271646Z",
     "shell.execute_reply": "2020-10-01T17:15:16.270649Z",
     "shell.execute_reply.started": "2020-10-01T17:15:16.256693Z"
    }
   },
   "outputs": [],
   "source": [
    "broad_subset=df[df.columns.intersection(broad_features)]\n",
    "subset=df[df.columns.intersection(res_features)]"
   ]
  },
  {
   "cell_type": "code",
   "execution_count": null,
   "metadata": {
    "execution": {
     "iopub.execute_input": "2020-09-29T03:16:15.408979Z",
     "iopub.status.busy": "2020-09-29T03:16:15.408979Z",
     "iopub.status.idle": "2020-09-29T03:16:21.419911Z",
     "shell.execute_reply": "2020-09-29T03:16:21.418938Z",
     "shell.execute_reply.started": "2020-09-29T03:16:15.408979Z"
    },
    "jupyter": {
     "outputs_hidden": true
    }
   },
   "outputs": [],
   "source": [
    "from lifelines import CoxPHFitter\n",
    "from lifelines.utils import k_fold_cross_validation\n",
    "\n",
    "broad_subset['visit_interval']=df2['visit_interval']\n",
    "broad_subset['target']=df2['target']\n",
    "\n",
    "cph = CoxPHFitter(penalizer=0.1)\n",
    "#scores = k_fold_cross_validation(cph, broad_subset, 'visit_interval', event_col='target', k=10)\n",
    "#print(scores)\n",
    "\n",
    "# scores = k_fold_cross_validation(cph, broad_subset, duration_col='visit_interval', event_col='target', k=10, scoring_method=\"concordance_index\")\n",
    "# print(scores)\n",
    "\n",
    "cph.fit(df=broad_subset, duration_col='visit_interval', event_col='target')\n",
    "cph.print_summary()\n"
   ]
  },
  {
   "cell_type": "code",
   "execution_count": null,
   "metadata": {
    "execution": {
     "iopub.execute_input": "2020-09-29T03:36:16.460088Z",
     "iopub.status.busy": "2020-09-29T03:36:16.459090Z",
     "iopub.status.idle": "2020-09-29T03:36:32.036445Z",
     "shell.execute_reply": "2020-09-29T03:36:32.036445Z",
     "shell.execute_reply.started": "2020-09-29T03:36:16.460088Z"
    }
   },
   "outputs": [],
   "source": [
    "subset['visit_interval']=df2['visit_interval']\n",
    "subset['target']=df2['target']\n",
    "\n",
    "cph = CoxPHFitter(penalizer=0.01)\n",
    "scores = k_fold_cross_validation(cph, subset, duration_col='visit_interval', event_col='target', k=10, scoring_method=\"concordance_index\")\n",
    "print(scores)\n",
    "\n",
    "cph.fit(df=broad_subset, duration_col='visit_interval', event_col='target')\n",
    "#cph.print_summary()"
   ]
  },
  {
   "cell_type": "code",
   "execution_count": null,
   "metadata": {},
   "outputs": [],
   "source": [
    "# from lifelines.utils.sklearn_adapter import sklearn_adapter\n",
    "\n",
    "# from lifelines import CoxPHFitter\n",
    "# from lifelines.datasets import load_rossi\n",
    "\n",
    "# X = load_rossi().drop('week', axis=1) # keep as a dataframe\n",
    "# Y = load_rossi().pop('week')\n",
    "\n",
    "# CoxRegression = sklearn_adapter(CoxPHFitter, event_col='arrest')\n",
    "# # CoxRegression is a class like the `LinearRegression` class or `SVC` class in scikit-learn\n",
    "\n",
    "# sk_cph = CoxRegression(penalizer=1e-5)\n",
    "# sk_cph.fit(X, Y)\n",
    "# print(sk_cph)\n",
    "\n",
    "# \"\"\"\n",
    "# SkLearnCoxPHFitter(alpha=0.05, penalizer=1e-5, strata=None, tie_method='Efron')\n",
    "# \"\"\"\n",
    "\n",
    "# sk_cph.predict(X)\n",
    "# sk_cph.score(X, Y)"
   ]
  },
  {
   "cell_type": "markdown",
   "metadata": {},
   "source": [
    "## Cox with skurv (just to test how functions work in their data)"
   ]
  },
  {
   "cell_type": "code",
   "execution_count": null,
   "metadata": {
    "execution": {
     "iopub.execute_input": "2020-10-01T15:05:58.134103Z",
     "iopub.status.busy": "2020-10-01T15:05:58.134103Z",
     "iopub.status.idle": "2020-10-01T15:05:58.756412Z",
     "shell.execute_reply": "2020-10-01T15:05:58.755414Z",
     "shell.execute_reply.started": "2020-10-01T15:05:58.134103Z"
    }
   },
   "outputs": [],
   "source": [
    "import numpy\n",
    "from sksurv.datasets import load_gbsg2\n",
    "from sksurv.linear_model import CoxPHSurvivalAnalysis\n",
    "from sksurv.metrics import integrated_brier_score\n",
    "from sksurv.preprocessing import OneHotEncoder"
   ]
  },
  {
   "cell_type": "code",
   "execution_count": null,
   "metadata": {
    "execution": {
     "iopub.execute_input": "2020-10-01T15:05:59.391526Z",
     "iopub.status.busy": "2020-10-01T15:05:59.391526Z",
     "iopub.status.idle": "2020-10-01T15:05:59.432416Z",
     "shell.execute_reply": "2020-10-01T15:05:59.431417Z",
     "shell.execute_reply.started": "2020-10-01T15:05:59.391526Z"
    }
   },
   "outputs": [],
   "source": [
    "X, y = load_gbsg2()\n",
    "X.loc[:, \"tgrade\"] = X.loc[:, \"tgrade\"].map(len).astype(int)\n",
    "Xt = OneHotEncoder().fit_transform(X)"
   ]
  },
  {
   "cell_type": "code",
   "execution_count": null,
   "metadata": {
    "execution": {
     "iopub.execute_input": "2020-10-01T15:06:01.585436Z",
     "iopub.status.busy": "2020-10-01T15:06:01.585436Z",
     "iopub.status.idle": "2020-10-01T15:06:01.776918Z",
     "shell.execute_reply": "2020-10-01T15:06:01.775935Z",
     "shell.execute_reply.started": "2020-10-01T15:06:01.585436Z"
    }
   },
   "outputs": [],
   "source": [
    "est = CoxPHSurvivalAnalysis(ties=\"efron\").fit(Xt, y)"
   ]
  },
  {
   "cell_type": "code",
   "execution_count": null,
   "metadata": {
    "execution": {
     "iopub.execute_input": "2020-10-01T15:06:13.375063Z",
     "iopub.status.busy": "2020-10-01T15:06:13.375063Z",
     "iopub.status.idle": "2020-10-01T15:06:49.083823Z",
     "shell.execute_reply": "2020-10-01T15:06:49.082884Z",
     "shell.execute_reply.started": "2020-10-01T15:06:13.375063Z"
    }
   },
   "outputs": [],
   "source": [
    "survs = est.predict_survival_function(Xt)\n",
    "times = numpy.arange(365, 1826)\n",
    "preds = numpy.asarray([[fn(t) for t in times] for fn in survs])"
   ]
  },
  {
   "cell_type": "code",
   "execution_count": null,
   "metadata": {
    "execution": {
     "iopub.execute_input": "2020-10-01T15:09:43.173695Z",
     "iopub.status.busy": "2020-10-01T15:09:43.173695Z",
     "iopub.status.idle": "2020-10-01T15:09:43.201620Z",
     "shell.execute_reply": "2020-10-01T15:09:43.200623Z",
     "shell.execute_reply.started": "2020-10-01T15:09:43.173695Z"
    },
    "jupyter": {
     "outputs_hidden": true
    }
   },
   "outputs": [],
   "source": [
    "survs[0]"
   ]
  },
  {
   "cell_type": "code",
   "execution_count": null,
   "metadata": {},
   "outputs": [],
   "source": [
    "score = integrated_brier_score(y, y, preds, times)\n",
    "print(score)"
   ]
  },
  {
   "cell_type": "markdown",
   "metadata": {},
   "source": [
    "# survival forest with sksurv"
   ]
  },
  {
   "cell_type": "code",
   "execution_count": null,
   "metadata": {
    "execution": {
     "iopub.execute_input": "2020-10-01T17:16:13.987350Z",
     "iopub.status.busy": "2020-10-01T17:16:13.987350Z",
     "iopub.status.idle": "2020-10-01T17:16:13.993335Z",
     "shell.execute_reply": "2020-10-01T17:16:13.992337Z",
     "shell.execute_reply.started": "2020-10-01T17:16:13.987350Z"
    }
   },
   "outputs": [],
   "source": [
    "from sksurv.ensemble import RandomSurvivalForest\n",
    "from sksurv.util import Surv"
   ]
  },
  {
   "cell_type": "code",
   "execution_count": null,
   "metadata": {
    "execution": {
     "iopub.execute_input": "2020-10-01T23:16:24.933061Z",
     "iopub.status.busy": "2020-10-01T23:16:24.932063Z",
     "iopub.status.idle": "2020-10-01T23:16:24.962972Z",
     "shell.execute_reply": "2020-10-01T23:16:24.961976Z",
     "shell.execute_reply.started": "2020-10-01T23:16:24.933061Z"
    }
   },
   "outputs": [],
   "source": [
    "y=Surv.from_dataframe('target', 'visit_interval', df2)\n",
    "X_train, X_test, y_train, y_test = train_test_split(subset, y, test_size=0.35, random_state=1)\n"
   ]
  },
  {
   "cell_type": "code",
   "execution_count": null,
   "metadata": {
    "execution": {
     "iopub.execute_input": "2020-10-01T23:16:25.644965Z",
     "iopub.status.busy": "2020-10-01T23:16:25.644965Z",
     "iopub.status.idle": "2020-10-01T23:16:55.153764Z",
     "shell.execute_reply": "2020-10-01T23:16:55.152785Z",
     "shell.execute_reply.started": "2020-10-01T23:16:25.644965Z"
    }
   },
   "outputs": [],
   "source": [
    "rsf = RandomSurvivalForest()\n",
    "rsf.fit(X_train, y_train)"
   ]
  },
  {
   "cell_type": "markdown",
   "metadata": {},
   "source": [
    "### Assessing model"
   ]
  },
  {
   "cell_type": "code",
   "execution_count": null,
   "metadata": {
    "execution": {
     "iopub.execute_input": "2020-10-01T23:16:59.951431Z",
     "iopub.status.busy": "2020-10-01T23:16:59.951431Z",
     "iopub.status.idle": "2020-10-01T23:17:01.013255Z",
     "shell.execute_reply": "2020-10-01T23:17:01.013255Z",
     "shell.execute_reply.started": "2020-10-01T23:16:59.951431Z"
    }
   },
   "outputs": [],
   "source": [
    "rsf.score(X_test, y_test)"
   ]
  },
  {
   "cell_type": "code",
   "execution_count": null,
   "metadata": {
    "execution": {
     "iopub.execute_input": "2020-10-01T23:17:06.036248Z",
     "iopub.status.busy": "2020-10-01T23:17:06.036248Z",
     "iopub.status.idle": "2020-10-01T23:17:08.016332Z",
     "shell.execute_reply": "2020-10-01T23:17:08.015335Z",
     "shell.execute_reply.started": "2020-10-01T23:17:06.036248Z"
    }
   },
   "outputs": [],
   "source": [
    "surv = rsf.predict_survival_function(X_test)\n",
    "\n",
    "surv_p=pd.Series(rsf.predict(X_test))"
   ]
  },
  {
   "cell_type": "code",
   "execution_count": null,
   "metadata": {
    "execution": {
     "iopub.execute_input": "2020-10-02T00:33:28.416938Z",
     "iopub.status.busy": "2020-10-02T00:33:28.416938Z",
     "iopub.status.idle": "2020-10-02T00:33:28.429903Z",
     "shell.execute_reply": "2020-10-02T00:33:28.428906Z",
     "shell.execute_reply.started": "2020-10-02T00:33:28.416938Z"
    },
    "jupyter": {
     "outputs_hidden": true
    }
   },
   "outputs": [],
   "source": [
    "surv_p"
   ]
  },
  {
   "cell_type": "code",
   "execution_count": null,
   "metadata": {
    "execution": {
     "iopub.execute_input": "2020-10-02T01:18:11.018723Z",
     "iopub.status.busy": "2020-10-02T01:18:11.018723Z",
     "iopub.status.idle": "2020-10-02T01:18:12.805903Z",
     "shell.execute_reply": "2020-10-02T01:18:12.804977Z",
     "shell.execute_reply.started": "2020-10-02T01:18:11.018723Z"
    }
   },
   "outputs": [],
   "source": [
    "survs = rsf.predict_survival_function(X_test, return_array=True)\n",
    "times=rsf.event_times_\n",
    "haz=rsf.predict_cumulative_hazard_function(X_test, return_array=True)"
   ]
  },
  {
   "cell_type": "code",
   "execution_count": null,
   "metadata": {
    "execution": {
     "iopub.execute_input": "2020-10-02T01:18:24.601169Z",
     "iopub.status.busy": "2020-10-02T01:18:24.600145Z",
     "iopub.status.idle": "2020-10-02T01:18:24.608125Z",
     "shell.execute_reply": "2020-10-02T01:18:24.607127Z",
     "shell.execute_reply.started": "2020-10-02T01:18:24.601169Z"
    }
   },
   "outputs": [],
   "source": [
    "times.shape"
   ]
  },
  {
   "cell_type": "code",
   "execution_count": null,
   "metadata": {
    "execution": {
     "iopub.execute_input": "2020-10-01T23:17:10.730223Z",
     "iopub.status.busy": "2020-10-01T23:17:10.730223Z",
     "iopub.status.idle": "2020-10-01T23:17:10.736205Z",
     "shell.execute_reply": "2020-10-01T23:17:10.735208Z",
     "shell.execute_reply.started": "2020-10-01T23:17:10.730223Z"
    }
   },
   "outputs": [],
   "source": [
    "time=np.arange(6, 400+6) #6.0; 2504"
   ]
  },
  {
   "cell_type": "code",
   "execution_count": null,
   "metadata": {
    "execution": {
     "iopub.execute_input": "2020-10-01T23:17:12.033331Z",
     "iopub.status.busy": "2020-10-01T23:17:12.033331Z",
     "iopub.status.idle": "2020-10-01T23:17:12.081187Z",
     "shell.execute_reply": "2020-10-01T23:17:12.080189Z",
     "shell.execute_reply.started": "2020-10-01T23:17:12.033331Z"
    }
   },
   "outputs": [],
   "source": [
    "from sksurv.metrics import integrated_brier_score, brier_score\n",
    "integrated_brier_score(y_train, y_test, survs, time)# not implemented for trees in this library =( super hacked, but worked!"
   ]
  },
  {
   "cell_type": "code",
   "execution_count": null,
   "metadata": {
    "execution": {
     "iopub.execute_input": "2020-10-01T23:17:14.854901Z",
     "iopub.status.busy": "2020-10-01T23:17:14.853903Z",
     "iopub.status.idle": "2020-10-01T23:17:14.921703Z",
     "shell.execute_reply": "2020-10-01T23:17:14.920706Z",
     "shell.execute_reply.started": "2020-10-01T23:17:14.854901Z"
    }
   },
   "outputs": [],
   "source": [
    "from sksurv.metrics import concordance_index_ipcw,cumulative_dynamic_auc\n",
    "concordance_index_ipcw(y_train, y_test, survs[:,0])"
   ]
  },
  {
   "cell_type": "code",
   "execution_count": null,
   "metadata": {
    "execution": {
     "iopub.execute_input": "2020-10-02T01:35:20.123170Z",
     "iopub.status.busy": "2020-10-02T01:35:20.123170Z",
     "iopub.status.idle": "2020-10-02T01:35:21.923299Z",
     "shell.execute_reply": "2020-10-02T01:35:21.922326Z",
     "shell.execute_reply.started": "2020-10-02T01:35:20.123170Z"
    }
   },
   "outputs": [],
   "source": [
    "t=[]\n",
    "s=[]\n",
    "\n",
    "for i in range(399):\n",
    "    time, score = brier_score(y_train, y_test, survs[:,i], times[i])\n",
    "    t.append(time)\n",
    "    s.append(score)\n",
    "\n",
    "plt.plot(t, s)\n",
    "plt.axhline(0.194, linestyle=\"--\")\n",
    "plt.xlabel(\"days from enrollment\")\n",
    "plt.ylabel(\"Prediction error\")\n",
    "plt.grid(True)\n"
   ]
  },
  {
   "cell_type": "code",
   "execution_count": null,
   "metadata": {
    "execution": {
     "iopub.execute_input": "2020-10-02T01:03:48.402217Z",
     "iopub.status.busy": "2020-10-02T01:03:48.401193Z",
     "iopub.status.idle": "2020-10-02T01:03:48.413162Z",
     "shell.execute_reply": "2020-10-02T01:03:48.413162Z",
     "shell.execute_reply.started": "2020-10-02T01:03:48.402217Z"
    }
   },
   "outputs": [],
   "source": [
    "ix = [i[0] for i in y_test]\n",
    "sum(ix)\n",
    "len(ix)"
   ]
  },
  {
   "cell_type": "code",
   "execution_count": null,
   "metadata": {
    "execution": {
     "iopub.execute_input": "2020-10-02T01:32:24.510755Z",
     "iopub.status.busy": "2020-10-02T01:32:24.510755Z",
     "iopub.status.idle": "2020-10-02T01:32:24.687279Z",
     "shell.execute_reply": "2020-10-02T01:32:24.686307Z",
     "shell.execute_reply.started": "2020-10-02T01:32:24.510755Z"
    }
   },
   "outputs": [],
   "source": [
    "nh=np.mean(haz[ix,:],axis=0)\n",
    "yh=np.mean(haz[~np.array(ix),:],axis=0)\n",
    "\n",
    "times=rsf.event_times_\n",
    "plt.plot(times, nh)\n",
    "plt.plot(times, yh)\n",
    "\n",
    "plt.xlabel(\"days from enrollment\")\n",
    "plt.ylabel(\"Hazard rate\")\n",
    "plt.legend(['AD','MCI'])\n",
    "\n",
    "plt.grid(True)\n"
   ]
  },
  {
   "cell_type": "code",
   "execution_count": null,
   "metadata": {
    "execution": {
     "iopub.execute_input": "2020-10-02T00:31:17.056608Z",
     "iopub.status.busy": "2020-10-02T00:31:17.055583Z",
     "iopub.status.idle": "2020-10-02T00:31:18.326141Z",
     "shell.execute_reply": "2020-10-02T00:31:18.325145Z",
     "shell.execute_reply.started": "2020-10-02T00:31:17.056608Z"
    }
   },
   "outputs": [],
   "source": [
    "pickle.dump(rsf, open('../models/surv_model.sav', 'wb'))"
   ]
  },
  {
   "cell_type": "code",
   "execution_count": null,
   "metadata": {
    "execution": {
     "iopub.execute_input": "2020-09-28T19:55:18.775694Z",
     "iopub.status.busy": "2020-09-28T19:55:18.775694Z",
     "iopub.status.idle": "2020-09-28T19:55:18.933279Z",
     "shell.execute_reply": "2020-09-28T19:55:18.932281Z",
     "shell.execute_reply.started": "2020-09-28T19:55:18.775694Z"
    },
    "jupyter": {
     "outputs_hidden": true
    }
   },
   "outputs": [],
   "source": [
    "for i, s in enumerate(surv):\n",
    "    plt.step(rsf.event_times_, s, where=\"post\", label=str(i))\n",
    "plt.ylabel(\"Survival probability\")\n",
    "plt.xlabel(\"Time in days\")\n",
    "plt.grid(True)\n",
    "plt.legend()"
   ]
  },
  {
   "cell_type": "code",
   "execution_count": null,
   "metadata": {
    "execution": {
     "iopub.execute_input": "2020-09-28T20:25:25.572166Z",
     "iopub.status.busy": "2020-09-28T20:25:25.572166Z",
     "iopub.status.idle": "2020-09-28T20:25:25.709798Z",
     "shell.execute_reply": "2020-09-28T20:25:25.708811Z",
     "shell.execute_reply.started": "2020-09-28T20:25:25.572166Z"
    }
   },
   "outputs": [],
   "source": [
    "plt.step(rsf.event_times_, surv[0], where=\"post\")"
   ]
  },
  {
   "cell_type": "code",
   "execution_count": null,
   "metadata": {},
   "outputs": [],
   "source": []
  }
 ],
 "metadata": {
  "kernelspec": {
   "display_name": "AD",
   "language": "python",
   "name": "ad"
  },
  "language_info": {
   "codemirror_mode": {
    "name": "ipython",
    "version": 3
   },
   "file_extension": ".py",
   "mimetype": "text/x-python",
   "name": "python",
   "nbconvert_exporter": "python",
   "pygments_lexer": "ipython3",
   "version": "3.7.9"
  }
 },
 "nbformat": 4,
 "nbformat_minor": 4
}
