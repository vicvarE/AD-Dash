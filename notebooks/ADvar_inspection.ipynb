{
 "cells": [
  {
   "cell_type": "markdown",
   "metadata": {},
   "source": [
    "# More indepth variable viz "
   ]
  },
  {
   "cell_type": "code",
   "execution_count": null,
   "metadata": {
    "ExecuteTime": {
     "end_time": "2020-09-03T17:32:20.984828Z",
     "start_time": "2020-09-03T17:32:19.772067Z"
    },
    "execution": {
     "iopub.execute_input": "2020-09-23T19:53:06.250340Z",
     "iopub.status.busy": "2020-09-23T19:53:06.250340Z",
     "iopub.status.idle": "2020-09-23T19:53:07.323502Z",
     "shell.execute_reply": "2020-09-23T19:53:07.323502Z",
     "shell.execute_reply.started": "2020-09-23T19:53:06.250340Z"
    }
   },
   "outputs": [],
   "source": [
    "#imports\n",
    "import pandas as pd \n",
    "import numpy as np\n",
    "import matplotlib.pyplot as plt\n",
    "import seaborn as sns\n",
    "from sklearn import feature_selection\n",
    "from sklearn.model_selection import train_test_split\n",
    "from sklearn.ensemble import ExtraTreesClassifier\n",
    "from sklearn.tree import DecisionTreeClassifier\n",
    "from sklearn.metrics import recall_score\n",
    "from sklearn.metrics import precision_score"
   ]
  },
  {
   "cell_type": "code",
   "execution_count": null,
   "metadata": {
    "ExecuteTime": {
     "end_time": "2020-09-03T17:32:23.622769Z",
     "start_time": "2020-09-03T17:32:23.615787Z"
    },
    "execution": {
     "iopub.execute_input": "2020-09-23T19:53:08.882304Z",
     "iopub.status.busy": "2020-09-23T19:53:08.882304Z",
     "iopub.status.idle": "2020-09-23T19:53:08.889317Z",
     "shell.execute_reply": "2020-09-23T19:53:08.889317Z",
     "shell.execute_reply.started": "2020-09-23T19:53:08.882304Z"
    }
   },
   "outputs": [],
   "source": [
    "%matplotlib inline\n",
    "sns.set_palette(\"Set2\")"
   ]
  },
  {
   "cell_type": "code",
   "execution_count": null,
   "metadata": {
    "ExecuteTime": {
     "end_time": "2020-09-03T17:32:51.760524Z",
     "start_time": "2020-09-03T17:32:50.145841Z"
    },
    "execution": {
     "iopub.execute_input": "2020-09-23T19:53:11.080427Z",
     "iopub.status.busy": "2020-09-23T19:53:11.079430Z",
     "iopub.status.idle": "2020-09-23T19:53:13.192780Z",
     "shell.execute_reply": "2020-09-23T19:53:13.191782Z",
     "shell.execute_reply.started": "2020-09-23T19:53:11.080427Z"
    }
   },
   "outputs": [],
   "source": [
    "#load data\n",
    "raw_ds=pd.read_csv(r\"..\\data\\interim\\AD_MCI2.csv\")\n",
    "dd=pd.read_csv(r\"..\\docs\\rdd_datadictionary_uds.csv\")"
   ]
  },
  {
   "cell_type": "markdown",
   "metadata": {
    "execution": {
     "iopub.execute_input": "2020-09-18T01:40:32.603816Z",
     "iopub.status.busy": "2020-09-18T01:40:32.602817Z",
     "iopub.status.idle": "2020-09-18T01:40:32.607807Z",
     "shell.execute_reply": "2020-09-18T01:40:32.606807Z",
     "shell.execute_reply.started": "2020-09-18T01:40:32.603816Z"
    }
   },
   "source": [
    "## In this notebook: Focus 1st on most recent visit from demented diagnosis, drop nan columns\n"
   ]
  },
  {
   "cell_type": "code",
   "execution_count": null,
   "metadata": {
    "execution": {
     "iopub.execute_input": "2020-09-23T19:53:18.543476Z",
     "iopub.status.busy": "2020-09-23T19:53:18.542478Z",
     "iopub.status.idle": "2020-09-23T19:53:18.552452Z",
     "shell.execute_reply": "2020-09-23T19:53:18.551459Z",
     "shell.execute_reply.started": "2020-09-23T19:53:18.543476Z"
    }
   },
   "outputs": [],
   "source": [
    "pd.options.display.max_colwidth = 300\n",
    "print(dd.loc[dd.VariableName=='TOBAC30'])"
   ]
  },
  {
   "cell_type": "code",
   "execution_count": null,
   "metadata": {
    "ExecuteTime": {
     "end_time": "2020-09-03T18:01:25.504640Z",
     "start_time": "2020-09-03T18:01:24.898263Z"
    },
    "execution": {
     "iopub.execute_input": "2020-09-23T19:53:19.172796Z",
     "iopub.status.busy": "2020-09-23T19:53:19.172796Z",
     "iopub.status.idle": "2020-09-23T19:53:19.781166Z",
     "shell.execute_reply": "2020-09-23T19:53:19.780198Z",
     "shell.execute_reply.started": "2020-09-23T19:53:19.172796Z"
    }
   },
   "outputs": [],
   "source": [
    "#drop rows withvisit_interval == nan; \n",
    "#drop every row per id but latest recorded\n",
    "print(raw_ds.shape)\n",
    "one_ts=raw_ds[raw_ds['visit_interval'].notna()]\n",
    "print(one_ts.shape)\n",
    "grouped=one_ts.groupby('NACCID')\n",
    "max_i = grouped['NACCVNUM'].idxmax()\n",
    "one_ts=one_ts[one_ts.index.isin(max_i.values)]\n",
    "print(one_ts.shape)\n"
   ]
  },
  {
   "cell_type": "code",
   "execution_count": null,
   "metadata": {
    "execution": {
     "iopub.execute_input": "2020-09-23T19:53:22.336338Z",
     "iopub.status.busy": "2020-09-23T19:53:22.335340Z",
     "iopub.status.idle": "2020-09-23T19:53:22.380219Z",
     "shell.execute_reply": "2020-09-23T19:53:22.380219Z",
     "shell.execute_reply.started": "2020-09-23T19:53:22.336338Z"
    }
   },
   "outputs": [],
   "source": [
    "one_ts"
   ]
  },
  {
   "cell_type": "code",
   "execution_count": null,
   "metadata": {
    "ExecuteTime": {
     "end_time": "2020-09-03T18:06:47.458691Z",
     "start_time": "2020-09-03T18:06:47.452690Z"
    },
    "execution": {
     "iopub.execute_input": "2020-09-23T19:54:28.437622Z",
     "iopub.status.busy": "2020-09-23T19:54:28.436623Z",
     "iopub.status.idle": "2020-09-23T19:54:28.446597Z",
     "shell.execute_reply": "2020-09-23T19:54:28.445599Z",
     "shell.execute_reply.started": "2020-09-23T19:54:28.437622Z"
    }
   },
   "outputs": [],
   "source": [
    "#sanity check\n",
    "one_ts['NACCID'].nunique() == one_ts['NACCID'].size"
   ]
  },
  {
   "cell_type": "code",
   "execution_count": null,
   "metadata": {
    "ExecuteTime": {
     "end_time": "2020-09-03T18:43:44.938530Z",
     "start_time": "2020-09-03T18:43:43.859385Z"
    },
    "execution": {
     "iopub.execute_input": "2020-09-23T19:54:29.155707Z",
     "iopub.status.busy": "2020-09-23T19:54:29.154703Z",
     "iopub.status.idle": "2020-09-23T19:54:30.112144Z",
     "shell.execute_reply": "2020-09-23T19:54:30.111172Z",
     "shell.execute_reply.started": "2020-09-23T19:54:29.155707Z"
    }
   },
   "outputs": [],
   "source": [
    "#recheck distros\n",
    "f, axes = plt.subplots(1, 2, figsize=(12, 5))\n",
    "\n",
    "sns.boxenplot(x=\"NACCAVST\", y=\"visit_interval\", hue=\"target\",showfliers=0,\n",
    "            data=one_ts,ax=axes[0]); axes[0].set(ylim=(200, 1500))\n",
    "\n",
    "sns.countplot(x=\"NACCAVST\", hue=\"target\",\n",
    "            data=one_ts.groupby(['NACCID']).mean(),ax=axes[1]);\n",
    "#g.set_xticklabels(g.get_xticklabels(),rotation=45)\n",
    "labels = [label.get_text() for label in axes[1].get_xticklabels()];\n",
    "axes[1].set_xticklabels(map(lambda x: \"{:g}\".format(float(x)), labels));"
   ]
  },
  {
   "cell_type": "code",
   "execution_count": null,
   "metadata": {
    "ExecuteTime": {
     "end_time": "2020-09-03T18:08:56.157520Z",
     "start_time": "2020-09-03T18:08:56.035834Z"
    },
    "execution": {
     "iopub.execute_input": "2020-09-23T19:54:32.020043Z",
     "iopub.status.busy": "2020-09-23T19:54:32.020043Z",
     "iopub.status.idle": "2020-09-23T19:54:32.145707Z",
     "shell.execute_reply": "2020-09-23T19:54:32.145707Z",
     "shell.execute_reply.started": "2020-09-23T19:54:32.020043Z"
    }
   },
   "outputs": [],
   "source": [
    "one_ts=one_ts.dropna(axis=1,how='all')\n",
    "one_ts.describe"
   ]
  },
  {
   "cell_type": "code",
   "execution_count": null,
   "metadata": {
    "ExecuteTime": {
     "end_time": "2020-09-03T19:06:04.466342Z",
     "start_time": "2020-09-03T19:06:04.459363Z"
    },
    "execution": {
     "iopub.execute_input": "2020-09-23T19:54:34.218176Z",
     "iopub.status.busy": "2020-09-23T19:54:34.217178Z",
     "iopub.status.idle": "2020-09-23T19:54:34.226146Z",
     "shell.execute_reply": "2020-09-23T19:54:34.225174Z",
     "shell.execute_reply.started": "2020-09-23T19:54:34.218176Z"
    }
   },
   "outputs": [],
   "source": [
    "#nan time\n",
    "def summary(df):\n",
    "    summary = pd.DataFrame(df.dtypes, columns=['dtypes'])\n",
    "    summary = summary.reset_index()\n",
    "    summary['Name'] = summary['index']\n",
    "    summary = summary[['Name', 'dtypes']]\n",
    "    summary['Missing'] = df.isnull().sum().values    \n",
    "    summary['Missing%'] = (df.isnull().sum().values/df.shape[0])*100\n",
    "    summary['Uniques'] = df.nunique().values\n",
    "    summary=summary.sort_values(by=['Missing','Uniques'], ascending=[False, False])\n",
    "    return summary"
   ]
  },
  {
   "cell_type": "code",
   "execution_count": null,
   "metadata": {
    "ExecuteTime": {
     "end_time": "2020-09-03T21:51:57.085202Z",
     "start_time": "2020-09-03T21:51:56.817922Z"
    },
    "execution": {
     "iopub.execute_input": "2020-09-23T19:54:36.026332Z",
     "iopub.status.busy": "2020-09-23T19:54:36.026332Z",
     "iopub.status.idle": "2020-09-23T19:54:36.357446Z",
     "shell.execute_reply": "2020-09-23T19:54:36.357446Z",
     "shell.execute_reply.started": "2020-09-23T19:54:36.026332Z"
    }
   },
   "outputs": [],
   "source": [
    "#what are the nulls\n",
    "pd.set_option('display.min_rows', 500)\n",
    "summary(one_ts)"
   ]
  },
  {
   "cell_type": "code",
   "execution_count": null,
   "metadata": {
    "ExecuteTime": {
     "end_time": "2020-09-03T21:41:16.638850Z",
     "start_time": "2020-09-03T21:41:16.225954Z"
    },
    "execution": {
     "iopub.execute_input": "2020-09-23T19:54:38.743070Z",
     "iopub.status.busy": "2020-09-23T19:54:38.743070Z",
     "iopub.status.idle": "2020-09-23T19:54:39.099117Z",
     "shell.execute_reply": "2020-09-23T19:54:39.098127Z",
     "shell.execute_reply.started": "2020-09-23T19:54:38.743070Z"
    }
   },
   "outputs": [],
   "source": [
    "#handle the drugs\n",
    "one_ts['drug_count']=one_ts.loc[:,one_ts.columns.str.contains('DRUG')].apply(lambda x: x.count(), axis=1).copy()\n",
    "drugs=one_ts.loc[:,one_ts.columns.str.contains('DRUG')]\n",
    "#and drop the drugs\n",
    "one_ts=one_ts.loc[:,~one_ts.columns.str.contains('DRUG')]\n",
    "\n",
    "drugs.shape"
   ]
  },
  {
   "cell_type": "code",
   "execution_count": null,
   "metadata": {
    "execution": {
     "iopub.execute_input": "2020-09-23T19:54:40.515332Z",
     "iopub.status.busy": "2020-09-23T19:54:40.515332Z",
     "iopub.status.idle": "2020-09-23T19:54:40.523310Z",
     "shell.execute_reply": "2020-09-23T19:54:40.523310Z",
     "shell.execute_reply.started": "2020-09-23T19:54:40.515332Z"
    }
   },
   "outputs": [],
   "source": [
    "#forms\n",
    "forms=one_ts[['NACCID','PACKET','FORMVER']].copy()\n",
    "dd.Form.unique()\n",
    "form_dict={'header':'patient info','milestones':'milestones','other':'other measures','a1':'Subject Demographics','a2':'Co-participant Demographics','a3':'Family History','a4':'Medications','a5':'Health History','b1':'Physical','b2':'HIS and CVD','b3':'Unified Parkinson’s Disease Rating Scale','b4':'CDR® Plus NACC FTLD','b5':'Neuropsychiatric Inventory Questionnaire (NPI-Q)','b6':'Geriatric Depression Scale (GDS)','b7':'Functional Activities Questionnaire(FAQ)','b8':'Physical/Neurological Exam Findings','b9':'Clinician Judgment of Symptoms','c1c2':'Neuropsychological Battery','c1':'Neuropsychological Battery','c2':'Neuropsychological Battery','d1':'Clinician Diagnosis','d2':'Clinician-assessed Medical Conditions'}\n"
   ]
  },
  {
   "cell_type": "code",
   "execution_count": null,
   "metadata": {
    "ExecuteTime": {
     "end_time": "2020-09-03T21:51:52.286045Z",
     "start_time": "2020-09-03T21:51:52.052633Z"
    },
    "execution": {
     "iopub.execute_input": "2020-09-23T19:54:42.196837Z",
     "iopub.status.busy": "2020-09-23T19:54:42.196837Z",
     "iopub.status.idle": "2020-09-23T19:54:42.461134Z",
     "shell.execute_reply": "2020-09-23T19:54:42.460132Z",
     "shell.execute_reply.started": "2020-09-23T19:54:42.196837Z"
    }
   },
   "outputs": [],
   "source": [
    "#drop all other cols (ending with X)\n",
    "one_ts = one_ts.loc[:,~one_ts.columns.str.endswith('X')]\n",
    "#or go ahead and drop all columns with more than 20% nan\n",
    "one_ts=one_ts[one_ts.columns[one_ts.isnull().mean() < 0.2]]\n",
    "one_ts=one_ts[one_ts.columns[one_ts.nunique() < 1000]]"
   ]
  },
  {
   "cell_type": "code",
   "execution_count": null,
   "metadata": {
    "ExecuteTime": {
     "end_time": "2020-09-03T22:07:12.675707Z",
     "start_time": "2020-09-03T22:07:12.668728Z"
    },
    "execution": {
     "iopub.execute_input": "2020-09-23T19:54:44.766966Z",
     "iopub.status.busy": "2020-09-23T19:54:44.765969Z",
     "iopub.status.idle": "2020-09-23T19:54:44.773948Z",
     "shell.execute_reply": "2020-09-23T19:54:44.772950Z",
     "shell.execute_reply.started": "2020-09-23T19:54:44.766966Z"
    }
   },
   "outputs": [],
   "source": [
    "def plt_cat(df,target):\n",
    "    ix = 1\n",
    "    fig = plt.figure(figsize = (15,10))\n",
    "    for c in list(df.columns):\n",
    "        if ix <= 3:\n",
    "            if c != target:\n",
    "                ax1 = fig.add_subplot(2,3,ix)\n",
    "                #sns.countplot(data = df, x=c, hue=target, ax = ax1)\n",
    "                df1 = df.groupby(target)[c].value_counts(normalize=True)\n",
    "                df1 = df1.rename('norm').reset_index()\n",
    "                sns.barplot(x=c,y='norm',hue=target,data=df1,ax = ax1)\n",
    "                \n",
    "                ax2 = fig.add_subplot(2,3,ix+3)\n",
    "                #sns.violinplot(data=df, x=target, y=c, split=True, ax=ax2)\n",
    "                sns.boxenplot(data=df, x=target, y=c, ax=ax2)\n",
    "\n",
    "        ix = ix +1\n",
    "        if ix == 4: \n",
    "            fig = plt.figure(figsize = (15,10))\n",
    "            ix =1"
   ]
  },
  {
   "cell_type": "code",
   "execution_count": null,
   "metadata": {
    "ExecuteTime": {
     "end_time": "2020-09-03T22:07:22.733811Z",
     "start_time": "2020-09-03T22:07:13.902464Z"
    },
    "code_folding": [],
    "execution": {
     "iopub.execute_input": "2020-09-23T19:54:46.827458Z",
     "iopub.status.busy": "2020-09-23T19:54:46.827458Z",
     "iopub.status.idle": "2020-09-23T19:54:53.655204Z",
     "shell.execute_reply": "2020-09-23T19:54:53.654256Z",
     "shell.execute_reply.started": "2020-09-23T19:54:46.827458Z"
    }
   },
   "outputs": [],
   "source": [
    "#lets plot the remaing variables with nans\n",
    "t=one_ts[one_ts.columns[one_ts.isnull().mean() > 0]].copy()\n",
    "t['target']=one_ts[\"target\"]\n",
    "plt_cat(t,\"target\")"
   ]
  },
  {
   "cell_type": "code",
   "execution_count": null,
   "metadata": {
    "execution": {
     "iopub.execute_input": "2020-09-23T19:54:53.682132Z",
     "iopub.status.busy": "2020-09-23T19:54:53.682132Z",
     "iopub.status.idle": "2020-09-23T19:54:53.687119Z",
     "shell.execute_reply": "2020-09-23T19:54:53.686142Z",
     "shell.execute_reply.started": "2020-09-23T19:54:53.682132Z"
    }
   },
   "outputs": [],
   "source": [
    "#useless drop function\n",
    "def drop_useless(df, cols):\n",
    "    for c in cols:\n",
    "        if c in df.columns:\n",
    "            df.drop(c,axis=1,inplace=True)"
   ]
  },
  {
   "cell_type": "code",
   "execution_count": null,
   "metadata": {
    "ExecuteTime": {
     "end_time": "2020-09-03T22:19:37.452475Z",
     "start_time": "2020-09-03T22:14:48.937021Z"
    },
    "execution": {
     "iopub.execute_input": "2020-09-23T19:55:01.026499Z",
     "iopub.status.busy": "2020-09-23T19:55:01.025500Z",
     "iopub.status.idle": "2020-09-23T19:55:05.253228Z",
     "shell.execute_reply": "2020-09-23T19:55:05.253228Z",
     "shell.execute_reply.started": "2020-09-23T19:55:01.026499Z"
    }
   },
   "outputs": [],
   "source": [
    "#All these nan columns have the majority of data unavailable (-4) as they come from a merged table of brain autopsy details and majority of patients are alive or didn't donate their brain.\n",
    "#Therefore discard and let's look at the rest\n",
    "one_ts=one_ts[one_ts.columns[one_ts.isnull().mean() == 0]]\n",
    "#from here we can take out those with -4 and 0, vars with one number only, and vars that are part of the neuropathology database and most of genomic\n",
    "one_ts=one_ts.loc[:,~one_ts.columns.str.startswith(('ADGC','NGDS'))]\n",
    "cols=one_ts.loc[:,'NPFORMVER':'NACCINT'].columns\n",
    "useless=pd.Index(['NCDSWEAC', 'NACCNCRD'])\n",
    "cols=cols.append(useless)\n",
    "drop_useless(one_ts,cols)\n",
    "\n",
    "one_ts.drop(one_ts.columns[one_ts.nunique() == 1],axis=1,inplace=True)\n",
    "#where all is -4 and another number\n",
    "one_ts.drop(one_ts.columns[one_ts.nunique()==2] & one_ts.columns[one_ts.isin([-4]).any()],axis=1,inplace=True) #maybe dont do this one, predictability?"
   ]
  },
  {
   "cell_type": "code",
   "execution_count": null,
   "metadata": {
    "execution": {
     "iopub.execute_input": "2020-09-23T19:55:05.305060Z",
     "iopub.status.busy": "2020-09-23T19:55:05.305060Z",
     "iopub.status.idle": "2020-09-23T19:55:06.706314Z",
     "shell.execute_reply": "2020-09-23T19:55:06.705317Z",
     "shell.execute_reply.started": "2020-09-23T19:55:05.305060Z"
    }
   },
   "outputs": [],
   "source": [
    "#where there's only -4 unique per target?\n",
    "g = one_ts.groupby('target').agg(['unique'])\n",
    "g"
   ]
  },
  {
   "cell_type": "code",
   "execution_count": null,
   "metadata": {
    "execution": {
     "iopub.execute_input": "2020-09-23T19:55:06.788120Z",
     "iopub.status.busy": "2020-09-23T19:55:06.788120Z",
     "iopub.status.idle": "2020-09-23T19:55:07.465284Z",
     "shell.execute_reply": "2020-09-23T19:55:07.464287Z",
     "shell.execute_reply.started": "2020-09-23T19:55:06.788120Z"
    }
   },
   "outputs": [],
   "source": [
    "c='LOGIPREV'#'NACCAM'#NACCALZD\n",
    "target='target'\n",
    "df1 = one_ts.groupby(target)[c].value_counts(normalize=True)\n",
    "df1 = df1.rename('norm').reset_index()\n",
    "sns.barplot(x=c,y='norm',hue=target,data=df1)"
   ]
  },
  {
   "cell_type": "code",
   "execution_count": null,
   "metadata": {
    "execution": {
     "iopub.execute_input": "2020-09-23T19:55:15.073942Z",
     "iopub.status.busy": "2020-09-23T19:55:15.072975Z",
     "iopub.status.idle": "2020-09-23T19:55:16.125146Z",
     "shell.execute_reply": "2020-09-23T19:55:16.125146Z",
     "shell.execute_reply.started": "2020-09-23T19:55:15.073942Z"
    }
   },
   "outputs": [],
   "source": [
    "#useless/dangerous by inspection %recheck\n",
    "useless=['PACKET','FORMVER','NACCADC','VISITMO','VISITDAY','VISITYR','NACCVNUM','NACCCORE','NACCREAS','BIRTHMO','INBIRMO','INHISPOR','INRACE', 'INRASEC','INRATER','INEDUC','INKNOWN','NACCAMS','NACCFM','NACCFMS','NACCOM','NACCOMS','MACCFFTD','HATTMULT','HATTYEAR','NACCSTYR','TIAMULT','NACCTIYR','PDYR','PDOTHRYR','TBIYEAR','COGFLAGO','BEVHAGO','BEREMAGO', 'BEAGE','PARKAGE','MOAGE','ALSAGE','LOGIMO','LOGIDAY','LOFIYR','LOGIPREV','MOCAREAS','NORMCOG','DEMENTED','AMNDEM','PCA','NACCPPAG','PSPIF','NACCNRDY','NACCNRMO','NACCDSYR','NACCDSMO','NACCDSDY','NACCYOD','NACCMOD','LOGIYR','NACCIDEM','NACCDIED','NACCAUTP']\n",
    "\n",
    "drop_useless(one_ts,useless)\n"
   ]
  },
  {
   "cell_type": "markdown",
   "metadata": {},
   "source": [
    "## save cleaned db, drugs and forms here"
   ]
  },
  {
   "cell_type": "code",
   "execution_count": null,
   "metadata": {
    "execution": {
     "iopub.execute_input": "2020-09-23T19:55:17.850520Z",
     "iopub.status.busy": "2020-09-23T19:55:17.849549Z",
     "iopub.status.idle": "2020-09-23T19:55:17.923324Z",
     "shell.execute_reply": "2020-09-23T19:55:17.922365Z",
     "shell.execute_reply.started": "2020-09-23T19:55:17.850520Z"
    }
   },
   "outputs": [],
   "source": [
    "one_ts=one_ts.loc[:, ~one_ts.columns.str.match('Unnamed')]\n",
    "one_ts"
   ]
  },
  {
   "cell_type": "code",
   "execution_count": null,
   "metadata": {
    "execution": {
     "iopub.execute_input": "2020-09-23T19:55:34.428204Z",
     "iopub.status.busy": "2020-09-23T19:55:34.428204Z",
     "iopub.status.idle": "2020-09-23T19:55:36.780912Z",
     "shell.execute_reply": "2020-09-23T19:55:36.779915Z",
     "shell.execute_reply.started": "2020-09-23T19:55:34.428204Z"
    }
   },
   "outputs": [],
   "source": [
    "import json\n",
    "with open('../data/processed/forms.txt', 'w') as outfile:\n",
    "    json.dump(form_dict, outfile)\n",
    "outfile.close() \n",
    "one_ts.to_csv('..\\data\\processed\\prelim_clean.csv')\n",
    "drugs.to_csv('..\\data\\processed\\drugs.csv')\n",
    "forms.to_csv('../data/processed/forms.csv')"
   ]
  },
  {
   "cell_type": "code",
   "execution_count": null,
   "metadata": {
    "execution": {
     "iopub.execute_input": "2020-09-22T17:50:56.631223Z",
     "iopub.status.busy": "2020-09-22T17:50:56.630193Z",
     "iopub.status.idle": "2020-09-22T17:50:56.755856Z",
     "shell.execute_reply": "2020-09-22T17:50:56.755856Z",
     "shell.execute_reply.started": "2020-09-22T17:50:56.631223Z"
    }
   },
   "outputs": [],
   "source": [
    "#numerical cols: usually more than 20 unique numbers\n",
    "#numerical_cols=['NACCAVST','NACCNVST','BRTHYR','EDUC', 'INBIRYR','SMOKYRS','QUITSMOK','HEIGHT','WEIGHT']\n",
    "numerical_cols=one_ts.columns[one_ts.nunique() > 10]\n",
    "others=['MMSEORDA','MMSEORLO','PENTAGON','NACCNRYR']\n",
    "numerical_cols=numerical_cols.append(pd.Index(others))"
   ]
  },
  {
   "cell_type": "code",
   "execution_count": null,
   "metadata": {
    "execution": {
     "iopub.execute_input": "2020-09-22T17:56:00.336267Z",
     "iopub.status.busy": "2020-09-22T17:56:00.336267Z",
     "iopub.status.idle": "2020-09-22T17:56:00.343246Z",
     "shell.execute_reply": "2020-09-22T17:56:00.342249Z",
     "shell.execute_reply.started": "2020-09-22T17:56:00.336267Z"
    }
   },
   "outputs": [],
   "source": [
    "numerical_cols"
   ]
  },
  {
   "cell_type": "markdown",
   "metadata": {},
   "source": [
    "## save numerical cols here"
   ]
  },
  {
   "cell_type": "code",
   "execution_count": null,
   "metadata": {
    "execution": {
     "iopub.execute_input": "2020-09-22T17:59:11.069870Z",
     "iopub.status.busy": "2020-09-22T17:59:11.069870Z",
     "iopub.status.idle": "2020-09-22T17:59:11.077823Z",
     "shell.execute_reply": "2020-09-22T17:59:11.076853Z",
     "shell.execute_reply.started": "2020-09-22T17:59:11.069870Z"
    }
   },
   "outputs": [],
   "source": [
    "pd.Series(numerical_cols,index=numerical_cols).to_csv('../data/processed/numerical_cols.csv', header=False)"
   ]
  },
  {
   "cell_type": "code",
   "execution_count": null,
   "metadata": {
    "execution": {
     "iopub.execute_input": "2020-09-21T17:43:30.729075Z",
     "iopub.status.busy": "2020-09-21T17:43:30.728077Z",
     "iopub.status.idle": "2020-09-21T17:45:44.854552Z",
     "shell.execute_reply": "2020-09-21T17:45:44.854552Z",
     "shell.execute_reply.started": "2020-09-21T17:43:30.729075Z"
    }
   },
   "outputs": [],
   "source": [
    "#and plot\n",
    "plt_cat(one_ts[one_ts.columns[~one_ts.columns.isin(numerical_cols)]],\"target\")"
   ]
  },
  {
   "cell_type": "code",
   "execution_count": null,
   "metadata": {
    "execution": {
     "iopub.execute_input": "2020-09-16T19:21:41.144093Z",
     "iopub.status.busy": "2020-09-16T19:21:41.144093Z",
     "iopub.status.idle": "2020-09-16T19:21:41.481191Z",
     "shell.execute_reply": "2020-09-16T19:21:41.480220Z",
     "shell.execute_reply.started": "2020-09-16T19:21:41.144093Z"
    }
   },
   "outputs": [],
   "source": [
    "#histogram of visit_interval\n",
    "sns.distplot(one_ts[\"visit_interval\"][one_ts[\"target\"]==0])\n",
    "sns.distplot(one_ts[\"visit_interval\"][one_ts[\"target\"]==1])\n",
    "len(one_ts.select_dtypes(include=['int64','float64']))==one_ts.shape[0]#check if everything is numeric"
   ]
  },
  {
   "cell_type": "code",
   "execution_count": null,
   "metadata": {
    "execution": {
     "iopub.execute_input": "2020-09-22T00:40:01.455842Z",
     "iopub.status.busy": "2020-09-22T00:40:01.455842Z",
     "iopub.status.idle": "2020-09-22T00:40:03.083645Z",
     "shell.execute_reply": "2020-09-22T00:40:03.083645Z",
     "shell.execute_reply.started": "2020-09-22T00:40:01.455842Z"
    }
   },
   "outputs": [],
   "source": [
    "#pearson correl for visualization\n",
    "n_ds =one_ts[numerical_cols]\n",
    "sum_corr = n_ds.corr().sum().sort_values(ascending=False).index.values\n",
    "plt.figure(figsize=(13, 13))\n",
    "sns.heatmap(n_ds[sum_corr].corr())\n",
    "#some variables are coding the same, we will have to drop: examples age & birthyear, drugnumber, bmi and weight\n"
   ]
  },
  {
   "cell_type": "code",
   "execution_count": null,
   "metadata": {
    "execution": {
     "iopub.execute_input": "2020-09-16T19:21:57.988063Z",
     "iopub.status.busy": "2020-09-16T19:21:57.988063Z",
     "iopub.status.idle": "2020-09-16T19:22:00.466467Z",
     "shell.execute_reply": "2020-09-16T19:22:00.465535Z",
     "shell.execute_reply.started": "2020-09-16T19:21:57.988063Z"
    }
   },
   "outputs": [],
   "source": [
    "#split numerical in training sets\n",
    "X_train, X_test, y_train, y_test = train_test_split(n_ds, one_ts['target'], test_size=0.35, random_state=1)\n",
    "# configure to select all features\n",
    "fs = feature_selection.SelectKBest(score_func=feature_selection.mutual_info_classif, k='all')\n",
    "# learn relationship from training data\n",
    "fs.fit(X_train, y_train)\n",
    "target_vec=fs.scores_"
   ]
  },
  {
   "cell_type": "code",
   "execution_count": null,
   "metadata": {
    "execution": {
     "iopub.execute_input": "2020-09-16T19:22:00.538244Z",
     "iopub.status.busy": "2020-09-16T19:22:00.538244Z",
     "iopub.status.idle": "2020-09-16T19:22:00.546223Z",
     "shell.execute_reply": "2020-09-16T19:22:00.545228Z",
     "shell.execute_reply.started": "2020-09-16T19:22:00.538244Z"
    }
   },
   "outputs": [],
   "source": [
    "def feature_drop(corr_matrix, target_vec):\n",
    "    corr_features=[]\n",
    "    for i in range(len(corr_matrix .columns)):\n",
    "        for j in range(i):\n",
    "            if abs(corr_matrix.iloc[i, j]) > 0.85:\n",
    "                if target_vec[i] > target_vec[j]:\n",
    "                    colname = corr_matrix.columns[j]\n",
    "                else:\n",
    "                    colname = corr_matrix.columns[i]\n",
    "\n",
    "                corr_features.append(colname)\n",
    "    return corr_features            \n"
   ]
  },
  {
   "cell_type": "code",
   "execution_count": null,
   "metadata": {
    "execution": {
     "iopub.execute_input": "2020-09-16T19:22:03.215088Z",
     "iopub.status.busy": "2020-09-16T19:22:03.215088Z",
     "iopub.status.idle": "2020-09-16T19:22:04.081795Z",
     "shell.execute_reply": "2020-09-16T19:22:04.080797Z",
     "shell.execute_reply.started": "2020-09-16T19:22:03.215088Z"
    }
   },
   "outputs": [],
   "source": [
    "to_drop_num=feature_drop(n_ds.corr(), target_vec)\n",
    "drop_useless(one_ts, np.unique(to_drop_num))\n",
    "drop_useless(n_ds, np.unique(to_drop_num))\n",
    "up_numerical_cols = set(numerical_cols).difference(np.unique(to_drop_num))\n",
    "\n",
    "len(to_drop_num)"
   ]
  },
  {
   "cell_type": "code",
   "execution_count": null,
   "metadata": {
    "execution": {
     "iopub.execute_input": "2020-09-22T00:40:20.281329Z",
     "iopub.status.busy": "2020-09-22T00:40:20.281329Z",
     "iopub.status.idle": "2020-09-22T00:42:53.258225Z",
     "shell.execute_reply": "2020-09-22T00:42:53.257256Z",
     "shell.execute_reply.started": "2020-09-22T00:40:20.281329Z"
    }
   },
   "outputs": [],
   "source": [
    "#plot numerical\n",
    "temp=n_ds.copy()\n",
    "temp['target']=one_ts['target']\n",
    "plt_cat(temp,\"target\")\n"
   ]
  },
  {
   "cell_type": "markdown",
   "metadata": {
    "execution": {
     "iopub.execute_input": "2020-09-22T17:01:59.723721Z",
     "iopub.status.busy": "2020-09-22T17:01:59.722723Z",
     "iopub.status.idle": "2020-09-22T17:01:59.726712Z",
     "shell.execute_reply": "2020-09-22T17:01:59.725730Z",
     "shell.execute_reply.started": "2020-09-22T17:01:59.723721Z"
    }
   },
   "source": [
    "## some tree tests"
   ]
  },
  {
   "cell_type": "code",
   "execution_count": null,
   "metadata": {
    "execution": {
     "iopub.execute_input": "2020-09-22T00:58:55.406914Z",
     "iopub.status.busy": "2020-09-22T00:58:55.406914Z",
     "iopub.status.idle": "2020-09-22T00:58:56.195843Z",
     "shell.execute_reply": "2020-09-22T00:58:56.195843Z",
     "shell.execute_reply.started": "2020-09-22T00:58:55.406914Z"
    }
   },
   "outputs": [],
   "source": [
    "#quick tree\n",
    "X_train, X_test, y_train, y_test = train_test_split(one_ts.drop(['target'], axis=1), one_ts['target'], test_size=0.35, random_state=1)\n",
    "model = DecisionTreeClassifier()\n",
    "model.fit(X_train,y_train)\n",
    "y_pred=model.predict(X_test)\n",
    "print(model.score(X_test, y_test))\n",
    "print(precision_score(y_test,y_pred))\n",
    "recall_score(y_test,y_pred)"
   ]
  },
  {
   "cell_type": "code",
   "execution_count": null,
   "metadata": {
    "execution": {
     "iopub.execute_input": "2020-09-22T01:00:27.026925Z",
     "iopub.status.busy": "2020-09-22T01:00:27.026925Z",
     "iopub.status.idle": "2020-09-22T01:01:24.826307Z",
     "shell.execute_reply": "2020-09-22T01:01:24.825343Z",
     "shell.execute_reply.started": "2020-09-22T01:00:27.026925Z"
    }
   },
   "outputs": [],
   "source": [
    "from sklearn import tree\n",
    "tree.plot_tree(model);"
   ]
  },
  {
   "cell_type": "code",
   "execution_count": null,
   "metadata": {
    "execution": {
     "iopub.execute_input": "2020-09-22T00:57:11.190621Z",
     "iopub.status.busy": "2020-09-22T00:57:11.190271Z",
     "iopub.status.idle": "2020-09-22T00:57:11.196687Z",
     "shell.execute_reply": "2020-09-22T00:57:11.195608Z",
     "shell.execute_reply.started": "2020-09-22T00:57:11.190621Z"
    }
   },
   "outputs": [],
   "source": [
    "one_ts.columns[556]"
   ]
  },
  {
   "cell_type": "code",
   "execution_count": null,
   "metadata": {
    "execution": {
     "iopub.execute_input": "2020-09-22T00:47:43.314278Z",
     "iopub.status.busy": "2020-09-22T00:47:43.313279Z",
     "iopub.status.idle": "2020-09-22T00:47:47.997789Z",
     "shell.execute_reply": "2020-09-22T00:47:47.996788Z",
     "shell.execute_reply.started": "2020-09-22T00:47:43.314278Z"
    }
   },
   "outputs": [],
   "source": [
    "#feature selection\n",
    "y= one_ts['target']\n",
    "X = one_ts.drop('target', axis=1)\n",
    "model = ExtraTreesClassifier()\n",
    "model.fit(X,y)\n",
    "#print(model.feature_importances_) #use inbuilt class feature_importances of tree based classifiers\n",
    "#plot graph of feature importances for better visualization\n",
    "feat_importances = pd.Series(model.feature_importances_, index=X.columns)\n",
    "feat_importances.nlargest(20).plot(kind='barh')\n",
    "plt.show()\n"
   ]
  },
  {
   "cell_type": "code",
   "execution_count": null,
   "metadata": {
    "execution": {
     "iopub.execute_input": "2020-09-22T00:48:21.078887Z",
     "iopub.status.busy": "2020-09-22T00:48:21.078887Z",
     "iopub.status.idle": "2020-09-22T00:48:21.255419Z",
     "shell.execute_reply": "2020-09-22T00:48:21.255419Z",
     "shell.execute_reply.started": "2020-09-22T00:48:21.078887Z"
    }
   },
   "outputs": [],
   "source": [
    "c='NEWINF'#'NACCAM'#NACCALZD\n",
    "target='target'\n",
    "df1 = one_ts.groupby(target)[c].value_counts(normalize=True)\n",
    "df1 = df1.rename('norm').reset_index()\n",
    "sns.barplot(x=c,y='norm',hue=target,data=df1)"
   ]
  },
  {
   "cell_type": "code",
   "execution_count": null,
   "metadata": {
    "execution": {
     "iopub.execute_input": "2020-09-22T00:49:27.266834Z",
     "iopub.status.busy": "2020-09-22T00:49:27.266834Z",
     "iopub.status.idle": "2020-09-22T00:49:27.271822Z",
     "shell.execute_reply": "2020-09-22T00:49:27.270824Z",
     "shell.execute_reply.started": "2020-09-22T00:49:27.266834Z"
    }
   },
   "outputs": [],
   "source": [
    "res=feat_importances.nlargest(100).index"
   ]
  },
  {
   "cell_type": "code",
   "execution_count": null,
   "metadata": {
    "execution": {
     "iopub.execute_input": "2020-09-22T00:49:16.636265Z",
     "iopub.status.busy": "2020-09-22T00:49:16.636265Z",
     "iopub.status.idle": "2020-09-22T00:49:16.744976Z",
     "shell.execute_reply": "2020-09-22T00:49:16.744976Z",
     "shell.execute_reply.started": "2020-09-22T00:49:16.636265Z"
    }
   },
   "outputs": [],
   "source": [
    "#quick tree restricted\n",
    "#quick tree\n",
    "X_train, X_test, y_train, y_test = train_test_split(one_ts[res.to_list()], one_ts['target'], test_size=0.35, random_state=1)\n",
    "model = DecisionTreeClassifier()\n",
    "model.fit(X_train,y_train)\n",
    "y_pred=model.predict(X_test)\n",
    "print(model.score(X_test, y_test))\n",
    "print(precision_score(y_test,y_pred))\n",
    "recall_score(y_test,y_pred)"
   ]
  },
  {
   "cell_type": "code",
   "execution_count": null,
   "metadata": {
    "execution": {
     "iopub.execute_input": "2020-09-18T01:06:31.358427Z",
     "iopub.status.busy": "2020-09-18T01:06:31.358427Z",
     "iopub.status.idle": "2020-09-18T01:06:31.478107Z",
     "shell.execute_reply": "2020-09-18T01:06:31.477108Z",
     "shell.execute_reply.started": "2020-09-18T01:06:31.358427Z"
    }
   },
   "outputs": [],
   "source": [
    "# res taken\n",
    "taken=one_ts[res.to_list()].drop(['NACCADMD','NACCAVST', 'NACCAM', 'NACCALZD','NACCALZP','INHISP','NEWINF'], axis=1)\n",
    "X_train, X_test, y_train, y_test = train_test_split(taken, one_ts['target'], test_size=0.5, random_state=1)\n",
    "model = DecisionTreeClassifier()\n",
    "model.fit(X_train,y_train)\n",
    "y_pred=model.predict(X_test)\n",
    "print(model.score(X_test, y_test))\n",
    "print(precision_score(y_test,y_pred))\n",
    "recall_score(y_test,y_pred)"
   ]
  },
  {
   "cell_type": "code",
   "execution_count": null,
   "metadata": {
    "execution": {
     "iopub.execute_input": "2020-09-17T00:09:57.779734Z",
     "iopub.status.busy": "2020-09-17T00:09:57.779734Z",
     "iopub.status.idle": "2020-09-17T00:09:57.916350Z",
     "shell.execute_reply": "2020-09-17T00:09:57.915396Z",
     "shell.execute_reply.started": "2020-09-17T00:09:57.779734Z"
    }
   },
   "outputs": [],
   "source": [
    "sns.countplot(one_ts['target'])"
   ]
  }
 ],
 "metadata": {
  "kernelspec": {
   "display_name": "AD",
   "language": "python",
   "name": "ad"
  },
  "language_info": {
   "codemirror_mode": {
    "name": "ipython",
    "version": 3
   },
   "file_extension": ".py",
   "mimetype": "text/x-python",
   "name": "python",
   "nbconvert_exporter": "python",
   "pygments_lexer": "ipython3",
   "version": "3.7.9"
  },
  "varInspector": {
   "cols": {
    "lenName": 16,
    "lenType": 16,
    "lenVar": 40
   },
   "kernels_config": {
    "python": {
     "delete_cmd_postfix": "",
     "delete_cmd_prefix": "del ",
     "library": "var_list.py",
     "varRefreshCmd": "print(var_dic_list())"
    },
    "r": {
     "delete_cmd_postfix": ") ",
     "delete_cmd_prefix": "rm(",
     "library": "var_list.r",
     "varRefreshCmd": "cat(var_dic_list()) "
    }
   },
   "oldHeight": 122.667,
   "position": {
    "height": "40px",
    "left": "886px",
    "right": "20px",
    "top": "526px",
    "width": "350px"
   },
   "types_to_exclude": [
    "module",
    "function",
    "builtin_function_or_method",
    "instance",
    "_Feature"
   ],
   "varInspector_section_display": "none",
   "window_display": true
  }
 },
 "nbformat": 4,
 "nbformat_minor": 4
}
