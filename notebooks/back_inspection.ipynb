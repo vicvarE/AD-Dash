{
 "cells": [
  {
   "cell_type": "code",
   "execution_count": null,
   "metadata": {
    "ExecuteTime": {
     "end_time": "2020-09-03T17:32:20.984828Z",
     "start_time": "2020-09-03T17:32:19.772067Z"
    },
    "execution": {
     "iopub.execute_input": "2020-09-18T01:46:16.104140Z",
     "iopub.status.busy": "2020-09-18T01:46:16.103144Z",
     "iopub.status.idle": "2020-09-18T01:46:16.110124Z",
     "shell.execute_reply": "2020-09-18T01:46:16.109128Z",
     "shell.execute_reply.started": "2020-09-18T01:46:16.104140Z"
    }
   },
   "outputs": [],
   "source": [
    "#imports\n",
    "import pandas as pd \n",
    "import numpy as np\n",
    "import matplotlib.pyplot as plt\n",
    "import seaborn as sns\n",
    "from sklearn import feature_selection\n",
    "from sklearn.model_selection import train_test_split\n",
    "from sklearn.ensemble import ExtraTreesClassifier\n",
    "from sklearn.tree import DecisionTreeClassifier\n",
    "from sklearn.metrics import recall_score\n",
    "from sklearn.metrics import precision_score\n",
    "from pivottablejs import pivot_ui"
   ]
  },
  {
   "cell_type": "code",
   "execution_count": null,
   "metadata": {
    "ExecuteTime": {
     "end_time": "2020-09-03T17:32:23.622769Z",
     "start_time": "2020-09-03T17:32:23.615787Z"
    },
    "execution": {
     "iopub.execute_input": "2020-09-16T19:15:01.337935Z",
     "iopub.status.busy": "2020-09-16T19:15:01.336938Z",
     "iopub.status.idle": "2020-09-16T19:15:01.344916Z",
     "shell.execute_reply": "2020-09-16T19:15:01.343918Z",
     "shell.execute_reply.started": "2020-09-16T19:15:01.336938Z"
    }
   },
   "outputs": [],
   "source": [
    "%matplotlib inline\n",
    "sns.set_palette(\"Set2\")"
   ]
  },
  {
   "cell_type": "code",
   "execution_count": null,
   "metadata": {
    "ExecuteTime": {
     "end_time": "2020-09-03T17:32:51.760524Z",
     "start_time": "2020-09-03T17:32:50.145841Z"
    },
    "execution": {
     "iopub.execute_input": "2020-09-18T01:40:28.038586Z",
     "iopub.status.busy": "2020-09-18T01:40:28.038586Z",
     "iopub.status.idle": "2020-09-18T01:40:30.411015Z",
     "shell.execute_reply": "2020-09-18T01:40:30.410049Z",
     "shell.execute_reply.started": "2020-09-18T01:40:28.038586Z"
    }
   },
   "outputs": [],
   "source": [
    "#load data\n",
    "raw_ds=pd.read_csv(r\"..\\data\\interim\\AD_MCI.csv\")\n"
   ]
  },
  {
   "cell_type": "code",
   "execution_count": null,
   "metadata": {
    "execution": {
     "iopub.execute_input": "2020-09-18T01:40:32.603816Z",
     "iopub.status.busy": "2020-09-18T01:40:32.602817Z",
     "iopub.status.idle": "2020-09-18T01:40:32.607807Z",
     "shell.execute_reply": "2020-09-18T01:40:32.606807Z",
     "shell.execute_reply.started": "2020-09-18T01:40:32.603816Z"
    }
   },
   "outputs": [],
   "source": [
    "#In this notebook: Focus 1st on most recent visit from demented diagnosis, drop nan columns\n",
    "#start variable cleaning/oneshoting(prob not efficient?)"
   ]
  },
  {
   "cell_type": "code",
   "execution_count": null,
   "metadata": {
    "ExecuteTime": {
     "end_time": "2020-09-03T18:01:25.504640Z",
     "start_time": "2020-09-03T18:01:24.898263Z"
    },
    "execution": {
     "iopub.execute_input": "2020-09-18T01:40:33.221550Z",
     "iopub.status.busy": "2020-09-18T01:40:33.221550Z",
     "iopub.status.idle": "2020-09-18T01:40:33.985013Z",
     "shell.execute_reply": "2020-09-18T01:40:33.985013Z",
     "shell.execute_reply.started": "2020-09-18T01:40:33.221550Z"
    }
   },
   "outputs": [],
   "source": [
    "#drop rows withvisit_interval == nan; \n",
    "#drop every row per id but latest recorded\n",
    "print(raw_ds.shape)\n",
    "one_ts=raw_ds[raw_ds['visit_interval'].notna()]\n",
    "print(one_ts.shape)\n",
    "grouped=one_ts.groupby('NACCID')\n",
    "max_i = grouped['NACCVNUM'].idxmax()\n",
    "one_ts=one_ts[one_ts.index.isin(max_i.values)]\n",
    "print(one_ts.shape)\n"
   ]
  },
  {
   "cell_type": "code",
   "execution_count": null,
   "metadata": {
    "execution": {
     "iopub.execute_input": "2020-09-18T01:40:50.695296Z",
     "iopub.status.busy": "2020-09-18T01:40:50.694297Z",
     "iopub.status.idle": "2020-09-18T01:40:50.780901Z",
     "shell.execute_reply": "2020-09-18T01:40:50.779905Z",
     "shell.execute_reply.started": "2020-09-18T01:40:50.695296Z"
    }
   },
   "outputs": [],
   "source": [
    "one_ts"
   ]
  },
  {
   "cell_type": "code",
   "execution_count": null,
   "metadata": {
    "ExecuteTime": {
     "end_time": "2020-09-03T18:06:47.458691Z",
     "start_time": "2020-09-03T18:06:47.452690Z"
    },
    "execution": {
     "iopub.execute_input": "2020-09-16T19:15:20.319191Z",
     "iopub.status.busy": "2020-09-16T19:15:20.319191Z",
     "iopub.status.idle": "2020-09-16T19:15:20.329162Z",
     "shell.execute_reply": "2020-09-16T19:15:20.328165Z",
     "shell.execute_reply.started": "2020-09-16T19:15:20.319191Z"
    }
   },
   "outputs": [],
   "source": [
    "#sanity check\n",
    "one_ts['NACCID'].nunique() == one_ts['NACCID'].size"
   ]
  },
  {
   "cell_type": "code",
   "execution_count": null,
   "metadata": {
    "ExecuteTime": {
     "end_time": "2020-09-03T18:43:44.938530Z",
     "start_time": "2020-09-03T18:43:43.859385Z"
    },
    "execution": {
     "iopub.execute_input": "2020-09-16T19:15:31.552160Z",
     "iopub.status.busy": "2020-09-16T19:15:31.551164Z",
     "iopub.status.idle": "2020-09-16T19:15:32.850686Z",
     "shell.execute_reply": "2020-09-16T19:15:32.849714Z",
     "shell.execute_reply.started": "2020-09-16T19:15:31.552160Z"
    }
   },
   "outputs": [],
   "source": [
    "#recheck distros\n",
    "f, axes = plt.subplots(1, 2, figsize=(12, 5))\n",
    "\n",
    "sns.boxenplot(x=\"NACCAVST\", y=\"visit_interval\", hue=\"target\",showfliers=0,\n",
    "            data=one_ts,ax=axes[0]); axes[0].set(ylim=(200, 1500))\n",
    "\n",
    "sns.countplot(x=\"NACCAVST\", hue=\"target\",\n",
    "            data=one_ts.groupby(['NACCID']).mean(),ax=axes[1]);\n",
    "#g.set_xticklabels(g.get_xticklabels(),rotation=45)\n",
    "labels = [label.get_text() for label in axes[1].get_xticklabels()];\n",
    "axes[1].set_xticklabels(map(lambda x: \"{:g}\".format(float(x)), labels));"
   ]
  },
  {
   "cell_type": "code",
   "execution_count": null,
   "metadata": {
    "ExecuteTime": {
     "end_time": "2020-09-03T18:08:56.157520Z",
     "start_time": "2020-09-03T18:08:56.035834Z"
    },
    "execution": {
     "iopub.execute_input": "2020-09-16T19:15:37.318744Z",
     "iopub.status.busy": "2020-09-16T19:15:37.318744Z",
     "iopub.status.idle": "2020-09-16T19:15:37.465349Z",
     "shell.execute_reply": "2020-09-16T19:15:37.464353Z",
     "shell.execute_reply.started": "2020-09-16T19:15:37.318744Z"
    }
   },
   "outputs": [],
   "source": [
    "one_ts=one_ts.dropna(axis=1,how='all')\n",
    "one_ts.describe"
   ]
  },
  {
   "cell_type": "code",
   "execution_count": null,
   "metadata": {
    "ExecuteTime": {
     "end_time": "2020-09-03T19:06:04.466342Z",
     "start_time": "2020-09-03T19:06:04.459363Z"
    },
    "execution": {
     "iopub.execute_input": "2020-09-16T19:15:41.673103Z",
     "iopub.status.busy": "2020-09-16T19:15:41.672106Z",
     "iopub.status.idle": "2020-09-16T19:15:41.680082Z",
     "shell.execute_reply": "2020-09-16T19:15:41.679086Z",
     "shell.execute_reply.started": "2020-09-16T19:15:41.673103Z"
    }
   },
   "outputs": [],
   "source": [
    "#nan time\n",
    "def summary(df):\n",
    "    summary = pd.DataFrame(df.dtypes, columns=['dtypes'])\n",
    "    summary = summary.reset_index()\n",
    "    summary['Name'] = summary['index']\n",
    "    summary = summary[['Name', 'dtypes']]\n",
    "    summary['Missing'] = df.isnull().sum().values    \n",
    "    summary['Missing%'] = (df.isnull().sum().values/df.shape[0])*100\n",
    "    summary['Uniques'] = df.nunique().values\n",
    "    summary=summary.sort_values(by=['Missing','Uniques'], ascending=[False, False])\n",
    "    return summary"
   ]
  },
  {
   "cell_type": "code",
   "execution_count": null,
   "metadata": {
    "ExecuteTime": {
     "end_time": "2020-09-03T21:51:57.085202Z",
     "start_time": "2020-09-03T21:51:56.817922Z"
    },
    "execution": {
     "iopub.execute_input": "2020-09-16T19:15:44.135520Z",
     "iopub.status.busy": "2020-09-16T19:15:44.134523Z",
     "iopub.status.idle": "2020-09-16T19:15:44.459652Z",
     "shell.execute_reply": "2020-09-16T19:15:44.459652Z",
     "shell.execute_reply.started": "2020-09-16T19:15:44.135520Z"
    }
   },
   "outputs": [],
   "source": [
    "#what are the nulls\n",
    "pd.set_option('display.min_rows', 500)\n",
    "summary(one_ts)"
   ]
  },
  {
   "cell_type": "code",
   "execution_count": null,
   "metadata": {
    "ExecuteTime": {
     "end_time": "2020-09-03T21:41:16.638850Z",
     "start_time": "2020-09-03T21:41:16.225954Z"
    },
    "execution": {
     "iopub.execute_input": "2020-09-16T19:15:49.365538Z",
     "iopub.status.busy": "2020-09-16T19:15:49.365538Z",
     "iopub.status.idle": "2020-09-16T19:15:49.840267Z",
     "shell.execute_reply": "2020-09-16T19:15:49.839270Z",
     "shell.execute_reply.started": "2020-09-16T19:15:49.365538Z"
    }
   },
   "outputs": [],
   "source": [
    "#handle the drugs\n",
    "one_ts['drug_count']=one_ts.loc[:,one_ts.columns.str.contains('DRUG')].apply(lambda x: x.count(), axis=1).copy()\n",
    "drugs=one_ts.loc[:,one_ts.columns.str.contains('DRUG')]\n",
    "#and drop the drugs\n",
    "one_ts=one_ts.loc[:,~one_ts.columns.str.contains('DRUG')]\n",
    "\n",
    "drugs.shape"
   ]
  },
  {
   "cell_type": "code",
   "execution_count": null,
   "metadata": {
    "ExecuteTime": {
     "end_time": "2020-09-03T21:51:52.286045Z",
     "start_time": "2020-09-03T21:51:52.052633Z"
    },
    "execution": {
     "iopub.execute_input": "2020-09-16T19:17:48.283623Z",
     "iopub.status.busy": "2020-09-16T19:17:48.282625Z",
     "iopub.status.idle": "2020-09-16T19:17:48.552961Z",
     "shell.execute_reply": "2020-09-16T19:17:48.552010Z",
     "shell.execute_reply.started": "2020-09-16T19:17:48.283623Z"
    }
   },
   "outputs": [],
   "source": [
    "#drop all other cols (ending with X)\n",
    "one_ts = one_ts.loc[:,~one_ts.columns.str.endswith('X')]\n",
    "#or go ahead and drop all columns with more than 20% nan\n",
    "one_ts=one_ts[one_ts.columns[one_ts.isnull().mean() < 0.2]]\n",
    "one_ts=one_ts[one_ts.columns[one_ts.nunique() < 1000]]"
   ]
  },
  {
   "cell_type": "code",
   "execution_count": null,
   "metadata": {
    "ExecuteTime": {
     "end_time": "2020-09-03T22:07:12.675707Z",
     "start_time": "2020-09-03T22:07:12.668728Z"
    },
    "execution": {
     "iopub.execute_input": "2020-09-16T20:04:24.994721Z",
     "iopub.status.busy": "2020-09-16T20:04:24.993719Z",
     "iopub.status.idle": "2020-09-16T20:04:25.002673Z",
     "shell.execute_reply": "2020-09-16T20:04:25.001695Z",
     "shell.execute_reply.started": "2020-09-16T20:04:24.994721Z"
    }
   },
   "outputs": [],
   "source": [
    "def plt_cat(df,target):\n",
    "    ix = 1\n",
    "    fig = plt.figure(figsize = (15,10))\n",
    "    for c in list(df.columns):\n",
    "        if ix <= 3:\n",
    "            if c != target:\n",
    "                ax1 = fig.add_subplot(2,3,ix)\n",
    "                #sns.countplot(data = df, x=c, hue=target, ax = ax1)\n",
    "                df1 = df.groupby(target)[c].value_counts(normalize=True)\n",
    "                df1 = df1.rename('norm').reset_index()\n",
    "                sns.barplot(x=c,y='norm',hue=target,data=df1,ax = ax1)\n",
    "                \n",
    "                ax2 = fig.add_subplot(2,3,ix+3)\n",
    "                #sns.violinplot(data=df, x=target, y=c, split=True, ax=ax2)\n",
    "                sns.boxenplot(data=df, x=target, y=c, ax=ax2)\n",
    "\n",
    "        ix = ix +1\n",
    "        if ix == 4: \n",
    "            fig = plt.figure(figsize = (15,10))\n",
    "            ix =1"
   ]
  },
  {
   "cell_type": "code",
   "execution_count": null,
   "metadata": {
    "ExecuteTime": {
     "end_time": "2020-09-03T22:07:22.733811Z",
     "start_time": "2020-09-03T22:07:13.902464Z"
    },
    "code_folding": []
   },
   "outputs": [],
   "source": [
    "#lets plot the remaing variables with nans\n",
    "t=one_ts[one_ts.columns[one_ts.isnull().mean() > 0]].copy()\n",
    "t['target']=one_ts[\"target\"]\n",
    "plt_cat(t,\"target\")"
   ]
  },
  {
   "cell_type": "code",
   "execution_count": null,
   "metadata": {
    "execution": {
     "iopub.execute_input": "2020-09-16T19:18:19.433348Z",
     "iopub.status.busy": "2020-09-16T19:18:19.432349Z",
     "iopub.status.idle": "2020-09-16T19:18:19.438334Z",
     "shell.execute_reply": "2020-09-16T19:18:19.437343Z",
     "shell.execute_reply.started": "2020-09-16T19:18:19.433348Z"
    }
   },
   "outputs": [],
   "source": [
    "#useless drop function\n",
    "def drop_useless(df, cols):\n",
    "    for c in cols:\n",
    "        if c in df.columns:\n",
    "            df.drop(c,axis=1,inplace=True)"
   ]
  },
  {
   "cell_type": "code",
   "execution_count": null,
   "metadata": {
    "ExecuteTime": {
     "end_time": "2020-09-03T22:19:37.452475Z",
     "start_time": "2020-09-03T22:14:48.937021Z"
    },
    "execution": {
     "iopub.execute_input": "2020-09-16T19:18:20.589257Z",
     "iopub.status.busy": "2020-09-16T19:18:20.588279Z",
     "iopub.status.idle": "2020-09-16T19:18:24.466893Z",
     "shell.execute_reply": "2020-09-16T19:18:24.465925Z",
     "shell.execute_reply.started": "2020-09-16T19:18:20.589257Z"
    }
   },
   "outputs": [],
   "source": [
    "#All these nan columns have the majority of data unavailable (-4) as they come from a merged table of brain autopsy details and majority of patients are alive or didn't donate their brain.\n",
    "#Therefore discard and let's look at the rest\n",
    "one_ts=one_ts[one_ts.columns[one_ts.isnull().mean() == 0]]\n",
    "#from here we can take out those with -4 and 0, vars with one number only, and vars that are part of the neuropathology database and most of genomic\n",
    "one_ts=one_ts.loc[:,~one_ts.columns.str.startswith(('ADGC','NGDS'))]\n",
    "cols=one_ts.loc[:,'NPFORMVER':'NACCINT'].columns\n",
    "useless=pd.Index(['NCDSWEAC', 'NACCNCRD'])\n",
    "cols=cols.append(useless)\n",
    "drop_useless(one_ts,cols)\n",
    "\n",
    "one_ts.drop(one_ts.columns[one_ts.nunique() == 1],axis=1,inplace=True)\n",
    "#where all is -4 and another number\n",
    "one_ts.drop(one_ts.columns[one_ts.nunique()==2] & one_ts.columns[one_ts.isin([-4]).any()],axis=1,inplace=True)"
   ]
  },
  {
   "cell_type": "code",
   "execution_count": null,
   "metadata": {
    "execution": {
     "iopub.execute_input": "2020-09-16T19:18:25.160037Z",
     "iopub.status.busy": "2020-09-16T19:18:25.159040Z",
     "iopub.status.idle": "2020-09-16T19:18:26.634096Z",
     "shell.execute_reply": "2020-09-16T19:18:26.633128Z",
     "shell.execute_reply.started": "2020-09-16T19:18:25.160037Z"
    }
   },
   "outputs": [],
   "source": [
    "#where there's only -4 unique per target?\n",
    "g = one_ts.groupby('target').agg(['unique'])\n",
    "g"
   ]
  },
  {
   "cell_type": "code",
   "execution_count": null,
   "metadata": {
    "execution": {
     "iopub.execute_input": "2020-09-16T19:21:07.623706Z",
     "iopub.status.busy": "2020-09-16T19:21:07.622708Z",
     "iopub.status.idle": "2020-09-16T19:21:08.674899Z",
     "shell.execute_reply": "2020-09-16T19:21:08.673934Z",
     "shell.execute_reply.started": "2020-09-16T19:21:07.623706Z"
    }
   },
   "outputs": [],
   "source": [
    "#useless/dangerous by inspection\n",
    "useless=['NACCADC','PACKET','FORMVER','VISITMO','VISITDAY','VISITYR','NACCVNUM','NACCCORE','NACCREAS','BIRTHMO','INBIRMO','INHISPOR','INRACE', 'INRASEC','INRATER','INEDUC','INKNOWN','NACCAMS','NACCFM','NACCFMS','NACCOM','NACCOMS','MACCFFTD','HATTMULT','HATTYEAR','NACCSTYR','TIAMULT','NACCTIYR','PDYR','PDOTHRYR','TBIYEAR','COGFLAGO','BEVHAGO','BEREMAGO', 'BEAGE','PARKAGE','MOAGE','ALSAGE','LOGIMO','LOGIDAY','LOFIYR','LOGIPREV','MOCAREAS','NORMCOG','DEMENTED','AMNDEM','PCA','NACCPPAG','PSPIF','NACCBEHF','NACCNRDY','NACCNRMO','NACCDSYR','NACCDSMO','NACCDSDY','NACCYOD','NACCMOD','LOGIYR','NACCIDEM','NACCDIED','NACCAUTP']\n",
    "\n",
    "drop_useless(one_ts,useless)\n"
   ]
  },
  {
   "cell_type": "code",
   "execution_count": null,
   "metadata": {
    "execution": {
     "iopub.execute_input": "2020-09-16T19:21:12.557517Z",
     "iopub.status.busy": "2020-09-16T19:21:12.557517Z",
     "iopub.status.idle": "2020-09-16T19:21:12.660253Z",
     "shell.execute_reply": "2020-09-16T19:21:12.659326Z",
     "shell.execute_reply.started": "2020-09-16T19:21:12.557517Z"
    }
   },
   "outputs": [],
   "source": [
    "#numerical cols: usually more than 20 unique numbers\n",
    "#numerical_cols=['NACCAVST','NACCNVST','BRTHYR','EDUC', 'INBIRYR','SMOKYRS','QUITSMOK','HEIGHT','WEIGHT']\n",
    "numerical_cols=one_ts.columns[one_ts.nunique() > 10]\n",
    "others=['MMSEORDA','MMSEORLO','PENTAGON','NACCNRYR']\n",
    "numerical_cols=numerical_cols.append(pd.Index(others))"
   ]
  },
  {
   "cell_type": "code",
   "execution_count": null,
   "metadata": {
    "execution": {
     "iopub.execute_input": "2020-09-16T19:21:13.297537Z",
     "iopub.status.busy": "2020-09-16T19:21:13.297537Z",
     "iopub.status.idle": "2020-09-16T19:21:13.304517Z",
     "shell.execute_reply": "2020-09-16T19:21:13.303547Z",
     "shell.execute_reply.started": "2020-09-16T19:21:13.297537Z"
    }
   },
   "outputs": [],
   "source": [
    "numerical_cols"
   ]
  },
  {
   "cell_type": "code",
   "execution_count": null,
   "metadata": {
    "jupyter": {
     "outputs_hidden": true
    }
   },
   "outputs": [],
   "source": [
    "#and plot\n",
    "plt_cat(one_ts[one_ts.columns[~one_ts.columns.isin(numerical_cols)]],\"target\")"
   ]
  },
  {
   "cell_type": "code",
   "execution_count": null,
   "metadata": {
    "execution": {
     "iopub.execute_input": "2020-09-16T19:21:41.144093Z",
     "iopub.status.busy": "2020-09-16T19:21:41.144093Z",
     "iopub.status.idle": "2020-09-16T19:21:41.481191Z",
     "shell.execute_reply": "2020-09-16T19:21:41.480220Z",
     "shell.execute_reply.started": "2020-09-16T19:21:41.144093Z"
    }
   },
   "outputs": [],
   "source": [
    "#histogram of visit_interval\n",
    "sns.distplot(one_ts[\"visit_interval\"][one_ts[\"target\"]==0])\n",
    "sns.distplot(one_ts[\"visit_interval\"][one_ts[\"target\"]==1])\n",
    "len(one_ts.select_dtypes(include=['int64','float64']))==one_ts.shape[0]#check if everything is numeric"
   ]
  },
  {
   "cell_type": "code",
   "execution_count": null,
   "metadata": {
    "execution": {
     "iopub.execute_input": "2020-09-16T19:21:52.383047Z",
     "iopub.status.busy": "2020-09-16T19:21:52.382050Z",
     "iopub.status.idle": "2020-09-16T19:21:53.471168Z",
     "shell.execute_reply": "2020-09-16T19:21:53.470170Z",
     "shell.execute_reply.started": "2020-09-16T19:21:52.382050Z"
    }
   },
   "outputs": [],
   "source": [
    "#pearson correl for visualization\n",
    "n_ds =one_ts[numerical_cols]\n",
    "sum_corr = n_ds.corr().sum().sort_values(ascending=False).index.values\n",
    "plt.figure(figsize=(13, 13))\n",
    "sns.heatmap(n_ds[sum_corr].corr())\n",
    "#some variables are coding the same, we will have to drop: examples age & birthyear, drugnumber, bmi and weight\n"
   ]
  },
  {
   "cell_type": "code",
   "execution_count": null,
   "metadata": {
    "execution": {
     "iopub.execute_input": "2020-09-16T19:21:57.988063Z",
     "iopub.status.busy": "2020-09-16T19:21:57.988063Z",
     "iopub.status.idle": "2020-09-16T19:22:00.466467Z",
     "shell.execute_reply": "2020-09-16T19:22:00.465535Z",
     "shell.execute_reply.started": "2020-09-16T19:21:57.988063Z"
    }
   },
   "outputs": [],
   "source": [
    "#split numerical in training sets\n",
    "X_train, X_test, y_train, y_test = train_test_split(n_ds, one_ts['target'], test_size=0.35, random_state=1)\n",
    "# configure to select all features\n",
    "fs = feature_selection.SelectKBest(score_func=feature_selection.mutual_info_classif, k='all')\n",
    "# learn relationship from training data\n",
    "fs.fit(X_train, y_train)\n",
    "target_vec=fs.scores_"
   ]
  },
  {
   "cell_type": "code",
   "execution_count": null,
   "metadata": {
    "execution": {
     "iopub.execute_input": "2020-09-16T19:22:00.538244Z",
     "iopub.status.busy": "2020-09-16T19:22:00.538244Z",
     "iopub.status.idle": "2020-09-16T19:22:00.546223Z",
     "shell.execute_reply": "2020-09-16T19:22:00.545228Z",
     "shell.execute_reply.started": "2020-09-16T19:22:00.538244Z"
    }
   },
   "outputs": [],
   "source": [
    "def feature_drop(corr_matrix, target_vec):\n",
    "    corr_features=[]\n",
    "    for i in range(len(corr_matrix .columns)):\n",
    "        for j in range(i):\n",
    "            if abs(corr_matrix.iloc[i, j]) > 0.85:\n",
    "                if target_vec[i] > target_vec[j]:\n",
    "                    colname = corr_matrix.columns[j]\n",
    "                else:\n",
    "                    colname = corr_matrix.columns[i]\n",
    "\n",
    "                corr_features.append(colname)\n",
    "    return corr_features            \n"
   ]
  },
  {
   "cell_type": "code",
   "execution_count": null,
   "metadata": {
    "execution": {
     "iopub.execute_input": "2020-09-16T19:22:03.215088Z",
     "iopub.status.busy": "2020-09-16T19:22:03.215088Z",
     "iopub.status.idle": "2020-09-16T19:22:04.081795Z",
     "shell.execute_reply": "2020-09-16T19:22:04.080797Z",
     "shell.execute_reply.started": "2020-09-16T19:22:03.215088Z"
    }
   },
   "outputs": [],
   "source": [
    "to_drop_num=feature_drop(n_ds.corr(), target_vec)\n",
    "drop_useless(one_ts, np.unique(to_drop_num))\n",
    "drop_useless(n_ds, np.unique(to_drop_num))\n",
    "up_numerical_cols = set(numerical_cols).difference(np.unique(to_drop_num))\n",
    "\n",
    "len(to_drop_num)"
   ]
  },
  {
   "cell_type": "code",
   "execution_count": null,
   "metadata": {
    "execution": {
     "iopub.execute_input": "2020-09-16T20:04:31.426502Z",
     "iopub.status.busy": "2020-09-16T20:04:31.425504Z",
     "iopub.status.idle": "2020-09-16T20:05:51.563277Z",
     "shell.execute_reply": "2020-09-16T20:05:51.562266Z",
     "shell.execute_reply.started": "2020-09-16T20:04:31.426502Z"
    }
   },
   "outputs": [],
   "source": [
    "#plot numerical\n",
    "temp=n_ds.copy()\n",
    "temp['target']=one_ts['target']\n",
    "plt_cat(temp,\"target\")\n"
   ]
  },
  {
   "cell_type": "code",
   "execution_count": null,
   "metadata": {},
   "outputs": [],
   "source": [
    "#other exclussions\n"
   ]
  },
  {
   "cell_type": "code",
   "execution_count": null,
   "metadata": {
    "execution": {
     "iopub.execute_input": "2020-09-16T23:44:34.516893Z",
     "iopub.status.busy": "2020-09-16T23:44:34.516893Z",
     "iopub.status.idle": "2020-09-16T23:44:34.635563Z",
     "shell.execute_reply": "2020-09-16T23:44:34.634598Z",
     "shell.execute_reply.started": "2020-09-16T23:44:34.516893Z"
    }
   },
   "outputs": [],
   "source": [
    "#quick tree\n",
    "X_train, X_test, y_train, y_test = train_test_split(one_ts, one_ts['target'], test_size=0.35, random_state=1)\n",
    "model = DecisionTreeClassifier()\n",
    "model.fit(X_train,y_train)\n",
    "print(model.score(X_test, y_test))"
   ]
  },
  {
   "cell_type": "code",
   "execution_count": null,
   "metadata": {
    "execution": {
     "iopub.execute_input": "2020-09-17T00:27:45.207151Z",
     "iopub.status.busy": "2020-09-17T00:27:45.207151Z",
     "iopub.status.idle": "2020-09-17T00:27:48.511479Z",
     "shell.execute_reply": "2020-09-17T00:27:48.510515Z",
     "shell.execute_reply.started": "2020-09-17T00:27:45.207151Z"
    }
   },
   "outputs": [],
   "source": [
    "#feature selection\n",
    "y= one_ts['target']\n",
    "X = one_ts.drop('target', axis=1)\n",
    "model = ExtraTreesClassifier()\n",
    "model.fit(X,y)\n",
    "#print(model.feature_importances_) #use inbuilt class feature_importances of tree based classifiers\n",
    "#plot graph of feature importances for better visualization\n",
    "feat_importances = pd.Series(model.feature_importances_, index=X.columns)\n",
    "feat_importances.nlargest(50).plot(kind='barh')\n",
    "plt.show()\n"
   ]
  },
  {
   "cell_type": "code",
   "execution_count": null,
   "metadata": {
    "execution": {
     "iopub.execute_input": "2020-09-17T00:24:42.657632Z",
     "iopub.status.busy": "2020-09-17T00:24:42.656636Z",
     "iopub.status.idle": "2020-09-17T00:24:42.879180Z",
     "shell.execute_reply": "2020-09-17T00:24:42.878182Z",
     "shell.execute_reply.started": "2020-09-17T00:24:42.656636Z"
    }
   },
   "outputs": [],
   "source": [
    "c='INHISP'#'NACCAM'#NACCALZD\n",
    "target='target'\n",
    "df1 = one_ts.groupby(target)[c].value_counts(normalize=True)\n",
    "df1 = df1.rename('norm').reset_index()\n",
    "sns.barplot(x=c,y='norm',hue=target,data=df1)"
   ]
  },
  {
   "cell_type": "code",
   "execution_count": null,
   "metadata": {
    "execution": {
     "iopub.execute_input": "2020-09-16T23:33:56.987086Z",
     "iopub.status.busy": "2020-09-16T23:33:56.987086Z",
     "iopub.status.idle": "2020-09-16T23:33:57.178553Z",
     "shell.execute_reply": "2020-09-16T23:33:57.177592Z",
     "shell.execute_reply.started": "2020-09-16T23:33:56.987086Z"
    }
   },
   "outputs": [],
   "source": [
    "#sns.boxenplot(data=one_ts, x='target',y='NACCADMD' )\n",
    "c='NACCADMD'\n",
    "target='target'\n",
    "df1 = one_ts.groupby(target)[c].value_counts(normalize=True)\n",
    "df1 = df1.rename('norm').reset_index()\n",
    "sns.barplot(x=c,y='norm',hue=target,data=df1)"
   ]
  },
  {
   "cell_type": "code",
   "execution_count": null,
   "metadata": {
    "execution": {
     "iopub.execute_input": "2020-09-16T23:45:46.316860Z",
     "iopub.status.busy": "2020-09-16T23:45:46.316860Z",
     "iopub.status.idle": "2020-09-16T23:45:46.322815Z",
     "shell.execute_reply": "2020-09-16T23:45:46.321817Z",
     "shell.execute_reply.started": "2020-09-16T23:45:46.316860Z"
    }
   },
   "outputs": [],
   "source": [
    "res=feat_importances.nlargest(50).index"
   ]
  },
  {
   "cell_type": "code",
   "execution_count": null,
   "metadata": {
    "execution": {
     "iopub.execute_input": "2020-09-18T01:06:18.602754Z",
     "iopub.status.busy": "2020-09-18T01:06:18.601755Z",
     "iopub.status.idle": "2020-09-18T01:06:18.756626Z",
     "shell.execute_reply": "2020-09-18T01:06:18.755628Z",
     "shell.execute_reply.started": "2020-09-18T01:06:18.602754Z"
    }
   },
   "outputs": [],
   "source": [
    "#quick tree restricted\n",
    "#quick tree\n",
    "X_train, X_test, y_train, y_test = train_test_split(one_ts[res.to_list()], one_ts['target'], test_size=0.35, random_state=1)\n",
    "model = DecisionTreeClassifier()\n",
    "model.fit(X_train,y_train)\n",
    "y_pred=model.predict(X_test)\n",
    "print(model.score(X_test, y_test))\n",
    "print(precision_score(y_test,y_pred))\n",
    "recall_score(y_test,y_pred)"
   ]
  },
  {
   "cell_type": "code",
   "execution_count": null,
   "metadata": {
    "execution": {
     "iopub.execute_input": "2020-09-18T01:06:31.358427Z",
     "iopub.status.busy": "2020-09-18T01:06:31.358427Z",
     "iopub.status.idle": "2020-09-18T01:06:31.478107Z",
     "shell.execute_reply": "2020-09-18T01:06:31.477108Z",
     "shell.execute_reply.started": "2020-09-18T01:06:31.358427Z"
    }
   },
   "outputs": [],
   "source": [
    "# res taken\n",
    "taken=one_ts[res.to_list()].drop(['NACCADMD','NACCAVST', 'NACCAM', 'NACCALZD','NACCALZP','INHISP','NEWINF'], axis=1)\n",
    "X_train, X_test, y_train, y_test = train_test_split(taken, one_ts['target'], test_size=0.5, random_state=1)\n",
    "model = DecisionTreeClassifier()\n",
    "model.fit(X_train,y_train)\n",
    "y_pred=model.predict(X_test)\n",
    "print(model.score(X_test, y_test))\n",
    "print(precision_score(y_test,y_pred))\n",
    "recall_score(y_test,y_pred)"
   ]
  },
  {
   "cell_type": "code",
   "execution_count": null,
   "metadata": {
    "execution": {
     "iopub.execute_input": "2020-09-17T00:09:57.779734Z",
     "iopub.status.busy": "2020-09-17T00:09:57.779734Z",
     "iopub.status.idle": "2020-09-17T00:09:57.916350Z",
     "shell.execute_reply": "2020-09-17T00:09:57.915396Z",
     "shell.execute_reply.started": "2020-09-17T00:09:57.779734Z"
    }
   },
   "outputs": [],
   "source": [
    "sns.countplot(one_ts['target'])"
   ]
  },
  {
   "cell_type": "code",
   "execution_count": null,
   "metadata": {
    "execution": {
     "iopub.execute_input": "2020-09-17T17:50:11.275435Z",
     "iopub.status.busy": "2020-09-17T17:50:11.274436Z",
     "iopub.status.idle": "2020-09-17T17:50:16.584241Z",
     "shell.execute_reply": "2020-09-17T17:50:16.583270Z",
     "shell.execute_reply.started": "2020-09-17T17:50:11.275435Z"
    }
   },
   "outputs": [],
   "source": [
    "from factor_analyzer.factor_analyzer import calculate_kmo\n",
    "kmo_all,kmo_model=calculate_kmo(one_ts)\n",
    "kmo_model\n"
   ]
  },
  {
   "cell_type": "code",
   "execution_count": null,
   "metadata": {
    "execution": {
     "iopub.execute_input": "2020-09-17T17:58:42.468306Z",
     "iopub.status.busy": "2020-09-17T17:58:42.467309Z",
     "iopub.status.idle": "2020-09-17T18:01:43.451382Z",
     "shell.execute_reply": "2020-09-17T18:01:43.450385Z",
     "shell.execute_reply.started": "2020-09-17T17:58:42.468306Z"
    },
    "jupyter": {
     "outputs_hidden": true
    }
   },
   "outputs": [],
   "source": [
    "from factor_analyzer import analyze\n",
    "\n",
    "fa = FactorAnalyzer(rotation=None)\n",
    "fa.fit(one_ts)\n",
    "# Check Eigenvalues\n",
    "ev, v = fa.get_eigenvalues()\n",
    "ev"
   ]
  },
  {
   "cell_type": "code",
   "execution_count": null,
   "metadata": {
    "execution": {
     "iopub.execute_input": "2020-09-17T19:10:47.294506Z",
     "iopub.status.busy": "2020-09-17T19:10:47.293508Z",
     "iopub.status.idle": "2020-09-17T19:10:47.463052Z",
     "shell.execute_reply": "2020-09-17T19:10:47.463052Z",
     "shell.execute_reply.started": "2020-09-17T19:10:47.294506Z"
    }
   },
   "outputs": [],
   "source": [
    "plt.plot(range(1,one_ts.shape[1]+1),ev)\n",
    "plt.xlim([0, 20])"
   ]
  },
  {
   "cell_type": "code",
   "execution_count": null,
   "metadata": {
    "execution": {
     "iopub.execute_input": "2020-09-17T19:12:22.433160Z",
     "iopub.status.busy": "2020-09-17T19:12:22.433160Z",
     "iopub.status.idle": "2020-09-17T19:16:02.278425Z",
     "shell.execute_reply": "2020-09-17T19:16:02.277427Z",
     "shell.execute_reply.started": "2020-09-17T19:12:22.433160Z"
    }
   },
   "outputs": [],
   "source": [
    "fa = FactorAnalyzer(10, rotation='varimax')\n",
    "fa.fit(one_ts)\n",
    "loads = fa.loadings_\n",
    "print(loads)"
   ]
  },
  {
   "cell_type": "code",
   "execution_count": null,
   "metadata": {
    "execution": {
     "iopub.execute_input": "2020-09-17T19:22:07.552930Z",
     "iopub.status.busy": "2020-09-17T19:22:07.552930Z",
     "iopub.status.idle": "2020-09-17T19:22:07.559881Z",
     "shell.execute_reply": "2020-09-17T19:22:07.558884Z",
     "shell.execute_reply.started": "2020-09-17T19:22:07.552930Z"
    }
   },
   "outputs": [],
   "source": [
    "loads.shape"
   ]
  },
  {
   "cell_type": "code",
   "execution_count": null,
   "metadata": {
    "execution": {
     "iopub.execute_input": "2020-09-17T19:24:40.923907Z",
     "iopub.status.busy": "2020-09-17T19:24:40.923907Z",
     "iopub.status.idle": "2020-09-17T19:24:40.928864Z",
     "shell.execute_reply": "2020-09-17T19:24:40.927892Z",
     "shell.execute_reply.started": "2020-09-17T19:24:40.923907Z"
    }
   },
   "outputs": [],
   "source": [
    "filt_loads=np.argwhere(loads>.5)"
   ]
  },
  {
   "cell_type": "code",
   "execution_count": null,
   "metadata": {
    "execution": {
     "iopub.execute_input": "2020-09-17T19:25:05.619856Z",
     "iopub.status.busy": "2020-09-17T19:25:05.618860Z",
     "iopub.status.idle": "2020-09-17T19:25:05.625839Z",
     "shell.execute_reply": "2020-09-17T19:25:05.624848Z",
     "shell.execute_reply.started": "2020-09-17T19:25:05.619856Z"
    }
   },
   "outputs": [],
   "source": [
    "filt_loads.shape"
   ]
  },
  {
   "cell_type": "code",
   "execution_count": null,
   "metadata": {
    "execution": {
     "iopub.execute_input": "2020-09-17T19:27:02.111427Z",
     "iopub.status.busy": "2020-09-17T19:27:02.111427Z",
     "iopub.status.idle": "2020-09-17T19:27:02.119406Z",
     "shell.execute_reply": "2020-09-17T19:27:02.119406Z",
     "shell.execute_reply.started": "2020-09-17T19:27:02.111427Z"
    }
   },
   "outputs": [],
   "source": [
    "a=np.argmax(loads, axis=0)\n",
    "a"
   ]
  },
  {
   "cell_type": "code",
   "execution_count": null,
   "metadata": {
    "execution": {
     "iopub.execute_input": "2020-09-17T19:28:38.401009Z",
     "iopub.status.busy": "2020-09-17T19:28:38.401009Z",
     "iopub.status.idle": "2020-09-17T19:28:38.407990Z",
     "shell.execute_reply": "2020-09-17T19:28:38.406991Z",
     "shell.execute_reply.started": "2020-09-17T19:28:38.401009Z"
    }
   },
   "outputs": [],
   "source": [
    "one_ts.columns[a]"
   ]
  },
  {
   "cell_type": "code",
   "execution_count": null,
   "metadata": {
    "execution": {
     "iopub.execute_input": "2020-09-17T20:27:17.856769Z",
     "iopub.status.busy": "2020-09-17T20:27:17.855619Z",
     "iopub.status.idle": "2020-09-17T20:27:17.904626Z",
     "shell.execute_reply": "2020-09-17T20:27:17.903631Z",
     "shell.execute_reply.started": "2020-09-17T20:27:17.856769Z"
    }
   },
   "outputs": [],
   "source": [
    "dd=pd.read_csv(r\"..\\docs\\rdd_datadictionary_uds.csv\")"
   ]
  },
  {
   "cell_type": "code",
   "execution_count": null,
   "metadata": {
    "execution": {
     "iopub.execute_input": "2020-09-17T20:27:20.110605Z",
     "iopub.status.busy": "2020-09-17T20:27:20.110605Z",
     "iopub.status.idle": "2020-09-17T20:27:20.159474Z",
     "shell.execute_reply": "2020-09-17T20:27:20.158476Z",
     "shell.execute_reply.started": "2020-09-17T20:27:20.110605Z"
    },
    "jupyter": {
     "outputs_hidden": true
    }
   },
   "outputs": [],
   "source": [
    "dd"
   ]
  },
  {
   "cell_type": "code",
   "execution_count": null,
   "metadata": {
    "execution": {
     "iopub.execute_input": "2020-09-17T20:29:58.896853Z",
     "iopub.status.busy": "2020-09-17T20:29:58.896853Z",
     "iopub.status.idle": "2020-09-17T20:29:58.905830Z",
     "shell.execute_reply": "2020-09-17T20:29:58.904832Z",
     "shell.execute_reply.started": "2020-09-17T20:29:58.896853Z"
    }
   },
   "outputs": [],
   "source": [
    "dd.DataType.unique()"
   ]
  },
  {
   "cell_type": "code",
   "execution_count": null,
   "metadata": {
    "execution": {
     "iopub.execute_input": "2020-09-17T20:31:01.560775Z",
     "iopub.status.busy": "2020-09-17T20:31:01.559777Z",
     "iopub.status.idle": "2020-09-17T20:31:01.568753Z",
     "shell.execute_reply": "2020-09-17T20:31:01.567756Z",
     "shell.execute_reply.started": "2020-09-17T20:31:01.559777Z"
    }
   },
   "outputs": [],
   "source": [
    "dd.Form.unique()"
   ]
  },
  {
   "cell_type": "code",
   "execution_count": null,
   "metadata": {
    "execution": {
     "iopub.execute_input": "2020-09-17T20:36:21.624858Z",
     "iopub.status.busy": "2020-09-17T20:36:21.624858Z",
     "iopub.status.idle": "2020-09-17T20:36:21.648795Z",
     "shell.execute_reply": "2020-09-17T20:36:21.647797Z",
     "shell.execute_reply.started": "2020-09-17T20:36:21.624858Z"
    },
    "jupyter": {
     "outputs_hidden": true
    }
   },
   "outputs": [],
   "source": [
    "pd.set_option('display.max_rows', dd.shape[0]+1)\n",
    "print(dd.AllowableCodes)"
   ]
  },
  {
   "cell_type": "code",
   "execution_count": null,
   "metadata": {
    "execution": {
     "iopub.execute_input": "2020-09-17T20:47:39.962030Z",
     "iopub.status.busy": "2020-09-17T20:47:39.962030Z",
     "iopub.status.idle": "2020-09-17T20:47:39.970008Z",
     "shell.execute_reply": "2020-09-17T20:47:39.969017Z",
     "shell.execute_reply.started": "2020-09-17T20:47:39.962030Z"
    }
   },
   "outputs": [],
   "source": [
    "one_ts.shape"
   ]
  },
  {
   "cell_type": "code",
   "execution_count": null,
   "metadata": {
    "execution": {
     "iopub.execute_input": "2020-09-18T01:46:30.591820Z",
     "iopub.status.busy": "2020-09-18T01:46:30.591820Z",
     "iopub.status.idle": "2020-09-18T01:46:32.517278Z",
     "shell.execute_reply": "2020-09-18T01:46:32.516309Z",
     "shell.execute_reply.started": "2020-09-18T01:46:30.591820Z"
    }
   },
   "outputs": [],
   "source": [
    "pivot_ui(one_ts)"
   ]
  },
  {
   "cell_type": "code",
   "execution_count": null,
   "metadata": {},
   "outputs": [],
   "source": []
  }
 ],
 "metadata": {
  "kernelspec": {
   "display_name": "AD",
   "language": "python",
   "name": "ad"
  },
  "language_info": {
   "codemirror_mode": {
    "name": "ipython",
    "version": 3
   },
   "file_extension": ".py",
   "mimetype": "text/x-python",
   "name": "python",
   "nbconvert_exporter": "python",
   "pygments_lexer": "ipython3",
   "version": "3.7.9"
  },
  "varInspector": {
   "cols": {
    "lenName": 16,
    "lenType": 16,
    "lenVar": 40
   },
   "kernels_config": {
    "python": {
     "delete_cmd_postfix": "",
     "delete_cmd_prefix": "del ",
     "library": "var_list.py",
     "varRefreshCmd": "print(var_dic_list())"
    },
    "r": {
     "delete_cmd_postfix": ") ",
     "delete_cmd_prefix": "rm(",
     "library": "var_list.r",
     "varRefreshCmd": "cat(var_dic_list()) "
    }
   },
   "oldHeight": 122.667,
   "position": {
    "height": "40px",
    "left": "886px",
    "right": "20px",
    "top": "526px",
    "width": "350px"
   },
   "types_to_exclude": [
    "module",
    "function",
    "builtin_function_or_method",
    "instance",
    "_Feature"
   ],
   "varInspector_section_display": "none",
   "window_display": true
  }
 },
 "nbformat": 4,
 "nbformat_minor": 4
}
