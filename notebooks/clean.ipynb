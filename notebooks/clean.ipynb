{
 "cells": [
  {
   "cell_type": "code",
   "execution_count": null,
   "metadata": {
    "execution": {
     "iopub.execute_input": "2020-09-20T22:01:48.564049Z",
     "iopub.status.busy": "2020-09-20T22:01:48.564049Z",
     "iopub.status.idle": "2020-09-20T22:01:48.569035Z",
     "shell.execute_reply": "2020-09-20T22:01:48.568038Z",
     "shell.execute_reply.started": "2020-09-20T22:01:48.564049Z"
    }
   },
   "outputs": [],
   "source": [
    "#imports\n",
    "import pandas as pd \n",
    "import numpy as np"
   ]
  },
  {
   "cell_type": "code",
   "execution_count": null,
   "metadata": {
    "execution": {
     "iopub.execute_input": "2020-09-20T22:01:49.462647Z",
     "iopub.status.busy": "2020-09-20T22:01:49.461649Z",
     "iopub.status.idle": "2020-09-20T22:01:50.592626Z",
     "shell.execute_reply": "2020-09-20T22:01:50.592626Z",
     "shell.execute_reply.started": "2020-09-20T22:01:49.462647Z"
    }
   },
   "outputs": [],
   "source": [
    "raw_ds=pd.read_csv(r\"..\\data\\raw\\dummy.csv\")"
   ]
  },
  {
   "cell_type": "code",
   "execution_count": null,
   "metadata": {
    "execution": {
     "iopub.execute_input": "2020-09-20T22:01:56.753156Z",
     "iopub.status.busy": "2020-09-20T22:01:56.753156Z",
     "iopub.status.idle": "2020-09-20T22:01:56.822971Z",
     "shell.execute_reply": "2020-09-20T22:01:56.821976Z",
     "shell.execute_reply.started": "2020-09-20T22:01:56.753156Z"
    },
    "jupyter": {
     "outputs_hidden": true
    }
   },
   "outputs": [],
   "source": [
    "raw_ds"
   ]
  },
  {
   "cell_type": "code",
   "execution_count": null,
   "metadata": {
    "execution": {
     "iopub.execute_input": "2020-09-20T22:02:34.597982Z",
     "iopub.status.busy": "2020-09-20T22:02:34.596984Z",
     "iopub.status.idle": "2020-09-20T22:02:35.143523Z",
     "shell.execute_reply": "2020-09-20T22:02:35.143523Z",
     "shell.execute_reply.started": "2020-09-20T22:02:34.597982Z"
    }
   },
   "outputs": [],
   "source": [
    "#consolidate data only collected on initial visit and given -4 later on\n",
    "#find cols, rows where -4 exists\n",
    "reduced= raw_ds.loc[raw_ds['NACCVNUM']!=1]\n",
    "nan_bool=reduced.where(reduced.eq(-4)).stack().index.values #fastest;\n",
    "nan_ind = np.unique([ seq[0] for seq in nan_bool ])\n",
    "#find 1st visit values  of those columns. do all patients have a first visit? sanity chk\n",
    "first_visit=raw_ds.loc[raw_ds['NACCVNUM']==1]\n",
    "print(raw_ds.NACCID.nunique()==first_visit.NACCID.nunique())\n",
    "#replace per group\n",
    "con_raw_ds=raw_ds.copy()\n",
    "for n in raw_ds.NACCID.unique():\n",
    "    temp=raw_ds.loc[raw_ds.NACCID==n]#for each NACCID find its rows\n",
    "    nan_match=np.intersect1d(nan_ind,temp.index) #if it has row/cols in nan_ind\n",
    "    if len(nan_match)>0:\n",
    "        temp2=first_visit.loc[first_visit.NACCID==n]\n",
    "        for nm in nan_match:\n",
    "            cols=[x[1] for x in nan_bool if x[0] == nm] \n",
    "            #reduce the col number\n",
    "            red_cols=temp2[cols].columns[(temp2[cols] !=-4).iloc[0]]\n",
    "            #replace by corresponding values in first visit\n",
    "            con_raw_ds.loc[nm,red_cols]=temp2[red_cols].values[0]"
   ]
  },
  {
   "cell_type": "code",
   "execution_count": null,
   "metadata": {},
   "outputs": [],
   "source": []
  }
 ],
 "metadata": {
  "kernelspec": {
   "display_name": "AD",
   "language": "python",
   "name": "ad"
  },
  "language_info": {
   "codemirror_mode": {
    "name": "ipython",
    "version": 3
   },
   "file_extension": ".py",
   "mimetype": "text/x-python",
   "name": "python",
   "nbconvert_exporter": "python",
   "pygments_lexer": "ipython3",
   "version": "3.7.9"
  }
 },
 "nbformat": 4,
 "nbformat_minor": 4
}
