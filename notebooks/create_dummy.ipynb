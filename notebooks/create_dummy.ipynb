{
 "cells": [
  {
   "cell_type": "code",
   "execution_count": null,
   "metadata": {
    "execution": {
     "iopub.execute_input": "2020-09-20T21:58:50.970827Z",
     "iopub.status.busy": "2020-09-20T21:58:50.969829Z",
     "iopub.status.idle": "2020-09-20T21:58:50.975813Z",
     "shell.execute_reply": "2020-09-20T21:58:50.974817Z",
     "shell.execute_reply.started": "2020-09-20T21:58:50.970827Z"
    }
   },
   "outputs": [],
   "source": [
    "#imports\n",
    "import pandas as pd \n",
    "import numpy as np"
   ]
  },
  {
   "cell_type": "code",
   "execution_count": null,
   "metadata": {
    "execution": {
     "iopub.execute_input": "2020-09-21T13:17:48.737555Z",
     "iopub.status.busy": "2020-09-21T13:17:48.736571Z",
     "iopub.status.idle": "2020-09-21T13:17:52.597235Z",
     "shell.execute_reply": "2020-09-21T13:17:52.596237Z",
     "shell.execute_reply.started": "2020-09-21T13:17:48.737555Z"
    },
    "jupyter": {
     "outputs_hidden": true
    }
   },
   "outputs": [],
   "source": [
    "raw_ds=pd.read_csv(r\"..\\data\\raw\\investigator_nacc50.csv\")"
   ]
  },
  {
   "cell_type": "code",
   "execution_count": null,
   "metadata": {
    "execution": {
     "iopub.execute_input": "2020-09-20T21:59:27.431353Z",
     "iopub.status.busy": "2020-09-20T21:59:27.431353Z",
     "iopub.status.idle": "2020-09-20T21:59:27.440329Z",
     "shell.execute_reply": "2020-09-20T21:59:27.439331Z",
     "shell.execute_reply.started": "2020-09-20T21:59:27.431353Z"
    }
   },
   "outputs": [],
   "source": [
    "df=raw_ds.head(50).copy()\n",
    "df2=raw_ds.head(50).copy()\n",
    "df.shape"
   ]
  },
  {
   "cell_type": "code",
   "execution_count": null,
   "metadata": {
    "execution": {
     "iopub.status.busy": "2020-09-20T21:58:04.921934Z",
     "iopub.status.idle": "2020-09-20T21:58:04.922932Z"
    }
   },
   "outputs": [],
   "source": [
    "df[df != -4] = 0        \n"
   ]
  },
  {
   "cell_type": "code",
   "execution_count": null,
   "metadata": {
    "execution": {
     "iopub.status.busy": "2020-09-20T21:58:04.923928Z",
     "iopub.status.idle": "2020-09-20T21:58:04.924928Z"
    }
   },
   "outputs": [],
   "source": [
    "stack = df.stack()\n",
    "stack[ stack != -4] = 0\n",
    "df=stack.unstack()"
   ]
  },
  {
   "cell_type": "code",
   "execution_count": null,
   "metadata": {
    "execution": {
     "iopub.execute_input": "2020-09-20T21:44:15.600808Z",
     "iopub.status.busy": "2020-09-20T21:44:15.600808Z",
     "iopub.status.idle": "2020-09-20T21:44:15.649680Z",
     "shell.execute_reply": "2020-09-20T21:44:15.649680Z",
     "shell.execute_reply.started": "2020-09-20T21:44:15.600808Z"
    },
    "jupyter": {
     "outputs_hidden": true
    }
   },
   "outputs": [],
   "source": [
    "df"
   ]
  },
  {
   "cell_type": "code",
   "execution_count": null,
   "metadata": {
    "execution": {
     "iopub.execute_input": "2020-09-20T21:44:37.025532Z",
     "iopub.status.busy": "2020-09-20T21:44:37.025532Z",
     "iopub.status.idle": "2020-09-20T21:44:37.030550Z",
     "shell.execute_reply": "2020-09-20T21:44:37.030550Z",
     "shell.execute_reply.started": "2020-09-20T21:44:37.025532Z"
    }
   },
   "outputs": [],
   "source": [
    "df.NACCVNUM=df2.NACCVNUM\n",
    "df.NACCID=df2.NACCID"
   ]
  },
  {
   "cell_type": "code",
   "execution_count": null,
   "metadata": {
    "execution": {
     "iopub.execute_input": "2020-09-20T21:45:19.598717Z",
     "iopub.status.busy": "2020-09-20T21:45:19.598717Z",
     "iopub.status.idle": "2020-09-20T21:45:19.604700Z",
     "shell.execute_reply": "2020-09-20T21:45:19.603703Z",
     "shell.execute_reply.started": "2020-09-20T21:45:19.598717Z"
    }
   },
   "outputs": [],
   "source": [
    "df.NACCID.nunique()"
   ]
  },
  {
   "cell_type": "code",
   "execution_count": null,
   "metadata": {
    "execution": {
     "iopub.execute_input": "2020-09-20T22:00:01.472348Z",
     "iopub.status.busy": "2020-09-20T22:00:01.471350Z",
     "iopub.status.idle": "2020-09-20T22:00:01.478332Z",
     "shell.execute_reply": "2020-09-20T22:00:01.477335Z",
     "shell.execute_reply.started": "2020-09-20T22:00:01.472348Z"
    }
   },
   "outputs": [],
   "source": [
    "masked = df.NACCID.unique()\n",
    "id_m = dict(zip(masked, range(len(masked))))"
   ]
  },
  {
   "cell_type": "code",
   "execution_count": null,
   "metadata": {
    "execution": {
     "iopub.execute_input": "2020-09-20T22:00:04.435426Z",
     "iopub.status.busy": "2020-09-20T22:00:04.435426Z",
     "iopub.status.idle": "2020-09-20T22:00:04.453380Z",
     "shell.execute_reply": "2020-09-20T22:00:04.452380Z",
     "shell.execute_reply.started": "2020-09-20T22:00:04.435426Z"
    }
   },
   "outputs": [],
   "source": [
    "df=df.replace({'NACCID': id_m})"
   ]
  },
  {
   "cell_type": "code",
   "execution_count": null,
   "metadata": {
    "execution": {
     "iopub.execute_input": "2020-09-20T22:01:17.883071Z",
     "iopub.status.busy": "2020-09-20T22:01:17.882076Z",
     "iopub.status.idle": "2020-09-20T22:01:17.907008Z",
     "shell.execute_reply": "2020-09-20T22:01:17.906010Z",
     "shell.execute_reply.started": "2020-09-20T22:01:17.882076Z"
    }
   },
   "outputs": [],
   "source": [
    "df.to_csv('../data/raw/dummy.csv')"
   ]
  },
  {
   "cell_type": "code",
   "execution_count": null,
   "metadata": {
    "execution": {
     "iopub.execute_input": "2020-09-20T22:00:08.158473Z",
     "iopub.status.busy": "2020-09-20T22:00:08.157477Z",
     "iopub.status.idle": "2020-09-20T22:00:08.229284Z",
     "shell.execute_reply": "2020-09-20T22:00:08.228287Z",
     "shell.execute_reply.started": "2020-09-20T22:00:08.158473Z"
    }
   },
   "outputs": [],
   "source": [
    "df"
   ]
  },
  {
   "cell_type": "code",
   "execution_count": null,
   "metadata": {},
   "outputs": [],
   "source": []
  }
 ],
 "metadata": {
  "kernelspec": {
   "display_name": "AD",
   "language": "python",
   "name": "ad"
  },
  "language_info": {
   "codemirror_mode": {
    "name": "ipython",
    "version": 3
   },
   "file_extension": ".py",
   "mimetype": "text/x-python",
   "name": "python",
   "nbconvert_exporter": "python",
   "pygments_lexer": "ipython3",
   "version": "3.7.9"
  }
 },
 "nbformat": 4,
 "nbformat_minor": 4
}
