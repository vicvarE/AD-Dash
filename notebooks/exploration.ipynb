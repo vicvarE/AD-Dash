{
 "cells": [
  {
   "cell_type": "code",
   "execution_count": null,
   "metadata": {
    "execution": {
     "iopub.execute_input": "2020-09-21T13:20:03.652767Z",
     "iopub.status.busy": "2020-09-21T13:20:03.652767Z",
     "iopub.status.idle": "2020-09-21T13:20:05.566694Z",
     "shell.execute_reply": "2020-09-21T13:20:05.566694Z",
     "shell.execute_reply.started": "2020-09-21T13:20:03.652767Z"
    }
   },
   "outputs": [],
   "source": [
    "#imports\n",
    "import pandas as pd \n",
    "import numpy as np\n",
    "import matplotlib.pyplot as plt\n",
    "import seaborn as sns"
   ]
  },
  {
   "cell_type": "code",
   "execution_count": null,
   "metadata": {
    "execution": {
     "iopub.execute_input": "2020-09-21T13:20:05.568644Z",
     "iopub.status.busy": "2020-09-21T13:20:05.568644Z",
     "iopub.status.idle": "2020-09-21T13:20:05.575625Z",
     "shell.execute_reply": "2020-09-21T13:20:05.574630Z",
     "shell.execute_reply.started": "2020-09-21T13:20:05.568644Z"
    }
   },
   "outputs": [],
   "source": [
    "%matplotlib inline\n",
    "sns.set_palette(\"Set2\")"
   ]
  },
  {
   "cell_type": "code",
   "execution_count": null,
   "metadata": {
    "execution": {
     "iopub.execute_input": "2020-09-21T13:20:06.651776Z",
     "iopub.status.busy": "2020-09-21T13:20:06.650750Z",
     "iopub.status.idle": "2020-09-21T13:20:20.232431Z",
     "shell.execute_reply": "2020-09-21T13:20:20.231460Z",
     "shell.execute_reply.started": "2020-09-21T13:20:06.651776Z"
    }
   },
   "outputs": [],
   "source": [
    "#load data\n",
    "raw_ds=pd.read_csv(r\"..\\data\\raw\\investigator_nacc50.csv\")\n",
    "dd=pd.read_csv(r\"..\\docs\\rdd_datadictionary_uds.csv\")"
   ]
  },
  {
   "cell_type": "code",
   "execution_count": null,
   "metadata": {},
   "outputs": [],
   "source": [
    "raw_ds.head()"
   ]
  },
  {
   "cell_type": "code",
   "execution_count": null,
   "metadata": {
    "jupyter": {
     "outputs_hidden": true
    }
   },
   "outputs": [],
   "source": [
    "list(raw_ds)"
   ]
  },
  {
   "cell_type": "code",
   "execution_count": null,
   "metadata": {},
   "outputs": [],
   "source": [
    "raw_ds.shape"
   ]
  },
  {
   "cell_type": "code",
   "execution_count": null,
   "metadata": {
    "jupyter": {
     "outputs_hidden": true
    }
   },
   "outputs": [],
   "source": [
    "plt.hist(raw_ds['NACCALZD']);"
   ]
  },
  {
   "cell_type": "code",
   "execution_count": null,
   "metadata": {},
   "outputs": [],
   "source": [
    "print(sum(raw_ds['NACCALZD']==1)) #Presumptive etiologic diagnosis (could be contributing)\n",
    "print(sum(raw_ds['NACCETPR']==1)) #Primary etiologic diagnosis"
   ]
  },
  {
   "cell_type": "code",
   "execution_count": null,
   "metadata": {
    "execution": {
     "iopub.execute_input": "2020-09-21T13:20:37.288817Z",
     "iopub.status.busy": "2020-09-21T13:20:37.288817Z",
     "iopub.status.idle": "2020-09-21T13:20:37.946092Z",
     "shell.execute_reply": "2020-09-21T13:20:37.946092Z",
     "shell.execute_reply.started": "2020-09-21T13:20:37.288817Z"
    }
   },
   "outputs": [],
   "source": [
    "#NACCUDSD: 3 = MCI; 4 = Dementia; NACCETPR=1 AD; is this last one = to NACCALZD=1? no. see above\n",
    "MCI_index=np.unique(raw_ds.loc[(raw_ds['NACCUDSD']==3) & ((raw_ds['NACCETPR']==1) | (raw_ds['NACCETPR']==99)),['NACCID']])\n",
    "Dem_index=np.unique(raw_ds.loc[(raw_ds['NACCUDSD']==4) & (raw_ds['NACCETPR']==1),['NACCID']])\n",
    "combi_i=set(MCI_index).intersection(Dem_index)\n",
    "len(combi_i)\n"
   ]
  },
  {
   "cell_type": "code",
   "execution_count": null,
   "metadata": {
    "execution": {
     "iopub.execute_input": "2020-09-21T13:20:39.070054Z",
     "iopub.status.busy": "2020-09-21T13:20:39.070054Z",
     "iopub.status.idle": "2020-09-21T13:20:39.278544Z",
     "shell.execute_reply": "2020-09-21T13:20:39.278544Z",
     "shell.execute_reply.started": "2020-09-21T13:20:39.070054Z"
    }
   },
   "outputs": [],
   "source": [
    "AD_MCI=raw_ds.loc[raw_ds['NACCID'].isin(combi_i)]\n",
    "#db of etiol AD patients that had at one point MCI and developed dementia\n"
   ]
  },
  {
   "cell_type": "code",
   "execution_count": null,
   "metadata": {
    "execution": {
     "iopub.execute_input": "2020-09-21T13:20:41.647163Z",
     "iopub.status.busy": "2020-09-21T13:20:41.647163Z",
     "iopub.status.idle": "2020-09-21T13:20:43.070386Z",
     "shell.execute_reply": "2020-09-21T13:20:43.070386Z",
     "shell.execute_reply.started": "2020-09-21T13:20:41.647163Z"
    }
   },
   "outputs": [],
   "source": [
    "#add sb of etiol AD patients that had at one point MCI and did not develop dementia\n",
    "nod_index=set(MCI_index).difference(combi_i)\n",
    "AD_MCI=pd.concat([AD_MCI,raw_ds.loc[raw_ds['NACCID'].isin(nod_index)]])\n",
    "len(nod_index)"
   ]
  },
  {
   "cell_type": "code",
   "execution_count": null,
   "metadata": {},
   "outputs": [],
   "source": [
    "len(combi_i)"
   ]
  },
  {
   "cell_type": "code",
   "execution_count": null,
   "metadata": {
    "execution": {
     "iopub.execute_input": "2020-09-21T13:20:45.636494Z",
     "iopub.status.busy": "2020-09-21T13:20:45.635496Z",
     "iopub.status.idle": "2020-09-21T13:20:46.259827Z",
     "shell.execute_reply": "2020-09-21T13:20:46.259827Z",
     "shell.execute_reply.started": "2020-09-21T13:20:45.636494Z"
    }
   },
   "outputs": [],
   "source": [
    "#add visit date and create target\n",
    "AD_MCI['visitdate']=pd.to_datetime(dict(year=AD_MCI.VISITYR, month=AD_MCI.VISITMO, day=AD_MCI.VISITDAY))\n",
    "scores=np.concatenate((np.ones(len(combi_i)),np.zeros(len(nod_index))))\n",
    "idi=list(combi_i)+list(nod_index)\n",
    "op={'NACCID':idi, 'target':scores}\n",
    "output= pd.DataFrame(op)"
   ]
  },
  {
   "cell_type": "code",
   "execution_count": null,
   "metadata": {
    "execution": {
     "iopub.execute_input": "2020-09-21T13:20:49.846236Z",
     "iopub.status.busy": "2020-09-21T13:20:49.846236Z",
     "iopub.status.idle": "2020-09-21T13:21:58.157567Z",
     "shell.execute_reply": "2020-09-21T13:21:58.156622Z",
     "shell.execute_reply.started": "2020-09-21T13:20:49.846236Z"
    }
   },
   "outputs": [],
   "source": [
    "#add interval between visits, with last visit being NAN\n",
    "visit_interval=np.array([])\n",
    "for i in np.unique(AD_MCI['NACCID']):\n",
    "    temp=AD_MCI[['NACCVNUM','NACCAVST','visitdate']].loc[AD_MCI['NACCID'] == i]\n",
    "    for n in temp['NACCVNUM']:\n",
    "        if n not in temp['NACCAVST'].values:\n",
    "            visit_next=(temp['visitdate'].loc[temp['NACCVNUM'] == n+1]).values\n",
    "            visit_now=(temp['visitdate'].loc[temp['NACCVNUM'] == n])\n",
    "            visit_interval=np.append(visit_interval,(visit_next-visit_now).dt.days)\n",
    "        else:\n",
    "            visit_interval=np.append(visit_interval,np.nan)"
   ]
  },
  {
   "cell_type": "code",
   "execution_count": null,
   "metadata": {
    "execution": {
     "iopub.execute_input": "2020-09-21T13:22:01.818768Z",
     "iopub.status.busy": "2020-09-21T13:22:01.818768Z",
     "iopub.status.idle": "2020-09-21T13:22:01.822786Z",
     "shell.execute_reply": "2020-09-21T13:22:01.822786Z",
     "shell.execute_reply.started": "2020-09-21T13:22:01.818768Z"
    }
   },
   "outputs": [],
   "source": [
    "AD_MCI['visit_interval']=visit_interval"
   ]
  },
  {
   "cell_type": "code",
   "execution_count": null,
   "metadata": {
    "execution": {
     "iopub.execute_input": "2020-09-20T15:15:35.272016Z",
     "iopub.status.busy": "2020-09-20T15:15:35.271019Z",
     "iopub.status.idle": "2020-09-20T15:15:35.292960Z",
     "shell.execute_reply": "2020-09-20T15:15:35.292038Z",
     "shell.execute_reply.started": "2020-09-20T15:15:35.272016Z"
    }
   },
   "outputs": [],
   "source": [
    "#faster solution with no loops? pct_change = close[1:]/close[:-1]\n",
    "\n",
    "#make sure the df is sorted by id and then NACCVNUM\n",
    "#create col with visitdate shifted 1 up\n",
    "# substract to visitdate\n",
    "#find loc where NACCVNUM NACCAVST and substitute by nan.\n",
    "\n"
   ]
  },
  {
   "cell_type": "code",
   "execution_count": null,
   "metadata": {
    "execution": {
     "iopub.execute_input": "2020-09-21T13:22:06.450382Z",
     "iopub.status.busy": "2020-09-21T13:22:06.450382Z",
     "iopub.status.idle": "2020-09-21T13:22:07.342994Z",
     "shell.execute_reply": "2020-09-21T13:22:07.342994Z",
     "shell.execute_reply.started": "2020-09-21T13:22:06.450382Z"
    }
   },
   "outputs": [],
   "source": [
    "#lets map the output to the main\n",
    "AD_MCI=AD_MCI.join(output.set_index('NACCID'), on= 'NACCID')"
   ]
  },
  {
   "cell_type": "code",
   "execution_count": null,
   "metadata": {},
   "outputs": [],
   "source": [
    "AD_MCI"
   ]
  },
  {
   "cell_type": "code",
   "execution_count": null,
   "metadata": {
    "jupyter": {
     "outputs_hidden": true
    }
   },
   "outputs": [],
   "source": [
    "#plot the number of visits and interval beetween for the two catergories; \n",
    "f, axes = plt.subplots(1, 2, figsize=(12, 5))\n",
    "\n",
    "sns.boxenplot(x=\"NACCAVST\", y=\"visit_interval\", hue=\"target\",showfliers=0,\n",
    "            data=AD_MCI,ax=axes[0]); axes[0].set(ylim=(200, 1500))\n",
    "\n",
    "sns.countplot(x=\"NACCAVST\", hue=\"target\",\n",
    "            data=AD_MCI.groupby(['NACCID']).mean(),ax=axes[1]);\n",
    "#g.set_xticklabels(g.get_xticklabels(),rotation=45)\n",
    "labels = [label.get_text() for label in axes[1].get_xticklabels()];\n",
    "axes[1].set_xticklabels(map(lambda x: \"{:g}\".format(float(x)), labels));\n",
    "\n"
   ]
  },
  {
   "cell_type": "markdown",
   "metadata": {},
   "source": [
    "### 1st: consolidate variables"
   ]
  },
  {
   "cell_type": "code",
   "execution_count": null,
   "metadata": {
    "execution": {
     "iopub.execute_input": "2020-09-20T19:52:49.801320Z",
     "iopub.status.busy": "2020-09-20T19:52:49.801320Z"
    }
   },
   "outputs": [],
   "source": [
    "#consolidate data only collected on initial visit and given -4 later on\n",
    "#find cols, rows where -4 exists\n",
    "reduced= AD_MCI.loc[AD_MCI['NACCVNUM']!=1]\n",
    "nan_bool=reduced.where(reduced.eq(-4)).stack().index.values #fastest;\n",
    "nan_ind = np.unique([ seq[0] for seq in nan_bool ])\n",
    "#find 1st visit values  of those columns. do all patients have a first visit? sanity chk\n",
    "first_visit=AD_MCI.loc[AD_MCI['NACCVNUM']==1]\n",
    "print(AD_MCI.NACCID.nunique()==first_visit.NACCID.nunique())\n",
    "#replace per group\n",
    "con_AD_MCI=AD_MCI.copy()\n",
    "for n in AD_MCI.NACCID.unique():\n",
    "    temp=AD_MCI.loc[AD_MCI.NACCID==n]#for each NACCID find its rows\n",
    "    nan_match=np.intersect1d(nan_ind,temp.index) #if it has row/cols in nan_ind\n",
    "    if len(nan_match)>0:\n",
    "        temp2=first_visit.loc[first_visit.NACCID==n]\n",
    "        for nm in nan_match:\n",
    "            cols=[x[1] for x in nan_bool if x[0] == nm] \n",
    "            #reduce the col number\n",
    "            red_cols=temp2[cols].columns[(temp2[cols] !=-4).iloc[0]]\n",
    "            #replace by corresponding values in first visit\n",
    "            con_AD_MCI.loc[nm,red_cols]=temp2[red_cols].values[0]"
   ]
  },
  {
   "cell_type": "code",
   "execution_count": null,
   "metadata": {
    "execution": {
     "iopub.execute_input": "2020-09-21T14:10:00.458027Z",
     "iopub.status.busy": "2020-09-21T14:10:00.458027Z",
     "iopub.status.idle": "2020-09-21T14:10:00.784154Z",
     "shell.execute_reply": "2020-09-21T14:10:00.783186Z",
     "shell.execute_reply.started": "2020-09-21T14:10:00.458027Z"
    }
   },
   "outputs": [],
   "source": [
    "con=AD_MCI.copy()"
   ]
  },
  {
   "cell_type": "code",
   "execution_count": null,
   "metadata": {
    "execution": {
     "iopub.execute_input": "2020-09-21T14:10:01.556807Z",
     "iopub.status.busy": "2020-09-21T14:10:01.556807Z",
     "iopub.status.idle": "2020-09-21T14:10:01.889813Z",
     "shell.execute_reply": "2020-09-21T14:10:01.889813Z",
     "shell.execute_reply.started": "2020-09-21T14:10:01.556807Z"
    }
   },
   "outputs": [],
   "source": [
    "mask=(AD_MCI.isnull())"
   ]
  },
  {
   "cell_type": "code",
   "execution_count": null,
   "metadata": {
    "execution": {
     "iopub.execute_input": "2020-09-21T14:10:04.037769Z",
     "iopub.status.busy": "2020-09-21T14:10:04.037769Z",
     "iopub.status.idle": "2020-09-21T14:10:05.086981Z",
     "shell.execute_reply": "2020-09-21T14:10:05.086981Z",
     "shell.execute_reply.started": "2020-09-21T14:10:04.037769Z"
    }
   },
   "outputs": [],
   "source": [
    "con.replace(to_replace=-4, value=np.nan, inplace=True)"
   ]
  },
  {
   "cell_type": "code",
   "execution_count": null,
   "metadata": {
    "execution": {
     "iopub.execute_input": "2020-09-21T14:10:42.507126Z",
     "iopub.status.busy": "2020-09-21T14:10:42.506094Z",
     "iopub.status.idle": "2020-09-21T14:49:19.317798Z",
     "shell.execute_reply": "2020-09-21T14:49:19.316800Z",
     "shell.execute_reply.started": "2020-09-21T14:10:42.507126Z"
    }
   },
   "outputs": [],
   "source": [
    "con=con.groupby(['NACCID']).transform(lambda x: x.fillna(method='ffill'))"
   ]
  },
  {
   "cell_type": "code",
   "execution_count": null,
   "metadata": {
    "execution": {
     "iopub.execute_input": "2020-09-21T14:55:43.405224Z",
     "iopub.status.busy": "2020-09-21T14:55:43.405224Z",
     "iopub.status.idle": "2020-09-21T15:02:44.119733Z",
     "shell.execute_reply": "2020-09-21T15:02:44.118737Z",
     "shell.execute_reply.started": "2020-09-21T14:55:43.405224Z"
    }
   },
   "outputs": [],
   "source": [
    "nn=con.groupby(['NACCID']).fillna(method='ffill') #fastest\n",
    "nn"
   ]
  },
  {
   "cell_type": "code",
   "execution_count": null,
   "metadata": {
    "execution": {
     "iopub.execute_input": "2020-09-21T15:04:32.405637Z",
     "iopub.status.busy": "2020-09-21T15:04:32.405637Z",
     "iopub.status.idle": "2020-09-21T15:04:32.491409Z",
     "shell.execute_reply": "2020-09-21T15:04:32.490410Z",
     "shell.execute_reply.started": "2020-09-21T15:04:32.405637Z"
    }
   },
   "outputs": [],
   "source": [
    "con"
   ]
  },
  {
   "cell_type": "code",
   "execution_count": null,
   "metadata": {
    "execution": {
     "iopub.execute_input": "2020-09-21T17:15:53.547766Z",
     "iopub.status.busy": "2020-09-21T17:15:53.546770Z",
     "iopub.status.idle": "2020-09-21T17:15:53.554749Z",
     "shell.execute_reply": "2020-09-21T17:15:53.553751Z",
     "shell.execute_reply.started": "2020-09-21T17:15:53.547766Z"
    }
   },
   "outputs": [],
   "source": [
    "nn['NACCID']=AD_MCI['NACCID']"
   ]
  },
  {
   "cell_type": "code",
   "execution_count": null,
   "metadata": {
    "execution": {
     "iopub.execute_input": "2020-09-21T15:08:34.026465Z",
     "iopub.status.busy": "2020-09-21T15:08:34.026465Z",
     "iopub.status.idle": "2020-09-21T15:08:34.707698Z",
     "shell.execute_reply": "2020-09-21T15:08:34.706742Z",
     "shell.execute_reply.started": "2020-09-21T15:08:34.026465Z"
    }
   },
   "outputs": [],
   "source": [
    "nn.replace(to_replace=np.nan, value=-4, inplace=True)"
   ]
  },
  {
   "cell_type": "code",
   "execution_count": null,
   "metadata": {
    "execution": {
     "iopub.execute_input": "2020-09-21T15:08:35.966607Z",
     "iopub.status.busy": "2020-09-21T15:08:35.966607Z",
     "iopub.status.idle": "2020-09-21T15:08:37.542453Z",
     "shell.execute_reply": "2020-09-21T15:08:37.541456Z",
     "shell.execute_reply.started": "2020-09-21T15:08:35.966607Z"
    }
   },
   "outputs": [],
   "source": [
    "nn[mask]=np.nan"
   ]
  },
  {
   "cell_type": "code",
   "execution_count": null,
   "metadata": {
    "execution": {
     "iopub.execute_input": "2020-09-21T17:14:08.140339Z",
     "iopub.status.busy": "2020-09-21T17:14:08.140339Z",
     "iopub.status.idle": "2020-09-21T17:14:10.390124Z",
     "shell.execute_reply": "2020-09-21T17:14:10.389148Z",
     "shell.execute_reply.started": "2020-09-21T17:14:08.140339Z"
    }
   },
   "outputs": [],
   "source": [
    "print(np.sum((nn==-4).unstack()))\n",
    "np.sum((AD_MCI==-4).unstack())"
   ]
  },
  {
   "cell_type": "code",
   "execution_count": null,
   "metadata": {
    "execution": {
     "iopub.execute_input": "2020-09-21T17:16:31.651557Z",
     "iopub.status.busy": "2020-09-21T17:16:31.651557Z",
     "iopub.status.idle": "2020-09-21T17:16:31.656543Z",
     "shell.execute_reply": "2020-09-21T17:16:31.656543Z",
     "shell.execute_reply.started": "2020-09-21T17:16:31.651557Z"
    }
   },
   "outputs": [],
   "source": [
    "nn.shape"
   ]
  },
  {
   "cell_type": "code",
   "execution_count": null,
   "metadata": {
    "execution": {
     "iopub.execute_input": "2020-09-21T17:17:37.874707Z",
     "iopub.status.busy": "2020-09-21T17:17:37.874707Z",
     "iopub.status.idle": "2020-09-21T17:18:02.925211Z",
     "shell.execute_reply": "2020-09-21T17:18:02.925211Z",
     "shell.execute_reply.started": "2020-09-21T17:17:37.874707Z"
    }
   },
   "outputs": [],
   "source": [
    "# drop everything that is not MCI & dem (we won't take into account healthy history. \n",
    "#Reconsider this step if building historic model)\n",
    "clean_AD_MCI=nn.loc[(nn['NACCUDSD']>=3)]\n",
    "print(clean_AD_MCI.shape)\n",
    "#drop NACCIDs with just one visit\n",
    "clean_AD_MCI=clean_AD_MCI[clean_AD_MCI['NACCID'].map(clean_AD_MCI['NACCID'].value_counts()) >= 2]\n",
    "print(clean_AD_MCI.shape)\n",
    "# drop everything that is not MCI \n",
    "clean_AD_MCI=clean_AD_MCI.loc[(clean_AD_MCI['NACCUDSD']==3)]\n",
    "print(clean_AD_MCI.shape)\n",
    "\n",
    "#check again to see if we need to drop desangelados\n",
    "#todrop=[]\n",
    "c=0\n",
    "for i in nod_index:\n",
    "    if clean_AD_MCI.loc[clean_AD_MCI.NACCID == i, 'NACCID'].count()<2 & clean_AD_MCI.loc[clean_AD_MCI.NACCID == i, 'NACCID'].count()> 0:\n",
    "        c+=1\n",
    "        #todrop.append(clean_AD_MCI.index[clean_AD_MCI['NACCID'] == i].tolist())\n",
    "        #clean_AD_MCI=clean_AD_MCI.drop(clean_AD_MCI.index[clean_AD_MCI['NACCID'] == i])\n",
    "\n",
    "print(c)\n"
   ]
  },
  {
   "cell_type": "code",
   "execution_count": null,
   "metadata": {},
   "outputs": [],
   "source": [
    "#recheck distros\n",
    "f, axes = plt.subplots(1, 2, figsize=(12, 5))\n",
    "\n",
    "sns.boxenplot(x=\"NACCAVST\", y=\"visit_interval\", hue=\"target\",showfliers=0,\n",
    "            data=clean_AD_MCI,ax=axes[0]); axes[0].set(ylim=(200, 1500))\n",
    "\n",
    "sns.countplot(x=\"NACCAVST\", hue=\"target\",\n",
    "            data=clean_AD_MCI.groupby(['NACCID']).mean(),ax=axes[1]);\n",
    "#g.set_xticklabels(g.get_xticklabels(),rotation=45)\n",
    "labels = [label.get_text() for label in axes[1].get_xticklabels()];\n",
    "axes[1].set_xticklabels(map(lambda x: \"{:g}\".format(float(x)), labels));"
   ]
  },
  {
   "cell_type": "code",
   "execution_count": null,
   "metadata": {
    "code_folding": [],
    "execution": {
     "iopub.execute_input": "2020-09-21T17:18:03.135621Z",
     "iopub.status.busy": "2020-09-21T17:18:03.134624Z",
     "iopub.status.idle": "2020-09-21T17:18:03.489674Z",
     "shell.execute_reply": "2020-09-21T17:18:03.488709Z",
     "shell.execute_reply.started": "2020-09-21T17:18:03.135621Z"
    }
   },
   "outputs": [],
   "source": [
    "#drop columns full of nans\n",
    "clean_AD_MCI=clean_AD_MCI.dropna(axis=1,how='all')"
   ]
  },
  {
   "cell_type": "code",
   "execution_count": null,
   "metadata": {
    "execution": {
     "iopub.execute_input": "2020-09-21T17:18:14.188664Z",
     "iopub.status.busy": "2020-09-21T17:18:14.188664Z",
     "iopub.status.idle": "2020-09-21T17:18:27.613628Z",
     "shell.execute_reply": "2020-09-21T17:18:27.612631Z",
     "shell.execute_reply.started": "2020-09-21T17:18:14.188664Z"
    }
   },
   "outputs": [],
   "source": [
    "#save this dataframe\n",
    "clean_AD_MCI.to_csv('..\\data\\interim\\AD_MCI2.csv')"
   ]
  },
  {
   "cell_type": "code",
   "execution_count": null,
   "metadata": {},
   "outputs": [],
   "source": []
  }
 ],
 "metadata": {
  "kernelspec": {
   "display_name": "AD",
   "language": "python",
   "name": "ad"
  },
  "language_info": {
   "codemirror_mode": {
    "name": "ipython",
    "version": 3
   },
   "file_extension": ".py",
   "mimetype": "text/x-python",
   "name": "python",
   "nbconvert_exporter": "python",
   "pygments_lexer": "ipython3",
   "version": "3.7.9"
  },
  "varInspector": {
   "cols": {
    "lenName": 16,
    "lenType": 16,
    "lenVar": 40
   },
   "kernels_config": {
    "python": {
     "delete_cmd_postfix": "",
     "delete_cmd_prefix": "del ",
     "library": "var_list.py",
     "varRefreshCmd": "print(var_dic_list())"
    },
    "r": {
     "delete_cmd_postfix": ") ",
     "delete_cmd_prefix": "rm(",
     "library": "var_list.r",
     "varRefreshCmd": "cat(var_dic_list()) "
    }
   },
   "oldHeight": 207.667,
   "position": {
    "height": "40px",
    "left": "901px",
    "right": "20px",
    "top": "330px",
    "width": "367px"
   },
   "types_to_exclude": [
    "module",
    "function",
    "builtin_function_or_method",
    "instance",
    "_Feature"
   ],
   "varInspector_section_display": "none",
   "window_display": true
  }
 },
 "nbformat": 4,
 "nbformat_minor": 4
}
