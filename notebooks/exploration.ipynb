{
 "cells": [
  {
   "cell_type": "code",
   "execution_count": null,
   "metadata": {},
   "outputs": [],
   "source": [
    "#imports\n",
    "import pandas as pd \n",
    "import numpy as np\n",
    "import matplotlib.pyplot as plt\n",
    "import seaborn as sns"
   ]
  },
  {
   "cell_type": "code",
   "execution_count": null,
   "metadata": {},
   "outputs": [],
   "source": [
    "%matplotlib inline\n",
    "sns.set_palette(\"Set2\")"
   ]
  },
  {
   "cell_type": "code",
   "execution_count": null,
   "metadata": {},
   "outputs": [],
   "source": [
    "#load data\n",
    "raw_ds=pd.read_csv(r\"..\\data\\raw\\investigator_nacc50.csv\")\n"
   ]
  },
  {
   "cell_type": "code",
   "execution_count": null,
   "metadata": {},
   "outputs": [],
   "source": [
    "raw_ds.head()"
   ]
  },
  {
   "cell_type": "code",
   "execution_count": null,
   "metadata": {
    "jupyter": {
     "outputs_hidden": true
    }
   },
   "outputs": [],
   "source": [
    "list(raw_ds)"
   ]
  },
  {
   "cell_type": "code",
   "execution_count": null,
   "metadata": {},
   "outputs": [],
   "source": [
    "raw_ds.shape"
   ]
  },
  {
   "cell_type": "code",
   "execution_count": null,
   "metadata": {
    "jupyter": {
     "outputs_hidden": true
    }
   },
   "outputs": [],
   "source": [
    "plt.hist(raw_ds['NACCALZD']);"
   ]
  },
  {
   "cell_type": "code",
   "execution_count": null,
   "metadata": {},
   "outputs": [],
   "source": [
    "print(sum(raw_ds['NACCALZD']==1)) #Presumptive etiologic diagnosis (could be contributing)\n",
    "print(sum(raw_ds['NACCETPR']==1)) #Primary etiologic diagnosis"
   ]
  },
  {
   "cell_type": "code",
   "execution_count": null,
   "metadata": {},
   "outputs": [],
   "source": [
    "#NACCUDSD: 3 = MCI; 4 = Dementia; NACCETPR=1 AD; is this last one = to NACCALZD=1? no. see above\n",
    "MCI_index=np.unique(raw_ds.loc[(raw_ds['NACCUDSD']==3) & ((raw_ds['NACCETPR']==1) | (raw_ds['NACCETPR']==99)),['NACCID']])\n",
    "Dem_index=np.unique(raw_ds.loc[(raw_ds['NACCUDSD']==4) & (raw_ds['NACCETPR']==1),['NACCID']])\n",
    "combi_i=set(MCI_index).intersection(Dem_index)\n",
    "len(combi_i)\n"
   ]
  },
  {
   "cell_type": "code",
   "execution_count": null,
   "metadata": {},
   "outputs": [],
   "source": [
    "AD_MCI=raw_ds.loc[raw_ds['NACCID'].isin(combi_i)]\n",
    "#db of etiol AD patients that had at one point MCI and developed dementia\n"
   ]
  },
  {
   "cell_type": "code",
   "execution_count": null,
   "metadata": {},
   "outputs": [],
   "source": [
    "#add sb of etiol AD patients that had at one point MCI and did not develop dementia\n",
    "nod_index=set(MCI_index).difference(combi_i)\n",
    "AD_MCI=pd.concat([AD_MCI,raw_ds.loc[raw_ds['NACCID'].isin(nod_index)]])\n",
    "len(nod_index)"
   ]
  },
  {
   "cell_type": "code",
   "execution_count": null,
   "metadata": {},
   "outputs": [],
   "source": [
    "len(combi_i)"
   ]
  },
  {
   "cell_type": "code",
   "execution_count": null,
   "metadata": {
    "jupyter": {
     "outputs_hidden": true
    }
   },
   "outputs": [],
   "source": [
    "#add visit date and create target\n",
    "AD_MCI['visitdate']=pd.to_datetime(dict(year=AD_MCI.VISITYR, month=AD_MCI.VISITMO, day=AD_MCI.VISITDAY))\n",
    "scores=np.concatenate((np.ones(len(combi_i)),np.zeros(len(nod_index))))\n",
    "idi=list(combi_i)+list(nod_index)\n",
    "op={'NACCID':idi, 'target':scores}\n",
    "output= pd.DataFrame(op)"
   ]
  },
  {
   "cell_type": "code",
   "execution_count": null,
   "metadata": {},
   "outputs": [],
   "source": [
    "#add interval between visits, with last visit being NAN\n",
    "visit_interval=np.array([])\n",
    "for i in np.unique(AD_MCI['NACCID']):\n",
    "    temp=AD_MCI[['NACCVNUM','NACCAVST','visitdate']].loc[AD_MCI['NACCID'] == i]\n",
    "    for n in temp['NACCVNUM']:\n",
    "        if n not in temp['NACCAVST'].values:\n",
    "            visit_next=(temp['visitdate'].loc[temp['NACCVNUM'] == n+1]).values\n",
    "            visit_now=(temp['visitdate'].loc[temp['NACCVNUM'] == n])\n",
    "            visit_interval=np.append(visit_interval,(visit_next-visit_now).dt.days)\n",
    "        else:\n",
    "            visit_interval=np.append(visit_interval,np.nan)"
   ]
  },
  {
   "cell_type": "code",
   "execution_count": null,
   "metadata": {},
   "outputs": [],
   "source": [
    "AD_MCI['visit_interval']=visit_interval"
   ]
  },
  {
   "cell_type": "code",
   "execution_count": null,
   "metadata": {},
   "outputs": [],
   "source": [
    "#faster solution with no loops? pct_change = close[1:]/close[:-1]\n",
    "\n",
    "#make sure the df is sorted by id and then NACCVNUM\n",
    "#create col with visitdate shifted 1 up\n",
    "# substract to visitdate\n",
    "#find loc where NACCVNUM NACCAVST and substitute by nan.\n",
    "\n"
   ]
  },
  {
   "cell_type": "code",
   "execution_count": null,
   "metadata": {},
   "outputs": [],
   "source": [
    "#lets map the output to the main\n",
    "AD_MCI=AD_MCI.join(output.set_index('NACCID'), on= 'NACCID')"
   ]
  },
  {
   "cell_type": "code",
   "execution_count": null,
   "metadata": {},
   "outputs": [],
   "source": [
    "AD_MCI"
   ]
  },
  {
   "cell_type": "code",
   "execution_count": null,
   "metadata": {},
   "outputs": [],
   "source": [
    "#plot the number of visits and interval beetween for the two catergories; \n",
    "f, axes = plt.subplots(1, 2, figsize=(12, 5))\n",
    "\n",
    "sns.boxenplot(x=\"NACCAVST\", y=\"visit_interval\", hue=\"target\",showfliers=0,\n",
    "            data=AD_MCI,ax=axes[0]); axes[0].set(ylim=(200, 1500))\n",
    "\n",
    "sns.countplot(x=\"NACCAVST\", hue=\"target\",\n",
    "            data=AD_MCI.groupby(['NACCID']).mean(),ax=axes[1]);\n",
    "#g.set_xticklabels(g.get_xticklabels(),rotation=45)\n",
    "labels = [label.get_text() for label in axes[1].get_xticklabels()];\n",
    "axes[1].set_xticklabels(map(lambda x: \"{:g}\".format(float(x)), labels));\n",
    "\n"
   ]
  },
  {
   "cell_type": "code",
   "execution_count": null,
   "metadata": {},
   "outputs": [],
   "source": [
    "# drop everything that is not MCI & dem (we won't take into account healthy history. \n",
    "#Reconsider this step if building historic model)\n",
    "clean_AD_MCI=AD_MCI.loc[(AD_MCI['NACCUDSD']>=3)]\n",
    "print(clean_AD_MCI.shape)\n",
    "#drop NACCIDs with just one visit\n",
    "clean_AD_MCI=clean_AD_MCI[clean_AD_MCI['NACCID'].map(clean_AD_MCI['NACCID'].value_counts()) >= 2]\n",
    "print(clean_AD_MCI.shape)\n",
    "# drop everything that is not MCI \n",
    "clean_AD_MCI=clean_AD_MCI.loc[(clean_AD_MCI['NACCUDSD']==3)]\n",
    "print(clean_AD_MCI.shape)\n",
    "\n",
    "#check again to see if we need to drop desangelados\n",
    "#todrop=[]\n",
    "c=0\n",
    "for i in nod_index:\n",
    "    if clean_AD_MCI.loc[clean_AD_MCI.NACCID == i, 'NACCID'].count()<2 & clean_AD_MCI.loc[clean_AD_MCI.NACCID == i, 'NACCID'].count()> 0:\n",
    "        c+=1\n",
    "        #todrop.append(clean_AD_MCI.index[clean_AD_MCI['NACCID'] == i].tolist())\n",
    "        #clean_AD_MCI=clean_AD_MCI.drop(clean_AD_MCI.index[clean_AD_MCI['NACCID'] == i])\n",
    "\n",
    "print(c)\n"
   ]
  },
  {
   "cell_type": "code",
   "execution_count": null,
   "metadata": {},
   "outputs": [],
   "source": [
    "#recheck distros\n",
    "f, axes = plt.subplots(1, 2, figsize=(12, 5))\n",
    "\n",
    "sns.boxenplot(x=\"NACCAVST\", y=\"visit_interval\", hue=\"target\",showfliers=0,\n",
    "            data=clean_AD_MCI,ax=axes[0]); axes[0].set(ylim=(200, 1500))\n",
    "\n",
    "sns.countplot(x=\"NACCAVST\", hue=\"target\",\n",
    "            data=clean_AD_MCI.groupby(['NACCID']).mean(),ax=axes[1]);\n",
    "#g.set_xticklabels(g.get_xticklabels(),rotation=45)\n",
    "labels = [label.get_text() for label in axes[1].get_xticklabels()];\n",
    "axes[1].set_xticklabels(map(lambda x: \"{:g}\".format(float(x)), labels));"
   ]
  },
  {
   "cell_type": "code",
   "execution_count": null,
   "metadata": {
    "code_folding": []
   },
   "outputs": [],
   "source": [
    "#drop columns full of nans\n",
    "clean_AD_MCI=clean_AD_MCI.dropna(axis=1,how='all')"
   ]
  },
  {
   "cell_type": "code",
   "execution_count": null,
   "metadata": {},
   "outputs": [],
   "source": [
    "#save this dataframe\n",
    "#clean_AD_MCI.to_csv('..\\data\\interim\\AD_MCI.csv')"
   ]
  }
 ],
 "metadata": {
  "kernelspec": {
   "display_name": "AD",
   "language": "python",
   "name": "ad"
  },
  "language_info": {
   "codemirror_mode": {
    "name": "ipython",
    "version": 3
   },
   "file_extension": ".py",
   "mimetype": "text/x-python",
   "name": "python",
   "nbconvert_exporter": "python",
   "pygments_lexer": "ipython3",
   "version": "3.7.9"
  },
  "varInspector": {
   "cols": {
    "lenName": 16,
    "lenType": 16,
    "lenVar": 40
   },
   "kernels_config": {
    "python": {
     "delete_cmd_postfix": "",
     "delete_cmd_prefix": "del ",
     "library": "var_list.py",
     "varRefreshCmd": "print(var_dic_list())"
    },
    "r": {
     "delete_cmd_postfix": ") ",
     "delete_cmd_prefix": "rm(",
     "library": "var_list.r",
     "varRefreshCmd": "cat(var_dic_list()) "
    }
   },
   "oldHeight": 207.667,
   "position": {
    "height": "40px",
    "left": "901px",
    "right": "20px",
    "top": "330px",
    "width": "367px"
   },
   "types_to_exclude": [
    "module",
    "function",
    "builtin_function_or_method",
    "instance",
    "_Feature"
   ],
   "varInspector_section_display": "none",
   "window_display": true
  }
 },
 "nbformat": 4,
 "nbformat_minor": 4
}
