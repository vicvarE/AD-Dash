{
 "cells": [
  {
   "cell_type": "markdown",
   "metadata": {},
   "source": [
    "# Final Feature selection"
   ]
  },
  {
   "cell_type": "code",
   "execution_count": null,
   "metadata": {
    "ExecuteTime": {
     "end_time": "2020-09-03T17:32:20.984828Z",
     "start_time": "2020-09-03T17:32:19.772067Z"
    },
    "execution": {
     "iopub.execute_input": "2020-09-29T04:51:17.683252Z",
     "iopub.status.busy": "2020-09-29T04:51:17.683252Z",
     "iopub.status.idle": "2020-09-29T04:51:19.156333Z",
     "shell.execute_reply": "2020-09-29T04:51:19.156333Z",
     "shell.execute_reply.started": "2020-09-29T04:51:17.683252Z"
    }
   },
   "outputs": [],
   "source": [
    "#imports\n",
    "import pandas as pd \n",
    "import numpy as np\n",
    "import matplotlib.pyplot as plt\n",
    "import seaborn as sns\n",
    "from BorutaShap import BorutaShap\n",
    "from sklearn.model_selection import train_test_split\n",
    "from sklearn.ensemble import RandomForestClassifier\n",
    "from sklearn.metrics import recall_score, accuracy_score, precision_score\n",
    "import pickle\n",
    "import prince\n"
   ]
  },
  {
   "cell_type": "code",
   "execution_count": null,
   "metadata": {
    "ExecuteTime": {
     "end_time": "2020-09-03T17:32:23.622769Z",
     "start_time": "2020-09-03T17:32:23.615787Z"
    },
    "execution": {
     "iopub.execute_input": "2020-09-29T04:51:19.158282Z",
     "iopub.status.busy": "2020-09-29T04:51:19.157287Z",
     "iopub.status.idle": "2020-09-29T04:51:19.165264Z",
     "shell.execute_reply": "2020-09-29T04:51:19.164268Z",
     "shell.execute_reply.started": "2020-09-29T04:51:19.158282Z"
    }
   },
   "outputs": [],
   "source": [
    "%matplotlib inline\n",
    "sns.set_palette(\"Set2\")"
   ]
  },
  {
   "cell_type": "code",
   "execution_count": null,
   "metadata": {
    "ExecuteTime": {
     "end_time": "2020-09-03T17:32:51.760524Z",
     "start_time": "2020-09-03T17:32:50.145841Z"
    },
    "execution": {
     "iopub.execute_input": "2020-09-29T04:51:19.176236Z",
     "iopub.status.busy": "2020-09-29T04:51:19.175238Z",
     "iopub.status.idle": "2020-09-29T04:51:19.954156Z",
     "shell.execute_reply": "2020-09-29T04:51:19.954156Z",
     "shell.execute_reply.started": "2020-09-29T04:51:19.176236Z"
    }
   },
   "outputs": [],
   "source": [
    "#load initial cleaned data\n",
    "df=pd.read_csv(r\"..\\data\\processed\\prelim_clean2.csv\", index_col=[0])\n",
    "df.drop(['visit_interval'],axis=1, inplace=True)\n",
    "df2=pd.read_csv(r\"..\\data\\processed\\prelim_clean2.csv\", index_col=[0])"
   ]
  },
  {
   "cell_type": "markdown",
   "metadata": {},
   "source": [
    "## Boruta"
   ]
  },
  {
   "cell_type": "code",
   "execution_count": null,
   "metadata": {
    "execution": {
     "iopub.execute_input": "2020-09-29T04:51:23.499677Z",
     "iopub.status.busy": "2020-09-29T04:51:23.498678Z",
     "iopub.status.idle": "2020-09-29T06:54:30.293439Z",
     "shell.execute_reply": "2020-09-29T06:54:30.292451Z",
     "shell.execute_reply.started": "2020-09-29T04:51:23.498678Z"
    }
   },
   "outputs": [],
   "source": [
    "# no model selected default is Random Forest, if classification is True it is a Classification problem\n",
    "Feature_Selector = BorutaShap(importance_measure='shap',\n",
    "                              classification=True)\n",
    "\n",
    "Feature_Selector.fit(X=df.drop(['target'], axis=1), y=df.target, n_trials=100, random_state=1)"
   ]
  },
  {
   "cell_type": "code",
   "execution_count": null,
   "metadata": {
    "execution": {
     "iopub.execute_input": "2020-09-29T14:38:41.230392Z",
     "iopub.status.busy": "2020-09-29T14:38:41.229415Z",
     "iopub.status.idle": "2020-09-29T14:38:41.239367Z",
     "shell.execute_reply": "2020-09-29T14:38:41.239367Z",
     "shell.execute_reply.started": "2020-09-29T14:38:41.230392Z"
    }
   },
   "outputs": [],
   "source": [
    "#Feature_Selector.TentativeRoughFix()"
   ]
  },
  {
   "cell_type": "code",
   "execution_count": null,
   "metadata": {
    "execution": {
     "iopub.execute_input": "2020-09-29T13:12:39.061879Z",
     "iopub.status.busy": "2020-09-29T13:12:39.061879Z",
     "iopub.status.idle": "2020-09-29T13:12:40.660575Z",
     "shell.execute_reply": "2020-09-29T13:12:40.659609Z",
     "shell.execute_reply.started": "2020-09-29T13:12:39.061879Z"
    }
   },
   "outputs": [],
   "source": [
    "Feature_Selector.plot(which_features=\"accepted\",y_scale='log')\n"
   ]
  },
  {
   "cell_type": "code",
   "execution_count": null,
   "metadata": {
    "execution": {
     "iopub.execute_input": "2020-09-29T13:26:15.653054Z",
     "iopub.status.busy": "2020-09-29T13:26:15.652019Z",
     "iopub.status.idle": "2020-09-29T13:26:16.053969Z",
     "shell.execute_reply": "2020-09-29T13:26:16.052971Z",
     "shell.execute_reply.started": "2020-09-29T13:26:15.653054Z"
    }
   },
   "outputs": [],
   "source": [
    "pickle.dump(Feature_Selector, open('../models/feature_selector.sav', 'wb'))"
   ]
  },
  {
   "cell_type": "markdown",
   "metadata": {},
   "source": [
    "### check if our base model improves "
   ]
  },
  {
   "cell_type": "code",
   "execution_count": null,
   "metadata": {
    "execution": {
     "iopub.execute_input": "2020-09-29T14:38:51.459038Z",
     "iopub.status.busy": "2020-09-29T14:38:51.459038Z",
     "iopub.status.idle": "2020-09-29T14:38:52.197075Z",
     "shell.execute_reply": "2020-09-29T14:38:52.196067Z",
     "shell.execute_reply.started": "2020-09-29T14:38:51.459038Z"
    }
   },
   "outputs": [],
   "source": [
    "subset = Feature_Selector.Subset()\n",
    "X_train, X_test, y_train, y_test = train_test_split(subset, df['target'], test_size=0.35, random_state=1)\n",
    "\n",
    "model_feat1 = RandomForestClassifier()\n",
    "#train model\n",
    "model_feat1.fit(X_train, y_train)\n",
    "y_pred = model_feat1.predict(X_test)\n",
    "print(model_feat1.score(X_test, y_test))\n",
    "print(precision_score(y_test,y_pred))\n",
    "print(recall_score(y_test,y_pred))\n",
    "\n"
   ]
  },
  {
   "cell_type": "code",
   "execution_count": null,
   "metadata": {
    "execution": {
     "iopub.execute_input": "2020-09-27T17:58:00.138019Z",
     "iopub.status.busy": "2020-09-27T17:58:00.137022Z",
     "iopub.status.idle": "2020-09-27T17:58:00.142009Z",
     "shell.execute_reply": "2020-09-27T17:58:00.142009Z",
     "shell.execute_reply.started": "2020-09-27T17:58:00.138019Z"
    }
   },
   "outputs": [],
   "source": [
    "### add genetics"
   ]
  },
  {
   "cell_type": "code",
   "execution_count": null,
   "metadata": {
    "execution": {
     "iopub.execute_input": "2020-09-29T14:38:58.106262Z",
     "iopub.status.busy": "2020-09-29T14:38:58.106262Z",
     "iopub.status.idle": "2020-09-29T14:38:58.848283Z",
     "shell.execute_reply": "2020-09-29T14:38:58.847281Z",
     "shell.execute_reply.started": "2020-09-29T14:38:58.106262Z"
    }
   },
   "outputs": [],
   "source": [
    "ss=subset.copy()\n",
    "ss['NACCNE4S']=df['NACCNE4S']\n",
    "ss['NACCAPOE']=df['NACCAPOE']\n",
    "X_train, X_test, y_train, y_test = train_test_split(ss, df['target'], test_size=0.35, random_state=1)\n",
    "\n",
    "model_feat1 = RandomForestClassifier()\n",
    "#train model\n",
    "model_feat1.fit(X_train, y_train)\n",
    "y_pred = model_feat1.predict(X_test)\n",
    "print(model_feat1.score(X_test, y_test))\n",
    "print(precision_score(y_test,y_pred))\n",
    "print(recall_score(y_test,y_pred))\n",
    "\n"
   ]
  },
  {
   "cell_type": "markdown",
   "metadata": {
    "execution": {
     "iopub.execute_input": "2020-09-27T00:46:55.572841Z",
     "iopub.status.busy": "2020-09-27T00:46:55.572841Z",
     "iopub.status.idle": "2020-09-27T00:46:55.576804Z",
     "shell.execute_reply": "2020-09-27T00:46:55.575812Z",
     "shell.execute_reply.started": "2020-09-27T00:46:55.572841Z"
    }
   },
   "source": [
    "## find which tests these featues are part of which tests and add the rest for engineering"
   ]
  },
  {
   "cell_type": "code",
   "execution_count": null,
   "metadata": {
    "execution": {
     "iopub.execute_input": "2020-09-29T14:40:14.823285Z",
     "iopub.status.busy": "2020-09-29T14:40:14.823285Z",
     "iopub.status.idle": "2020-09-29T14:40:14.837246Z",
     "shell.execute_reply": "2020-09-29T14:40:14.836275Z",
     "shell.execute_reply.started": "2020-09-29T14:40:14.823285Z"
    }
   },
   "outputs": [],
   "source": [
    "dd=pd.read_csv(r\"..\\docs\\rdd_datadictionary_uds.csv\")\n",
    "import json\n",
    "with open('../data/processed/forms.txt') as json_file:\n",
    "    form_key = json.load(json_file)"
   ]
  },
  {
   "cell_type": "code",
   "execution_count": null,
   "metadata": {
    "execution": {
     "iopub.execute_input": "2020-09-29T14:40:15.250172Z",
     "iopub.status.busy": "2020-09-29T14:40:15.249145Z",
     "iopub.status.idle": "2020-09-29T14:40:15.259131Z",
     "shell.execute_reply": "2020-09-29T14:40:15.258121Z",
     "shell.execute_reply.started": "2020-09-29T14:40:15.250172Z"
    }
   },
   "outputs": [],
   "source": [
    "forms_set=dd['Form'].loc[dd['VariableName'].isin(subset.columns)]\n",
    "forms_set.unique()\n",
    "equiv=[form_key[x] for x in forms_set.unique().tolist()]\n",
    "equiv"
   ]
  },
  {
   "cell_type": "code",
   "execution_count": null,
   "metadata": {
    "execution": {
     "iopub.execute_input": "2020-09-29T14:40:16.737167Z",
     "iopub.status.busy": "2020-09-29T14:40:16.736169Z",
     "iopub.status.idle": "2020-09-29T14:40:16.743152Z",
     "shell.execute_reply": "2020-09-29T14:40:16.742152Z",
     "shell.execute_reply.started": "2020-09-29T14:40:16.737167Z"
    }
   },
   "outputs": [],
   "source": [
    "#u_forms=forms_set.unique().tolist()\n",
    "u_forms=['b4','b7','c1c2','c1','c2']\n",
    "other_vars=dd['VariableName'].loc[dd['Form'].isin(u_forms)]"
   ]
  },
  {
   "cell_type": "code",
   "execution_count": null,
   "metadata": {
    "execution": {
     "iopub.execute_input": "2020-09-29T14:40:41.278538Z",
     "iopub.status.busy": "2020-09-29T14:40:41.278538Z",
     "iopub.status.idle": "2020-09-29T14:40:41.297492Z",
     "shell.execute_reply": "2020-09-29T14:40:41.296521Z",
     "shell.execute_reply.started": "2020-09-29T14:40:41.278538Z"
    }
   },
   "outputs": [],
   "source": [
    "broad_subset=df[df.columns.intersection(other_vars)]\n",
    "broad_subset=pd.concat([broad_subset, subset], axis=1, sort=False)\n"
   ]
  },
  {
   "cell_type": "markdown",
   "metadata": {},
   "source": [
    "### let's try the forest on this broad feature list"
   ]
  },
  {
   "cell_type": "code",
   "execution_count": null,
   "metadata": {
    "execution": {
     "iopub.execute_input": "2020-09-29T14:40:42.969017Z",
     "iopub.status.busy": "2020-09-29T14:40:42.969017Z",
     "iopub.status.idle": "2020-09-29T14:40:43.897534Z",
     "shell.execute_reply": "2020-09-29T14:40:43.896590Z",
     "shell.execute_reply.started": "2020-09-29T14:40:42.969017Z"
    }
   },
   "outputs": [],
   "source": [
    "X_train, X_test, y_train, y_test = train_test_split(broad_subset, df['target'], test_size=0.35, random_state=1)\n",
    "\n",
    "model_feat1 = RandomForestClassifier()\n",
    "#train model\n",
    "model_feat1.fit(X_train, y_train)\n",
    "y_pred = model_feat1.predict(X_test)\n",
    "print(model_feat1.score(X_test, y_test))\n",
    "print(precision_score(y_test,y_pred))\n",
    "print(recall_score(y_test,y_pred))\n",
    "\n"
   ]
  },
  {
   "cell_type": "markdown",
   "metadata": {},
   "source": [
    "### save broad and subset features"
   ]
  },
  {
   "cell_type": "code",
   "execution_count": null,
   "metadata": {
    "execution": {
     "iopub.execute_input": "2020-09-29T14:38:08.640544Z",
     "iopub.status.busy": "2020-09-29T14:38:08.640544Z",
     "iopub.status.idle": "2020-09-29T14:38:08.646527Z",
     "shell.execute_reply": "2020-09-29T14:38:08.645532Z",
     "shell.execute_reply.started": "2020-09-29T14:38:08.640544Z"
    }
   },
   "outputs": [],
   "source": [
    "pickle.dump(broad_subset.columns, open('../models/01final_features_broad.sav', 'wb'))\n",
    "pickle.dump(subset.columns, open('../models/01final_features_res.sav', 'wb'))\n"
   ]
  },
  {
   "cell_type": "markdown",
   "metadata": {},
   "source": [
    "# Feature engineering + shap. This is not done properly because cat variables should be one hot encoded"
   ]
  },
  {
   "cell_type": "code",
   "execution_count": null,
   "metadata": {
    "execution": {
     "iopub.execute_input": "2020-09-27T17:50:51.425344Z",
     "iopub.status.busy": "2020-09-27T17:50:51.424347Z",
     "iopub.status.idle": "2020-09-27T17:50:51.429332Z",
     "shell.execute_reply": "2020-09-27T17:50:51.428344Z",
     "shell.execute_reply.started": "2020-09-27T17:50:51.424347Z"
    }
   },
   "outputs": [],
   "source": [
    "#import\n",
    "# Importing modules to create our layers and model.\n",
    "from keras.layers import Input, Dense\n",
    "from keras.models import Model\n",
    "from sklearn.preprocessing import MinMaxScaler"
   ]
  },
  {
   "cell_type": "code",
   "execution_count": null,
   "metadata": {
    "execution": {
     "iopub.execute_input": "2020-09-27T17:50:53.574327Z",
     "iopub.status.busy": "2020-09-27T17:50:53.574327Z",
     "iopub.status.idle": "2020-09-27T17:50:53.605242Z",
     "shell.execute_reply": "2020-09-27T17:50:53.604271Z",
     "shell.execute_reply.started": "2020-09-27T17:50:53.574327Z"
    }
   },
   "outputs": [],
   "source": [
    "#normalize to 0-1\n",
    "scaler = MinMaxScaler()\n",
    "normalized = scaler.fit_transform(broad_subset)"
   ]
  },
  {
   "cell_type": "code",
   "execution_count": null,
   "metadata": {
    "execution": {
     "iopub.execute_input": "2020-09-27T17:50:58.818758Z",
     "iopub.status.busy": "2020-09-27T17:50:58.817760Z",
     "iopub.status.idle": "2020-09-27T17:50:58.873609Z",
     "shell.execute_reply": "2020-09-27T17:50:58.872608Z",
     "shell.execute_reply.started": "2020-09-27T17:50:58.818758Z"
    }
   },
   "outputs": [],
   "source": [
    "# Defining the level of compression of the hidden layer. Basically, as the input is passed through the encoding layer, it will come out smaller if you want it to find salient features. If I choose num of columns for my encoding dimension, there would be a compression factor of 1, or nothing.\n",
    "encoding_dim = round(.75*subset.shape[1])\n",
    "input_dim = Input(shape=(subset.shape[1], ))\n",
    "# This is the size of the output. We want to generate 28 x 28 pictures in the end, so this is the size we're looking for. \n",
    "output_dim = subset.shape[1]\n",
    "encoded = Dense(encoding_dim, activation='relu')(input_dim)\n",
    "decoded = Dense(output_dim, activation='sigmoid')(encoded)"
   ]
  },
  {
   "cell_type": "code",
   "execution_count": null,
   "metadata": {
    "execution": {
     "iopub.execute_input": "2020-09-27T17:50:59.627521Z",
     "iopub.status.busy": "2020-09-27T17:50:59.627521Z",
     "iopub.status.idle": "2020-09-27T17:50:59.692321Z",
     "shell.execute_reply": "2020-09-27T17:50:59.691346Z",
     "shell.execute_reply.started": "2020-09-27T17:50:59.627521Z"
    }
   },
   "outputs": [],
   "source": [
    "# encoder\n",
    "autoencoder = Model(input_dim, decoded)\n",
    "# intermediate result\n",
    "encoder = Model(input_dim, encoded)\n",
    "autoencoder.compile(optimizer='adam', loss='binary_crossentropy')#mean_squared_error"
   ]
  },
  {
   "cell_type": "code",
   "execution_count": null,
   "metadata": {
    "execution": {
     "iopub.execute_input": "2020-09-27T17:51:01.019597Z",
     "iopub.status.busy": "2020-09-27T17:51:01.018599Z",
     "iopub.status.idle": "2020-09-27T17:51:48.712384Z",
     "shell.execute_reply": "2020-09-27T17:51:48.712384Z",
     "shell.execute_reply.started": "2020-09-27T17:51:01.019597Z"
    },
    "jupyter": {
     "outputs_hidden": true
    }
   },
   "outputs": [],
   "source": [
    "X_train, X_test, y_train, y_test = train_test_split(subset, df['target'], test_size=0.35, random_state=1)\n",
    "autoencoder.fit(X_train, X_train,\n",
    "                epochs=550,\n",
    "                batch_size=60,\n",
    "                shuffle=True,\n",
    "                validation_data=(X_test, X_test))"
   ]
  },
  {
   "cell_type": "markdown",
   "metadata": {},
   "source": [
    "### fit the  forest model"
   ]
  },
  {
   "cell_type": "code",
   "execution_count": null,
   "metadata": {
    "execution": {
     "iopub.execute_input": "2020-09-27T17:51:48.798143Z",
     "iopub.status.busy": "2020-09-27T17:51:48.798143Z",
     "iopub.status.idle": "2020-09-27T17:51:51.180480Z",
     "shell.execute_reply": "2020-09-27T17:51:51.179509Z",
     "shell.execute_reply.started": "2020-09-27T17:51:48.798143Z"
    }
   },
   "outputs": [],
   "source": [
    "encoded_X_train = encoder.predict(X_train)\n",
    "encoded_X_val = encoder.predict(X_test)\n",
    "\n",
    "model_feat1 = RandomForestClassifier()\n",
    "#train model\n",
    "model_feat1.fit(encoded_X_train, y_train)\n",
    "y_pred = model_feat1.predict(encoded_X_val)\n",
    "print(model_feat1.score(encoded_X_val, y_test))\n",
    "print(precision_score(y_test,y_pred))\n",
    "print(recall_score(y_test,y_pred))\n",
    "\n"
   ]
  },
  {
   "cell_type": "markdown",
   "metadata": {},
   "source": [
    "Not sucessful "
   ]
  },
  {
   "cell_type": "markdown",
   "metadata": {
    "execution": {
     "iopub.execute_input": "2020-09-28T21:17:33.077167Z",
     "iopub.status.busy": "2020-09-28T21:17:33.077167Z",
     "iopub.status.idle": "2020-09-28T21:17:33.082156Z",
     "shell.execute_reply": "2020-09-28T21:17:33.081158Z",
     "shell.execute_reply.started": "2020-09-28T21:17:33.077167Z"
    }
   },
   "source": [
    "## Feature engineering using Prince and FAMD. A waste of time because you have to differentiate cats"
   ]
  },
  {
   "cell_type": "code",
   "execution_count": null,
   "metadata": {
    "execution": {
     "iopub.execute_input": "2020-09-29T03:03:18.751297Z",
     "iopub.status.busy": "2020-09-29T03:03:18.750299Z",
     "iopub.status.idle": "2020-09-29T03:03:18.769252Z",
     "shell.execute_reply": "2020-09-29T03:03:18.768281Z",
     "shell.execute_reply.started": "2020-09-29T03:03:18.750299Z"
    }
   },
   "outputs": [],
   "source": [
    "broad_features = pickle.load(open('../models/01final_features_broad.sav', 'rb'))\n",
    "res_features = pickle.load(open('../models/01final_features_res.sav', 'rb'))\n",
    "\n",
    "broad_subset=df[df.columns.intersection(broad_features)]\n",
    "subset=df[df.columns.intersection(res_features)]"
   ]
  },
  {
   "cell_type": "code",
   "execution_count": null,
   "metadata": {
    "execution": {
     "iopub.execute_input": "2020-09-28T22:06:47.888767Z",
     "iopub.status.busy": "2020-09-28T22:06:47.887769Z",
     "iopub.status.idle": "2020-09-28T22:06:47.899738Z",
     "shell.execute_reply": "2020-09-28T22:06:47.898748Z",
     "shell.execute_reply.started": "2020-09-28T22:06:47.888767Z"
    }
   },
   "outputs": [],
   "source": [
    "X_train, X_test, y_train, y_test = train_test_split(subset, df['target'], test_size=0.35, random_state=1)"
   ]
  },
  {
   "cell_type": "code",
   "execution_count": null,
   "metadata": {
    "execution": {
     "iopub.execute_input": "2020-09-28T22:06:48.758567Z",
     "iopub.status.busy": "2020-09-28T22:06:48.758567Z",
     "iopub.status.idle": "2020-09-28T22:06:48.765549Z",
     "shell.execute_reply": "2020-09-28T22:06:48.764551Z",
     "shell.execute_reply.started": "2020-09-28T22:06:48.758567Z"
    }
   },
   "outputs": [],
   "source": [
    "from prince import pca \n",
    "xt = pca.PCA(n_components=round(.75*subset.shape[1]), n_iter=3, copy=True, check_input=True, engine='auto', random_state=1)\n",
    "xtt = pca.PCA(n_components=round(.75*subset.shape[1]), n_iter=3, copy=True, check_input=True, engine='auto', random_state=1)"
   ]
  },
  {
   "cell_type": "code",
   "execution_count": null,
   "metadata": {
    "execution": {
     "iopub.execute_input": "2020-09-28T22:06:51.130341Z",
     "iopub.status.busy": "2020-09-28T22:06:51.130341Z",
     "iopub.status.idle": "2020-09-28T22:06:51.305287Z",
     "shell.execute_reply": "2020-09-28T22:06:51.304290Z",
     "shell.execute_reply.started": "2020-09-28T22:06:51.130341Z"
    }
   },
   "outputs": [],
   "source": [
    "xt=xt.fit(X_train)  "
   ]
  },
  {
   "cell_type": "code",
   "execution_count": null,
   "metadata": {
    "execution": {
     "iopub.execute_input": "2020-09-28T22:06:51.856845Z",
     "iopub.status.busy": "2020-09-28T22:06:51.856845Z",
     "iopub.status.idle": "2020-09-28T22:06:51.964557Z",
     "shell.execute_reply": "2020-09-28T22:06:51.963559Z",
     "shell.execute_reply.started": "2020-09-28T22:06:51.856845Z"
    }
   },
   "outputs": [],
   "source": [
    "xtt=xtt.fit(X_test)  "
   ]
  },
  {
   "cell_type": "code",
   "execution_count": null,
   "metadata": {
    "execution": {
     "iopub.execute_input": "2020-09-28T22:06:52.499163Z",
     "iopub.status.busy": "2020-09-28T22:06:52.499163Z",
     "iopub.status.idle": "2020-09-28T22:06:52.527089Z",
     "shell.execute_reply": "2020-09-28T22:06:52.526139Z",
     "shell.execute_reply.started": "2020-09-28T22:06:52.499163Z"
    }
   },
   "outputs": [],
   "source": [
    "xtt=xtt.row_coordinates(X_test)\n",
    "xt=xt.row_coordinates(X_train)\n"
   ]
  },
  {
   "cell_type": "code",
   "execution_count": null,
   "metadata": {
    "execution": {
     "iopub.execute_input": "2020-09-28T22:06:56.489114Z",
     "iopub.status.busy": "2020-09-28T22:06:56.488103Z",
     "iopub.status.idle": "2020-09-28T22:06:58.208097Z",
     "shell.execute_reply": "2020-09-28T22:06:58.207099Z",
     "shell.execute_reply.started": "2020-09-28T22:06:56.489114Z"
    }
   },
   "outputs": [],
   "source": [
    "model_feat1 = RandomForestClassifier()\n",
    "#train model\n",
    "model_feat1.fit(xt, y_train)\n",
    "y_pred = model_feat1.predict(xtt)\n",
    "print(model_feat1.score(xtt, y_test))\n",
    "print(precision_score(y_test,y_pred))\n",
    "print(recall_score(y_test,y_pred))\n",
    "\n"
   ]
  }
 ],
 "metadata": {
  "kernelspec": {
   "display_name": "AD",
   "language": "python",
   "name": "ad"
  },
  "language_info": {
   "codemirror_mode": {
    "name": "ipython",
    "version": 3
   },
   "file_extension": ".py",
   "mimetype": "text/x-python",
   "name": "python",
   "nbconvert_exporter": "python",
   "pygments_lexer": "ipython3",
   "version": "3.7.9"
  }
 },
 "nbformat": 4,
 "nbformat_minor": 4
}
