{
 "cells": [
  {
   "cell_type": "markdown",
   "metadata": {},
   "source": [
    "# Final Feature selection"
   ]
  },
  {
   "cell_type": "code",
   "execution_count": null,
   "metadata": {
    "ExecuteTime": {
     "end_time": "2020-09-03T17:32:20.984828Z",
     "start_time": "2020-09-03T17:32:19.772067Z"
    },
    "execution": {
     "iopub.execute_input": "2020-09-27T02:27:40.816656Z",
     "iopub.status.busy": "2020-09-27T02:27:40.815659Z",
     "iopub.status.idle": "2020-09-27T02:27:42.566023Z",
     "shell.execute_reply": "2020-09-27T02:27:42.566023Z",
     "shell.execute_reply.started": "2020-09-27T02:27:40.816656Z"
    }
   },
   "outputs": [],
   "source": [
    "#imports\n",
    "import pandas as pd \n",
    "import numpy as np\n",
    "import matplotlib.pyplot as plt\n",
    "import seaborn as sns\n",
    "from BorutaShap import BorutaShap\n",
    "from sklearn.model_selection import train_test_split\n",
    "from sklearn.ensemble import RandomForestClassifier\n",
    "from sklearn.metrics import recall_score, accuracy_score, precision_score\n",
    "import pickle\n"
   ]
  },
  {
   "cell_type": "code",
   "execution_count": null,
   "metadata": {
    "ExecuteTime": {
     "end_time": "2020-09-03T17:32:23.622769Z",
     "start_time": "2020-09-03T17:32:23.615787Z"
    },
    "execution": {
     "iopub.execute_input": "2020-09-26T21:19:41.650225Z",
     "iopub.status.busy": "2020-09-26T21:19:41.650225Z",
     "iopub.status.idle": "2020-09-26T21:19:41.657180Z",
     "shell.execute_reply": "2020-09-26T21:19:41.656181Z",
     "shell.execute_reply.started": "2020-09-26T21:19:41.650225Z"
    }
   },
   "outputs": [],
   "source": [
    "%matplotlib inline\n",
    "sns.set_palette(\"Set2\")"
   ]
  },
  {
   "cell_type": "code",
   "execution_count": null,
   "metadata": {
    "ExecuteTime": {
     "end_time": "2020-09-03T17:32:51.760524Z",
     "start_time": "2020-09-03T17:32:50.145841Z"
    },
    "execution": {
     "iopub.execute_input": "2020-09-27T02:27:45.036409Z",
     "iopub.status.busy": "2020-09-27T02:27:45.035393Z",
     "iopub.status.idle": "2020-09-27T02:27:45.392460Z",
     "shell.execute_reply": "2020-09-27T02:27:45.391463Z",
     "shell.execute_reply.started": "2020-09-27T02:27:45.036409Z"
    }
   },
   "outputs": [],
   "source": [
    "#load initial cleaned data\n",
    "df=pd.read_csv(r\"..\\data\\processed\\prelim_clean2.csv\", index_col=[0])"
   ]
  },
  {
   "cell_type": "markdown",
   "metadata": {},
   "source": [
    "## Boruta"
   ]
  },
  {
   "cell_type": "code",
   "execution_count": null,
   "metadata": {
    "execution": {
     "iopub.execute_input": "2020-09-27T02:27:58.895326Z",
     "iopub.status.busy": "2020-09-27T02:27:58.895326Z",
     "iopub.status.idle": "2020-09-27T04:41:28.280655Z",
     "shell.execute_reply": "2020-09-27T04:41:28.279645Z",
     "shell.execute_reply.started": "2020-09-27T02:27:58.895326Z"
    }
   },
   "outputs": [],
   "source": [
    "# no model selected default is Random Forest, if classification is True it is a Classification problem\n",
    "Feature_Selector = BorutaShap(importance_measure='shap',\n",
    "                              classification=True)\n",
    "\n",
    "Feature_Selector.fit(X=df.drop(['target'], axis=1), y=df.target, n_trials=100, random_state=1)"
   ]
  },
  {
   "cell_type": "code",
   "execution_count": null,
   "metadata": {
    "execution": {
     "iopub.execute_input": "2020-09-27T17:34:26.657070Z",
     "iopub.status.busy": "2020-09-27T17:34:26.657070Z",
     "iopub.status.idle": "2020-09-27T17:34:26.667056Z",
     "shell.execute_reply": "2020-09-27T17:34:26.666044Z",
     "shell.execute_reply.started": "2020-09-27T17:34:26.657070Z"
    }
   },
   "outputs": [],
   "source": [
    "Feature_Selector.TentativeRoughFix()"
   ]
  },
  {
   "cell_type": "code",
   "execution_count": null,
   "metadata": {
    "execution": {
     "iopub.execute_input": "2020-09-27T17:33:14.047031Z",
     "iopub.status.busy": "2020-09-27T17:33:14.047031Z",
     "iopub.status.idle": "2020-09-27T17:33:16.024746Z",
     "shell.execute_reply": "2020-09-27T17:33:16.023746Z",
     "shell.execute_reply.started": "2020-09-27T17:33:14.047031Z"
    }
   },
   "outputs": [],
   "source": [
    "Feature_Selector.plot(which_features=\"accepted\",y_scale='log')\n"
   ]
  },
  {
   "cell_type": "markdown",
   "metadata": {},
   "source": [
    "### check if our base model improves "
   ]
  },
  {
   "cell_type": "code",
   "execution_count": null,
   "metadata": {
    "execution": {
     "iopub.execute_input": "2020-09-27T17:36:48.109126Z",
     "iopub.status.busy": "2020-09-27T17:36:48.108098Z",
     "iopub.status.idle": "2020-09-27T17:36:48.825089Z",
     "shell.execute_reply": "2020-09-27T17:36:48.824092Z",
     "shell.execute_reply.started": "2020-09-27T17:36:48.109126Z"
    }
   },
   "outputs": [],
   "source": [
    "subset = Feature_Selector.Subset()\n",
    "subset.drop(['NACCNMRI','DEMUN'], axis=1, inplace=True)\n",
    "X_train, X_test, y_train, y_test = train_test_split(subset, df['target'], test_size=0.35, random_state=1)\n",
    "\n",
    "model_feat1 = RandomForestClassifier()\n",
    "#train model\n",
    "model_feat1.fit(X_train, y_train)\n",
    "y_pred = model_feat1.predict(X_test)\n",
    "print(model_feat1.score(X_test, y_test))\n",
    "print(precision_score(y_test,y_pred))\n",
    "print(recall_score(y_test,y_pred))\n",
    "\n"
   ]
  },
  {
   "cell_type": "code",
   "execution_count": null,
   "metadata": {
    "execution": {
     "iopub.execute_input": "2020-09-27T17:58:00.138019Z",
     "iopub.status.busy": "2020-09-27T17:58:00.137022Z",
     "iopub.status.idle": "2020-09-27T17:58:00.142009Z",
     "shell.execute_reply": "2020-09-27T17:58:00.142009Z",
     "shell.execute_reply.started": "2020-09-27T17:58:00.138019Z"
    }
   },
   "outputs": [],
   "source": [
    "### add genetics"
   ]
  },
  {
   "cell_type": "code",
   "execution_count": null,
   "metadata": {
    "execution": {
     "iopub.execute_input": "2020-09-27T17:58:02.041691Z",
     "iopub.status.busy": "2020-09-27T17:58:02.041691Z",
     "iopub.status.idle": "2020-09-27T17:58:02.765664Z",
     "shell.execute_reply": "2020-09-27T17:58:02.764678Z",
     "shell.execute_reply.started": "2020-09-27T17:58:02.041691Z"
    }
   },
   "outputs": [],
   "source": [
    "# subset['NACCNE4S']=df['NACCNE4S']\n",
    "# subset['NACCAPOE']=df['NACCAPOE']\n",
    "# X_train, X_test, y_train, y_test = train_test_split(subset, df['target'], test_size=0.35, random_state=1)\n",
    "\n",
    "# model_feat1 = RandomForestClassifier()\n",
    "# #train model\n",
    "# model_feat1.fit(X_train, y_train)\n",
    "# y_pred = model_feat1.predict(X_test)\n",
    "# print(model_feat1.score(X_test, y_test))\n",
    "# print(precision_score(y_test,y_pred))\n",
    "# print(recall_score(y_test,y_pred))\n",
    "\n"
   ]
  },
  {
   "cell_type": "markdown",
   "metadata": {
    "execution": {
     "iopub.execute_input": "2020-09-27T00:46:55.572841Z",
     "iopub.status.busy": "2020-09-27T00:46:55.572841Z",
     "iopub.status.idle": "2020-09-27T00:46:55.576804Z",
     "shell.execute_reply": "2020-09-27T00:46:55.575812Z",
     "shell.execute_reply.started": "2020-09-27T00:46:55.572841Z"
    }
   },
   "source": [
    "## find which tests these featues are part of which tests and add the rest for engineering"
   ]
  },
  {
   "cell_type": "code",
   "execution_count": null,
   "metadata": {
    "execution": {
     "iopub.execute_input": "2020-09-27T17:37:11.243361Z",
     "iopub.status.busy": "2020-09-27T17:37:11.243361Z",
     "iopub.status.idle": "2020-09-27T17:37:11.278243Z",
     "shell.execute_reply": "2020-09-27T17:37:11.277240Z",
     "shell.execute_reply.started": "2020-09-27T17:37:11.243361Z"
    }
   },
   "outputs": [],
   "source": [
    "dd=pd.read_csv(r\"..\\docs\\rdd_datadictionary_uds.csv\")\n",
    "import json\n",
    "with open('../data/processed/forms.txt') as json_file:\n",
    "    form_key = json.load(json_file)"
   ]
  },
  {
   "cell_type": "code",
   "execution_count": null,
   "metadata": {
    "execution": {
     "iopub.execute_input": "2020-09-27T17:37:11.796812Z",
     "iopub.status.busy": "2020-09-27T17:37:11.796812Z",
     "iopub.status.idle": "2020-09-27T17:37:11.805758Z",
     "shell.execute_reply": "2020-09-27T17:37:11.804767Z",
     "shell.execute_reply.started": "2020-09-27T17:37:11.796812Z"
    }
   },
   "outputs": [],
   "source": [
    "forms_set=dd['Form'].loc[dd['VariableName'].isin(subset.columns)]\n",
    "forms_set.unique()\n",
    "equiv=[form_key[x] for x in forms_set.unique().tolist()]\n",
    "equiv"
   ]
  },
  {
   "cell_type": "code",
   "execution_count": null,
   "metadata": {
    "execution": {
     "iopub.execute_input": "2020-09-27T17:48:37.564071Z",
     "iopub.status.busy": "2020-09-27T17:48:37.564071Z",
     "iopub.status.idle": "2020-09-27T17:48:37.570061Z",
     "shell.execute_reply": "2020-09-27T17:48:37.569055Z",
     "shell.execute_reply.started": "2020-09-27T17:48:37.564071Z"
    }
   },
   "outputs": [],
   "source": [
    "#u_forms=forms_set.unique().tolist()\n",
    "u_forms=['b4','b7','c1c2','c1','c2']\n",
    "other_vars=dd['VariableName'].loc[dd['Form'].isin(u_forms)]"
   ]
  },
  {
   "cell_type": "code",
   "execution_count": null,
   "metadata": {
    "execution": {
     "iopub.execute_input": "2020-09-27T17:58:44.611525Z",
     "iopub.status.busy": "2020-09-27T17:58:44.610551Z",
     "iopub.status.idle": "2020-09-27T17:58:44.669369Z",
     "shell.execute_reply": "2020-09-27T17:58:44.668363Z",
     "shell.execute_reply.started": "2020-09-27T17:58:44.611525Z"
    },
    "jupyter": {
     "outputs_hidden": true
    }
   },
   "outputs": [],
   "source": [
    "broad_subset=df[df.columns.intersection(other_vars)]\n",
    "broad_subset=pd.concat([broad_subset, subset], axis=1, sort=False)\n",
    "broad_subset"
   ]
  },
  {
   "cell_type": "markdown",
   "metadata": {},
   "source": [
    "### let's try the forest on this broad feature list"
   ]
  },
  {
   "cell_type": "code",
   "execution_count": null,
   "metadata": {
    "execution": {
     "iopub.execute_input": "2020-09-27T17:58:49.809997Z",
     "iopub.status.busy": "2020-09-27T17:58:49.809997Z",
     "iopub.status.idle": "2020-09-27T17:58:50.706462Z",
     "shell.execute_reply": "2020-09-27T17:58:50.705469Z",
     "shell.execute_reply.started": "2020-09-27T17:58:49.809997Z"
    }
   },
   "outputs": [],
   "source": [
    "X_train, X_test, y_train, y_test = train_test_split(broad_subset, df['target'], test_size=0.35, random_state=1)\n",
    "\n",
    "model_feat1 = RandomForestClassifier()\n",
    "#train model\n",
    "model_feat1.fit(X_train, y_train)\n",
    "y_pred = model_feat1.predict(X_test)\n",
    "print(model_feat1.score(X_test, y_test))\n",
    "print(precision_score(y_test,y_pred))\n",
    "print(recall_score(y_test,y_pred))\n",
    "\n"
   ]
  },
  {
   "cell_type": "markdown",
   "metadata": {},
   "source": [
    "### save broad and subset features"
   ]
  },
  {
   "cell_type": "code",
   "execution_count": null,
   "metadata": {
    "execution": {
     "iopub.execute_input": "2020-09-27T17:50:37.070557Z",
     "iopub.status.busy": "2020-09-27T17:50:37.070557Z",
     "iopub.status.idle": "2020-09-27T17:50:37.077512Z",
     "shell.execute_reply": "2020-09-27T17:50:37.076512Z",
     "shell.execute_reply.started": "2020-09-27T17:50:37.070557Z"
    }
   },
   "outputs": [],
   "source": [
    "pickle.dump(broad_subset.columns, open('../models/01final_features_broad.sav', 'wb'))\n",
    "pickle.dump(subset.columns, open('../models/01final_features_res.sav', 'wb'))\n"
   ]
  },
  {
   "cell_type": "markdown",
   "metadata": {},
   "source": [
    "# Feature engineering + shap"
   ]
  },
  {
   "cell_type": "code",
   "execution_count": null,
   "metadata": {
    "execution": {
     "iopub.execute_input": "2020-09-27T17:50:51.425344Z",
     "iopub.status.busy": "2020-09-27T17:50:51.424347Z",
     "iopub.status.idle": "2020-09-27T17:50:51.429332Z",
     "shell.execute_reply": "2020-09-27T17:50:51.428344Z",
     "shell.execute_reply.started": "2020-09-27T17:50:51.424347Z"
    }
   },
   "outputs": [],
   "source": [
    "#import\n",
    "# Importing modules to create our layers and model.\n",
    "from keras.layers import Input, Dense\n",
    "from keras.models import Model\n",
    "from sklearn.preprocessing import MinMaxScaler"
   ]
  },
  {
   "cell_type": "code",
   "execution_count": null,
   "metadata": {
    "execution": {
     "iopub.execute_input": "2020-09-27T17:50:53.574327Z",
     "iopub.status.busy": "2020-09-27T17:50:53.574327Z",
     "iopub.status.idle": "2020-09-27T17:50:53.605242Z",
     "shell.execute_reply": "2020-09-27T17:50:53.604271Z",
     "shell.execute_reply.started": "2020-09-27T17:50:53.574327Z"
    }
   },
   "outputs": [],
   "source": [
    "#normalize to 0-1\n",
    "scaler = MinMaxScaler()\n",
    "normalized = scaler.fit_transform(broad_subset)"
   ]
  },
  {
   "cell_type": "code",
   "execution_count": null,
   "metadata": {
    "execution": {
     "iopub.execute_input": "2020-09-27T17:50:58.818758Z",
     "iopub.status.busy": "2020-09-27T17:50:58.817760Z",
     "iopub.status.idle": "2020-09-27T17:50:58.873609Z",
     "shell.execute_reply": "2020-09-27T17:50:58.872608Z",
     "shell.execute_reply.started": "2020-09-27T17:50:58.818758Z"
    }
   },
   "outputs": [],
   "source": [
    "# Defining the level of compression of the hidden layer. Basically, as the input is passed through the encoding layer, it will come out smaller if you want it to find salient features. If I choose num of columns for my encoding dimension, there would be a compression factor of 1, or nothing.\n",
    "encoding_dim = round(.75*subset.shape[1])\n",
    "input_dim = Input(shape=(subset.shape[1], ))\n",
    "# This is the size of the output. We want to generate 28 x 28 pictures in the end, so this is the size we're looking for. \n",
    "output_dim = subset.shape[1]\n",
    "encoded = Dense(encoding_dim, activation='relu')(input_dim)\n",
    "decoded = Dense(output_dim, activation='sigmoid')(encoded)"
   ]
  },
  {
   "cell_type": "code",
   "execution_count": null,
   "metadata": {
    "execution": {
     "iopub.execute_input": "2020-09-27T17:50:59.627521Z",
     "iopub.status.busy": "2020-09-27T17:50:59.627521Z",
     "iopub.status.idle": "2020-09-27T17:50:59.692321Z",
     "shell.execute_reply": "2020-09-27T17:50:59.691346Z",
     "shell.execute_reply.started": "2020-09-27T17:50:59.627521Z"
    }
   },
   "outputs": [],
   "source": [
    "# encoder\n",
    "autoencoder = Model(input_dim, decoded)\n",
    "# intermediate result\n",
    "encoder = Model(input_dim, encoded)\n",
    "autoencoder.compile(optimizer='adam', loss='binary_crossentropy')#mean_squared_error"
   ]
  },
  {
   "cell_type": "code",
   "execution_count": null,
   "metadata": {
    "execution": {
     "iopub.execute_input": "2020-09-27T17:51:01.019597Z",
     "iopub.status.busy": "2020-09-27T17:51:01.018599Z",
     "iopub.status.idle": "2020-09-27T17:51:48.712384Z",
     "shell.execute_reply": "2020-09-27T17:51:48.712384Z",
     "shell.execute_reply.started": "2020-09-27T17:51:01.019597Z"
    },
    "jupyter": {
     "outputs_hidden": true
    }
   },
   "outputs": [],
   "source": [
    "X_train, X_test, y_train, y_test = train_test_split(subset, df['target'], test_size=0.35, random_state=1)\n",
    "autoencoder.fit(X_train, X_train,\n",
    "                epochs=550,\n",
    "                batch_size=60,\n",
    "                shuffle=True,\n",
    "                validation_data=(X_test, X_test))"
   ]
  },
  {
   "cell_type": "markdown",
   "metadata": {},
   "source": [
    "### fit the  forest model"
   ]
  },
  {
   "cell_type": "code",
   "execution_count": null,
   "metadata": {
    "execution": {
     "iopub.execute_input": "2020-09-27T17:51:48.798143Z",
     "iopub.status.busy": "2020-09-27T17:51:48.798143Z",
     "iopub.status.idle": "2020-09-27T17:51:51.180480Z",
     "shell.execute_reply": "2020-09-27T17:51:51.179509Z",
     "shell.execute_reply.started": "2020-09-27T17:51:48.798143Z"
    }
   },
   "outputs": [],
   "source": [
    "encoded_X_train = encoder.predict(X_train)\n",
    "encoded_X_val = encoder.predict(X_test)\n",
    "\n",
    "model_feat1 = RandomForestClassifier()\n",
    "#train model\n",
    "model_feat1.fit(encoded_X_train, y_train)\n",
    "y_pred = model_feat1.predict(encoded_X_val)\n",
    "print(model_feat1.score(encoded_X_val, y_test))\n",
    "print(precision_score(y_test,y_pred))\n",
    "print(recall_score(y_test,y_pred))\n",
    "\n"
   ]
  },
  {
   "cell_type": "markdown",
   "metadata": {},
   "source": [
    "Not sucessful "
   ]
  },
  {
   "cell_type": "code",
   "execution_count": null,
   "metadata": {},
   "outputs": [],
   "source": []
  }
 ],
 "metadata": {
  "kernelspec": {
   "display_name": "AD",
   "language": "python",
   "name": "ad"
  },
  "language_info": {
   "codemirror_mode": {
    "name": "ipython",
    "version": 3
   },
   "file_extension": ".py",
   "mimetype": "text/x-python",
   "name": "python",
   "nbconvert_exporter": "python",
   "pygments_lexer": "ipython3",
   "version": "3.7.9"
  }
 },
 "nbformat": 4,
 "nbformat_minor": 4
}
