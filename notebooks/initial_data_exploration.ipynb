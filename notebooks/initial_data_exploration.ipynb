{
 "cells": [
  {
   "cell_type": "markdown",
   "metadata": {},
   "source": [
    "# Notebook 1: Initial dataset exploration"
   ]
  },
  {
   "cell_type": "code",
   "execution_count": 1,
   "metadata": {
    "execution": {
     "iopub.execute_input": "2020-10-12T00:25:37.492757Z",
     "iopub.status.busy": "2020-10-12T00:25:37.492757Z",
     "iopub.status.idle": "2020-10-12T00:25:38.357835Z",
     "shell.execute_reply": "2020-10-12T00:25:38.356841Z",
     "shell.execute_reply.started": "2020-10-12T00:25:37.492757Z"
    }
   },
   "outputs": [],
   "source": [
    "#imports\n",
    "import pandas as pd \n",
    "import numpy as np\n",
    "import matplotlib.pyplot as plt\n",
    "import seaborn as sns"
   ]
  },
  {
   "cell_type": "code",
   "execution_count": 2,
   "metadata": {
    "execution": {
     "iopub.execute_input": "2020-10-12T00:25:38.366783Z",
     "iopub.status.busy": "2020-10-12T00:25:38.365788Z",
     "iopub.status.idle": "2020-10-12T00:25:38.374764Z",
     "shell.execute_reply": "2020-10-12T00:25:38.373765Z",
     "shell.execute_reply.started": "2020-10-12T00:25:38.366783Z"
    }
   },
   "outputs": [],
   "source": [
    "%matplotlib inline\n",
    "sns.set_palette(\"Set2\")"
   ]
  },
  {
   "cell_type": "code",
   "execution_count": 3,
   "metadata": {
    "execution": {
     "iopub.execute_input": "2020-10-12T00:25:43.181517Z",
     "iopub.status.busy": "2020-10-12T00:25:43.180519Z",
     "iopub.status.idle": "2020-10-12T00:25:57.299012Z",
     "shell.execute_reply": "2020-10-12T00:25:57.298041Z",
     "shell.execute_reply.started": "2020-10-12T00:25:43.181517Z"
    }
   },
   "outputs": [
    {
     "name": "stderr",
     "output_type": "stream",
     "text": [
      "C:\\Users\\viceva\\miniconda3\\envs\\AD\\lib\\site-packages\\IPython\\core\\interactiveshell.py:3146: DtypeWarning: Columns (20,22,24,26,28,41,44,46,48,51,61,63,65,67,69,71,93,94,95,96,97,98,99,100,101,102,103,104,105,106,107,108,109,110,111,112,113,114,134,156,165,176,179,217,220,222,224,226,228,230,232,234,236,238,240,242,244,246,248,250,252,254,256,258,260,262,264,266,268,270,272,382,397,399,401,421,423,432,445,454,494,568,576,601,637,653,670,673,678,690,701,707,709,772,773,781,792,794,796,798,804,865,920,921,922,930,931,932,933,943,965,968,971) have mixed types.Specify dtype option on import or set low_memory=False.\n",
      "  interactivity=interactivity, compiler=compiler, result=result)\n"
     ]
    }
   ],
   "source": [
    "#load data\n",
    "raw_ds=pd.read_csv(r\"..\\data\\raw\\investigator_nacc50.csv\")\n",
    "dd=pd.read_csv(r\"..\\docs\\rdd_datadictionary_uds.csv\")"
   ]
  },
  {
   "cell_type": "markdown",
   "metadata": {},
   "source": [
    "## Data sample, columns & shape"
   ]
  },
  {
   "cell_type": "code",
   "execution_count": null,
   "metadata": {},
   "outputs": [],
   "source": [
    "raw_ds.head()"
   ]
  },
  {
   "cell_type": "code",
   "execution_count": null,
   "metadata": {
    "collapsed": true,
    "jupyter": {
     "outputs_hidden": true
    }
   },
   "outputs": [],
   "source": [
    "list(raw_ds)"
   ]
  },
  {
   "cell_type": "code",
   "execution_count": null,
   "metadata": {},
   "outputs": [],
   "source": [
    "raw_ds.shape"
   ]
  },
  {
   "cell_type": "markdown",
   "metadata": {},
   "source": [
    "## Is primary and presumptive diagnosis in dataset of ALzheimer's (1) identical?"
   ]
  },
  {
   "cell_type": "code",
   "execution_count": null,
   "metadata": {},
   "outputs": [],
   "source": [
    "\n",
    "print(sum(raw_ds['NACCALZD']==1)) #Presumptive etiologic diagnosis (could be contributing)\n",
    "print(sum(raw_ds['NACCETPR']==1)) #Primary etiologic diagnosis"
   ]
  },
  {
   "cell_type": "code",
   "execution_count": null,
   "metadata": {
    "collapsed": true,
    "jupyter": {
     "outputs_hidden": true
    }
   },
   "outputs": [],
   "source": [
    "plt.hist(raw_ds['NACCALZD']);"
   ]
  },
  {
   "cell_type": "markdown",
   "metadata": {},
   "source": [
    "### Is not identical, we will use the more restrictive NACCETPR"
   ]
  },
  {
   "cell_type": "code",
   "execution_count": null,
   "metadata": {
    "execution": {
     "iopub.execute_input": "2020-09-21T13:20:37.288817Z",
     "iopub.status.busy": "2020-09-21T13:20:37.288817Z",
     "iopub.status.idle": "2020-09-21T13:20:37.946092Z",
     "shell.execute_reply": "2020-09-21T13:20:37.946092Z",
     "shell.execute_reply.started": "2020-09-21T13:20:37.288817Z"
    }
   },
   "outputs": [],
   "source": [
    "#NACCUDSD: 3 = MCI; 4 = Dementia; NACCETPR=1 AD; is this last one = to NACCALZD=1? no. see above\n",
    "MCI_index=np.unique(raw_ds.loc[(raw_ds['NACCUDSD']==3) & ((raw_ds['NACCETPR']==1) | (raw_ds['NACCETPR']==99)),['NACCID']])\n",
    "Dem_index=np.unique(raw_ds.loc[(raw_ds['NACCUDSD']==4) & (raw_ds['NACCETPR']==1),['NACCID']])\n",
    "combi_i=set(MCI_index).intersection(Dem_index)\n",
    "len(combi_i)\n"
   ]
  },
  {
   "cell_type": "code",
   "execution_count": null,
   "metadata": {
    "execution": {
     "iopub.execute_input": "2020-09-21T13:20:39.070054Z",
     "iopub.status.busy": "2020-09-21T13:20:39.070054Z",
     "iopub.status.idle": "2020-09-21T13:20:39.278544Z",
     "shell.execute_reply": "2020-09-21T13:20:39.278544Z",
     "shell.execute_reply.started": "2020-09-21T13:20:39.070054Z"
    }
   },
   "outputs": [],
   "source": [
    "AD_MCI=raw_ds.loc[raw_ds['NACCID'].isin(combi_i)]\n",
    "#db of etiol AD patients that had at one point MCI and developed dementia\n"
   ]
  },
  {
   "cell_type": "code",
   "execution_count": null,
   "metadata": {
    "execution": {
     "iopub.execute_input": "2020-09-21T13:20:41.647163Z",
     "iopub.status.busy": "2020-09-21T13:20:41.647163Z",
     "iopub.status.idle": "2020-09-21T13:20:43.070386Z",
     "shell.execute_reply": "2020-09-21T13:20:43.070386Z",
     "shell.execute_reply.started": "2020-09-21T13:20:41.647163Z"
    }
   },
   "outputs": [],
   "source": [
    "#add subset of etiol AD patients that had at one point MCI and did not develop dementia\n",
    "nod_index=set(MCI_index).difference(combi_i)\n",
    "AD_MCI=pd.concat([AD_MCI,raw_ds.loc[raw_ds['NACCID'].isin(nod_index)]])\n",
    "len(nod_index)"
   ]
  },
  {
   "cell_type": "markdown",
   "metadata": {},
   "source": [
    "## Add visit date, create target and interval between visits columns\n"
   ]
  },
  {
   "cell_type": "code",
   "execution_count": null,
   "metadata": {
    "execution": {
     "iopub.execute_input": "2020-09-21T13:20:45.636494Z",
     "iopub.status.busy": "2020-09-21T13:20:45.635496Z",
     "iopub.status.idle": "2020-09-21T13:20:46.259827Z",
     "shell.execute_reply": "2020-09-21T13:20:46.259827Z",
     "shell.execute_reply.started": "2020-09-21T13:20:45.636494Z"
    }
   },
   "outputs": [],
   "source": [
    "#add visit date and create target\n",
    "AD_MCI['visitdate']=pd.to_datetime(dict(year=AD_MCI.VISITYR, month=AD_MCI.VISITMO, day=AD_MCI.VISITDAY))\n",
    "scores=np.concatenate((np.ones(len(combi_i)),np.zeros(len(nod_index))))\n",
    "idi=list(combi_i)+list(nod_index)\n",
    "op={'NACCID':idi, 'target':scores}\n",
    "output= pd.DataFrame(op)"
   ]
  },
  {
   "cell_type": "code",
   "execution_count": null,
   "metadata": {
    "execution": {
     "iopub.execute_input": "2020-09-21T13:20:49.846236Z",
     "iopub.status.busy": "2020-09-21T13:20:49.846236Z",
     "iopub.status.idle": "2020-09-21T13:21:58.157567Z",
     "shell.execute_reply": "2020-09-21T13:21:58.156622Z",
     "shell.execute_reply.started": "2020-09-21T13:20:49.846236Z"
    }
   },
   "outputs": [],
   "source": [
    "#add interval between visits, with last visit being NAN. This is very inneficient with the foor loop\n",
    "visit_interval=np.array([])\n",
    "for i in np.unique(AD_MCI['NACCID']):\n",
    "    temp=AD_MCI[['NACCVNUM','NACCAVST','visitdate']].loc[AD_MCI['NACCID'] == i]\n",
    "    for n in temp['NACCVNUM']:\n",
    "        if n not in temp['NACCAVST'].values:\n",
    "            visit_next=(temp['visitdate'].loc[temp['NACCVNUM'] == n+1]).values\n",
    "            visit_now=(temp['visitdate'].loc[temp['NACCVNUM'] == n])\n",
    "            visit_interval=np.append(visit_interval,(visit_next-visit_now).dt.days)\n",
    "        else:\n",
    "            visit_interval=np.append(visit_interval,np.nan)"
   ]
  },
  {
   "cell_type": "code",
   "execution_count": null,
   "metadata": {
    "execution": {
     "iopub.execute_input": "2020-09-21T13:22:01.818768Z",
     "iopub.status.busy": "2020-09-21T13:22:01.818768Z",
     "iopub.status.idle": "2020-09-21T13:22:01.822786Z",
     "shell.execute_reply": "2020-09-21T13:22:01.822786Z",
     "shell.execute_reply.started": "2020-09-21T13:22:01.818768Z"
    }
   },
   "outputs": [],
   "source": [
    "AD_MCI['visit_interval']=visit_interval"
   ]
  },
  {
   "cell_type": "code",
   "execution_count": null,
   "metadata": {
    "execution": {
     "iopub.execute_input": "2020-09-21T13:22:06.450382Z",
     "iopub.status.busy": "2020-09-21T13:22:06.450382Z",
     "iopub.status.idle": "2020-09-21T13:22:07.342994Z",
     "shell.execute_reply": "2020-09-21T13:22:07.342994Z",
     "shell.execute_reply.started": "2020-09-21T13:22:06.450382Z"
    }
   },
   "outputs": [],
   "source": [
    "#lets map the output to the main\n",
    "AD_MCI=AD_MCI.join(output.set_index('NACCID'), on= 'NACCID')"
   ]
  },
  {
   "cell_type": "code",
   "execution_count": null,
   "metadata": {},
   "outputs": [],
   "source": [
    "AD_MCI"
   ]
  },
  {
   "cell_type": "markdown",
   "metadata": {},
   "source": [
    "### Plotting of # visits and Interval"
   ]
  },
  {
   "cell_type": "code",
   "execution_count": null,
   "metadata": {
    "collapsed": true,
    "jupyter": {
     "outputs_hidden": true
    }
   },
   "outputs": [],
   "source": [
    "#plot the number of visits and interval beetween for the two catergories; \n",
    "f, axes = plt.subplots(1, 2, figsize=(12, 5))\n",
    "\n",
    "sns.boxenplot(x=\"NACCAVST\", y=\"visit_interval\", hue=\"target\",showfliers=0,\n",
    "            data=AD_MCI,ax=axes[0]); axes[0].set(ylim=(200, 1500))\n",
    "\n",
    "sns.countplot(x=\"NACCAVST\", hue=\"target\",\n",
    "            data=AD_MCI.groupby(['NACCID']).mean(),ax=axes[1]);\n",
    "#g.set_xticklabels(g.get_xticklabels(),rotation=45)\n",
    "labels = [label.get_text() for label in axes[1].get_xticklabels()];\n",
    "axes[1].set_xticklabels(map(lambda x: \"{:g}\".format(float(x)), labels));\n",
    "\n"
   ]
  },
  {
   "cell_type": "markdown",
   "metadata": {},
   "source": [
    "## Consolidate variables, there is data only recorded in 1st visit for some forms"
   ]
  },
  {
   "cell_type": "code",
   "execution_count": null,
   "metadata": {
    "execution": {
     "iopub.execute_input": "2020-09-21T14:10:01.556807Z",
     "iopub.status.busy": "2020-09-21T14:10:01.556807Z",
     "iopub.status.idle": "2020-09-21T14:10:01.889813Z",
     "shell.execute_reply": "2020-09-21T14:10:01.889813Z",
     "shell.execute_reply.started": "2020-09-21T14:10:01.556807Z"
    }
   },
   "outputs": [],
   "source": [
    "#making copy and mask of original nans\n",
    "AD_MCI_copy=AD_MCI.copy()\n",
    "mask=(AD_MCI.isnull())\n"
   ]
  },
  {
   "cell_type": "code",
   "execution_count": null,
   "metadata": {
    "execution": {
     "iopub.execute_input": "2020-09-21T14:55:43.405224Z",
     "iopub.status.busy": "2020-09-21T14:55:43.405224Z",
     "iopub.status.idle": "2020-09-21T15:02:44.119733Z",
     "shell.execute_reply": "2020-09-21T15:02:44.118737Z",
     "shell.execute_reply.started": "2020-09-21T14:55:43.405224Z"
    }
   },
   "outputs": [],
   "source": [
    "#replace -4 by nan to be able to back fill\n",
    "AD_MCI_copy.replace(to_replace=-4, value=np.nan, inplace=True)\n",
    "\n",
    "AD_MCI_copy=AD_MCI_copy.groupby(['NACCID']).transform(lambda x: x.fillna(method='ffill'))\n",
    "\n",
    "grouped=AD_MCI_copy.groupby(['NACCID']).fillna(method='ffill') #fastest\n",
    "grouped"
   ]
  },
  {
   "cell_type": "code",
   "execution_count": null,
   "metadata": {
    "execution": {
     "iopub.execute_input": "2020-09-21T15:08:35.966607Z",
     "iopub.status.busy": "2020-09-21T15:08:35.966607Z",
     "iopub.status.idle": "2020-09-21T15:08:37.542453Z",
     "shell.execute_reply": "2020-09-21T15:08:37.541456Z",
     "shell.execute_reply.started": "2020-09-21T15:08:35.966607Z"
    }
   },
   "outputs": [],
   "source": [
    "#add ID back, and replace the nans that were not nan from the beginning to -4\n",
    "grouped['NACCID']=AD_MCI['NACCID']\n",
    "\n",
    "grouped.replace(to_replace=np.nan, value=-4, inplace=True)\n",
    "\n",
    "grouped[mask]=np.nan"
   ]
  },
  {
   "cell_type": "code",
   "execution_count": null,
   "metadata": {
    "execution": {
     "iopub.execute_input": "2020-09-21T17:14:08.140339Z",
     "iopub.status.busy": "2020-09-21T17:14:08.140339Z",
     "iopub.status.idle": "2020-09-21T17:14:10.390124Z",
     "shell.execute_reply": "2020-09-21T17:14:10.389148Z",
     "shell.execute_reply.started": "2020-09-21T17:14:08.140339Z"
    }
   },
   "outputs": [],
   "source": [
    "#checking everything is in order\n",
    "print(np.sum((grouped==-4).unstack()))\n",
    "np.sum((AD_MCI==-4).unstack())"
   ]
  },
  {
   "cell_type": "code",
   "execution_count": null,
   "metadata": {
    "execution": {
     "iopub.execute_input": "2020-09-21T17:16:31.651557Z",
     "iopub.status.busy": "2020-09-21T17:16:31.651557Z",
     "iopub.status.idle": "2020-09-21T17:16:31.656543Z",
     "shell.execute_reply": "2020-09-21T17:16:31.656543Z",
     "shell.execute_reply.started": "2020-09-21T17:16:31.651557Z"
    }
   },
   "outputs": [],
   "source": [
    "grouped.shape"
   ]
  },
  {
   "cell_type": "code",
   "execution_count": null,
   "metadata": {
    "execution": {
     "iopub.execute_input": "2020-09-21T17:17:37.874707Z",
     "iopub.status.busy": "2020-09-21T17:17:37.874707Z",
     "iopub.status.idle": "2020-09-21T17:18:02.925211Z",
     "shell.execute_reply": "2020-09-21T17:18:02.925211Z",
     "shell.execute_reply.started": "2020-09-21T17:17:37.874707Z"
    }
   },
   "outputs": [],
   "source": [
    "# drop everything that is not MCI & dem (we won't take into account healthy history. \n",
    "#Reconsider this step if building historic model)\n",
    "clean_AD_MCI=grouped.loc[(grouped['NACCUDSD']>=3)]\n",
    "print(clean_AD_MCI.shape)\n",
    "#drop NACCIDs with just one visit\n",
    "clean_AD_MCI=clean_AD_MCI[clean_AD_MCI['NACCID'].map(clean_AD_MCI['NACCID'].value_counts()) >= 2]\n",
    "print(clean_AD_MCI.shape)\n",
    "# drop everything that is not MCI \n",
    "clean_AD_MCI=clean_AD_MCI.loc[(clean_AD_MCI['NACCUDSD']==3)]\n",
    "print(clean_AD_MCI.shape)\n",
    "\n",
    "#check again to see if we need to drop desangelados\n",
    "#todrop=[]\n",
    "c=0\n",
    "for i in nod_index:\n",
    "    if clean_AD_MCI.loc[clean_AD_MCI.NACCID == i, 'NACCID'].count()<2 & clean_AD_MCI.loc[clean_AD_MCI.NACCID == i, 'NACCID'].count()> 0:\n",
    "        c+=1\n",
    "        #todrop.append(clean_AD_MCI.index[clean_AD_MCI['NACCID'] == i].tolist())\n",
    "        #clean_AD_MCI=clean_AD_MCI.drop(clean_AD_MCI.index[clean_AD_MCI['NACCID'] == i])\n",
    "\n",
    "print(c)\n"
   ]
  },
  {
   "cell_type": "code",
   "execution_count": null,
   "metadata": {},
   "outputs": [],
   "source": [
    "#recheck distros\n",
    "f, axes = plt.subplots(1, 2, figsize=(12, 5))\n",
    "\n",
    "sns.boxenplot(x=\"NACCAVST\", y=\"visit_interval\", hue=\"target\",showfliers=0,\n",
    "            data=clean_AD_MCI,ax=axes[0]); axes[0].set(ylim=(200, 1500))\n",
    "\n",
    "sns.countplot(x=\"NACCAVST\", hue=\"target\",\n",
    "            data=clean_AD_MCI.groupby(['NACCID']).mean(),ax=axes[1]);\n",
    "#g.set_xticklabels(g.get_xticklabels(),rotation=45)\n",
    "labels = [label.get_text() for label in axes[1].get_xticklabels()];\n",
    "axes[1].set_xticklabels(map(lambda x: \"{:g}\".format(float(x)), labels));"
   ]
  },
  {
   "cell_type": "code",
   "execution_count": null,
   "metadata": {
    "code_folding": [],
    "execution": {
     "iopub.execute_input": "2020-09-21T17:18:03.135621Z",
     "iopub.status.busy": "2020-09-21T17:18:03.134624Z",
     "iopub.status.idle": "2020-09-21T17:18:03.489674Z",
     "shell.execute_reply": "2020-09-21T17:18:03.488709Z",
     "shell.execute_reply.started": "2020-09-21T17:18:03.135621Z"
    }
   },
   "outputs": [],
   "source": [
    "#drop columns full of nans\n",
    "clean_AD_MCI=clean_AD_MCI.dropna(axis=1,how='all')"
   ]
  },
  {
   "cell_type": "code",
   "execution_count": null,
   "metadata": {
    "execution": {
     "iopub.execute_input": "2020-09-21T17:18:14.188664Z",
     "iopub.status.busy": "2020-09-21T17:18:14.188664Z",
     "iopub.status.idle": "2020-09-21T17:18:27.613628Z",
     "shell.execute_reply": "2020-09-21T17:18:27.612631Z",
     "shell.execute_reply.started": "2020-09-21T17:18:14.188664Z"
    }
   },
   "outputs": [],
   "source": [
    "#save this dataframe\n",
    "#clean_AD_MCI.to_csv('..\\data\\interim\\AD_MCI.csv')"
   ]
  }
 ],
 "metadata": {
  "kernelspec": {
   "display_name": "AD",
   "language": "python",
   "name": "ad"
  },
  "language_info": {
   "codemirror_mode": {
    "name": "ipython",
    "version": 3
   },
   "file_extension": ".py",
   "mimetype": "text/x-python",
   "name": "python",
   "nbconvert_exporter": "python",
   "pygments_lexer": "ipython3",
   "version": "3.7.9"
  },
  "varInspector": {
   "cols": {
    "lenName": 16,
    "lenType": 16,
    "lenVar": 40
   },
   "kernels_config": {
    "python": {
     "delete_cmd_postfix": "",
     "delete_cmd_prefix": "del ",
     "library": "var_list.py",
     "varRefreshCmd": "print(var_dic_list())"
    },
    "r": {
     "delete_cmd_postfix": ") ",
     "delete_cmd_prefix": "rm(",
     "library": "var_list.r",
     "varRefreshCmd": "cat(var_dic_list()) "
    }
   },
   "oldHeight": 207.667,
   "position": {
    "height": "40px",
    "left": "901px",
    "right": "20px",
    "top": "330px",
    "width": "367px"
   },
   "types_to_exclude": [
    "module",
    "function",
    "builtin_function_or_method",
    "instance",
    "_Feature"
   ],
   "varInspector_section_display": "none",
   "window_display": true
  }
 },
 "nbformat": 4,
 "nbformat_minor": 4
}
