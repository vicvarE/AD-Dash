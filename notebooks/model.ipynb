{
 "cells": [
  {
   "cell_type": "markdown",
   "metadata": {},
   "source": [
    "# Initial model tuning and feature search"
   ]
  },
  {
   "cell_type": "code",
   "execution_count": null,
   "metadata": {
    "ExecuteTime": {
     "end_time": "2020-09-03T17:32:20.984828Z",
     "start_time": "2020-09-03T17:32:19.772067Z"
    },
    "execution": {
     "iopub.execute_input": "2020-09-25T00:01:55.210237Z",
     "iopub.status.busy": "2020-09-25T00:01:55.209240Z",
     "iopub.status.idle": "2020-09-25T00:01:56.330376Z",
     "shell.execute_reply": "2020-09-25T00:01:56.329443Z",
     "shell.execute_reply.started": "2020-09-25T00:01:55.210237Z"
    }
   },
   "outputs": [],
   "source": [
    "#imports\n",
    "import pandas as pd \n",
    "import numpy as np\n",
    "import matplotlib.pyplot as plt\n",
    "import seaborn as sns\n",
    "from sklearn import feature_selection\n",
    "from sklearn.model_selection import train_test_split\n",
    "from sklearn.ensemble import RandomForestClassifier\n",
    "from sklearn.metrics import recall_score, accuracy_score, precision_score\n",
    "import pickle\n"
   ]
  },
  {
   "cell_type": "code",
   "execution_count": null,
   "metadata": {
    "ExecuteTime": {
     "end_time": "2020-09-03T17:32:23.622769Z",
     "start_time": "2020-09-03T17:32:23.615787Z"
    },
    "execution": {
     "iopub.execute_input": "2020-09-25T00:01:56.331385Z",
     "iopub.status.busy": "2020-09-25T00:01:56.331385Z",
     "iopub.status.idle": "2020-09-25T00:01:56.339354Z",
     "shell.execute_reply": "2020-09-25T00:01:56.338357Z",
     "shell.execute_reply.started": "2020-09-25T00:01:56.331385Z"
    }
   },
   "outputs": [],
   "source": [
    "%matplotlib inline\n",
    "sns.set_palette(\"Set2\")"
   ]
  },
  {
   "cell_type": "code",
   "execution_count": null,
   "metadata": {
    "ExecuteTime": {
     "end_time": "2020-09-03T17:32:51.760524Z",
     "start_time": "2020-09-03T17:32:50.145841Z"
    },
    "execution": {
     "iopub.execute_input": "2020-09-25T00:01:56.341349Z",
     "iopub.status.busy": "2020-09-25T00:01:56.341349Z",
     "iopub.status.idle": "2020-09-25T00:01:56.788541Z",
     "shell.execute_reply": "2020-09-25T00:01:56.787545Z",
     "shell.execute_reply.started": "2020-09-25T00:01:56.341349Z"
    }
   },
   "outputs": [],
   "source": [
    "#load initial cleaned data\n",
    "df=pd.read_csv(r\"..\\data\\processed\\prelim_clean.csv\", index_col=[0])"
   ]
  },
  {
   "cell_type": "markdown",
   "metadata": {},
   "source": [
    "## drop some more\n",
    "num of of visits and who referred"
   ]
  },
  {
   "cell_type": "code",
   "execution_count": null,
   "metadata": {
    "execution": {
     "iopub.execute_input": "2020-09-25T00:01:56.791536Z",
     "iopub.status.busy": "2020-09-25T00:01:56.790537Z",
     "iopub.status.idle": "2020-09-25T00:01:56.827437Z",
     "shell.execute_reply": "2020-09-25T00:01:56.826442Z",
     "shell.execute_reply.started": "2020-09-25T00:01:56.791536Z"
    }
   },
   "outputs": [],
   "source": [
    "df"
   ]
  },
  {
   "cell_type": "code",
   "execution_count": null,
   "metadata": {
    "execution": {
     "iopub.execute_input": "2020-09-25T00:01:56.829432Z",
     "iopub.status.busy": "2020-09-25T00:01:56.829432Z",
     "iopub.status.idle": "2020-09-25T00:01:56.859349Z",
     "shell.execute_reply": "2020-09-25T00:01:56.858360Z",
     "shell.execute_reply.started": "2020-09-25T00:01:56.829432Z"
    }
   },
   "outputs": [],
   "source": [
    "df.drop(['NACCNVST','NACCAVST','NACCREFR'],inplace=True,axis=1)"
   ]
  },
  {
   "cell_type": "markdown",
   "metadata": {},
   "source": [
    "##split dataset"
   ]
  },
  {
   "cell_type": "code",
   "execution_count": null,
   "metadata": {
    "execution": {
     "iopub.execute_input": "2020-09-25T00:01:56.860345Z",
     "iopub.status.busy": "2020-09-25T00:01:56.860345Z",
     "iopub.status.idle": "2020-09-25T00:01:56.942632Z",
     "shell.execute_reply": "2020-09-25T00:01:56.941634Z",
     "shell.execute_reply.started": "2020-09-25T00:01:56.860345Z"
    }
   },
   "outputs": [],
   "source": [
    "X_train, X_test, y_train, y_test = train_test_split(df.drop(['target'], axis=1), df['target'], test_size=0.35, random_state=1)"
   ]
  },
  {
   "cell_type": "markdown",
   "metadata": {},
   "source": [
    "If we predict that everything is 0 (no AD) what's the result?"
   ]
  },
  {
   "cell_type": "code",
   "execution_count": null,
   "metadata": {
    "execution": {
     "iopub.execute_input": "2020-09-25T00:01:56.945624Z",
     "iopub.status.busy": "2020-09-25T00:01:56.944626Z",
     "iopub.status.idle": "2020-09-25T00:01:56.984519Z",
     "shell.execute_reply": "2020-09-25T00:01:56.983518Z",
     "shell.execute_reply.started": "2020-09-25T00:01:56.945624Z"
    }
   },
   "outputs": [],
   "source": [
    "from sklearn.dummy import DummyClassifier\n",
    "dummy_clf = DummyClassifier(strategy=\"most_frequent\")\n",
    "dummy_clf.fit(X_train, y_train)\n",
    "y_pred=dummy_clf.predict(X_test)\n",
    "print(dummy_clf.score(X_test, y_test))\n",
    "print(precision_score(y_test,y_pred, labels=np.unique(y_pred)))\n",
    "recall_score(y_test,y_pred)\n"
   ]
  },
  {
   "cell_type": "markdown",
   "metadata": {},
   "source": [
    "If we predict everything randomly, what do we get?"
   ]
  },
  {
   "cell_type": "code",
   "execution_count": null,
   "metadata": {
    "execution": {
     "iopub.execute_input": "2020-09-25T00:01:56.988506Z",
     "iopub.status.busy": "2020-09-25T00:01:56.988506Z",
     "iopub.status.idle": "2020-09-25T00:01:57.009449Z",
     "shell.execute_reply": "2020-09-25T00:01:57.008454Z",
     "shell.execute_reply.started": "2020-09-25T00:01:56.988506Z"
    }
   },
   "outputs": [],
   "source": [
    "from sklearn.dummy import DummyClassifier\n",
    "dummy_clf = DummyClassifier(strategy=\"uniform\")\n",
    "dummy_clf.fit(X_train, y_train)\n",
    "y_pred=dummy_clf.predict(X_test)\n",
    "print(dummy_clf.score(X_test, y_test))\n",
    "print(precision_score(y_test,y_pred, labels=np.unique(y_pred)))\n",
    "recall_score(y_test,y_pred)"
   ]
  },
  {
   "cell_type": "markdown",
   "metadata": {},
   "source": [
    "If we predict randomly taking into account inbalances"
   ]
  },
  {
   "cell_type": "code",
   "execution_count": null,
   "metadata": {
    "execution": {
     "iopub.execute_input": "2020-09-25T00:01:57.011443Z",
     "iopub.status.busy": "2020-09-25T00:01:57.011443Z",
     "iopub.status.idle": "2020-09-25T00:01:57.033383Z",
     "shell.execute_reply": "2020-09-25T00:01:57.032386Z",
     "shell.execute_reply.started": "2020-09-25T00:01:57.011443Z"
    }
   },
   "outputs": [],
   "source": [
    "from sklearn.dummy import DummyClassifier\n",
    "dummy_clf = DummyClassifier(strategy=\"stratified\")\n",
    "dummy_clf.fit(X_train, y_train)\n",
    "y_pred=dummy_clf.predict(X_test)\n",
    "print(dummy_clf.score(X_test, y_test))\n",
    "print(precision_score(y_test,y_pred, labels=np.unique(y_pred)))\n",
    "recall_score(y_test,y_pred)"
   ]
  },
  {
   "cell_type": "markdown",
   "metadata": {},
   "source": [
    "# Untunned\n",
    "## Initialize forest baseline"
   ]
  },
  {
   "cell_type": "code",
   "execution_count": null,
   "metadata": {
    "execution": {
     "iopub.execute_input": "2020-09-25T00:01:57.035379Z",
     "iopub.status.busy": "2020-09-25T00:01:57.034380Z",
     "iopub.status.idle": "2020-09-25T00:01:59.370051Z",
     "shell.execute_reply": "2020-09-25T00:01:59.369055Z",
     "shell.execute_reply.started": "2020-09-25T00:01:57.035379Z"
    }
   },
   "outputs": [],
   "source": [
    "model = RandomForestClassifier()\n",
    "#train model\n",
    "model.fit(X_train, y_train)\n",
    "y_pred = model.predict(X_test)\n",
    "print(model.score(X_test, y_test))\n",
    "print(precision_score(y_test,y_pred))\n",
    "recall_score(y_test,y_pred)"
   ]
  },
  {
   "cell_type": "markdown",
   "metadata": {},
   "source": [
    "## first pass at the features"
   ]
  },
  {
   "cell_type": "code",
   "execution_count": null,
   "metadata": {
    "execution": {
     "iopub.execute_input": "2020-09-25T00:01:59.371049Z",
     "iopub.status.busy": "2020-09-25T00:01:59.371049Z",
     "iopub.status.idle": "2020-09-25T00:01:59.378030Z",
     "shell.execute_reply": "2020-09-25T00:01:59.377033Z",
     "shell.execute_reply.started": "2020-09-25T00:01:59.371049Z"
    }
   },
   "outputs": [],
   "source": [
    "#take 10% of original dataframe to start with, but the forest takes only sqrt\n",
    "print(df.shape[1]*.1)\n",
    "print(np.sqrt(df.shape[1]))"
   ]
  },
  {
   "cell_type": "code",
   "execution_count": null,
   "metadata": {
    "execution": {
     "iopub.execute_input": "2020-09-25T00:01:59.379027Z",
     "iopub.status.busy": "2020-09-25T00:01:59.379027Z",
     "iopub.status.idle": "2020-09-25T00:01:59.754187Z",
     "shell.execute_reply": "2020-09-25T00:01:59.753190Z",
     "shell.execute_reply.started": "2020-09-25T00:01:59.379027Z"
    }
   },
   "outputs": [],
   "source": [
    "#Features sorted by their score\n",
    "feat_importances = pd.Series(model.feature_importances_, index=X_train.columns)\n",
    "feat_importances.nlargest(24).plot(kind='barh')\n",
    "cols=X_train.columns\n",
    "print(sorted(zip(map(lambda x: round(x, 4), model.feature_importances_), cols), \n",
    "             reverse=True))"
   ]
  },
  {
   "cell_type": "code",
   "execution_count": null,
   "metadata": {
    "execution": {
     "iopub.execute_input": "2020-09-25T00:01:59.755186Z",
     "iopub.status.busy": "2020-09-25T00:01:59.755186Z",
     "iopub.status.idle": "2020-09-25T00:01:59.773602Z",
     "shell.execute_reply": "2020-09-25T00:01:59.773602Z",
     "shell.execute_reply.started": "2020-09-25T00:01:59.755186Z"
    }
   },
   "outputs": [],
   "source": [
    "restrict=feat_importances.nlargest(56).index\n",
    "res=df[restrict.to_list()]\n",
    "X_train, X_test, y_train, y_test = train_test_split(res, df['target'], test_size=0.35, random_state=1)"
   ]
  },
  {
   "cell_type": "code",
   "execution_count": null,
   "metadata": {
    "execution": {
     "iopub.execute_input": "2020-09-25T00:01:59.775579Z",
     "iopub.status.busy": "2020-09-25T00:01:59.775579Z",
     "iopub.status.idle": "2020-09-25T00:02:00.923497Z",
     "shell.execute_reply": "2020-09-25T00:02:00.922509Z",
     "shell.execute_reply.started": "2020-09-25T00:01:59.775579Z"
    }
   },
   "outputs": [],
   "source": [
    "model_feat1 = RandomForestClassifier()\n",
    "#train model\n",
    "model_feat1.fit(X_train, y_train)\n",
    "y_pred = model_feat1.predict(X_test)\n",
    "print(model_feat1.score(X_test, y_test))\n",
    "print(precision_score(y_test,y_pred))\n",
    "recall_score(y_test,y_pred)"
   ]
  },
  {
   "cell_type": "code",
   "execution_count": null,
   "metadata": {
    "execution": {
     "iopub.execute_input": "2020-09-25T00:02:00.924493Z",
     "iopub.status.busy": "2020-09-25T00:02:00.924493Z",
     "iopub.status.idle": "2020-09-25T00:02:00.938457Z",
     "shell.execute_reply": "2020-09-25T00:02:00.937461Z",
     "shell.execute_reply.started": "2020-09-25T00:02:00.924493Z"
    }
   },
   "outputs": [],
   "source": [
    "restrict=feat_importances.nlargest(24).index\n",
    "res=df[restrict.to_list()]\n",
    "X_train, X_test, y_train, y_test = train_test_split(res, df['target'], test_size=0.35, random_state=1)"
   ]
  },
  {
   "cell_type": "code",
   "execution_count": null,
   "metadata": {
    "execution": {
     "iopub.execute_input": "2020-09-25T00:02:00.940451Z",
     "iopub.status.busy": "2020-09-25T00:02:00.940451Z",
     "iopub.status.idle": "2020-09-25T00:02:01.800289Z",
     "shell.execute_reply": "2020-09-25T00:02:01.799283Z",
     "shell.execute_reply.started": "2020-09-25T00:02:00.940451Z"
    }
   },
   "outputs": [],
   "source": [
    "model_feat1 = RandomForestClassifier()\n",
    "#train model\n",
    "model_feat1.fit(X_train, y_train)\n",
    "y_pred = model_feat1.predict(X_test)\n",
    "print(model_feat1.score(X_test, y_test))\n",
    "print(precision_score(y_test,y_pred))\n",
    "recall_score(y_test,y_pred)"
   ]
  },
  {
   "cell_type": "code",
   "execution_count": null,
   "metadata": {
    "execution": {
     "iopub.execute_input": "2020-09-25T00:02:01.801278Z",
     "iopub.status.busy": "2020-09-25T00:02:01.801278Z",
     "iopub.status.idle": "2020-09-25T00:02:02.971290Z",
     "shell.execute_reply": "2020-09-25T00:02:02.970320Z",
     "shell.execute_reply.started": "2020-09-25T00:02:01.801278Z"
    }
   },
   "outputs": [],
   "source": [
    "restrict=feat_importances.nlargest(100).index\n",
    "res=df[restrict.to_list()]\n",
    "X_train, X_test, y_train, y_test = train_test_split(res, df['target'], test_size=0.35, random_state=1)\n",
    "\n",
    "model_feat1 = RandomForestClassifier()\n",
    "#train model\n",
    "model_feat1.fit(X_train, y_train)\n",
    "y_pred = model_feat1.predict(X_test)\n",
    "print(model_feat1.score(X_test, y_test))\n",
    "print(precision_score(y_test,y_pred))\n",
    "recall_score(y_test,y_pred)"
   ]
  },
  {
   "cell_type": "markdown",
   "metadata": {},
   "source": [
    "### Exploring top 100 features"
   ]
  },
  {
   "cell_type": "code",
   "execution_count": null,
   "metadata": {
    "execution": {
     "iopub.execute_input": "2020-09-25T00:02:02.972286Z",
     "iopub.status.busy": "2020-09-25T00:02:02.972286Z",
     "iopub.status.idle": "2020-09-25T00:02:02.981260Z",
     "shell.execute_reply": "2020-09-25T00:02:02.980286Z",
     "shell.execute_reply.started": "2020-09-25T00:02:02.972286Z"
    }
   },
   "outputs": [],
   "source": [
    "#normalized count function because libraries suck\n",
    "def norm_count_single(df, column, target):\n",
    "    c=column\n",
    "    df1 = df.groupby(target)[c].value_counts(normalize=True)\n",
    "    df1 = df1.rename('norm').reset_index()\n",
    "    sns.barplot(x=c,y='norm',hue=target,data=df1)\n",
    "    \n",
    "def norm_count_group(df, target):    \n",
    "    ix = 1\n",
    "    fig = plt.figure(figsize = (15,10))\n",
    "    for c in list(df.columns):\n",
    "        if ix <= 3:\n",
    "            if c != target:\n",
    "                ax1 = fig.add_subplot(1,3,ix)\n",
    "                df1 = df.groupby(target)[c].value_counts(normalize=True)\n",
    "                df1 = df1.rename('norm').reset_index()\n",
    "                sns.barplot(x=c,y='norm',hue=target,data=df1,ax = ax1)\n",
    "                plt.xticks(rotation=45)\n",
    "\n",
    "        ix = ix +1\n",
    "        if ix == 4: \n",
    "            fig = plt.figure(figsize = (15,10))\n",
    "            ix =1"
   ]
  },
  {
   "cell_type": "code",
   "execution_count": null,
   "metadata": {
    "execution": {
     "iopub.execute_input": "2020-09-25T00:02:02.983256Z",
     "iopub.status.busy": "2020-09-25T00:02:02.982257Z",
     "iopub.status.idle": "2020-09-25T00:03:30.128600Z",
     "shell.execute_reply": "2020-09-25T00:03:30.126618Z",
     "shell.execute_reply.started": "2020-09-25T00:02:02.983256Z"
    },
    "jupyter": {
     "outputs_hidden": true
    }
   },
   "outputs": [],
   "source": [
    "temp=res.copy()\n",
    "temp['target']=df['target']\n",
    "norm_count_group(temp,'target')"
   ]
  },
  {
   "cell_type": "markdown",
   "metadata": {},
   "source": [
    "Let's do some tests without coparticipant"
   ]
  },
  {
   "cell_type": "code",
   "execution_count": null,
   "metadata": {
    "execution": {
     "iopub.execute_input": "2020-09-25T00:03:30.129583Z",
     "iopub.status.busy": "2020-09-25T00:03:30.129583Z",
     "iopub.status.idle": "2020-09-25T00:03:32.129539Z",
     "shell.execute_reply": "2020-09-25T00:03:32.129539Z",
     "shell.execute_reply.started": "2020-09-25T00:03:30.129583Z"
    }
   },
   "outputs": [],
   "source": [
    "res=df.drop(['NEWINF','target','visit_interval'], axis=1)\n",
    "X_train, X_test, y_train, y_test = train_test_split(res, df['target'], test_size=0.35, random_state=1)\n",
    "\n",
    "model_feat1 = RandomForestClassifier()\n",
    "#train model\n",
    "model_feat1.fit(X_train, y_train)\n",
    "y_pred = model_feat1.predict(X_test)\n",
    "print(model_feat1.score(X_test, y_test))\n",
    "print(precision_score(y_test,y_pred))\n",
    "print(recall_score(y_test,y_pred))\n",
    "\n",
    "\n",
    "#Features sorted by their score\n",
    "feat_importances = pd.Series(model_feat1.feature_importances_, index=X_train.columns)\n",
    "feat_importances.nlargest(24).plot(kind='barh')"
   ]
  },
  {
   "cell_type": "markdown",
   "metadata": {},
   "source": [
    "Precision is lower but overall works fine"
   ]
  },
  {
   "cell_type": "markdown",
   "metadata": {},
   "source": [
    "What's the performance if we drop tests that have >50% null"
   ]
  },
  {
   "cell_type": "code",
   "execution_count": null,
   "metadata": {
    "execution": {
     "iopub.execute_input": "2020-09-25T00:09:16.317281Z",
     "iopub.status.busy": "2020-09-25T00:09:16.317281Z",
     "iopub.status.idle": "2020-09-25T00:09:16.371133Z",
     "shell.execute_reply": "2020-09-25T00:09:16.370136Z",
     "shell.execute_reply.started": "2020-09-25T00:09:16.317281Z"
    }
   },
   "outputs": [],
   "source": [
    "restricted = df.loc[:,~df.eq(-4).sum().gt(len(df)/2)]\n",
    "restricted"
   ]
  },
  {
   "cell_type": "markdown",
   "metadata": {},
   "source": [
    "Initial model without coparticipants & visit interval, + dropped nan columns"
   ]
  },
  {
   "cell_type": "code",
   "execution_count": null,
   "metadata": {
    "execution": {
     "iopub.execute_input": "2020-09-25T00:11:24.326938Z",
     "iopub.status.busy": "2020-09-25T00:11:24.325941Z",
     "iopub.status.idle": "2020-09-25T00:11:25.935102Z",
     "shell.execute_reply": "2020-09-25T00:11:25.934121Z",
     "shell.execute_reply.started": "2020-09-25T00:11:24.326938Z"
    }
   },
   "outputs": [],
   "source": [
    "res=restricted.drop(['NEWINF','target','visit_interval','INBIRYR','HEIGHT'], axis=1)\n",
    "X_train, X_test, y_train, y_test = train_test_split(res, df['target'], test_size=0.35, random_state=1)\n",
    "\n",
    "model_feat1 = RandomForestClassifier()\n",
    "#train model\n",
    "model_feat1.fit(X_train, y_train)\n",
    "y_pred = model_feat1.predict(X_test)\n",
    "print(model_feat1.score(X_test, y_test))\n",
    "print(precision_score(y_test,y_pred))\n",
    "print(recall_score(y_test,y_pred))\n",
    "\n",
    "\n",
    "#Features sorted by their score\n",
    "feat_importances = pd.Series(model_feat1.feature_importances_, index=X_train.columns)\n",
    "feat_importances.nlargest(20).plot(kind='barh')"
   ]
  },
  {
   "cell_type": "code",
   "execution_count": null,
   "metadata": {
    "execution": {
     "iopub.execute_input": "2020-09-25T00:13:45.488356Z",
     "iopub.status.busy": "2020-09-25T00:13:45.487352Z",
     "iopub.status.idle": "2020-09-25T00:14:45.811306Z",
     "shell.execute_reply": "2020-09-25T00:14:45.810337Z",
     "shell.execute_reply.started": "2020-09-25T00:13:45.488356Z"
    },
    "jupyter": {
     "outputs_hidden": true
    }
   },
   "outputs": [],
   "source": [
    "restrict=feat_importances.nlargest(100).index\n",
    "dfres=res[restrict.to_list()]\n",
    "temp=dfres.copy()\n",
    "temp['target']=df['target']\n",
    "norm_count_group(temp,'target')"
   ]
  },
  {
   "cell_type": "markdown",
   "metadata": {},
   "source": [
    "Initial production model with 100 features + non-dropped nans"
   ]
  },
  {
   "cell_type": "code",
   "execution_count": null,
   "metadata": {
    "execution": {
     "iopub.execute_input": "2020-09-25T00:14:45.888096Z",
     "iopub.status.busy": "2020-09-25T00:14:45.888096Z",
     "iopub.status.idle": "2020-09-25T00:14:47.064219Z",
     "shell.execute_reply": "2020-09-25T00:14:47.062228Z",
     "shell.execute_reply.started": "2020-09-25T00:14:45.888096Z"
    }
   },
   "outputs": [],
   "source": [
    "res=df.drop(['NEWINF','target','visit_interval','INBIRYR','HEIGHT'], axis=1)\n",
    "dfres=res[restrict.to_list()]\n",
    "X_train, X_test, y_train, y_test = train_test_split(dfres, df['target'], test_size=0.35, random_state=1)\n",
    "\n",
    "model_feat1 = RandomForestClassifier()\n",
    "#train model\n",
    "model_feat1.fit(X_train, y_train)\n",
    "y_pred = model_feat1.predict(X_test)\n",
    "print(model_feat1.score(X_test, y_test))\n",
    "print(precision_score(y_test,y_pred))\n",
    "print(recall_score(y_test,y_pred))\n"
   ]
  },
  {
   "cell_type": "code",
   "execution_count": null,
   "metadata": {
    "execution": {
     "iopub.execute_input": "2020-09-25T00:04:40.783404Z",
     "iopub.status.busy": "2020-09-25T00:04:40.783404Z",
     "iopub.status.idle": "2020-09-25T00:04:40.788311Z",
     "shell.execute_reply": "2020-09-25T00:04:40.787316Z",
     "shell.execute_reply.started": "2020-09-25T00:04:40.783404Z"
    }
   },
   "outputs": [],
   "source": [
    "# save this latest model for now\n",
    "# pickle.dump(model_feat1, open('../src/models/01prelim_model.sav', 'wb'))\n",
    "# pickle.dump(restrict, open('../src/features/01prelim_features.sav', 'wb'))"
   ]
  },
  {
   "cell_type": "markdown",
   "metadata": {},
   "source": [
    "Let's try some threshold changes"
   ]
  },
  {
   "cell_type": "code",
   "execution_count": null,
   "metadata": {
    "execution": {
     "iopub.execute_input": "2020-09-25T00:14:47.066191Z",
     "iopub.status.busy": "2020-09-25T00:14:47.066191Z",
     "iopub.status.idle": "2020-09-25T00:14:47.277774Z",
     "shell.execute_reply": "2020-09-25T00:14:47.276791Z",
     "shell.execute_reply.started": "2020-09-25T00:14:47.066191Z"
    }
   },
   "outputs": [],
   "source": [
    "from sklearn.metrics import roc_curve, roc_auc_score\n",
    "# predict probabilities\n",
    "probs = model_feat1.predict_proba(X_test)\n",
    "# keep probabilities for the positive outcome only\n",
    "probs = probs[:, 1]\n",
    "auc = roc_auc_score(y_test, probs)\n",
    "# summarize scores\n",
    "print('ROC AUC=%.3f' % (auc))\n",
    "\n",
    "# calculate roc curves\n",
    "fpr, tpr, _ = roc_curve(y_test, probs)\n",
    "# plot the roc curve for the model\n",
    "plt.plot(fpr, tpr, linestyle='--', label='AD')\n",
    "# axis labels\n",
    "plt.xlabel('False Positive Rate')\n",
    "plt.ylabel('True Positive Rate')\n",
    "# show the legend\n",
    "plt.legend()"
   ]
  },
  {
   "cell_type": "code",
   "execution_count": null,
   "metadata": {
    "execution": {
     "iopub.execute_input": "2020-09-25T00:14:47.278785Z",
     "iopub.status.busy": "2020-09-25T00:14:47.278785Z",
     "iopub.status.idle": "2020-09-25T00:14:47.488192Z",
     "shell.execute_reply": "2020-09-25T00:14:47.487190Z",
     "shell.execute_reply.started": "2020-09-25T00:14:47.278785Z"
    }
   },
   "outputs": [],
   "source": [
    "from sklearn.metrics import precision_recall_curve, plot_precision_recall_curve\n",
    "plot_precision_recall_curve(model_feat1, X_test, y_test)"
   ]
  },
  {
   "cell_type": "code",
   "execution_count": null,
   "metadata": {
    "execution": {
     "iopub.execute_input": "2020-09-25T00:14:47.490183Z",
     "iopub.status.busy": "2020-09-25T00:14:47.490183Z",
     "iopub.status.idle": "2020-09-25T00:14:47.583927Z",
     "shell.execute_reply": "2020-09-25T00:14:47.582927Z",
     "shell.execute_reply.started": "2020-09-25T00:14:47.490183Z"
    }
   },
   "outputs": [],
   "source": [
    "threshold = .45 #to do: youden index?\n",
    "predicted_proba = model_feat1.predict_proba(X_test)\n",
    "predicted = (predicted_proba [:,1] >= threshold).astype('int')\n",
    "print(accuracy_score(y_test, predicted))\n",
    "print(precision_score(y_test,predicted))\n",
    "print(recall_score(y_test,predicted))"
   ]
  },
  {
   "cell_type": "code",
   "execution_count": null,
   "metadata": {
    "execution": {
     "iopub.execute_input": "2020-09-25T00:29:27.933277Z",
     "iopub.status.busy": "2020-09-25T00:29:27.933277Z",
     "iopub.status.idle": "2020-09-25T00:29:28.173629Z",
     "shell.execute_reply": "2020-09-25T00:29:28.172631Z",
     "shell.execute_reply.started": "2020-09-25T00:29:27.933277Z"
    }
   },
   "outputs": [],
   "source": [
    "from sklearn.metrics import plot_confusion_matrix\n",
    "plot_confusion_matrix(model_feat1, X_test, y_test,cmap=plt.cm.Blues)  # doctest: +SKIP"
   ]
  },
  {
   "cell_type": "code",
   "execution_count": null,
   "metadata": {},
   "outputs": [],
   "source": []
  }
 ],
 "metadata": {
  "kernelspec": {
   "display_name": "AD",
   "language": "python",
   "name": "ad"
  },
  "language_info": {
   "codemirror_mode": {
    "name": "ipython",
    "version": 3
   },
   "file_extension": ".py",
   "mimetype": "text/x-python",
   "name": "python",
   "nbconvert_exporter": "python",
   "pygments_lexer": "ipython3",
   "version": "3.7.9"
  }
 },
 "nbformat": 4,
 "nbformat_minor": 4
}
