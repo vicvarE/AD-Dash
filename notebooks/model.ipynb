{
 "cells": [
  {
   "cell_type": "markdown",
   "metadata": {},
   "source": [
    "# Initial model tuning and feature search"
   ]
  },
  {
   "cell_type": "code",
   "execution_count": null,
   "metadata": {
    "ExecuteTime": {
     "end_time": "2020-09-03T17:32:20.984828Z",
     "start_time": "2020-09-03T17:32:19.772067Z"
    },
    "execution": {
     "iopub.execute_input": "2020-09-26T17:37:55.905186Z",
     "iopub.status.busy": "2020-09-26T17:37:55.904222Z",
     "iopub.status.idle": "2020-09-26T17:37:55.910172Z",
     "shell.execute_reply": "2020-09-26T17:37:55.909173Z",
     "shell.execute_reply.started": "2020-09-26T17:37:55.905186Z"
    }
   },
   "outputs": [],
   "source": [
    "#imports\n",
    "import pandas as pd \n",
    "import numpy as np\n",
    "import matplotlib.pyplot as plt\n",
    "import seaborn as sns\n",
    "from sklearn.model_selection import train_test_split\n",
    "from sklearn.ensemble import RandomForestClassifier\n",
    "from sklearn.metrics import recall_score, accuracy_score, precision_score\n",
    "import pickle\n"
   ]
  },
  {
   "cell_type": "code",
   "execution_count": null,
   "metadata": {
    "ExecuteTime": {
     "end_time": "2020-09-03T17:32:23.622769Z",
     "start_time": "2020-09-03T17:32:23.615787Z"
    },
    "execution": {
     "iopub.execute_input": "2020-09-26T16:06:23.023868Z",
     "iopub.status.busy": "2020-09-26T16:06:23.022859Z",
     "iopub.status.idle": "2020-09-26T16:06:23.029841Z",
     "shell.execute_reply": "2020-09-26T16:06:23.028852Z",
     "shell.execute_reply.started": "2020-09-26T16:06:23.023868Z"
    }
   },
   "outputs": [],
   "source": [
    "%matplotlib inline\n",
    "sns.set_palette(\"Set2\")"
   ]
  },
  {
   "cell_type": "code",
   "execution_count": null,
   "metadata": {
    "ExecuteTime": {
     "end_time": "2020-09-03T17:32:51.760524Z",
     "start_time": "2020-09-03T17:32:50.145841Z"
    },
    "execution": {
     "iopub.execute_input": "2020-09-26T16:06:23.031836Z",
     "iopub.status.busy": "2020-09-26T16:06:23.031836Z",
     "iopub.status.idle": "2020-09-26T16:06:23.462702Z",
     "shell.execute_reply": "2020-09-26T16:06:23.461717Z",
     "shell.execute_reply.started": "2020-09-26T16:06:23.031836Z"
    }
   },
   "outputs": [],
   "source": [
    "#load initial cleaned data\n",
    "df=pd.read_csv(r\"..\\data\\processed\\prelim_clean.csv\", index_col=[0])"
   ]
  },
  {
   "cell_type": "markdown",
   "metadata": {},
   "source": [
    "## drop some more\n",
    "num of of visits and who referred"
   ]
  },
  {
   "cell_type": "code",
   "execution_count": null,
   "metadata": {
    "execution": {
     "iopub.execute_input": "2020-09-26T16:06:23.463680Z",
     "iopub.status.busy": "2020-09-26T16:06:23.463680Z",
     "iopub.status.idle": "2020-09-26T16:06:23.502592Z",
     "shell.execute_reply": "2020-09-26T16:06:23.501614Z",
     "shell.execute_reply.started": "2020-09-26T16:06:23.463680Z"
    }
   },
   "outputs": [],
   "source": [
    "df"
   ]
  },
  {
   "cell_type": "code",
   "execution_count": null,
   "metadata": {
    "execution": {
     "iopub.execute_input": "2020-09-26T16:06:23.504573Z",
     "iopub.status.busy": "2020-09-26T16:06:23.504573Z",
     "iopub.status.idle": "2020-09-26T16:06:23.532499Z",
     "shell.execute_reply": "2020-09-26T16:06:23.531500Z",
     "shell.execute_reply.started": "2020-09-26T16:06:23.504573Z"
    }
   },
   "outputs": [],
   "source": [
    "df.drop(['NACCNVST','NACCAVST','NACCREFR','CVDIMAG'],inplace=True,axis=1)"
   ]
  },
  {
   "cell_type": "markdown",
   "metadata": {},
   "source": [
    "##split dataset"
   ]
  },
  {
   "cell_type": "code",
   "execution_count": null,
   "metadata": {
    "execution": {
     "iopub.execute_input": "2020-09-26T16:06:23.534492Z",
     "iopub.status.busy": "2020-09-26T16:06:23.534492Z",
     "iopub.status.idle": "2020-09-26T16:06:23.600316Z",
     "shell.execute_reply": "2020-09-26T16:06:23.599319Z",
     "shell.execute_reply.started": "2020-09-26T16:06:23.534492Z"
    }
   },
   "outputs": [],
   "source": [
    "X_train, X_test, y_train, y_test = train_test_split(df.drop(['target'], axis=1), df['target'], test_size=0.35, random_state=1)"
   ]
  },
  {
   "cell_type": "markdown",
   "metadata": {},
   "source": [
    "# Finding the baselines"
   ]
  },
  {
   "cell_type": "markdown",
   "metadata": {},
   "source": [
    "If we predict that everything is 0 (no AD) what's the result?"
   ]
  },
  {
   "cell_type": "code",
   "execution_count": null,
   "metadata": {
    "execution": {
     "iopub.execute_input": "2020-09-26T16:06:23.602311Z",
     "iopub.status.busy": "2020-09-26T16:06:23.601313Z",
     "iopub.status.idle": "2020-09-26T16:06:23.632231Z",
     "shell.execute_reply": "2020-09-26T16:06:23.631232Z",
     "shell.execute_reply.started": "2020-09-26T16:06:23.602311Z"
    }
   },
   "outputs": [],
   "source": [
    "from sklearn.dummy import DummyClassifier\n",
    "dummy_clf = DummyClassifier(strategy=\"most_frequent\")\n",
    "dummy_clf.fit(X_train, y_train)\n",
    "y_pred=dummy_clf.predict(X_test)\n",
    "print(dummy_clf.score(X_test, y_test))\n",
    "print(precision_score(y_test,y_pred, labels=np.unique(y_pred)))\n",
    "recall_score(y_test,y_pred)\n"
   ]
  },
  {
   "cell_type": "markdown",
   "metadata": {},
   "source": [
    "If we predict everything randomly, what do we get?"
   ]
  },
  {
   "cell_type": "code",
   "execution_count": null,
   "metadata": {
    "execution": {
     "iopub.execute_input": "2020-09-26T16:06:23.634251Z",
     "iopub.status.busy": "2020-09-26T16:06:23.634251Z",
     "iopub.status.idle": "2020-09-26T16:06:23.651180Z",
     "shell.execute_reply": "2020-09-26T16:06:23.650183Z",
     "shell.execute_reply.started": "2020-09-26T16:06:23.634251Z"
    }
   },
   "outputs": [],
   "source": [
    "from sklearn.dummy import DummyClassifier\n",
    "dummy_clf = DummyClassifier(strategy=\"uniform\")\n",
    "dummy_clf.fit(X_train, y_train)\n",
    "y_pred=dummy_clf.predict(X_test)\n",
    "print(dummy_clf.score(X_test, y_test))\n",
    "print(precision_score(y_test,y_pred, labels=np.unique(y_pred)))\n",
    "recall_score(y_test,y_pred)"
   ]
  },
  {
   "cell_type": "markdown",
   "metadata": {},
   "source": [
    "If we predict randomly taking into account inbalances"
   ]
  },
  {
   "cell_type": "code",
   "execution_count": null,
   "metadata": {
    "execution": {
     "iopub.execute_input": "2020-09-26T16:06:23.654173Z",
     "iopub.status.busy": "2020-09-26T16:06:23.653174Z",
     "iopub.status.idle": "2020-09-26T16:06:23.670129Z",
     "shell.execute_reply": "2020-09-26T16:06:23.669133Z",
     "shell.execute_reply.started": "2020-09-26T16:06:23.654173Z"
    }
   },
   "outputs": [],
   "source": [
    "from sklearn.dummy import DummyClassifier\n",
    "dummy_clf = DummyClassifier(strategy=\"stratified\")\n",
    "dummy_clf.fit(X_train, y_train)\n",
    "y_pred=dummy_clf.predict(X_test)\n",
    "print(dummy_clf.score(X_test, y_test))\n",
    "print(precision_score(y_test,y_pred, labels=np.unique(y_pred)))\n",
    "recall_score(y_test,y_pred)"
   ]
  },
  {
   "cell_type": "markdown",
   "metadata": {},
   "source": [
    "# Untunned\n",
    "## Initialize forest baseline"
   ]
  },
  {
   "cell_type": "code",
   "execution_count": null,
   "metadata": {
    "execution": {
     "iopub.execute_input": "2020-09-26T16:06:23.672124Z",
     "iopub.status.busy": "2020-09-26T16:06:23.671139Z",
     "iopub.status.idle": "2020-09-26T16:06:25.391526Z",
     "shell.execute_reply": "2020-09-26T16:06:25.390530Z",
     "shell.execute_reply.started": "2020-09-26T16:06:23.672124Z"
    }
   },
   "outputs": [],
   "source": [
    "model = RandomForestClassifier()\n",
    "#train model\n",
    "model.fit(X_train, y_train)\n",
    "y_pred = model.predict(X_test)\n",
    "print(model.score(X_test, y_test))\n",
    "print(precision_score(y_test,y_pred))\n",
    "recall_score(y_test,y_pred)"
   ]
  },
  {
   "cell_type": "markdown",
   "metadata": {},
   "source": [
    "## first pass at the features"
   ]
  },
  {
   "cell_type": "code",
   "execution_count": null,
   "metadata": {
    "execution": {
     "iopub.execute_input": "2020-09-26T16:06:25.392524Z",
     "iopub.status.busy": "2020-09-26T16:06:25.392524Z",
     "iopub.status.idle": "2020-09-26T16:06:25.397511Z",
     "shell.execute_reply": "2020-09-26T16:06:25.396533Z",
     "shell.execute_reply.started": "2020-09-26T16:06:25.392524Z"
    }
   },
   "outputs": [],
   "source": [
    "#take 10% of original dataframe to start with, but the forest takes only sqrt\n",
    "print(df.shape[1]*.1)\n",
    "print(np.sqrt(df.shape[1]))"
   ]
  },
  {
   "cell_type": "code",
   "execution_count": null,
   "metadata": {
    "execution": {
     "iopub.execute_input": "2020-09-26T16:06:25.399505Z",
     "iopub.status.busy": "2020-09-26T16:06:25.398508Z",
     "iopub.status.idle": "2020-09-26T16:06:25.760541Z",
     "shell.execute_reply": "2020-09-26T16:06:25.759575Z",
     "shell.execute_reply.started": "2020-09-26T16:06:25.399505Z"
    },
    "jupyter": {
     "outputs_hidden": true
    }
   },
   "outputs": [],
   "source": [
    "#Features sorted by their score\n",
    "feat_importances = pd.Series(model.feature_importances_, index=X_train.columns)\n",
    "feat_importances.nlargest(24).plot(kind='barh')\n",
    "cols=X_train.columns\n",
    "print(sorted(zip(map(lambda x: round(x, 4), model.feature_importances_), cols), \n",
    "             reverse=True))"
   ]
  },
  {
   "cell_type": "markdown",
   "metadata": {},
   "source": [
    "## model with 10%"
   ]
  },
  {
   "cell_type": "code",
   "execution_count": null,
   "metadata": {
    "execution": {
     "iopub.execute_input": "2020-09-26T16:06:25.761537Z",
     "iopub.status.busy": "2020-09-26T16:06:25.761537Z",
     "iopub.status.idle": "2020-09-26T16:06:25.783478Z",
     "shell.execute_reply": "2020-09-26T16:06:25.782480Z",
     "shell.execute_reply.started": "2020-09-26T16:06:25.761537Z"
    }
   },
   "outputs": [],
   "source": [
    "restrict=feat_importances.nlargest(56).index\n",
    "res=df[restrict.to_list()]\n",
    "X_train, X_test, y_train, y_test = train_test_split(res, df['target'], test_size=0.35, random_state=1)"
   ]
  },
  {
   "cell_type": "code",
   "execution_count": null,
   "metadata": {
    "execution": {
     "iopub.execute_input": "2020-09-26T16:06:25.784476Z",
     "iopub.status.busy": "2020-09-26T16:06:25.784476Z",
     "iopub.status.idle": "2020-09-26T16:06:26.950373Z",
     "shell.execute_reply": "2020-09-26T16:06:26.949364Z",
     "shell.execute_reply.started": "2020-09-26T16:06:25.784476Z"
    }
   },
   "outputs": [],
   "source": [
    "model_feat1 = RandomForestClassifier()\n",
    "#train model\n",
    "model_feat1.fit(X_train, y_train)\n",
    "y_pred = model_feat1.predict(X_test)\n",
    "print(model_feat1.score(X_test, y_test))\n",
    "print(precision_score(y_test,y_pred))\n",
    "recall_score(y_test,y_pred)"
   ]
  },
  {
   "cell_type": "markdown",
   "metadata": {},
   "source": [
    "## Model with sqrt"
   ]
  },
  {
   "cell_type": "code",
   "execution_count": null,
   "metadata": {
    "execution": {
     "iopub.execute_input": "2020-09-26T16:06:26.954377Z",
     "iopub.status.busy": "2020-09-26T16:06:26.953353Z",
     "iopub.status.idle": "2020-09-26T16:06:26.971308Z",
     "shell.execute_reply": "2020-09-26T16:06:26.970305Z",
     "shell.execute_reply.started": "2020-09-26T16:06:26.954377Z"
    }
   },
   "outputs": [],
   "source": [
    "restrict=feat_importances.nlargest(24).index\n",
    "res=df[restrict.to_list()]\n",
    "X_train, X_test, y_train, y_test = train_test_split(res, df['target'], test_size=0.35, random_state=1)"
   ]
  },
  {
   "cell_type": "code",
   "execution_count": null,
   "metadata": {
    "execution": {
     "iopub.execute_input": "2020-09-26T16:06:26.973297Z",
     "iopub.status.busy": "2020-09-26T16:06:26.972300Z",
     "iopub.status.idle": "2020-09-26T16:06:27.859941Z",
     "shell.execute_reply": "2020-09-26T16:06:27.858959Z",
     "shell.execute_reply.started": "2020-09-26T16:06:26.973297Z"
    }
   },
   "outputs": [],
   "source": [
    "model_feat1 = RandomForestClassifier()\n",
    "#train model\n",
    "model_feat1.fit(X_train, y_train)\n",
    "y_pred = model_feat1.predict(X_test)\n",
    "print(model_feat1.score(X_test, y_test))\n",
    "print(precision_score(y_test,y_pred))\n",
    "recall_score(y_test,y_pred)"
   ]
  },
  {
   "cell_type": "markdown",
   "metadata": {},
   "source": [
    "## Model with 100 feats"
   ]
  },
  {
   "cell_type": "code",
   "execution_count": null,
   "metadata": {
    "execution": {
     "iopub.execute_input": "2020-09-26T16:06:27.860929Z",
     "iopub.status.busy": "2020-09-26T16:06:27.860929Z",
     "iopub.status.idle": "2020-09-26T16:06:29.103611Z",
     "shell.execute_reply": "2020-09-26T16:06:29.102605Z",
     "shell.execute_reply.started": "2020-09-26T16:06:27.860929Z"
    }
   },
   "outputs": [],
   "source": [
    "restrict=feat_importances.nlargest(100).index\n",
    "res=df[restrict.to_list()]\n",
    "X_train, X_test, y_train, y_test = train_test_split(res, df['target'], test_size=0.35, random_state=1)\n",
    "\n",
    "model_feat1 = RandomForestClassifier()\n",
    "#train model\n",
    "model_feat1.fit(X_train, y_train)\n",
    "y_pred = model_feat1.predict(X_test)\n",
    "print(model_feat1.score(X_test, y_test))\n",
    "print(precision_score(y_test,y_pred))\n",
    "recall_score(y_test,y_pred)"
   ]
  },
  {
   "cell_type": "markdown",
   "metadata": {},
   "source": [
    "### Exploring top 10% features"
   ]
  },
  {
   "cell_type": "code",
   "execution_count": null,
   "metadata": {
    "execution": {
     "iopub.execute_input": "2020-09-26T16:29:55.831883Z",
     "iopub.status.busy": "2020-09-26T16:29:55.830857Z",
     "iopub.status.idle": "2020-09-26T16:29:55.839841Z",
     "shell.execute_reply": "2020-09-26T16:29:55.838837Z",
     "shell.execute_reply.started": "2020-09-26T16:29:55.831883Z"
    }
   },
   "outputs": [],
   "source": [
    "#normalized count function because libraries suck\n",
    "def norm_count_single(df, column, target):\n",
    "    c=column\n",
    "    df1 = df.groupby(target)[c].value_counts(normalize=True)\n",
    "    df1 = df1.rename('norm').reset_index()\n",
    "    sns.barplot(x=c,y='norm',hue=target,data=df1)\n",
    "    \n",
    "def norm_count_group(df, target):    \n",
    "    ix = 1\n",
    "    fig = plt.figure(figsize = (15,10))\n",
    "    for c in list(df.columns):\n",
    "        if ix <= 3:\n",
    "            if c != target:\n",
    "                ax1 = fig.add_subplot(1,3,ix)\n",
    "                df1 = df.groupby(target)[c].value_counts(normalize=True)\n",
    "                df1 = df1.rename('norm').reset_index()\n",
    "                sns.barplot(x=c,y='norm',hue=target,data=df1,ax = ax1)\n",
    "                plt.xticks(rotation=45)\n",
    "\n",
    "        ix = ix +1\n",
    "        if ix == 4: \n",
    "            fig = plt.figure(figsize = (15,10))\n",
    "            ix =1"
   ]
  },
  {
   "cell_type": "code",
   "execution_count": null,
   "metadata": {
    "execution": {
     "iopub.execute_input": "2020-09-26T16:32:00.594315Z",
     "iopub.status.busy": "2020-09-26T16:32:00.594315Z",
     "iopub.status.idle": "2020-09-26T16:32:54.009523Z",
     "shell.execute_reply": "2020-09-26T16:32:54.008551Z",
     "shell.execute_reply.started": "2020-09-26T16:32:00.594315Z"
    },
    "jupyter": {
     "outputs_hidden": true
    }
   },
   "outputs": [],
   "source": [
    "restrict=feat_importances.nlargest(56).index\n",
    "res=df[restrict.to_list()]\n",
    "\n",
    "temp=res.copy()\n",
    "temp['target']=df['target']\n",
    "norm_count_group(temp,'target')"
   ]
  },
  {
   "cell_type": "markdown",
   "metadata": {},
   "source": [
    "Let's do some tests without coparticipant info"
   ]
  },
  {
   "cell_type": "code",
   "execution_count": null,
   "metadata": {
    "execution": {
     "iopub.execute_input": "2020-09-26T16:33:22.516305Z",
     "iopub.status.busy": "2020-09-26T16:33:22.516305Z",
     "iopub.status.idle": "2020-09-26T16:33:24.307525Z",
     "shell.execute_reply": "2020-09-26T16:33:24.306544Z",
     "shell.execute_reply.started": "2020-09-26T16:33:22.516305Z"
    }
   },
   "outputs": [],
   "source": [
    "res=df.drop(['NEWINF','INBIRYR','target','visit_interval'], axis=1)\n",
    "X_train, X_test, y_train, y_test = train_test_split(res, df['target'], test_size=0.35, random_state=1)\n",
    "\n",
    "model_feat1 = RandomForestClassifier()\n",
    "#train model\n",
    "model_feat1.fit(X_train, y_train)\n",
    "y_pred = model_feat1.predict(X_test)\n",
    "print(model_feat1.score(X_test, y_test))\n",
    "print(precision_score(y_test,y_pred))\n",
    "print(recall_score(y_test,y_pred))\n",
    "\n",
    "\n",
    "#Features sorted by their score\n",
    "feat_importances = pd.Series(model_feat1.feature_importances_, index=X_train.columns)\n",
    "feat_importances.nlargest(24).plot(kind='barh')"
   ]
  },
  {
   "cell_type": "markdown",
   "metadata": {},
   "source": [
    "Precision is lower but overall works fine, let's take these out permanently"
   ]
  },
  {
   "cell_type": "code",
   "execution_count": null,
   "metadata": {
    "execution": {
     "iopub.execute_input": "2020-09-27T00:43:36.653607Z",
     "iopub.status.busy": "2020-09-27T00:43:36.653607Z",
     "iopub.status.idle": "2020-09-27T00:43:36.717435Z",
     "shell.execute_reply": "2020-09-27T00:43:36.716438Z",
     "shell.execute_reply.started": "2020-09-27T00:43:36.653607Z"
    }
   },
   "outputs": [],
   "source": [
    "new_df=df.drop(['NEWINF','INBIRYR','visit_interval','NAMNDEM','NACCACTV','CVDIMAG'], axis=1)"
   ]
  },
  {
   "cell_type": "markdown",
   "metadata": {},
   "source": [
    "## What's the performance if we drop tests that have >50% null"
   ]
  },
  {
   "cell_type": "code",
   "execution_count": null,
   "metadata": {
    "execution": {
     "iopub.execute_input": "2020-09-26T17:09:03.343016Z",
     "iopub.status.busy": "2020-09-26T17:09:03.343016Z",
     "iopub.status.idle": "2020-09-26T17:09:03.398869Z",
     "shell.execute_reply": "2020-09-26T17:09:03.397876Z",
     "shell.execute_reply.started": "2020-09-26T17:09:03.343016Z"
    },
    "jupyter": {
     "outputs_hidden": true
    }
   },
   "outputs": [],
   "source": [
    "restricted = new_df.loc[:,~new_df.eq(-4).sum().gt(len(df)/2)]\n",
    "restricted"
   ]
  },
  {
   "cell_type": "markdown",
   "metadata": {},
   "source": [
    "Initial model without coparticipants & visit interval, + dropped nan columns"
   ]
  },
  {
   "cell_type": "code",
   "execution_count": null,
   "metadata": {
    "execution": {
     "iopub.execute_input": "2020-09-26T17:09:08.262890Z",
     "iopub.status.busy": "2020-09-26T17:09:08.262890Z",
     "iopub.status.idle": "2020-09-26T17:09:09.757872Z",
     "shell.execute_reply": "2020-09-26T17:09:09.756869Z",
     "shell.execute_reply.started": "2020-09-26T17:09:08.262890Z"
    }
   },
   "outputs": [],
   "source": [
    "res=restricted.drop(['target'], axis=1)\n",
    "X_train, X_test, y_train, y_test = train_test_split(res, df['target'], test_size=0.35, random_state=1)\n",
    "\n",
    "model_feat1 = RandomForestClassifier()\n",
    "#train model\n",
    "model_feat1.fit(X_train, y_train)\n",
    "y_pred = model_feat1.predict(X_test)\n",
    "print(model_feat1.score(X_test, y_test))\n",
    "print(precision_score(y_test,y_pred))\n",
    "print(recall_score(y_test,y_pred))\n",
    "\n",
    "\n",
    "#Features sorted by their score\n",
    "feat_importances = pd.Series(model_feat1.feature_importances_, index=X_train.columns)\n",
    "feat_importances.nlargest(20).plot(kind='barh')"
   ]
  },
  {
   "cell_type": "code",
   "execution_count": null,
   "metadata": {
    "execution": {
     "iopub.execute_input": "2020-09-26T17:09:14.582968Z",
     "iopub.status.busy": "2020-09-26T17:09:14.581997Z",
     "iopub.status.idle": "2020-09-26T17:10:04.886501Z",
     "shell.execute_reply": "2020-09-26T17:10:04.886501Z",
     "shell.execute_reply.started": "2020-09-26T17:09:14.581997Z"
    },
    "jupyter": {
     "outputs_hidden": true
    }
   },
   "outputs": [],
   "source": [
    "restrict=feat_importances.nlargest(56).index\n",
    "dfres=res[restrict.to_list()]\n",
    "temp=dfres.copy()\n",
    "temp['target']=df['target']\n",
    "norm_count_group(temp,'target')"
   ]
  },
  {
   "cell_type": "markdown",
   "metadata": {
    "execution": {
     "iopub.execute_input": "2020-09-26T16:35:57.297513Z",
     "iopub.status.busy": "2020-09-26T16:35:57.297513Z",
     "iopub.status.idle": "2020-09-26T16:35:57.301502Z",
     "shell.execute_reply": "2020-09-26T16:35:57.300504Z",
     "shell.execute_reply.started": "2020-09-26T16:35:57.297513Z"
    }
   },
   "source": [
    "## What if we drop the patient subset instead?"
   ]
  },
  {
   "cell_type": "code",
   "execution_count": null,
   "metadata": {
    "execution": {
     "iopub.execute_input": "2020-09-26T17:10:04.962285Z",
     "iopub.status.busy": "2020-09-26T17:10:04.962285Z",
     "iopub.status.idle": "2020-09-26T17:10:05.013148Z",
     "shell.execute_reply": "2020-09-26T17:10:05.012181Z",
     "shell.execute_reply.started": "2020-09-26T17:10:04.962285Z"
    },
    "jupyter": {
     "outputs_hidden": true
    }
   },
   "outputs": [],
   "source": [
    "restricted = new_df.loc[new_df.LOGIMEM!=-4]\n",
    "restricted"
   ]
  },
  {
   "cell_type": "code",
   "execution_count": null,
   "metadata": {
    "execution": {
     "iopub.execute_input": "2020-09-26T17:10:15.193932Z",
     "iopub.status.busy": "2020-09-26T17:10:15.193932Z",
     "iopub.status.idle": "2020-09-26T17:10:16.889398Z",
     "shell.execute_reply": "2020-09-26T17:10:16.888431Z",
     "shell.execute_reply.started": "2020-09-26T17:10:15.193932Z"
    }
   },
   "outputs": [],
   "source": [
    "res=restricted.drop(['target'], axis=1)\n",
    "X_train, X_test, y_train, y_test = train_test_split(res, restricted['target'], test_size=0.35, random_state=1)\n",
    "\n",
    "model_feat1 = RandomForestClassifier()\n",
    "#train model\n",
    "model_feat1.fit(X_train, y_train)\n",
    "y_pred = model_feat1.predict(X_test)\n",
    "print(model_feat1.score(X_test, y_test))\n",
    "print(precision_score(y_test,y_pred))\n",
    "print(recall_score(y_test,y_pred))\n",
    "\n",
    "\n",
    "#Features sorted by their score\n",
    "feat_importances = pd.Series(model_feat1.feature_importances_, index=X_train.columns)\n",
    "feat_importances.nlargest(20).plot(kind='barh')"
   ]
  },
  {
   "cell_type": "markdown",
   "metadata": {},
   "source": [
    "plot these variables"
   ]
  },
  {
   "cell_type": "code",
   "execution_count": null,
   "metadata": {
    "execution": {
     "iopub.execute_input": "2020-09-26T17:11:13.881036Z",
     "iopub.status.busy": "2020-09-26T17:11:13.881036Z",
     "iopub.status.idle": "2020-09-26T17:12:08.069171Z",
     "shell.execute_reply": "2020-09-26T17:12:08.068187Z",
     "shell.execute_reply.started": "2020-09-26T17:11:13.881036Z"
    },
    "jupyter": {
     "outputs_hidden": true
    }
   },
   "outputs": [],
   "source": [
    "restrict=feat_importances.nlargest(56).index\n",
    "dfres=res[restrict.to_list()]\n",
    "temp=dfres.copy()\n",
    "temp['target']=df['target']\n",
    "norm_count_group(temp,'target')"
   ]
  },
  {
   "cell_type": "markdown",
   "metadata": {},
   "source": [
    "## combine row removal followed by col drop"
   ]
  },
  {
   "cell_type": "code",
   "execution_count": null,
   "metadata": {
    "execution": {
     "iopub.execute_input": "2020-09-26T17:12:08.157932Z",
     "iopub.status.busy": "2020-09-26T17:12:08.156935Z",
     "iopub.status.idle": "2020-09-26T17:12:08.233729Z",
     "shell.execute_reply": "2020-09-26T17:12:08.232764Z",
     "shell.execute_reply.started": "2020-09-26T17:12:08.157932Z"
    },
    "jupyter": {
     "outputs_hidden": true
    }
   },
   "outputs": [],
   "source": [
    "restricted = new_df.loc[new_df.LOGIMEM!=-4]\n",
    "restricted = restricted.loc[:,~restricted.eq(-4).sum().gt(len(df)/2)]\n",
    "restricted"
   ]
  },
  {
   "cell_type": "code",
   "execution_count": null,
   "metadata": {
    "execution": {
     "iopub.execute_input": "2020-09-26T17:12:08.235725Z",
     "iopub.status.busy": "2020-09-26T17:12:08.235725Z",
     "iopub.status.idle": "2020-09-26T17:12:09.732723Z",
     "shell.execute_reply": "2020-09-26T17:12:09.731757Z",
     "shell.execute_reply.started": "2020-09-26T17:12:08.235725Z"
    }
   },
   "outputs": [],
   "source": [
    "res=restricted.drop(['target'], axis=1)\n",
    "X_train, X_test, y_train, y_test = train_test_split(res, restricted['target'], test_size=0.35, random_state=1)\n",
    "\n",
    "model_feat1 = RandomForestClassifier()\n",
    "#train model\n",
    "model_feat1.fit(X_train, y_train)\n",
    "y_pred = model_feat1.predict(X_test)\n",
    "print(model_feat1.score(X_test, y_test))\n",
    "print(precision_score(y_test,y_pred))\n",
    "print(recall_score(y_test,y_pred))\n",
    "\n",
    "\n",
    "#Features sorted by their score\n",
    "feat_importances = pd.Series(model_feat1.feature_importances_, index=X_train.columns)\n",
    "feat_importances.nlargest(20).plot(kind='barh')"
   ]
  },
  {
   "cell_type": "markdown",
   "metadata": {},
   "source": [
    "The droped rows method is best, lets save this new df"
   ]
  },
  {
   "cell_type": "code",
   "execution_count": null,
   "metadata": {
    "execution": {
     "iopub.execute_input": "2020-09-27T00:43:54.306441Z",
     "iopub.status.busy": "2020-09-27T00:43:54.306441Z",
     "iopub.status.idle": "2020-09-27T00:43:56.254280Z",
     "shell.execute_reply": "2020-09-27T00:43:56.254280Z",
     "shell.execute_reply.started": "2020-09-27T00:43:54.306441Z"
    }
   },
   "outputs": [],
   "source": [
    "# restricted = new_df.loc[new_df.LOGIMEM!=-4]\n",
    "# restricted.to_csv('..\\data\\processed\\prelim_clean2.csv')"
   ]
  },
  {
   "cell_type": "markdown",
   "metadata": {},
   "source": [
    "## Explore Initial production model with 10% features + dropped rows"
   ]
  },
  {
   "cell_type": "code",
   "execution_count": null,
   "metadata": {
    "execution": {
     "iopub.execute_input": "2020-09-26T17:21:39.227235Z",
     "iopub.status.busy": "2020-09-26T17:21:39.227235Z",
     "iopub.status.idle": "2020-09-26T17:21:40.521790Z",
     "shell.execute_reply": "2020-09-26T17:21:40.520803Z",
     "shell.execute_reply.started": "2020-09-26T17:21:39.227235Z"
    }
   },
   "outputs": [],
   "source": [
    "restricted = new_df.loc[new_df.LOGIMEM!=-4]\n",
    "res=restricted.drop(['target'], axis=1)\n",
    "X_train, X_test, y_train, y_test = train_test_split(res, restricted['target'], test_size=0.35, random_state=1)\n",
    "\n",
    "model_feat1 = RandomForestClassifier()\n",
    "#train model\n",
    "model_feat1.fit(X_train, y_train)\n",
    "y_pred = model_feat1.predict(X_test)\n",
    "print(model_feat1.score(X_test, y_test))\n",
    "print(precision_score(y_test,y_pred))\n",
    "print(recall_score(y_test,y_pred))\n",
    "feat_importances = pd.Series(model_feat1.feature_importances_, index=X_train.columns)\n",
    "restrict=feat_importances.nlargest(56).index\n"
   ]
  },
  {
   "cell_type": "code",
   "execution_count": null,
   "metadata": {
    "execution": {
     "iopub.execute_input": "2020-09-26T17:21:47.934959Z",
     "iopub.status.busy": "2020-09-26T17:21:47.934959Z",
     "iopub.status.idle": "2020-09-26T17:21:48.741802Z",
     "shell.execute_reply": "2020-09-26T17:21:48.740828Z",
     "shell.execute_reply.started": "2020-09-26T17:21:47.934959Z"
    }
   },
   "outputs": [],
   "source": [
    "dfres=res[restrict.to_list()]\n",
    "X_train, X_test, y_train, y_test = train_test_split(dfres, restricted['target'], test_size=0.35, random_state=1)\n",
    "\n",
    "model_feat1 = RandomForestClassifier()\n",
    "#train model\n",
    "model_feat1.fit(X_train, y_train)\n",
    "y_pred = model_feat1.predict(X_test)\n",
    "print(model_feat1.score(X_test, y_test))\n",
    "print(precision_score(y_test,y_pred))\n",
    "print(recall_score(y_test,y_pred))\n"
   ]
  },
  {
   "cell_type": "code",
   "execution_count": null,
   "metadata": {
    "execution": {
     "iopub.execute_input": "2020-09-26T17:22:04.275274Z",
     "iopub.status.busy": "2020-09-26T17:22:04.275274Z",
     "iopub.status.idle": "2020-09-26T17:22:04.280270Z",
     "shell.execute_reply": "2020-09-26T17:22:04.279262Z",
     "shell.execute_reply.started": "2020-09-26T17:22:04.275274Z"
    }
   },
   "outputs": [],
   "source": [
    "# save this latest model for now\n",
    "# pickle.dump(model_feat1, open('../src/models/01prelim_model.sav', 'wb'))\n",
    "# pickle.dump(restrict, open('../src/features/01prelim_features.sav', 'wb'))"
   ]
  },
  {
   "cell_type": "markdown",
   "metadata": {},
   "source": [
    "Let's try some threshold changes"
   ]
  },
  {
   "cell_type": "code",
   "execution_count": null,
   "metadata": {
    "execution": {
     "iopub.execute_input": "2020-09-26T17:22:06.286895Z",
     "iopub.status.busy": "2020-09-26T17:22:06.285932Z",
     "iopub.status.idle": "2020-09-26T17:22:06.481406Z",
     "shell.execute_reply": "2020-09-26T17:22:06.481406Z",
     "shell.execute_reply.started": "2020-09-26T17:22:06.286895Z"
    }
   },
   "outputs": [],
   "source": [
    "from sklearn.metrics import roc_curve, roc_auc_score\n",
    "# predict probabilities\n",
    "probs = model_feat1.predict_proba(X_test)\n",
    "# keep probabilities for the positive outcome only\n",
    "probs = probs[:, 1]\n",
    "auc = roc_auc_score(y_test, probs)\n",
    "# summarize scores\n",
    "print('ROC AUC=%.3f' % (auc))\n",
    "\n",
    "# calculate roc curves\n",
    "fpr, tpr, _ = roc_curve(y_test, probs)\n",
    "# plot the roc curve for the model\n",
    "plt.plot(fpr, tpr, linestyle='--', label='AD')\n",
    "# axis labels\n",
    "plt.xlabel('False Positive Rate')\n",
    "plt.ylabel('True Positive Rate')\n",
    "# show the legend\n",
    "plt.legend()"
   ]
  },
  {
   "cell_type": "code",
   "execution_count": null,
   "metadata": {
    "execution": {
     "iopub.execute_input": "2020-09-26T17:22:26.532780Z",
     "iopub.status.busy": "2020-09-26T17:22:26.531804Z",
     "iopub.status.idle": "2020-09-26T17:22:26.719271Z",
     "shell.execute_reply": "2020-09-26T17:22:26.718274Z",
     "shell.execute_reply.started": "2020-09-26T17:22:26.532780Z"
    }
   },
   "outputs": [],
   "source": [
    "from sklearn.metrics import precision_recall_curve, plot_precision_recall_curve\n",
    "plot_precision_recall_curve(model_feat1, X_test, y_test)"
   ]
  },
  {
   "cell_type": "code",
   "execution_count": null,
   "metadata": {
    "execution": {
     "iopub.execute_input": "2020-09-26T17:22:52.866369Z",
     "iopub.status.busy": "2020-09-26T17:22:52.866369Z",
     "iopub.status.idle": "2020-09-26T17:22:52.927207Z",
     "shell.execute_reply": "2020-09-26T17:22:52.926220Z",
     "shell.execute_reply.started": "2020-09-26T17:22:52.866369Z"
    }
   },
   "outputs": [],
   "source": [
    "threshold = .45 #to do: youden index?\n",
    "predicted_proba = model_feat1.predict_proba(X_test)\n",
    "predicted = (predicted_proba [:,1] >= threshold).astype('int')\n",
    "print(accuracy_score(y_test, predicted))\n",
    "print(precision_score(y_test,predicted))\n",
    "print(recall_score(y_test,predicted))"
   ]
  },
  {
   "cell_type": "code",
   "execution_count": null,
   "metadata": {
    "execution": {
     "iopub.execute_input": "2020-09-26T17:22:59.557507Z",
     "iopub.status.busy": "2020-09-26T17:22:59.557507Z",
     "iopub.status.idle": "2020-09-26T17:22:59.755949Z",
     "shell.execute_reply": "2020-09-26T17:22:59.754977Z",
     "shell.execute_reply.started": "2020-09-26T17:22:59.557507Z"
    }
   },
   "outputs": [],
   "source": [
    "from sklearn.metrics import plot_confusion_matrix\n",
    "plot_confusion_matrix(model_feat1, X_test, y_test,cmap=plt.cm.Blues)  "
   ]
  },
  {
   "cell_type": "markdown",
   "metadata": {},
   "source": [
    "# Model for visit interval: If patient will develop dementia, how long until then"
   ]
  },
  {
   "cell_type": "code",
   "execution_count": null,
   "metadata": {
    "execution": {
     "iopub.execute_input": "2020-09-26T16:08:57.422094Z",
     "iopub.status.busy": "2020-09-26T16:08:57.421091Z",
     "iopub.status.idle": "2020-09-26T16:08:57.428073Z",
     "shell.execute_reply": "2020-09-26T16:08:57.427081Z",
     "shell.execute_reply.started": "2020-09-26T16:08:57.422094Z"
    }
   },
   "outputs": [],
   "source": [
    "from sklearn.ensemble import RandomForestRegressor\n",
    "regressor= RandomForestRegressor()"
   ]
  },
  {
   "cell_type": "code",
   "execution_count": null,
   "metadata": {
    "execution": {
     "iopub.execute_input": "2020-09-26T17:25:00.387453Z",
     "iopub.status.busy": "2020-09-26T17:25:00.387453Z",
     "iopub.status.idle": "2020-09-26T17:25:17.085812Z",
     "shell.execute_reply": "2020-09-26T17:25:17.084815Z",
     "shell.execute_reply.started": "2020-09-26T17:25:00.387453Z"
    }
   },
   "outputs": [],
   "source": [
    "sub=df.loc[df.target==1]\n",
    "res=sub.drop(['NEWINF','target','INBIRYR','visit_interval'], axis=1)\n",
    "X_train, X_test, y_train, y_test = train_test_split(res, sub['visit_interval'], test_size=0.35, random_state=1)\n",
    "regressor.fit(X_train, y_train)\n",
    "regressor.score(X_test,y_test)"
   ]
  },
  {
   "cell_type": "markdown",
   "metadata": {},
   "source": [
    "No signal"
   ]
  }
 ],
 "metadata": {
  "kernelspec": {
   "display_name": "AD",
   "language": "python",
   "name": "ad"
  },
  "language_info": {
   "codemirror_mode": {
    "name": "ipython",
    "version": 3
   },
   "file_extension": ".py",
   "mimetype": "text/x-python",
   "name": "python",
   "nbconvert_exporter": "python",
   "pygments_lexer": "ipython3",
   "version": "3.7.9"
  }
 },
 "nbformat": 4,
 "nbformat_minor": 4
}
