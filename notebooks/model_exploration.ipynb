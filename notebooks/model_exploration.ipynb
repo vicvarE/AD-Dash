{
 "cells": [
  {
   "cell_type": "markdown",
   "metadata": {},
   "source": [
    "# Initial model tuning and feature search"
   ]
  },
  {
   "cell_type": "code",
   "execution_count": null,
   "metadata": {
    "ExecuteTime": {
     "end_time": "2020-09-03T17:32:20.984828Z",
     "start_time": "2020-09-03T17:32:19.772067Z"
    },
    "execution": {
     "iopub.execute_input": "2020-10-01T16:56:07.337085Z",
     "iopub.status.busy": "2020-10-01T16:56:07.337085Z",
     "iopub.status.idle": "2020-10-01T16:56:07.971392Z",
     "shell.execute_reply": "2020-10-01T16:56:07.971392Z",
     "shell.execute_reply.started": "2020-10-01T16:56:07.337085Z"
    }
   },
   "outputs": [],
   "source": [
    "#imports\n",
    "import pandas as pd \n",
    "import numpy as np\n",
    "import matplotlib.pyplot as plt\n",
    "import seaborn as sns\n",
    "from sklearn.model_selection import train_test_split\n",
    "from sklearn.ensemble import RandomForestClassifier\n",
    "from sklearn.metrics import recall_score, accuracy_score, precision_score\n",
    "import pickle\n"
   ]
  },
  {
   "cell_type": "code",
   "execution_count": null,
   "metadata": {
    "ExecuteTime": {
     "end_time": "2020-09-03T17:32:23.622769Z",
     "start_time": "2020-09-03T17:32:23.615787Z"
    },
    "execution": {
     "iopub.execute_input": "2020-10-01T16:56:07.981363Z",
     "iopub.status.busy": "2020-10-01T16:56:07.980365Z",
     "iopub.status.idle": "2020-10-01T16:56:07.989341Z",
     "shell.execute_reply": "2020-10-01T16:56:07.988343Z",
     "shell.execute_reply.started": "2020-10-01T16:56:07.981363Z"
    }
   },
   "outputs": [],
   "source": [
    "%matplotlib inline\n",
    "sns.set_palette(\"Set2\")"
   ]
  },
  {
   "cell_type": "code",
   "execution_count": null,
   "metadata": {
    "ExecuteTime": {
     "end_time": "2020-09-03T17:32:51.760524Z",
     "start_time": "2020-09-03T17:32:50.145841Z"
    },
    "execution": {
     "iopub.execute_input": "2020-10-01T16:56:08.121987Z",
     "iopub.status.busy": "2020-10-01T16:56:08.121987Z",
     "iopub.status.idle": "2020-10-01T16:56:08.860022Z",
     "shell.execute_reply": "2020-10-01T16:56:08.859047Z",
     "shell.execute_reply.started": "2020-10-01T16:56:08.121987Z"
    }
   },
   "outputs": [],
   "source": [
    "#load initial cleaned data\n",
    "df=pd.read_csv(r\"..\\data\\processed\\prelim_clean.csv\", index_col=[0])"
   ]
  },
  {
   "cell_type": "markdown",
   "metadata": {},
   "source": [
    "## drop some more\n",
    "num of of visits and who referred"
   ]
  },
  {
   "cell_type": "code",
   "execution_count": null,
   "metadata": {
    "execution": {
     "iopub.execute_input": "2020-10-01T16:56:14.475999Z",
     "iopub.status.busy": "2020-10-01T16:56:14.475999Z",
     "iopub.status.idle": "2020-10-01T16:56:14.502928Z",
     "shell.execute_reply": "2020-10-01T16:56:14.501930Z",
     "shell.execute_reply.started": "2020-10-01T16:56:14.475999Z"
    }
   },
   "outputs": [],
   "source": [
    "df.drop(['NACCNVST','NACCAVST','NACCREFR','CVDIMAG'],inplace=True,axis=1)"
   ]
  },
  {
   "cell_type": "markdown",
   "metadata": {},
   "source": [
    "##split dataset"
   ]
  },
  {
   "cell_type": "code",
   "execution_count": null,
   "metadata": {
    "execution": {
     "iopub.execute_input": "2020-09-28T19:05:40.160725Z",
     "iopub.status.busy": "2020-09-28T19:05:40.160725Z",
     "iopub.status.idle": "2020-09-28T19:05:40.246511Z",
     "shell.execute_reply": "2020-09-28T19:05:40.245500Z",
     "shell.execute_reply.started": "2020-09-28T19:05:40.160725Z"
    }
   },
   "outputs": [],
   "source": [
    "X_train, X_test, y_train, y_test = train_test_split(df.drop(['target'], axis=1), df['target'], test_size=0.35, random_state=1)"
   ]
  },
  {
   "cell_type": "markdown",
   "metadata": {},
   "source": [
    "# Finding the baselines"
   ]
  },
  {
   "cell_type": "markdown",
   "metadata": {},
   "source": [
    "If we predict that everything is 0 (no AD) what's the result?"
   ]
  },
  {
   "cell_type": "code",
   "execution_count": null,
   "metadata": {
    "execution": {
     "iopub.execute_input": "2020-09-28T19:05:40.247494Z",
     "iopub.status.busy": "2020-09-28T19:05:40.247494Z",
     "iopub.status.idle": "2020-09-28T19:05:40.270432Z",
     "shell.execute_reply": "2020-09-28T19:05:40.269469Z",
     "shell.execute_reply.started": "2020-09-28T19:05:40.247494Z"
    }
   },
   "outputs": [],
   "source": [
    "from sklearn.dummy import DummyClassifier\n",
    "dummy_clf = DummyClassifier(strategy=\"most_frequent\")\n",
    "dummy_clf.fit(X_train, y_train)\n",
    "y_pred=dummy_clf.predict(X_test)\n",
    "print(dummy_clf.score(X_test, y_test))\n",
    "print(precision_score(y_test,y_pred, labels=np.unique(y_pred)))\n",
    "recall_score(y_test,y_pred)\n"
   ]
  },
  {
   "cell_type": "markdown",
   "metadata": {},
   "source": [
    "If we predict everything randomly, what do we get?"
   ]
  },
  {
   "cell_type": "code",
   "execution_count": null,
   "metadata": {
    "execution": {
     "iopub.execute_input": "2020-09-28T19:05:40.272427Z",
     "iopub.status.busy": "2020-09-28T19:05:40.272427Z",
     "iopub.status.idle": "2020-09-28T19:05:40.295369Z",
     "shell.execute_reply": "2020-09-28T19:05:40.294398Z",
     "shell.execute_reply.started": "2020-09-28T19:05:40.272427Z"
    }
   },
   "outputs": [],
   "source": [
    "from sklearn.dummy import DummyClassifier\n",
    "dummy_clf = DummyClassifier(strategy=\"uniform\")\n",
    "dummy_clf.fit(X_train, y_train)\n",
    "y_pred=dummy_clf.predict(X_test)\n",
    "print(dummy_clf.score(X_test, y_test))\n",
    "print(precision_score(y_test,y_pred, labels=np.unique(y_pred)))\n",
    "recall_score(y_test,y_pred)"
   ]
  },
  {
   "cell_type": "markdown",
   "metadata": {},
   "source": [
    "If we predict randomly taking into account inbalances"
   ]
  },
  {
   "cell_type": "code",
   "execution_count": null,
   "metadata": {
    "execution": {
     "iopub.execute_input": "2020-09-28T19:05:40.298358Z",
     "iopub.status.busy": "2020-09-28T19:05:40.297363Z",
     "iopub.status.idle": "2020-09-28T19:05:40.318307Z",
     "shell.execute_reply": "2020-09-28T19:05:40.317306Z",
     "shell.execute_reply.started": "2020-09-28T19:05:40.298358Z"
    }
   },
   "outputs": [],
   "source": [
    "from sklearn.dummy import DummyClassifier\n",
    "dummy_clf = DummyClassifier(strategy=\"stratified\")\n",
    "dummy_clf.fit(X_train, y_train)\n",
    "y_pred=dummy_clf.predict(X_test)\n",
    "print(dummy_clf.score(X_test, y_test))\n",
    "print(precision_score(y_test,y_pred, labels=np.unique(y_pred)))\n",
    "recall_score(y_test,y_pred)"
   ]
  },
  {
   "cell_type": "markdown",
   "metadata": {},
   "source": [
    "# Untunned\n",
    "## Initialize forest baseline"
   ]
  },
  {
   "cell_type": "code",
   "execution_count": null,
   "metadata": {
    "execution": {
     "iopub.execute_input": "2020-09-28T19:05:40.320299Z",
     "iopub.status.busy": "2020-09-28T19:05:40.320299Z",
     "iopub.status.idle": "2020-09-28T19:05:42.013785Z",
     "shell.execute_reply": "2020-09-28T19:05:42.013785Z",
     "shell.execute_reply.started": "2020-09-28T19:05:40.320299Z"
    }
   },
   "outputs": [],
   "source": [
    "model = RandomForestClassifier()\n",
    "#train model\n",
    "model.fit(X_train, y_train)\n",
    "y_pred = model.predict(X_test)\n",
    "print(model.score(X_test, y_test))\n",
    "print(precision_score(y_test,y_pred))\n",
    "recall_score(y_test,y_pred)"
   ]
  },
  {
   "cell_type": "markdown",
   "metadata": {},
   "source": [
    "## first pass at the features"
   ]
  },
  {
   "cell_type": "code",
   "execution_count": null,
   "metadata": {
    "execution": {
     "iopub.execute_input": "2020-09-28T19:05:42.015766Z",
     "iopub.status.busy": "2020-09-28T19:05:42.014781Z",
     "iopub.status.idle": "2020-09-28T19:05:42.021751Z",
     "shell.execute_reply": "2020-09-28T19:05:42.020772Z",
     "shell.execute_reply.started": "2020-09-28T19:05:42.014781Z"
    }
   },
   "outputs": [],
   "source": [
    "#take 10% of original dataframe to start with, but the forest takes only sqrt\n",
    "print(df.shape[1]*.1)\n",
    "print(np.sqrt(df.shape[1]))"
   ]
  },
  {
   "cell_type": "code",
   "execution_count": null,
   "metadata": {
    "execution": {
     "iopub.execute_input": "2020-09-28T19:05:42.023745Z",
     "iopub.status.busy": "2020-09-28T19:05:42.022748Z",
     "iopub.status.idle": "2020-09-28T19:05:42.342891Z",
     "shell.execute_reply": "2020-09-28T19:05:42.341927Z",
     "shell.execute_reply.started": "2020-09-28T19:05:42.023745Z"
    }
   },
   "outputs": [],
   "source": [
    "#Features sorted by their score\n",
    "feat_importances = pd.Series(model.feature_importances_, index=X_train.columns)\n",
    "feat_importances.nlargest(24).plot(kind='barh')\n",
    "cols=X_train.columns\n",
    "print(sorted(zip(map(lambda x: round(x, 4), model.feature_importances_), cols), \n",
    "             reverse=True))"
   ]
  },
  {
   "cell_type": "markdown",
   "metadata": {},
   "source": [
    "## model with 10%"
   ]
  },
  {
   "cell_type": "code",
   "execution_count": null,
   "metadata": {
    "execution": {
     "iopub.execute_input": "2020-09-28T19:05:42.343890Z",
     "iopub.status.busy": "2020-09-28T19:05:42.343890Z",
     "iopub.status.idle": "2020-09-28T19:05:42.363851Z",
     "shell.execute_reply": "2020-09-28T19:05:42.362838Z",
     "shell.execute_reply.started": "2020-09-28T19:05:42.343890Z"
    }
   },
   "outputs": [],
   "source": [
    "restrict=feat_importances.nlargest(56).index\n",
    "res=df[restrict.to_list()]\n",
    "X_train, X_test, y_train, y_test = train_test_split(res, df['target'], test_size=0.35, random_state=1)"
   ]
  },
  {
   "cell_type": "code",
   "execution_count": null,
   "metadata": {
    "execution": {
     "iopub.execute_input": "2020-09-28T19:05:42.365832Z",
     "iopub.status.busy": "2020-09-28T19:05:42.364834Z",
     "iopub.status.idle": "2020-09-28T19:05:43.478859Z",
     "shell.execute_reply": "2020-09-28T19:05:43.477864Z",
     "shell.execute_reply.started": "2020-09-28T19:05:42.364834Z"
    }
   },
   "outputs": [],
   "source": [
    "model_feat1 = RandomForestClassifier()\n",
    "#train model\n",
    "model_feat1.fit(X_train, y_train)\n",
    "y_pred = model_feat1.predict(X_test)\n",
    "print(model_feat1.score(X_test, y_test))\n",
    "print(precision_score(y_test,y_pred))\n",
    "recall_score(y_test,y_pred)"
   ]
  },
  {
   "cell_type": "markdown",
   "metadata": {},
   "source": [
    "## Model with sqrt"
   ]
  },
  {
   "cell_type": "code",
   "execution_count": null,
   "metadata": {
    "execution": {
     "iopub.execute_input": "2020-09-28T19:05:43.479852Z",
     "iopub.status.busy": "2020-09-28T19:05:43.479852Z",
     "iopub.status.idle": "2020-09-28T19:05:43.494813Z",
     "shell.execute_reply": "2020-09-28T19:05:43.493815Z",
     "shell.execute_reply.started": "2020-09-28T19:05:43.479852Z"
    }
   },
   "outputs": [],
   "source": [
    "restrict=feat_importances.nlargest(24).index\n",
    "res=df[restrict.to_list()]\n",
    "X_train, X_test, y_train, y_test = train_test_split(res, df['target'], test_size=0.35, random_state=1)"
   ]
  },
  {
   "cell_type": "code",
   "execution_count": null,
   "metadata": {
    "execution": {
     "iopub.execute_input": "2020-09-28T19:05:43.496833Z",
     "iopub.status.busy": "2020-09-28T19:05:43.496833Z",
     "iopub.status.idle": "2020-09-28T19:05:44.377452Z",
     "shell.execute_reply": "2020-09-28T19:05:44.376455Z",
     "shell.execute_reply.started": "2020-09-28T19:05:43.496833Z"
    }
   },
   "outputs": [],
   "source": [
    "model_feat1 = RandomForestClassifier()\n",
    "#train model\n",
    "model_feat1.fit(X_train, y_train)\n",
    "y_pred = model_feat1.predict(X_test)\n",
    "print(model_feat1.score(X_test, y_test))\n",
    "print(precision_score(y_test,y_pred))\n",
    "recall_score(y_test,y_pred)"
   ]
  },
  {
   "cell_type": "markdown",
   "metadata": {},
   "source": [
    "## Model with 100 feats"
   ]
  },
  {
   "cell_type": "code",
   "execution_count": null,
   "metadata": {
    "execution": {
     "iopub.execute_input": "2020-09-28T19:05:44.378450Z",
     "iopub.status.busy": "2020-09-28T19:05:44.378450Z",
     "iopub.status.idle": "2020-09-28T19:05:45.563290Z",
     "shell.execute_reply": "2020-09-28T19:05:45.562285Z",
     "shell.execute_reply.started": "2020-09-28T19:05:44.378450Z"
    }
   },
   "outputs": [],
   "source": [
    "restrict=feat_importances.nlargest(100).index\n",
    "res=df[restrict.to_list()]\n",
    "X_train, X_test, y_train, y_test = train_test_split(res, df['target'], test_size=0.35, random_state=1)\n",
    "\n",
    "model_feat1 = RandomForestClassifier()\n",
    "#train model\n",
    "model_feat1.fit(X_train, y_train)\n",
    "y_pred = model_feat1.predict(X_test)\n",
    "print(model_feat1.score(X_test, y_test))\n",
    "print(precision_score(y_test,y_pred))\n",
    "recall_score(y_test,y_pred)"
   ]
  },
  {
   "cell_type": "markdown",
   "metadata": {},
   "source": [
    "### Exploring top 10% features"
   ]
  },
  {
   "cell_type": "code",
   "execution_count": null,
   "metadata": {
    "execution": {
     "iopub.execute_input": "2020-09-28T19:05:45.564280Z",
     "iopub.status.busy": "2020-09-28T19:05:45.564280Z",
     "iopub.status.idle": "2020-09-28T19:05:45.573255Z",
     "shell.execute_reply": "2020-09-28T19:05:45.572272Z",
     "shell.execute_reply.started": "2020-09-28T19:05:45.564280Z"
    }
   },
   "outputs": [],
   "source": [
    "#normalized count function because libraries suck\n",
    "def norm_count_single(df, column, target):\n",
    "    c=column\n",
    "    df1 = df.groupby(target)[c].value_counts(normalize=True)\n",
    "    df1 = df1.rename('norm').reset_index()\n",
    "    sns.barplot(x=c,y='norm',hue=target,data=df1)\n",
    "    \n",
    "def norm_count_group(df, target):    \n",
    "    ix = 1\n",
    "    fig = plt.figure(figsize = (15,10))\n",
    "    for c in list(df.columns):\n",
    "        if ix <= 3:\n",
    "            if c != target:\n",
    "                ax1 = fig.add_subplot(1,3,ix)\n",
    "                df1 = df.groupby(target)[c].value_counts(normalize=True)\n",
    "                df1 = df1.rename('norm').reset_index()\n",
    "                sns.barplot(x=c,y='norm',hue=target,data=df1,ax = ax1)\n",
    "                plt.xticks(rotation=45)\n",
    "\n",
    "        ix = ix +1\n",
    "        if ix == 4: \n",
    "            fig = plt.figure(figsize = (15,10))\n",
    "            ix =1"
   ]
  },
  {
   "cell_type": "code",
   "execution_count": null,
   "metadata": {
    "execution": {
     "iopub.execute_input": "2020-09-28T19:05:45.574253Z",
     "iopub.status.busy": "2020-09-28T19:05:45.574253Z",
     "iopub.status.idle": "2020-09-28T19:07:04.975980Z",
     "shell.execute_reply": "2020-09-28T19:07:04.974982Z",
     "shell.execute_reply.started": "2020-09-28T19:05:45.574253Z"
    }
   },
   "outputs": [],
   "source": [
    "restrict=feat_importances.nlargest(56).index\n",
    "res=df[restrict.to_list()]\n",
    "\n",
    "temp=res.copy()\n",
    "temp['target']=df['target']\n",
    "norm_count_group(temp,'target')"
   ]
  },
  {
   "cell_type": "markdown",
   "metadata": {},
   "source": [
    "Let's do some tests without coparticipant info"
   ]
  },
  {
   "cell_type": "code",
   "execution_count": null,
   "metadata": {
    "execution": {
     "iopub.execute_input": "2020-09-28T19:07:04.976977Z",
     "iopub.status.busy": "2020-09-28T19:07:04.976977Z",
     "iopub.status.idle": "2020-09-28T19:07:07.049490Z",
     "shell.execute_reply": "2020-09-28T19:07:07.048468Z",
     "shell.execute_reply.started": "2020-09-28T19:07:04.976977Z"
    }
   },
   "outputs": [],
   "source": [
    "res=df.drop(['NEWINF','INBIRYR','target','visit_interval'], axis=1)\n",
    "X_train, X_test, y_train, y_test = train_test_split(res, df['target'], test_size=0.35, random_state=1)\n",
    "\n",
    "model_feat1 = RandomForestClassifier()\n",
    "#train model\n",
    "model_feat1.fit(X_train, y_train)\n",
    "y_pred = model_feat1.predict(X_test)\n",
    "print(model_feat1.score(X_test, y_test))\n",
    "print(precision_score(y_test,y_pred))\n",
    "print(recall_score(y_test,y_pred))\n",
    "\n",
    "\n",
    "#Features sorted by their score\n",
    "feat_importances = pd.Series(model_feat1.feature_importances_, index=X_train.columns)\n",
    "feat_importances.nlargest(24).plot(kind='barh')"
   ]
  },
  {
   "cell_type": "markdown",
   "metadata": {},
   "source": [
    "Precision is lower but overall works fine, let's take these out permanently"
   ]
  },
  {
   "cell_type": "code",
   "execution_count": null,
   "metadata": {
    "execution": {
     "iopub.execute_input": "2020-10-01T16:56:32.447953Z",
     "iopub.status.busy": "2020-10-01T16:56:32.447953Z",
     "iopub.status.idle": "2020-10-01T16:56:32.489841Z",
     "shell.execute_reply": "2020-10-01T16:56:32.488872Z",
     "shell.execute_reply.started": "2020-10-01T16:56:32.447953Z"
    }
   },
   "outputs": [],
   "source": [
    "new_df=df.drop(['NEWINF','INBIRYR','NAMNDEM','NACCACTV','NACCNMRI','DEMUN'], axis=1)\n",
    "new_df=new_df.loc[:,~new_df.columns.str.startswith('CVDIMAG')]"
   ]
  },
  {
   "cell_type": "markdown",
   "metadata": {},
   "source": [
    "## What's the performance if we drop tests that have >50% null"
   ]
  },
  {
   "cell_type": "code",
   "execution_count": null,
   "metadata": {
    "execution": {
     "iopub.execute_input": "2020-09-28T19:11:54.823103Z",
     "iopub.status.busy": "2020-09-28T19:11:54.822105Z",
     "iopub.status.idle": "2020-09-28T19:11:54.873981Z",
     "shell.execute_reply": "2020-09-28T19:11:54.872995Z",
     "shell.execute_reply.started": "2020-09-28T19:11:54.822105Z"
    }
   },
   "outputs": [],
   "source": [
    "restricted = new_df.loc[:,~new_df.eq(-4).sum().gt(len(df)/2)]\n",
    "restricted"
   ]
  },
  {
   "cell_type": "markdown",
   "metadata": {},
   "source": [
    "Initial model without coparticipants & visit interval, + dropped nan columns"
   ]
  },
  {
   "cell_type": "code",
   "execution_count": null,
   "metadata": {
    "execution": {
     "iopub.execute_input": "2020-09-28T19:11:54.874964Z",
     "iopub.status.busy": "2020-09-28T19:11:54.874964Z",
     "iopub.status.idle": "2020-09-28T19:11:56.629274Z",
     "shell.execute_reply": "2020-09-28T19:11:56.628276Z",
     "shell.execute_reply.started": "2020-09-28T19:11:54.874964Z"
    }
   },
   "outputs": [],
   "source": [
    "res=restricted.drop(['target'], axis=1)\n",
    "X_train, X_test, y_train, y_test = train_test_split(res, df['target'], test_size=0.35, random_state=1)\n",
    "\n",
    "model_feat1 = RandomForestClassifier()\n",
    "#train model\n",
    "model_feat1.fit(X_train, y_train)\n",
    "y_pred = model_feat1.predict(X_test)\n",
    "print(model_feat1.score(X_test, y_test))\n",
    "print(precision_score(y_test,y_pred))\n",
    "print(recall_score(y_test,y_pred))\n",
    "\n",
    "\n",
    "#Features sorted by their score\n",
    "feat_importances = pd.Series(model_feat1.feature_importances_, index=X_train.columns)\n",
    "feat_importances.nlargest(20).plot(kind='barh')"
   ]
  },
  {
   "cell_type": "code",
   "execution_count": null,
   "metadata": {
    "execution": {
     "iopub.execute_input": "2020-09-28T19:11:56.631288Z",
     "iopub.status.busy": "2020-09-28T19:11:56.631288Z",
     "iopub.status.idle": "2020-09-28T19:12:52.044128Z",
     "shell.execute_reply": "2020-09-28T19:12:52.043130Z",
     "shell.execute_reply.started": "2020-09-28T19:11:56.631288Z"
    },
    "jupyter": {
     "outputs_hidden": true
    }
   },
   "outputs": [],
   "source": [
    "restrict=feat_importances.nlargest(56).index\n",
    "dfres=res[restrict.to_list()]\n",
    "temp=dfres.copy()\n",
    "temp['target']=df['target']\n",
    "norm_count_group(temp,'target')"
   ]
  },
  {
   "cell_type": "markdown",
   "metadata": {
    "execution": {
     "iopub.execute_input": "2020-09-26T16:35:57.297513Z",
     "iopub.status.busy": "2020-09-26T16:35:57.297513Z",
     "iopub.status.idle": "2020-09-26T16:35:57.301502Z",
     "shell.execute_reply": "2020-09-26T16:35:57.300504Z",
     "shell.execute_reply.started": "2020-09-26T16:35:57.297513Z"
    }
   },
   "source": [
    "## What if we drop the patient subset instead?"
   ]
  },
  {
   "cell_type": "code",
   "execution_count": null,
   "metadata": {
    "execution": {
     "iopub.execute_input": "2020-09-28T19:12:52.046123Z",
     "iopub.status.busy": "2020-09-28T19:12:52.045125Z",
     "iopub.status.idle": "2020-09-28T19:12:52.095023Z",
     "shell.execute_reply": "2020-09-28T19:12:52.095023Z",
     "shell.execute_reply.started": "2020-09-28T19:12:52.046123Z"
    }
   },
   "outputs": [],
   "source": [
    "restricted = new_df.loc[new_df.LOGIMEM!=-4]\n",
    "restricted"
   ]
  },
  {
   "cell_type": "code",
   "execution_count": null,
   "metadata": {
    "execution": {
     "iopub.execute_input": "2020-09-28T19:12:52.096988Z",
     "iopub.status.busy": "2020-09-28T19:12:52.096988Z",
     "iopub.status.idle": "2020-09-28T19:12:53.684778Z",
     "shell.execute_reply": "2020-09-28T19:12:53.683745Z",
     "shell.execute_reply.started": "2020-09-28T19:12:52.096988Z"
    }
   },
   "outputs": [],
   "source": [
    "res=restricted.drop(['target'], axis=1)\n",
    "X_train, X_test, y_train, y_test = train_test_split(res, restricted['target'], test_size=0.35, random_state=1)\n",
    "\n",
    "model_feat1 = RandomForestClassifier()\n",
    "#train model\n",
    "model_feat1.fit(X_train, y_train)\n",
    "y_pred = model_feat1.predict(X_test)\n",
    "print(model_feat1.score(X_test, y_test))\n",
    "print(precision_score(y_test,y_pred))\n",
    "print(recall_score(y_test,y_pred))\n",
    "\n",
    "\n",
    "#Features sorted by their score\n",
    "feat_importances = pd.Series(model_feat1.feature_importances_, index=X_train.columns)\n",
    "feat_importances.nlargest(20).plot(kind='barh')"
   ]
  },
  {
   "cell_type": "markdown",
   "metadata": {},
   "source": [
    "plot these variables"
   ]
  },
  {
   "cell_type": "code",
   "execution_count": null,
   "metadata": {
    "execution": {
     "iopub.execute_input": "2020-09-28T19:12:53.685739Z",
     "iopub.status.busy": "2020-09-28T19:12:53.685739Z",
     "iopub.status.idle": "2020-09-28T19:13:48.156154Z",
     "shell.execute_reply": "2020-09-28T19:13:48.156154Z",
     "shell.execute_reply.started": "2020-09-28T19:12:53.685739Z"
    },
    "jupyter": {
     "outputs_hidden": true
    }
   },
   "outputs": [],
   "source": [
    "restrict=feat_importances.nlargest(56).index\n",
    "dfres=res[restrict.to_list()]\n",
    "temp=dfres.copy()\n",
    "temp['target']=df['target']\n",
    "norm_count_group(temp,'target')"
   ]
  },
  {
   "cell_type": "markdown",
   "metadata": {},
   "source": [
    "## combine row removal followed by col drop"
   ]
  },
  {
   "cell_type": "code",
   "execution_count": null,
   "metadata": {
    "execution": {
     "iopub.execute_input": "2020-09-28T19:13:48.158114Z",
     "iopub.status.busy": "2020-09-28T19:13:48.157158Z",
     "iopub.status.idle": "2020-09-28T19:13:48.226928Z",
     "shell.execute_reply": "2020-09-28T19:13:48.225962Z",
     "shell.execute_reply.started": "2020-09-28T19:13:48.158114Z"
    }
   },
   "outputs": [],
   "source": [
    "restricted = new_df.loc[new_df.LOGIMEM!=-4]\n",
    "restricted = restricted.loc[:,~restricted.eq(-4).sum().gt(len(df)/2)]\n",
    "restricted"
   ]
  },
  {
   "cell_type": "code",
   "execution_count": null,
   "metadata": {
    "execution": {
     "iopub.execute_input": "2020-09-28T19:13:48.227926Z",
     "iopub.status.busy": "2020-09-28T19:13:48.227926Z",
     "iopub.status.idle": "2020-09-28T19:13:49.576327Z",
     "shell.execute_reply": "2020-09-28T19:13:49.576327Z",
     "shell.execute_reply.started": "2020-09-28T19:13:48.227926Z"
    }
   },
   "outputs": [],
   "source": [
    "res=restricted.drop(['target'], axis=1)\n",
    "X_train, X_test, y_train, y_test = train_test_split(res, restricted['target'], test_size=0.35, random_state=1)\n",
    "\n",
    "model_feat1 = RandomForestClassifier()\n",
    "#train model\n",
    "model_feat1.fit(X_train, y_train)\n",
    "y_pred = model_feat1.predict(X_test)\n",
    "print(model_feat1.score(X_test, y_test))\n",
    "print(precision_score(y_test,y_pred))\n",
    "print(recall_score(y_test,y_pred))\n",
    "\n",
    "\n",
    "#Features sorted by their score\n",
    "feat_importances = pd.Series(model_feat1.feature_importances_, index=X_train.columns)\n",
    "feat_importances.nlargest(20).plot(kind='barh')"
   ]
  },
  {
   "cell_type": "markdown",
   "metadata": {},
   "source": [
    "The droped rows method is best, lets save this new df"
   ]
  },
  {
   "cell_type": "code",
   "execution_count": null,
   "metadata": {
    "execution": {
     "iopub.execute_input": "2020-09-29T03:02:28.912535Z",
     "iopub.status.busy": "2020-09-29T03:02:28.911551Z",
     "iopub.status.idle": "2020-09-29T03:02:30.841409Z",
     "shell.execute_reply": "2020-09-29T03:02:30.841409Z",
     "shell.execute_reply.started": "2020-09-29T03:02:28.911551Z"
    }
   },
   "outputs": [],
   "source": [
    "# restricted = new_df.loc[new_df.LOGIMEM!=-4]\n",
    "# restricted.to_csv('..\\data\\processed\\prelim_clean2.csv')"
   ]
  },
  {
   "cell_type": "markdown",
   "metadata": {},
   "source": [
    "## Explore Initial production model with 10% features + dropped rows"
   ]
  },
  {
   "cell_type": "code",
   "execution_count": null,
   "metadata": {
    "execution": {
     "iopub.execute_input": "2020-09-28T19:13:49.586316Z",
     "iopub.status.busy": "2020-09-28T19:13:49.586316Z",
     "iopub.status.idle": "2020-09-28T19:13:51.009497Z",
     "shell.execute_reply": "2020-09-28T19:13:51.008492Z",
     "shell.execute_reply.started": "2020-09-28T19:13:49.586316Z"
    }
   },
   "outputs": [],
   "source": [
    "restricted = new_df.loc[new_df.LOGIMEM!=-4]\n",
    "res=restricted.drop(['target'], axis=1)\n",
    "X_train, X_test, y_train, y_test = train_test_split(res, restricted['target'], test_size=0.35, random_state=1)\n",
    "\n",
    "model_feat1 = RandomForestClassifier()\n",
    "#train model\n",
    "model_feat1.fit(X_train, y_train)\n",
    "y_pred = model_feat1.predict(X_test)\n",
    "print(model_feat1.score(X_test, y_test))\n",
    "print(precision_score(y_test,y_pred))\n",
    "print(recall_score(y_test,y_pred))\n",
    "feat_importances = pd.Series(model_feat1.feature_importances_, index=X_train.columns)\n",
    "restrict=feat_importances.nlargest(56).index\n"
   ]
  },
  {
   "cell_type": "code",
   "execution_count": null,
   "metadata": {
    "execution": {
     "iopub.execute_input": "2020-09-28T19:13:51.010487Z",
     "iopub.status.busy": "2020-09-28T19:13:51.010487Z",
     "iopub.status.idle": "2020-09-28T19:13:51.901143Z",
     "shell.execute_reply": "2020-09-28T19:13:51.900124Z",
     "shell.execute_reply.started": "2020-09-28T19:13:51.010487Z"
    }
   },
   "outputs": [],
   "source": [
    "dfres=res[restrict.to_list()]\n",
    "X_train, X_test, y_train, y_test = train_test_split(dfres, restricted['target'], test_size=0.35, random_state=1)\n",
    "\n",
    "model_feat1 = RandomForestClassifier()\n",
    "#train model\n",
    "model_feat1.fit(X_train, y_train)\n",
    "y_pred = model_feat1.predict(X_test)\n",
    "print(model_feat1.score(X_test, y_test))\n",
    "print(precision_score(y_test,y_pred))\n",
    "print(recall_score(y_test,y_pred))\n"
   ]
  },
  {
   "cell_type": "code",
   "execution_count": null,
   "metadata": {
    "execution": {
     "iopub.execute_input": "2020-09-28T19:13:51.902145Z",
     "iopub.status.busy": "2020-09-28T19:13:51.901143Z",
     "iopub.status.idle": "2020-09-28T19:13:51.906094Z",
     "shell.execute_reply": "2020-09-28T19:13:51.905108Z",
     "shell.execute_reply.started": "2020-09-28T19:13:51.902145Z"
    }
   },
   "outputs": [],
   "source": [
    "# save this latest model for now\n",
    "# pickle.dump(model_feat1, open('../src/models/01prelim_model.sav', 'wb'))\n",
    "# pickle.dump(restrict, open('../src/features/01prelim_features.sav', 'wb'))"
   ]
  },
  {
   "cell_type": "markdown",
   "metadata": {},
   "source": [
    "Let's try some threshold changes"
   ]
  },
  {
   "cell_type": "code",
   "execution_count": null,
   "metadata": {
    "execution": {
     "iopub.execute_input": "2020-09-28T19:13:51.907091Z",
     "iopub.status.busy": "2020-09-28T19:13:51.907091Z",
     "iopub.status.idle": "2020-09-28T19:13:52.093591Z",
     "shell.execute_reply": "2020-09-28T19:13:52.092626Z",
     "shell.execute_reply.started": "2020-09-28T19:13:51.907091Z"
    }
   },
   "outputs": [],
   "source": [
    "from sklearn.metrics import roc_curve, roc_auc_score\n",
    "# predict probabilities\n",
    "probs = model_feat1.predict_proba(X_test)\n",
    "# keep probabilities for the positive outcome only\n",
    "probs = probs[:, 1]\n",
    "auc = roc_auc_score(y_test, probs)\n",
    "# summarize scores\n",
    "print('ROC AUC=%.3f' % (auc))\n",
    "\n",
    "# calculate roc curves\n",
    "fpr, tpr, _ = roc_curve(y_test, probs)\n",
    "# plot the roc curve for the model\n",
    "plt.plot(fpr, tpr, linestyle='--', label='AD')\n",
    "# axis labels\n",
    "plt.xlabel('False Positive Rate')\n",
    "plt.ylabel('True Positive Rate')\n",
    "# show the legend\n",
    "plt.legend()"
   ]
  },
  {
   "cell_type": "code",
   "execution_count": null,
   "metadata": {
    "execution": {
     "iopub.execute_input": "2020-09-28T19:13:52.094588Z",
     "iopub.status.busy": "2020-09-28T19:13:52.094588Z",
     "iopub.status.idle": "2020-09-28T19:13:52.290068Z",
     "shell.execute_reply": "2020-09-28T19:13:52.289102Z",
     "shell.execute_reply.started": "2020-09-28T19:13:52.094588Z"
    }
   },
   "outputs": [],
   "source": [
    "from sklearn.metrics import precision_recall_curve, plot_precision_recall_curve\n",
    "plot_precision_recall_curve(model_feat1, X_test, y_test)"
   ]
  },
  {
   "cell_type": "code",
   "execution_count": null,
   "metadata": {
    "execution": {
     "iopub.execute_input": "2020-09-28T19:13:52.291064Z",
     "iopub.status.busy": "2020-09-28T19:13:52.291064Z",
     "iopub.status.idle": "2020-09-28T19:13:52.356926Z",
     "shell.execute_reply": "2020-09-28T19:13:52.356926Z",
     "shell.execute_reply.started": "2020-09-28T19:13:52.291064Z"
    }
   },
   "outputs": [],
   "source": [
    "threshold = .45 #to do: youden index?\n",
    "predicted_proba = model_feat1.predict_proba(X_test)\n",
    "predicted = (predicted_proba [:,1] >= threshold).astype('int')\n",
    "print(accuracy_score(y_test, predicted))\n",
    "print(precision_score(y_test,predicted))\n",
    "print(recall_score(y_test,predicted))"
   ]
  },
  {
   "cell_type": "code",
   "execution_count": null,
   "metadata": {
    "execution": {
     "iopub.execute_input": "2020-09-28T19:13:52.358883Z",
     "iopub.status.busy": "2020-09-28T19:13:52.357897Z",
     "iopub.status.idle": "2020-09-28T19:13:52.549377Z",
     "shell.execute_reply": "2020-09-28T19:13:52.548376Z",
     "shell.execute_reply.started": "2020-09-28T19:13:52.358883Z"
    }
   },
   "outputs": [],
   "source": [
    "from sklearn.metrics import plot_confusion_matrix\n",
    "plot_confusion_matrix(model_feat1, X_test, y_test,cmap=plt.cm.Blues)  "
   ]
  },
  {
   "cell_type": "markdown",
   "metadata": {},
   "source": [
    "# Model for visit interval: If patient will develop dementia, how long until then"
   ]
  },
  {
   "cell_type": "code",
   "execution_count": null,
   "metadata": {
    "execution": {
     "iopub.execute_input": "2020-09-28T19:13:52.550371Z",
     "iopub.status.busy": "2020-09-28T19:13:52.550371Z",
     "iopub.status.idle": "2020-09-28T19:13:52.556360Z",
     "shell.execute_reply": "2020-09-28T19:13:52.555357Z",
     "shell.execute_reply.started": "2020-09-28T19:13:52.550371Z"
    }
   },
   "outputs": [],
   "source": [
    "from sklearn.ensemble import RandomForestRegressor\n",
    "regressor= RandomForestRegressor()"
   ]
  },
  {
   "cell_type": "code",
   "execution_count": null,
   "metadata": {
    "execution": {
     "iopub.execute_input": "2020-09-28T19:13:52.558350Z",
     "iopub.status.busy": "2020-09-28T19:13:52.557352Z",
     "iopub.status.idle": "2020-09-28T19:14:11.582529Z",
     "shell.execute_reply": "2020-09-28T19:14:11.581523Z",
     "shell.execute_reply.started": "2020-09-28T19:13:52.558350Z"
    }
   },
   "outputs": [],
   "source": [
    "sub=df.loc[df.target==1]\n",
    "res=sub.drop(['NEWINF','target','INBIRYR','visit_interval'], axis=1)\n",
    "X_train, X_test, y_train, y_test = train_test_split(res, sub['visit_interval'], test_size=0.35, random_state=1)\n",
    "regressor.fit(X_train, y_train)\n",
    "regressor.score(X_test,y_test)"
   ]
  },
  {
   "cell_type": "markdown",
   "metadata": {},
   "source": [
    "No signal"
   ]
  },
  {
   "cell_type": "markdown",
   "metadata": {
    "execution": {
     "iopub.execute_input": "2020-09-28T19:04:43.688698Z",
     "iopub.status.busy": "2020-09-28T19:04:43.688698Z",
     "iopub.status.idle": "2020-09-28T19:04:43.693691Z",
     "shell.execute_reply": "2020-09-28T19:04:43.692687Z",
     "shell.execute_reply.started": "2020-09-28T19:04:43.688698Z"
    }
   },
   "source": [
    "### Explore survival analysis"
   ]
  },
  {
   "cell_type": "code",
   "execution_count": null,
   "metadata": {
    "execution": {
     "iopub.execute_input": "2020-10-01T16:56:53.808847Z",
     "iopub.status.busy": "2020-10-01T16:56:53.808847Z",
     "iopub.status.idle": "2020-10-01T16:56:53.842756Z",
     "shell.execute_reply": "2020-10-01T16:56:53.842756Z",
     "shell.execute_reply.started": "2020-10-01T16:56:53.808847Z"
    }
   },
   "outputs": [],
   "source": [
    "from sksurv.ensemble import RandomSurvivalForest\n",
    "from sksurv.util import Surv"
   ]
  },
  {
   "cell_type": "code",
   "execution_count": null,
   "metadata": {
    "execution": {
     "iopub.execute_input": "2020-10-01T20:59:25.408381Z",
     "iopub.status.busy": "2020-10-01T20:59:25.408381Z",
     "iopub.status.idle": "2020-10-01T20:59:25.514069Z",
     "shell.execute_reply": "2020-10-01T20:59:25.514069Z",
     "shell.execute_reply.started": "2020-10-01T20:59:25.408381Z"
    }
   },
   "outputs": [],
   "source": [
    "y=Surv.from_dataframe('target', 'visit_interval', df)\n",
    "X_train, X_test, y_train, y_test = train_test_split(new_df.drop(['target', 'visit_interval'], axis=1), y, test_size=0.35, random_state=1)\n"
   ]
  },
  {
   "cell_type": "code",
   "execution_count": null,
   "metadata": {
    "execution": {
     "iopub.execute_input": "2020-10-01T20:59:28.665670Z",
     "iopub.status.busy": "2020-10-01T20:59:28.665670Z",
     "iopub.status.idle": "2020-10-01T21:00:02.040420Z",
     "shell.execute_reply": "2020-10-01T21:00:02.039436Z",
     "shell.execute_reply.started": "2020-10-01T20:59:28.665670Z"
    }
   },
   "outputs": [],
   "source": [
    "rsf = RandomSurvivalForest()\n",
    "rsf.fit(X_train, y_train)"
   ]
  },
  {
   "cell_type": "code",
   "execution_count": null,
   "metadata": {
    "execution": {
     "iopub.execute_input": "2020-10-01T21:00:04.330324Z",
     "iopub.status.busy": "2020-10-01T21:00:04.330324Z",
     "iopub.status.idle": "2020-10-01T21:00:05.594918Z",
     "shell.execute_reply": "2020-10-01T21:00:05.593920Z",
     "shell.execute_reply.started": "2020-10-01T21:00:04.330324Z"
    }
   },
   "outputs": [],
   "source": [
    "rsf.score(X_test, y_test)"
   ]
  },
  {
   "cell_type": "code",
   "execution_count": null,
   "metadata": {
    "execution": {
     "iopub.execute_input": "2020-10-01T21:00:07.599559Z",
     "iopub.status.busy": "2020-10-01T21:00:07.599559Z",
     "iopub.status.idle": "2020-10-01T21:00:09.984189Z",
     "shell.execute_reply": "2020-10-01T21:00:09.983276Z",
     "shell.execute_reply.started": "2020-10-01T21:00:07.599559Z"
    }
   },
   "outputs": [],
   "source": [
    "surv = rsf.predict_survival_function(X_test)\n",
    "\n",
    "surv_p=pd.Series(rsf.predict(X_test))"
   ]
  },
  {
   "cell_type": "code",
   "execution_count": null,
   "metadata": {
    "execution": {
     "iopub.execute_input": "2020-10-01T21:00:15.789690Z",
     "iopub.status.busy": "2020-10-01T21:00:15.788665Z",
     "iopub.status.idle": "2020-10-01T21:00:17.014389Z",
     "shell.execute_reply": "2020-10-01T21:00:17.013396Z",
     "shell.execute_reply.started": "2020-10-01T21:00:15.789690Z"
    }
   },
   "outputs": [],
   "source": [
    "survs = rsf.predict_survival_function(X_test, return_array=True)\n",
    "times=rsf.event_times_\n"
   ]
  },
  {
   "cell_type": "code",
   "execution_count": null,
   "metadata": {
    "execution": {
     "iopub.execute_input": "2020-10-01T21:00:17.078218Z",
     "iopub.status.busy": "2020-10-01T21:00:17.077223Z",
     "iopub.status.idle": "2020-10-01T21:00:17.083206Z",
     "shell.execute_reply": "2020-10-01T21:00:17.082219Z",
     "shell.execute_reply.started": "2020-10-01T21:00:17.078218Z"
    }
   },
   "outputs": [],
   "source": [
    "time=np.arange(94, 427+94)"
   ]
  },
  {
   "cell_type": "code",
   "execution_count": null,
   "metadata": {
    "execution": {
     "iopub.execute_input": "2020-10-01T21:00:18.039648Z",
     "iopub.status.busy": "2020-10-01T21:00:18.038652Z",
     "iopub.status.idle": "2020-10-01T21:00:18.101485Z",
     "shell.execute_reply": "2020-10-01T21:00:18.100518Z",
     "shell.execute_reply.started": "2020-10-01T21:00:18.039648Z"
    }
   },
   "outputs": [],
   "source": [
    "from sksurv.metrics import integrated_brier_score\n",
    "integrated_brier_score(y_train, y_test, survs, time)# not implemented for trees in this library =( super hacked, but worked!"
   ]
  },
  {
   "cell_type": "code",
   "execution_count": null,
   "metadata": {
    "execution": {
     "iopub.execute_input": "2020-10-01T21:32:04.997585Z",
     "iopub.status.busy": "2020-10-01T21:32:04.997585Z",
     "iopub.status.idle": "2020-10-01T21:32:05.053451Z",
     "shell.execute_reply": "2020-10-01T21:32:05.052451Z",
     "shell.execute_reply.started": "2020-10-01T21:32:04.997585Z"
    }
   },
   "outputs": [],
   "source": [
    "from sksurv.metrics import concordance_index_ipcw,cumulative_dynamic_auc\n",
    "concordance_index_ipcw(y_train, y_test, survs[:,0])"
   ]
  },
  {
   "cell_type": "code",
   "execution_count": null,
   "metadata": {
    "execution": {
     "iopub.execute_input": "2020-10-01T21:39:25.480026Z",
     "iopub.status.busy": "2020-10-01T21:39:25.480026Z",
     "iopub.status.idle": "2020-10-01T21:39:28.830048Z",
     "shell.execute_reply": "2020-10-01T21:39:28.829071Z",
     "shell.execute_reply.started": "2020-10-01T21:39:25.480026Z"
    }
   },
   "outputs": [],
   "source": [
    "pred=rsf.predict(X_test) #this may be only applicable to COX?\n",
    "\n",
    "va_auc, va_mean_auc = cumulative_dynamic_auc(y_train, y_test, pred, time)\n",
    "\n",
    "plt.plot(time, va_auc)\n",
    "plt.axhline(va_mean_auc, linestyle=\"--\")\n",
    "plt.xlabel(\"days from enrollment\")\n",
    "plt.ylabel(\"time-dependent AUC\")\n",
    "plt.grid(True)"
   ]
  },
  {
   "cell_type": "code",
   "execution_count": null,
   "metadata": {
    "execution": {
     "iopub.execute_input": "2020-10-01T21:47:55.539406Z",
     "iopub.status.busy": "2020-10-01T21:47:55.539406Z",
     "iopub.status.idle": "2020-10-01T23:37:37.900014Z",
     "shell.execute_reply": "2020-10-01T23:37:37.899017Z",
     "shell.execute_reply.started": "2020-10-01T21:47:55.539406Z"
    }
   },
   "outputs": [],
   "source": [
    "import eli5\n",
    "from eli5.sklearn import PermutationImportance\n",
    "\n",
    "perm = PermutationImportance(rsf, n_iter=10, random_state=1)\n",
    "perm.fit(X_test, y_test)\n",
    "eli5.show_weights(perm, feature_names=X_test.columns.to_list())"
   ]
  },
  {
   "cell_type": "code",
   "execution_count": null,
   "metadata": {
    "execution": {
     "iopub.execute_input": "2020-09-28T19:55:18.775694Z",
     "iopub.status.busy": "2020-09-28T19:55:18.775694Z",
     "iopub.status.idle": "2020-09-28T19:55:18.933279Z",
     "shell.execute_reply": "2020-09-28T19:55:18.932281Z",
     "shell.execute_reply.started": "2020-09-28T19:55:18.775694Z"
    },
    "jupyter": {
     "outputs_hidden": true
    }
   },
   "outputs": [],
   "source": [
    "for i, s in enumerate(surv):\n",
    "    plt.step(rsf.event_times_, s, where=\"post\", label=str(i))\n",
    "plt.ylabel(\"Survival probability\")\n",
    "plt.xlabel(\"Time in days\")\n",
    "plt.grid(True)\n",
    "plt.legend()"
   ]
  },
  {
   "cell_type": "code",
   "execution_count": null,
   "metadata": {
    "execution": {
     "iopub.execute_input": "2020-09-28T20:25:25.572166Z",
     "iopub.status.busy": "2020-09-28T20:25:25.572166Z",
     "iopub.status.idle": "2020-09-28T20:25:25.709798Z",
     "shell.execute_reply": "2020-09-28T20:25:25.708811Z",
     "shell.execute_reply.started": "2020-09-28T20:25:25.572166Z"
    }
   },
   "outputs": [],
   "source": [
    "plt.step(rsf.event_times_, surv[0], where=\"post\")"
   ]
  },
  {
   "cell_type": "markdown",
   "metadata": {
    "execution": {
     "iopub.execute_input": "2020-09-28T19:55:55.328972Z",
     "iopub.status.busy": "2020-09-28T19:55:55.328972Z",
     "iopub.status.idle": "2020-09-28T19:55:55.339944Z",
     "shell.execute_reply": "2020-09-28T19:55:55.338961Z",
     "shell.execute_reply.started": "2020-09-28T19:55:55.328972Z"
    }
   },
   "source": [
    "output 'survival' probability with slider for time"
   ]
  },
  {
   "cell_type": "markdown",
   "metadata": {
    "execution": {
     "iopub.execute_input": "2020-09-29T02:30:35.598590Z",
     "iopub.status.busy": "2020-09-29T02:30:35.597592Z",
     "iopub.status.idle": "2020-09-29T02:30:35.603576Z",
     "shell.execute_reply": "2020-09-29T02:30:35.602580Z",
     "shell.execute_reply.started": "2020-09-29T02:30:35.598590Z"
    }
   },
   "source": [
    "### Let's try cox survival analysis"
   ]
  },
  {
   "cell_type": "markdown",
   "metadata": {
    "execution": {
     "iopub.execute_input": "2020-09-29T02:57:09.565279Z",
     "iopub.status.busy": "2020-09-29T02:57:09.565279Z",
     "iopub.status.idle": "2020-09-29T02:57:09.570268Z",
     "shell.execute_reply": "2020-09-29T02:57:09.569268Z",
     "shell.execute_reply.started": "2020-09-29T02:57:09.565279Z"
    }
   },
   "source": [
    "### (found in survival model due to colinearity concerns)"
   ]
  },
  {
   "cell_type": "code",
   "execution_count": null,
   "metadata": {},
   "outputs": [],
   "source": []
  }
 ],
 "metadata": {
  "kernelspec": {
   "display_name": "AD",
   "language": "python",
   "name": "ad"
  },
  "language_info": {
   "codemirror_mode": {
    "name": "ipython",
    "version": 3
   },
   "file_extension": ".py",
   "mimetype": "text/x-python",
   "name": "python",
   "nbconvert_exporter": "python",
   "pygments_lexer": "ipython3",
   "version": "3.7.9"
  }
 },
 "nbformat": 4,
 "nbformat_minor": 4
}
