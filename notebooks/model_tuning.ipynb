{
 "cells": [
  {
   "cell_type": "markdown",
   "metadata": {},
   "source": [
    "# Model tuning"
   ]
  },
  {
   "cell_type": "code",
   "execution_count": null,
   "metadata": {
    "execution": {
     "iopub.execute_input": "2020-09-29T21:07:14.535011Z",
     "iopub.status.busy": "2020-09-29T21:07:14.535011Z",
     "iopub.status.idle": "2020-09-29T21:07:14.540969Z",
     "shell.execute_reply": "2020-09-29T21:07:14.539969Z",
     "shell.execute_reply.started": "2020-09-29T21:07:14.535011Z"
    }
   },
   "outputs": [],
   "source": [
    "import numpy as np\n",
    "import pandas as pd\n",
    "import pickle\n",
    "from sklearn.ensemble import RandomForestClassifier\n",
    "from sklearn.model_selection import RandomizedSearchCV\n",
    "from sklearn.model_selection import train_test_split, GridSearchCV\n",
    "from sklearn.metrics import make_scorer, recall_score, accuracy_score, precision_score\n"
   ]
  },
  {
   "cell_type": "markdown",
   "metadata": {
    "execution": {
     "iopub.execute_input": "2020-09-29T18:14:20.172682Z",
     "iopub.status.busy": "2020-09-29T18:14:20.171685Z",
     "iopub.status.idle": "2020-09-29T18:14:20.175674Z",
     "shell.execute_reply": "2020-09-29T18:14:20.174708Z",
     "shell.execute_reply.started": "2020-09-29T18:14:20.171685Z"
    }
   },
   "source": [
    "## perform broad random search to then fine tune with grid"
   ]
  },
  {
   "cell_type": "code",
   "execution_count": null,
   "metadata": {
    "ExecuteTime": {
     "end_time": "2020-09-03T17:32:51.760524Z",
     "start_time": "2020-09-03T17:32:50.145841Z"
    },
    "execution": {
     "iopub.execute_input": "2020-09-29T21:07:15.575202Z",
     "iopub.status.busy": "2020-09-29T21:07:15.574203Z",
     "iopub.status.idle": "2020-09-29T21:07:15.918312Z",
     "shell.execute_reply": "2020-09-29T21:07:15.917369Z",
     "shell.execute_reply.started": "2020-09-29T21:07:15.575202Z"
    }
   },
   "outputs": [],
   "source": [
    "#load initial cleaned data\n",
    "df=pd.read_csv(r\"..\\data\\processed\\prelim_clean2.csv\", index_col=[0])\n",
    "\n",
    "res_features = pickle.load(open('../models/01final_features_res.sav', 'rb'))\n",
    "subset=df[df.columns.intersection(res_features)]"
   ]
  },
  {
   "cell_type": "code",
   "execution_count": null,
   "metadata": {
    "execution": {
     "iopub.execute_input": "2020-09-29T21:07:16.609434Z",
     "iopub.status.busy": "2020-09-29T21:07:16.608438Z",
     "iopub.status.idle": "2020-09-29T21:07:16.618412Z",
     "shell.execute_reply": "2020-09-29T21:07:16.618412Z",
     "shell.execute_reply.started": "2020-09-29T21:07:16.609434Z"
    }
   },
   "outputs": [],
   "source": [
    "X_train, X_test, y_train, y_test = train_test_split(subset, df['target'], test_size=0.3, random_state=1)"
   ]
  },
  {
   "cell_type": "code",
   "execution_count": null,
   "metadata": {
    "execution": {
     "iopub.execute_input": "2020-09-29T21:07:18.113413Z",
     "iopub.status.busy": "2020-09-29T21:07:18.112416Z",
     "iopub.status.idle": "2020-09-29T21:07:18.878369Z",
     "shell.execute_reply": "2020-09-29T21:07:18.877389Z",
     "shell.execute_reply.started": "2020-09-29T21:07:18.113413Z"
    }
   },
   "outputs": [],
   "source": [
    "base_model = RandomForestClassifier(random_state = 1)\n",
    "base_model.fit(X_train, y_train)\n",
    "y_pred = base_model.predict(X_test)\n",
    "print(base_model.score(X_test, y_test))\n",
    "print(precision_score(y_test,y_pred))\n",
    "print(recall_score(y_test,y_pred))"
   ]
  },
  {
   "cell_type": "code",
   "execution_count": null,
   "metadata": {
    "execution": {
     "iopub.execute_input": "2020-09-29T21:07:27.724743Z",
     "iopub.status.busy": "2020-09-29T21:07:27.724743Z",
     "iopub.status.idle": "2020-09-29T21:07:27.732692Z",
     "shell.execute_reply": "2020-09-29T21:07:27.731694Z",
     "shell.execute_reply.started": "2020-09-29T21:07:27.724743Z"
    }
   },
   "outputs": [],
   "source": [
    "# Number of trees in random forest\n",
    "n_estimators = [int(x) for x in np.linspace(start = 200, stop = 2000, num = 10)]\n",
    "# Number of features to consider at every split\n",
    "max_features = ['log2', 'sqrt']\n",
    "# Maximum number of levels in tree\n",
    "max_depth = [int(x) for x in np.linspace(10, 110, num = 11)]\n",
    "max_depth.append(None)\n",
    "# Minimum number of samples required to split a node\n",
    "min_samples_split = [2, 5, 10]\n",
    "# Minimum number of samples required at each leaf node\n",
    "min_samples_leaf = [1, 2, 4]\n",
    "# Method of selecting samples for training each tree\n",
    "bootstrap = [True, False]\n",
    "# Create the random grid\n",
    "random_grid = {'n_estimators': n_estimators,\n",
    "               'max_features': max_features,\n",
    "               'max_depth': max_depth,\n",
    "               'min_samples_split': min_samples_split,\n",
    "               'min_samples_leaf': min_samples_leaf,\n",
    "               'bootstrap': bootstrap}"
   ]
  },
  {
   "cell_type": "code",
   "execution_count": null,
   "metadata": {
    "execution": {
     "iopub.execute_input": "2020-09-29T21:17:06.848809Z",
     "iopub.status.busy": "2020-09-29T21:17:06.847812Z",
     "iopub.status.idle": "2020-09-29T21:25:32.356249Z",
     "shell.execute_reply": "2020-09-29T21:25:32.356249Z",
     "shell.execute_reply.started": "2020-09-29T21:17:06.848809Z"
    }
   },
   "outputs": [],
   "source": [
    "# Use the random grid to search for best hyperparameters\n",
    "# First create the base model to tune\n",
    "rf = RandomForestClassifier()\n",
    "# Random search of parameters, using 3 fold cross validation, \n",
    "rf_random = RandomizedSearchCV(estimator = rf, param_distributions = random_grid, n_iter = 100, cv = 3, random_state=1, n_jobs = -1)\n",
    "# Fit the random search model\n",
    "rf_random.fit(X_train, y_train)"
   ]
  },
  {
   "cell_type": "code",
   "execution_count": null,
   "metadata": {
    "execution": {
     "iopub.execute_input": "2020-09-29T21:27:02.559898Z",
     "iopub.status.busy": "2020-09-29T21:27:02.558900Z",
     "iopub.status.idle": "2020-09-29T21:27:02.566888Z",
     "shell.execute_reply": "2020-09-29T21:27:02.565884Z",
     "shell.execute_reply.started": "2020-09-29T21:27:02.559898Z"
    }
   },
   "outputs": [],
   "source": [
    "best_params=rf_random.best_params_\n",
    "best_params"
   ]
  },
  {
   "cell_type": "code",
   "execution_count": null,
   "metadata": {
    "execution": {
     "iopub.execute_input": "2020-09-29T21:27:14.782212Z",
     "iopub.status.busy": "2020-09-29T21:27:14.782212Z",
     "iopub.status.idle": "2020-09-29T21:27:15.743642Z",
     "shell.execute_reply": "2020-09-29T21:27:15.742644Z",
     "shell.execute_reply.started": "2020-09-29T21:27:14.782212Z"
    }
   },
   "outputs": [],
   "source": [
    "y_pred = rf_random.predict(X_test)\n",
    "print(rf_random.score(X_test, y_test))\n",
    "print(precision_score(y_test,y_pred))\n",
    "print(recall_score(y_test,y_pred))"
   ]
  },
  {
   "cell_type": "code",
   "execution_count": null,
   "metadata": {
    "execution": {
     "iopub.execute_input": "2020-09-29T21:32:53.624087Z",
     "iopub.status.busy": "2020-09-29T21:32:53.624087Z",
     "iopub.status.idle": "2020-09-29T21:32:53.631068Z",
     "shell.execute_reply": "2020-09-29T21:32:53.630071Z",
     "shell.execute_reply.started": "2020-09-29T21:32:53.624087Z"
    }
   },
   "outputs": [],
   "source": [
    "# Create the parameter grid based on the results of random search \n",
    "param_grid = {\n",
    "    'bootstrap': [True],\n",
    "    'max_features': [5,6,8,9],\n",
    "    'min_samples_leaf': [1,2, 3, 4],\n",
    "    'min_samples_split': [2, 3, 4],\n",
    "    'n_estimators': [1000, 1200, 1500, 1800]\n",
    "}\n",
    "# Create a based model\n",
    "rf = RandomForestClassifier()\n",
    "# Instantiate the grid search model\n",
    "grid_search = GridSearchCV(estimator = rf, param_grid = param_grid, \n",
    "                          cv = 5, n_jobs = -1)"
   ]
  },
  {
   "cell_type": "code",
   "execution_count": null,
   "metadata": {
    "execution": {
     "iopub.execute_input": "2020-09-29T21:33:01.749356Z",
     "iopub.status.busy": "2020-09-29T21:33:01.749356Z",
     "iopub.status.idle": "2020-09-29T22:08:05.771357Z",
     "shell.execute_reply": "2020-09-29T22:08:05.771357Z",
     "shell.execute_reply.started": "2020-09-29T21:33:01.749356Z"
    }
   },
   "outputs": [],
   "source": [
    "# Fit the grid search to the data\n",
    "grid_search.fit(X_train, y_train)\n",
    "grid_search.best_params_\n",
    "best_grid = grid_search.best_estimator_\n"
   ]
  },
  {
   "cell_type": "code",
   "execution_count": null,
   "metadata": {},
   "outputs": [],
   "source": [
    "y_pred = base_model.predict(X_test)\n",
    "print(rf_random.score(X_test, y_test))\n",
    "print(precision_score(y_test,y_pred))\n",
    "print(recall_score(y_test,y_pred))"
   ]
  }
 ],
 "metadata": {
  "kernelspec": {
   "display_name": "AD",
   "language": "python",
   "name": "ad"
  },
  "language_info": {
   "codemirror_mode": {
    "name": "ipython",
    "version": 3
   },
   "file_extension": ".py",
   "mimetype": "text/x-python",
   "name": "python",
   "nbconvert_exporter": "python",
   "pygments_lexer": "ipython3",
   "version": "3.7.9"
  }
 },
 "nbformat": 4,
 "nbformat_minor": 4
}
