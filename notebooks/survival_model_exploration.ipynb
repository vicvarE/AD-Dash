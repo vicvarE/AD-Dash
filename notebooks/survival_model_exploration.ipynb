{
 "cells": [
  {
   "cell_type": "markdown",
   "metadata": {
    "execution": {
     "iopub.execute_input": "2020-09-29T02:30:35.598590Z",
     "iopub.status.busy": "2020-09-29T02:30:35.597592Z",
     "iopub.status.idle": "2020-09-29T02:30:35.603576Z",
     "shell.execute_reply": "2020-09-29T02:30:35.602580Z",
     "shell.execute_reply.started": "2020-09-29T02:30:35.598590Z"
    }
   },
   "source": [
    "### Let's try cox survival analysis here with a reduced dataset"
   ]
  },
  {
   "cell_type": "code",
   "execution_count": null,
   "metadata": {
    "execution": {
     "iopub.execute_input": "2020-10-11T21:22:32.656695Z",
     "iopub.status.busy": "2020-10-11T21:22:32.656695Z",
     "iopub.status.idle": "2020-10-11T21:22:33.852564Z",
     "shell.execute_reply": "2020-10-11T21:22:33.851600Z",
     "shell.execute_reply.started": "2020-10-11T21:22:32.656695Z"
    }
   },
   "outputs": [],
   "source": [
    "import pickle\n",
    "import pandas as pd\n",
    "from sklearn.model_selection import train_test_split\n",
    "import matplotlib.pyplot as plt\n",
    "import seaborn as sns\n",
    "import numpy as np\n",
    "sns.set_palette(\"Set2\")"
   ]
  },
  {
   "cell_type": "code",
   "execution_count": null,
   "metadata": {
    "ExecuteTime": {
     "end_time": "2020-09-03T17:32:51.760524Z",
     "start_time": "2020-09-03T17:32:50.145841Z"
    },
    "execution": {
     "iopub.execute_input": "2020-10-11T21:22:34.704537Z",
     "iopub.status.busy": "2020-10-11T21:22:34.703539Z",
     "iopub.status.idle": "2020-10-11T21:22:35.991479Z",
     "shell.execute_reply": "2020-10-11T21:22:35.990522Z",
     "shell.execute_reply.started": "2020-10-11T21:22:34.704537Z"
    }
   },
   "outputs": [],
   "source": [
    "#load initial cleaned data\n",
    "df=pd.read_csv(r\"..\\data\\processed\\prelim_clean2.csv\", index_col=[0])\n",
    "df.drop(['visit_interval','target'],axis=1, inplace=True)\n",
    "df2=pd.read_csv(r\"..\\data\\processed\\prelim_clean2.csv\", index_col=[0])"
   ]
  },
  {
   "cell_type": "code",
   "execution_count": null,
   "metadata": {
    "execution": {
     "iopub.execute_input": "2020-10-11T21:22:36.060416Z",
     "iopub.status.busy": "2020-10-11T21:22:36.060416Z",
     "iopub.status.idle": "2020-10-11T21:22:36.074414Z",
     "shell.execute_reply": "2020-10-11T21:22:36.073028Z",
     "shell.execute_reply.started": "2020-10-11T21:22:36.060416Z"
    }
   },
   "outputs": [],
   "source": [
    "broad_features = pickle.load(open('../models/01final_features_broad.sav', 'rb'))\n",
    "res_features = pickle.load(open('../models/01final_features_res.sav', 'rb'))"
   ]
  },
  {
   "cell_type": "code",
   "execution_count": null,
   "metadata": {
    "execution": {
     "iopub.execute_input": "2020-10-11T21:22:36.161617Z",
     "iopub.status.busy": "2020-10-11T21:22:36.160590Z",
     "iopub.status.idle": "2020-10-11T21:22:36.178083Z",
     "shell.execute_reply": "2020-10-11T21:22:36.177086Z",
     "shell.execute_reply.started": "2020-10-11T21:22:36.161617Z"
    }
   },
   "outputs": [],
   "source": [
    "broad_subset=df[df.columns.intersection(broad_features)]\n",
    "subset=df[df.columns.intersection(res_features)]"
   ]
  },
  {
   "cell_type": "code",
   "execution_count": null,
   "metadata": {
    "execution": {
     "iopub.execute_input": "2020-09-29T03:16:15.408979Z",
     "iopub.status.busy": "2020-09-29T03:16:15.408979Z",
     "iopub.status.idle": "2020-09-29T03:16:21.419911Z",
     "shell.execute_reply": "2020-09-29T03:16:21.418938Z",
     "shell.execute_reply.started": "2020-09-29T03:16:15.408979Z"
    },
    "jupyter": {
     "outputs_hidden": true
    }
   },
   "outputs": [],
   "source": [
    "from lifelines import CoxPHFitter\n",
    "from lifelines.utils import k_fold_cross_validation\n",
    "\n",
    "broad_subset['visit_interval']=df2['visit_interval']\n",
    "broad_subset['target']=df2['target']\n",
    "\n",
    "cph = CoxPHFitter(penalizer=0.1)\n",
    "#scores = k_fold_cross_validation(cph, broad_subset, 'visit_interval', event_col='target', k=10)\n",
    "#print(scores)\n",
    "\n",
    "# scores = k_fold_cross_validation(cph, broad_subset, duration_col='visit_interval', event_col='target', k=10, scoring_method=\"concordance_index\")\n",
    "# print(scores)\n",
    "\n",
    "cph.fit(df=broad_subset, duration_col='visit_interval', event_col='target')\n",
    "cph.print_summary()\n"
   ]
  },
  {
   "cell_type": "code",
   "execution_count": null,
   "metadata": {
    "execution": {
     "iopub.execute_input": "2020-09-29T03:36:16.460088Z",
     "iopub.status.busy": "2020-09-29T03:36:16.459090Z",
     "iopub.status.idle": "2020-09-29T03:36:32.036445Z",
     "shell.execute_reply": "2020-09-29T03:36:32.036445Z",
     "shell.execute_reply.started": "2020-09-29T03:36:16.460088Z"
    }
   },
   "outputs": [],
   "source": [
    "subset['visit_interval']=df2['visit_interval']\n",
    "subset['target']=df2['target']\n",
    "\n",
    "cph = CoxPHFitter(penalizer=0.01)\n",
    "scores = k_fold_cross_validation(cph, subset, duration_col='visit_interval', event_col='target', k=10, scoring_method=\"concordance_index\")\n",
    "print(scores)\n",
    "\n",
    "cph.fit(df=broad_subset, duration_col='visit_interval', event_col='target')\n",
    "#cph.print_summary()"
   ]
  },
  {
   "cell_type": "code",
   "execution_count": null,
   "metadata": {},
   "outputs": [],
   "source": [
    "# from lifelines.utils.sklearn_adapter import sklearn_adapter\n",
    "\n",
    "# from lifelines import CoxPHFitter\n",
    "# from lifelines.datasets import load_rossi\n",
    "\n",
    "# X = load_rossi().drop('week', axis=1) # keep as a dataframe\n",
    "# Y = load_rossi().pop('week')\n",
    "\n",
    "# CoxRegression = sklearn_adapter(CoxPHFitter, event_col='arrest')\n",
    "# # CoxRegression is a class like the `LinearRegression` class or `SVC` class in scikit-learn\n",
    "\n",
    "# sk_cph = CoxRegression(penalizer=1e-5)\n",
    "# sk_cph.fit(X, Y)\n",
    "# print(sk_cph)\n",
    "\n",
    "# \"\"\"\n",
    "# SkLearnCoxPHFitter(alpha=0.05, penalizer=1e-5, strata=None, tie_method='Efron')\n",
    "# \"\"\"\n",
    "\n",
    "# sk_cph.predict(X)\n",
    "# sk_cph.score(X, Y)"
   ]
  },
  {
   "cell_type": "markdown",
   "metadata": {},
   "source": [
    "## Cox with skurv (just to test how functions work in their data)"
   ]
  },
  {
   "cell_type": "code",
   "execution_count": null,
   "metadata": {
    "execution": {
     "iopub.execute_input": "2020-10-02T18:27:25.875704Z",
     "iopub.status.busy": "2020-10-02T18:27:25.875704Z",
     "iopub.status.idle": "2020-10-02T18:27:26.014335Z",
     "shell.execute_reply": "2020-10-02T18:27:26.014335Z",
     "shell.execute_reply.started": "2020-10-02T18:27:25.875704Z"
    }
   },
   "outputs": [],
   "source": [
    "import numpy\n",
    "from sksurv.datasets import load_gbsg2\n",
    "from sksurv.linear_model import CoxPHSurvivalAnalysis\n",
    "from sksurv.metrics import integrated_brier_score\n",
    "from sksurv.preprocessing import OneHotEncoder"
   ]
  },
  {
   "cell_type": "code",
   "execution_count": null,
   "metadata": {
    "execution": {
     "iopub.execute_input": "2020-10-01T15:05:59.391526Z",
     "iopub.status.busy": "2020-10-01T15:05:59.391526Z",
     "iopub.status.idle": "2020-10-01T15:05:59.432416Z",
     "shell.execute_reply": "2020-10-01T15:05:59.431417Z",
     "shell.execute_reply.started": "2020-10-01T15:05:59.391526Z"
    }
   },
   "outputs": [],
   "source": [
    "X, y = load_gbsg2()\n",
    "X.loc[:, \"tgrade\"] = X.loc[:, \"tgrade\"].map(len).astype(int)\n",
    "Xt = OneHotEncoder().fit_transform(X)"
   ]
  },
  {
   "cell_type": "code",
   "execution_count": null,
   "metadata": {
    "execution": {
     "iopub.execute_input": "2020-10-01T15:06:01.585436Z",
     "iopub.status.busy": "2020-10-01T15:06:01.585436Z",
     "iopub.status.idle": "2020-10-01T15:06:01.776918Z",
     "shell.execute_reply": "2020-10-01T15:06:01.775935Z",
     "shell.execute_reply.started": "2020-10-01T15:06:01.585436Z"
    }
   },
   "outputs": [],
   "source": [
    "est = CoxPHSurvivalAnalysis(ties=\"efron\").fit(Xt, y)"
   ]
  },
  {
   "cell_type": "code",
   "execution_count": null,
   "metadata": {
    "execution": {
     "iopub.execute_input": "2020-10-01T15:06:13.375063Z",
     "iopub.status.busy": "2020-10-01T15:06:13.375063Z",
     "iopub.status.idle": "2020-10-01T15:06:49.083823Z",
     "shell.execute_reply": "2020-10-01T15:06:49.082884Z",
     "shell.execute_reply.started": "2020-10-01T15:06:13.375063Z"
    }
   },
   "outputs": [],
   "source": [
    "survs = est.predict_survival_function(Xt)\n",
    "times = numpy.arange(365, 1826)\n",
    "preds = numpy.asarray([[fn(t) for t in times] for fn in survs])"
   ]
  },
  {
   "cell_type": "code",
   "execution_count": null,
   "metadata": {
    "execution": {
     "iopub.execute_input": "2020-10-01T15:09:43.173695Z",
     "iopub.status.busy": "2020-10-01T15:09:43.173695Z",
     "iopub.status.idle": "2020-10-01T15:09:43.201620Z",
     "shell.execute_reply": "2020-10-01T15:09:43.200623Z",
     "shell.execute_reply.started": "2020-10-01T15:09:43.173695Z"
    },
    "jupyter": {
     "outputs_hidden": true
    }
   },
   "outputs": [],
   "source": [
    "survs[0]"
   ]
  },
  {
   "cell_type": "code",
   "execution_count": null,
   "metadata": {},
   "outputs": [],
   "source": [
    "score = integrated_brier_score(y, y, preds, times)\n",
    "print(score)"
   ]
  },
  {
   "cell_type": "markdown",
   "metadata": {},
   "source": [
    "# survival forest with sksurv"
   ]
  },
  {
   "cell_type": "code",
   "execution_count": null,
   "metadata": {
    "execution": {
     "iopub.execute_input": "2020-10-11T21:22:50.502812Z",
     "iopub.status.busy": "2020-10-11T21:22:50.502812Z",
     "iopub.status.idle": "2020-10-11T21:22:50.750556Z",
     "shell.execute_reply": "2020-10-11T21:22:50.749578Z",
     "shell.execute_reply.started": "2020-10-11T21:22:50.502812Z"
    }
   },
   "outputs": [],
   "source": [
    "from sksurv.ensemble import RandomSurvivalForest\n",
    "from sksurv.util import Surv"
   ]
  },
  {
   "cell_type": "code",
   "execution_count": null,
   "metadata": {
    "execution": {
     "iopub.execute_input": "2020-10-11T21:22:50.904972Z",
     "iopub.status.busy": "2020-10-11T21:22:50.903974Z",
     "iopub.status.idle": "2020-10-11T21:22:50.915942Z",
     "shell.execute_reply": "2020-10-11T21:22:50.915942Z",
     "shell.execute_reply.started": "2020-10-11T21:22:50.903974Z"
    }
   },
   "outputs": [],
   "source": [
    "y=Surv.from_dataframe('target', 'visit_interval', df2)\n",
    "X_train, X_test, y_train, y_test = train_test_split(subset, y, test_size=0.35, random_state=1)\n"
   ]
  },
  {
   "cell_type": "code",
   "execution_count": null,
   "metadata": {
    "execution": {
     "iopub.execute_input": "2020-10-11T21:22:51.493635Z",
     "iopub.status.busy": "2020-10-11T21:22:51.493635Z",
     "iopub.status.idle": "2020-10-11T21:23:35.358113Z",
     "shell.execute_reply": "2020-10-11T21:23:35.358113Z",
     "shell.execute_reply.started": "2020-10-11T21:22:51.493635Z"
    }
   },
   "outputs": [],
   "source": [
    "rsf = RandomSurvivalForest(n_estimators=100, max_depth=12, max_leaf_nodes=145)\n",
    "rsf.fit(X_train, y_train)\n",
    "print(rsf.score(X_test, y_test))\n",
    "#pickle.dump(rsf, open('../models/test.sav', 'wb'))"
   ]
  },
  {
   "cell_type": "code",
   "execution_count": null,
   "metadata": {
    "execution": {
     "iopub.execute_input": "2020-10-11T21:23:35.394420Z",
     "iopub.status.busy": "2020-10-11T21:23:35.393398Z",
     "iopub.status.idle": "2020-10-11T21:23:35.407640Z",
     "shell.execute_reply": "2020-10-11T21:23:35.404457Z",
     "shell.execute_reply.started": "2020-10-11T21:23:35.394420Z"
    }
   },
   "outputs": [],
   "source": [
    "rsf.get_params()"
   ]
  },
  {
   "cell_type": "markdown",
   "metadata": {},
   "source": [
    "### Assessing model"
   ]
  },
  {
   "cell_type": "code",
   "execution_count": null,
   "metadata": {
    "execution": {
     "iopub.execute_input": "2020-10-11T21:23:35.409632Z",
     "iopub.status.busy": "2020-10-11T21:23:35.409632Z",
     "iopub.status.idle": "2020-10-11T21:23:38.254741Z",
     "shell.execute_reply": "2020-10-11T21:23:38.253661Z",
     "shell.execute_reply.started": "2020-10-11T21:23:35.409632Z"
    }
   },
   "outputs": [],
   "source": [
    "surv = rsf.predict_survival_function(X_test)\n",
    "\n",
    "surv_p=pd.Series(rsf.predict(X_test))"
   ]
  },
  {
   "cell_type": "code",
   "execution_count": null,
   "metadata": {
    "execution": {
     "iopub.execute_input": "2020-10-11T21:23:38.255632Z",
     "iopub.status.busy": "2020-10-11T21:23:38.255632Z",
     "iopub.status.idle": "2020-10-11T21:23:38.265849Z",
     "shell.execute_reply": "2020-10-11T21:23:38.264852Z",
     "shell.execute_reply.started": "2020-10-11T21:23:38.255632Z"
    }
   },
   "outputs": [],
   "source": [
    "surv_p"
   ]
  },
  {
   "cell_type": "code",
   "execution_count": null,
   "metadata": {
    "execution": {
     "iopub.execute_input": "2020-10-11T21:23:38.268840Z",
     "iopub.status.busy": "2020-10-11T21:23:38.266847Z",
     "iopub.status.idle": "2020-10-11T21:23:41.238378Z",
     "shell.execute_reply": "2020-10-11T21:23:41.238378Z",
     "shell.execute_reply.started": "2020-10-11T21:23:38.267844Z"
    }
   },
   "outputs": [],
   "source": [
    "survs = rsf.predict_survival_function(X_test, return_array=True)\n",
    "times=rsf.event_times_\n",
    "haz=rsf.predict_cumulative_hazard_function(X_test, return_array=True)"
   ]
  },
  {
   "cell_type": "code",
   "execution_count": null,
   "metadata": {
    "execution": {
     "iopub.execute_input": "2020-10-11T21:23:41.240236Z",
     "iopub.status.busy": "2020-10-11T21:23:41.239239Z",
     "iopub.status.idle": "2020-10-11T21:23:41.245226Z",
     "shell.execute_reply": "2020-10-11T21:23:41.244226Z",
     "shell.execute_reply.started": "2020-10-11T21:23:41.240236Z"
    }
   },
   "outputs": [],
   "source": [
    "time=np.arange(6, 400+6) #6.0; 2504"
   ]
  },
  {
   "cell_type": "code",
   "execution_count": null,
   "metadata": {
    "execution": {
     "iopub.execute_input": "2020-10-11T21:23:41.249223Z",
     "iopub.status.busy": "2020-10-11T21:23:41.248226Z",
     "iopub.status.idle": "2020-10-11T21:23:41.320628Z",
     "shell.execute_reply": "2020-10-11T21:23:41.319646Z",
     "shell.execute_reply.started": "2020-10-11T21:23:41.248226Z"
    }
   },
   "outputs": [],
   "source": [
    "from sksurv.metrics import integrated_brier_score, brier_score\n",
    "integrated_brier_score(y_train, y_test, survs, time)# not implemented for trees in this library =( super hacked, but worked!"
   ]
  },
  {
   "cell_type": "code",
   "execution_count": null,
   "metadata": {
    "execution": {
     "iopub.execute_input": "2020-10-11T21:23:41.323996Z",
     "iopub.status.busy": "2020-10-11T21:23:41.323618Z",
     "iopub.status.idle": "2020-10-11T21:23:41.391544Z",
     "shell.execute_reply": "2020-10-11T21:23:41.390544Z",
     "shell.execute_reply.started": "2020-10-11T21:23:41.323996Z"
    }
   },
   "outputs": [],
   "source": [
    "from sksurv.metrics import concordance_index_ipcw,cumulative_dynamic_auc\n",
    "concordance_index_ipcw(y_train, y_test, survs[:,0])"
   ]
  },
  {
   "cell_type": "code",
   "execution_count": null,
   "metadata": {
    "execution": {
     "iopub.execute_input": "2020-10-11T21:23:41.392540Z",
     "iopub.status.busy": "2020-10-11T21:23:41.392540Z",
     "iopub.status.idle": "2020-10-11T21:23:45.101926Z",
     "shell.execute_reply": "2020-10-11T21:23:45.100959Z",
     "shell.execute_reply.started": "2020-10-11T21:23:41.392540Z"
    }
   },
   "outputs": [],
   "source": [
    "BIGGER_SIZE = 15\n",
    "\n",
    "plt.rc('font', size=BIGGER_SIZE)          # controls default text sizes\n",
    "#plt.rc('axes', titlesize=SMALL_SIZE)     # fontsize of the axes title\n",
    "plt.rc('axes', labelsize=BIGGER_SIZE)    # fontsize of the x and y labels\n",
    "plt.rc('xtick', labelsize=BIGGER_SIZE)    # fontsize of the tick labels\n",
    "plt.rc('ytick', labelsize=BIGGER_SIZE)    # fontsize of the tick labels\n",
    "plt.rc('legend', fontsize=BIGGER_SIZE)    # legend fontsize\n",
    "#plt.rc('figure', titlesize=BIGGER_SIZE)  # fontsize of the figure title\n",
    "\n",
    "t=[]\n",
    "s=[]\n",
    "\n",
    "for i in range(399):\n",
    "    time, score = brier_score(y_train, y_test, survs[:,i], times[i])\n",
    "    t.append(time)\n",
    "    s.append(score)\n",
    "\n",
    "plt.plot(t, s)\n",
    "plt.axhline(0.194, linestyle=\"--\")\n",
    "plt.xlabel(\"days from enrollment\")\n",
    "plt.ylabel(\"Prediction error\")\n",
    "#plt.grid(True)\n"
   ]
  },
  {
   "cell_type": "code",
   "execution_count": null,
   "metadata": {
    "execution": {
     "iopub.execute_input": "2020-10-11T21:23:45.102923Z",
     "iopub.status.busy": "2020-10-11T21:23:45.102923Z",
     "iopub.status.idle": "2020-10-11T21:23:45.115511Z",
     "shell.execute_reply": "2020-10-11T21:23:45.115200Z",
     "shell.execute_reply.started": "2020-10-11T21:23:45.102923Z"
    }
   },
   "outputs": [],
   "source": [
    "ix = [i[0] for i in y_test]\n",
    "sum(ix)\n",
    "len(ix)"
   ]
  },
  {
   "cell_type": "code",
   "execution_count": null,
   "metadata": {
    "execution": {
     "iopub.execute_input": "2020-10-11T21:23:45.117386Z",
     "iopub.status.busy": "2020-10-11T21:23:45.116508Z",
     "iopub.status.idle": "2020-10-11T21:23:45.319777Z",
     "shell.execute_reply": "2020-10-11T21:23:45.317896Z",
     "shell.execute_reply.started": "2020-10-11T21:23:45.117386Z"
    }
   },
   "outputs": [],
   "source": [
    "nh=np.mean(survs[ix,:],axis=0)\n",
    "yh=np.mean(survs[~np.array(ix),:],axis=0)\n",
    "\n",
    "SMALL_SIZE = 8\n",
    "MEDIUM_SIZE = 10\n",
    "BIGGER_SIZE = 15\n",
    "\n",
    "plt.rc('font', size=BIGGER_SIZE)          # controls default text sizes\n",
    "#plt.rc('axes', titlesize=SMALL_SIZE)     # fontsize of the axes title\n",
    "plt.rc('axes', labelsize=BIGGER_SIZE)    # fontsize of the x and y labels\n",
    "plt.rc('xtick', labelsize=BIGGER_SIZE)    # fontsize of the tick labels\n",
    "plt.rc('ytick', labelsize=BIGGER_SIZE)    # fontsize of the tick labels\n",
    "plt.rc('legend', fontsize=BIGGER_SIZE)    # legend fontsize\n",
    "#plt.rc('figure', titlesize=BIGGER_SIZE)  # fontsize of the figure title\n",
    "times=rsf.event_times_\n",
    "plt.plot(times, nh)\n",
    "#plt.plot(times, yh)\n",
    "\n",
    "plt.xlabel(\"days from enrollment\")\n",
    "plt.ylabel(\"Survival Probability\")\n",
    "#plt.legend(['AD','MCI'])\n",
    "plt.xlim([0, 2000])\n",
    "\n",
    "#plt.grid(True)\n",
    "# Hide the right and top spines\n",
    "sns.despine(top=True, right=True, left=False, bottom=False)"
   ]
  },
  {
   "cell_type": "code",
   "execution_count": null,
   "metadata": {
    "execution": {
     "iopub.execute_input": "2020-10-11T21:23:45.321773Z",
     "iopub.status.busy": "2020-10-11T21:23:45.320776Z",
     "iopub.status.idle": "2020-10-11T21:23:45.682468Z",
     "shell.execute_reply": "2020-10-11T21:23:45.681469Z",
     "shell.execute_reply.started": "2020-10-11T21:23:45.321773Z"
    }
   },
   "outputs": [],
   "source": [
    "nh=np.mean(haz[ix,:],axis=0)\n",
    "yh=np.mean(haz[~np.array(ix),:],axis=0)\n",
    "\n",
    "times=rsf.event_times_\n",
    "plt.plot(times, nh)\n",
    "plt.plot(times, yh)\n",
    "\n",
    "plt.xlabel(\"days from enrollment\")\n",
    "plt.ylabel(\"Hazard rate\")\n",
    "plt.legend(['AD','MCI'])\n",
    "plt.xlim([0, 500])\n",
    "\n",
    "plt.grid(True)\n"
   ]
  },
  {
   "cell_type": "code",
   "execution_count": null,
   "metadata": {
    "execution": {
     "iopub.execute_input": "2020-10-11T21:23:45.686129Z",
     "iopub.status.busy": "2020-10-11T21:23:45.684519Z",
     "iopub.status.idle": "2020-10-11T21:23:46.005757Z",
     "shell.execute_reply": "2020-10-11T21:23:46.002769Z",
     "shell.execute_reply.started": "2020-10-11T21:23:45.686129Z"
    }
   },
   "outputs": [],
   "source": [
    "for i in range(1, 50):\n",
    "    nh=haz[i,:]\n",
    "    if ix[i]==True:\n",
    "        times=rsf.event_times_\n",
    "        plt.plot(times, nh)\n",
    "\n",
    "        plt.xlabel(\"days from enrollment\")\n",
    "        plt.ylabel(\"Hazard rate\")\n",
    "        plt.xlim([300, 500])\n",
    "        plt.grid(True)"
   ]
  },
  {
   "cell_type": "code",
   "execution_count": null,
   "metadata": {
    "execution": {
     "iopub.execute_input": "2020-10-02T00:31:17.056608Z",
     "iopub.status.busy": "2020-10-02T00:31:17.055583Z",
     "iopub.status.idle": "2020-10-02T00:31:18.326141Z",
     "shell.execute_reply": "2020-10-02T00:31:18.325145Z",
     "shell.execute_reply.started": "2020-10-02T00:31:17.056608Z"
    }
   },
   "outputs": [],
   "source": [
    "#pickle.dump(rsf, open('../models/surv_model.sav', 'wb'))"
   ]
  },
  {
   "cell_type": "code",
   "execution_count": null,
   "metadata": {
    "execution": {
     "iopub.execute_input": "2020-09-28T19:55:18.775694Z",
     "iopub.status.busy": "2020-09-28T19:55:18.775694Z",
     "iopub.status.idle": "2020-09-28T19:55:18.933279Z",
     "shell.execute_reply": "2020-09-28T19:55:18.932281Z",
     "shell.execute_reply.started": "2020-09-28T19:55:18.775694Z"
    },
    "jupyter": {
     "outputs_hidden": true
    }
   },
   "outputs": [],
   "source": [
    "for i, s in enumerate(surv):\n",
    "    plt.step(rsf.event_times_, s, where=\"post\", label=str(i))\n",
    "plt.ylabel(\"Survival probability\")\n",
    "plt.xlabel(\"Time in days\")\n",
    "plt.grid(True)\n",
    "plt.legend()"
   ]
  },
  {
   "cell_type": "code",
   "execution_count": null,
   "metadata": {
    "execution": {
     "iopub.execute_input": "2020-09-28T20:25:25.572166Z",
     "iopub.status.busy": "2020-09-28T20:25:25.572166Z",
     "iopub.status.idle": "2020-09-28T20:25:25.709798Z",
     "shell.execute_reply": "2020-09-28T20:25:25.708811Z",
     "shell.execute_reply.started": "2020-09-28T20:25:25.572166Z"
    }
   },
   "outputs": [],
   "source": [
    "plt.step(rsf.event_times_, surv[0], where=\"post\")"
   ]
  },
  {
   "cell_type": "code",
   "execution_count": null,
   "metadata": {},
   "outputs": [],
   "source": []
  }
 ],
 "metadata": {
  "kernelspec": {
   "display_name": "AD",
   "language": "python",
   "name": "ad"
  },
  "language_info": {
   "codemirror_mode": {
    "name": "ipython",
    "version": 3
   },
   "file_extension": ".py",
   "mimetype": "text/x-python",
   "name": "python",
   "nbconvert_exporter": "python",
   "pygments_lexer": "ipython3",
   "version": "3.7.9"
  }
 },
 "nbformat": 4,
 "nbformat_minor": 4
}
