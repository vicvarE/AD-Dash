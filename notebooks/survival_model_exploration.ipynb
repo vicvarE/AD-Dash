{
 "cells": [
  {
   "cell_type": "markdown",
   "metadata": {
    "execution": {
     "iopub.execute_input": "2020-09-29T02:30:35.598590Z",
     "iopub.status.busy": "2020-09-29T02:30:35.597592Z",
     "iopub.status.idle": "2020-09-29T02:30:35.603576Z",
     "shell.execute_reply": "2020-09-29T02:30:35.602580Z",
     "shell.execute_reply.started": "2020-09-29T02:30:35.598590Z"
    }
   },
   "source": [
    "### Let's try cox survival analysis here with a reduced dataset"
   ]
  },
  {
   "cell_type": "code",
   "execution_count": null,
   "metadata": {},
   "outputs": [],
   "source": [
    "import pickle\n",
    "import pandas as pd"
   ]
  },
  {
   "cell_type": "code",
   "execution_count": null,
   "metadata": {
    "ExecuteTime": {
     "end_time": "2020-09-03T17:32:51.760524Z",
     "start_time": "2020-09-03T17:32:50.145841Z"
    },
    "execution": {
     "iopub.execute_input": "2020-09-29T03:03:02.504730Z",
     "iopub.status.busy": "2020-09-29T03:03:02.504730Z",
     "iopub.status.idle": "2020-09-29T03:03:03.236773Z",
     "shell.execute_reply": "2020-09-29T03:03:03.235866Z",
     "shell.execute_reply.started": "2020-09-29T03:03:02.504730Z"
    }
   },
   "outputs": [],
   "source": [
    "#load initial cleaned data\n",
    "df=pd.read_csv(r\"..\\data\\processed\\prelim_clean2.csv\", index_col=[0])\n",
    "df.drop(['visit_interval'],axis=1, inplace=True)\n",
    "df2=pd.read_csv(r\"..\\data\\processed\\prelim_clean2.csv\", index_col=[0])"
   ]
  },
  {
   "cell_type": "code",
   "execution_count": null,
   "metadata": {
    "execution": {
     "iopub.execute_input": "2020-09-29T03:03:17.886608Z",
     "iopub.status.busy": "2020-09-29T03:03:17.885610Z",
     "iopub.status.idle": "2020-09-29T03:03:17.904567Z",
     "shell.execute_reply": "2020-09-29T03:03:17.903571Z",
     "shell.execute_reply.started": "2020-09-29T03:03:17.886608Z"
    }
   },
   "outputs": [],
   "source": [
    "broad_features = pickle.load(open('../models/01final_features_broad.sav', 'rb'))\n",
    "res_features = pickle.load(open('../models/01final_features_res.sav', 'rb'))"
   ]
  },
  {
   "cell_type": "code",
   "execution_count": null,
   "metadata": {
    "execution": {
     "iopub.execute_input": "2020-09-29T03:03:18.751297Z",
     "iopub.status.busy": "2020-09-29T03:03:18.750299Z",
     "iopub.status.idle": "2020-09-29T03:03:18.769252Z",
     "shell.execute_reply": "2020-09-29T03:03:18.768281Z",
     "shell.execute_reply.started": "2020-09-29T03:03:18.750299Z"
    }
   },
   "outputs": [],
   "source": [
    "broad_subset=df[df.columns.intersection(broad_features)]\n",
    "subset=df[df.columns.intersection(res_features)]"
   ]
  },
  {
   "cell_type": "code",
   "execution_count": null,
   "metadata": {
    "execution": {
     "iopub.execute_input": "2020-09-29T03:16:15.408979Z",
     "iopub.status.busy": "2020-09-29T03:16:15.408979Z",
     "iopub.status.idle": "2020-09-29T03:16:21.419911Z",
     "shell.execute_reply": "2020-09-29T03:16:21.418938Z",
     "shell.execute_reply.started": "2020-09-29T03:16:15.408979Z"
    },
    "jupyter": {
     "outputs_hidden": true
    }
   },
   "outputs": [],
   "source": [
    "from lifelines import CoxPHFitter\n",
    "from lifelines.utils import k_fold_cross_validation\n",
    "\n",
    "broad_subset['visit_interval']=df2['visit_interval']\n",
    "broad_subset['target']=df2['target']\n",
    "\n",
    "cph = CoxPHFitter(penalizer=0.1)\n",
    "#scores = k_fold_cross_validation(cph, broad_subset, 'visit_interval', event_col='target', k=10)\n",
    "#print(scores)\n",
    "\n",
    "# scores = k_fold_cross_validation(cph, broad_subset, duration_col='visit_interval', event_col='target', k=10, scoring_method=\"concordance_index\")\n",
    "# print(scores)\n",
    "\n",
    "cph.fit(df=broad_subset, duration_col='visit_interval', event_col='target')\n",
    "cph.print_summary()\n"
   ]
  },
  {
   "cell_type": "code",
   "execution_count": null,
   "metadata": {
    "execution": {
     "iopub.execute_input": "2020-09-29T03:36:16.460088Z",
     "iopub.status.busy": "2020-09-29T03:36:16.459090Z",
     "iopub.status.idle": "2020-09-29T03:36:32.036445Z",
     "shell.execute_reply": "2020-09-29T03:36:32.036445Z",
     "shell.execute_reply.started": "2020-09-29T03:36:16.460088Z"
    }
   },
   "outputs": [],
   "source": [
    "subset['visit_interval']=df2['visit_interval']\n",
    "subset['target']=df2['target']\n",
    "\n",
    "cph = CoxPHFitter(penalizer=0.01)\n",
    "scores = k_fold_cross_validation(cph, subset, duration_col='visit_interval', event_col='target', k=10, scoring_method=\"concordance_index\")\n",
    "print(scores)\n",
    "\n",
    "cph.fit(df=broad_subset, duration_col='visit_interval', event_col='target')\n",
    "#cph.print_summary()"
   ]
  },
  {
   "cell_type": "code",
   "execution_count": null,
   "metadata": {},
   "outputs": [],
   "source": [
    "# from lifelines.utils.sklearn_adapter import sklearn_adapter\n",
    "\n",
    "# from lifelines import CoxPHFitter\n",
    "# from lifelines.datasets import load_rossi\n",
    "\n",
    "# X = load_rossi().drop('week', axis=1) # keep as a dataframe\n",
    "# Y = load_rossi().pop('week')\n",
    "\n",
    "# CoxRegression = sklearn_adapter(CoxPHFitter, event_col='arrest')\n",
    "# # CoxRegression is a class like the `LinearRegression` class or `SVC` class in scikit-learn\n",
    "\n",
    "# sk_cph = CoxRegression(penalizer=1e-5)\n",
    "# sk_cph.fit(X, Y)\n",
    "# print(sk_cph)\n",
    "\n",
    "# \"\"\"\n",
    "# SkLearnCoxPHFitter(alpha=0.05, penalizer=1e-5, strata=None, tie_method='Efron')\n",
    "# \"\"\"\n",
    "\n",
    "# sk_cph.predict(X)\n",
    "# sk_cph.score(X, Y)"
   ]
  }
 ],
 "metadata": {
  "kernelspec": {
   "display_name": "AD",
   "language": "python",
   "name": "ad"
  },
  "language_info": {
   "codemirror_mode": {
    "name": "ipython",
    "version": 3
   },
   "file_extension": ".py",
   "mimetype": "text/x-python",
   "name": "python",
   "nbconvert_exporter": "python",
   "pygments_lexer": "ipython3",
   "version": "3.7.9"
  }
 },
 "nbformat": 4,
 "nbformat_minor": 4
}
