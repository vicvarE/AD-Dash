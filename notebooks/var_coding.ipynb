{
 "cells": [
  {
   "cell_type": "markdown",
   "metadata": {},
   "source": [
    "This notebook is just so I have a split window for the variable coding"
   ]
  },
  {
   "cell_type": "code",
   "execution_count": null,
   "metadata": {
    "execution": {
     "iopub.execute_input": "2020-09-22T19:31:29.995097Z",
     "iopub.status.busy": "2020-09-22T19:31:29.995097Z",
     "iopub.status.idle": "2020-09-22T19:31:30.019034Z",
     "shell.execute_reply": "2020-09-22T19:31:30.018057Z",
     "shell.execute_reply.started": "2020-09-22T19:31:29.995097Z"
    }
   },
   "outputs": [],
   "source": [
    "import pandas as pd\n",
    "dd=pd.read_csv(r\"..\\docs\\rdd_datadictionary_uds.csv\")\n",
    "df="
   ]
  },
  {
   "cell_type": "code",
   "execution_count": null,
   "metadata": {},
   "outputs": [],
   "source": []
  },
  {
   "cell_type": "code",
   "execution_count": null,
   "metadata": {
    "execution": {
     "iopub.execute_input": "2020-09-22T21:20:52.580676Z",
     "iopub.status.busy": "2020-09-22T21:20:52.580676Z",
     "iopub.status.idle": "2020-09-22T21:20:52.590651Z",
     "shell.execute_reply": "2020-09-22T21:20:52.589652Z",
     "shell.execute_reply.started": "2020-09-22T21:20:52.580676Z"
    }
   },
   "outputs": [],
   "source": [
    "pd.set_option('display.max_colwidth', 550)\n",
    "\n",
    "\n",
    "print(dd.loc[dd.VariableName=='MEMUNITS'])"
   ]
  },
  {
   "cell_type": "code",
   "execution_count": null,
   "metadata": {},
   "outputs": [],
   "source": []
  },
  {
   "cell_type": "markdown",
   "metadata": {},
   "source": [
    "Some notes on droping"
   ]
  },
  {
   "cell_type": "markdown",
   "metadata": {},
   "source": [
    "NACCC1, #forms in another variable. highly prob B8 unneeded\n",
    "C2, MOCA & OTHER TEST ONLY ADMIN ON A SUBSET\n",
    "SAME FOR D1 (-4 & 8)"
   ]
  }
 ],
 "metadata": {
  "kernelspec": {
   "display_name": "skin",
   "language": "python",
   "name": "skin"
  },
  "language_info": {
   "codemirror_mode": {
    "name": "ipython",
    "version": 3
   },
   "file_extension": ".py",
   "mimetype": "text/x-python",
   "name": "python",
   "nbconvert_exporter": "python",
   "pygments_lexer": "ipython3",
   "version": "3.7.8"
  }
 },
 "nbformat": 4,
 "nbformat_minor": 4
}
